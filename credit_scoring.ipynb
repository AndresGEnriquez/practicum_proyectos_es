{
 "cells": [
  {
   "cell_type": "markdown",
   "metadata": {},
   "source": [
    "# Contenidos <a id='back'></a>\n",
    "\n",
    "* [Etapa 1. Introducción](#intro)\n",
    "    * [1.1 Objetivo](#objetivo)\n",
    "    * [1.2 Etapas](#etapas)\n",
    "    * [1.3 Archivo](#arch)\n",
    "* [Etapa 2. Exploración de Datos](#data_preprocessing)\n",
    "    * [2.1 Descripción de los datos](#descripción)\n",
    "    * [2.2 Valores ausentes](#missing_values)\n",
    "    * [2.3 Conclusiones intermedias](#int_con)\n",
    "    * [2.4 Conclusiones](#data_preprocessing_conclusions)\n",
    "* [Etapa 3. Transformación de datos](#data_transformation)\n",
    "    * [3.1 Restaurar valores ausentes en 'total_income'](#restore_total_income)\n",
    "    * [3.2 Restaurar valores en 'days_employed'](#restore_days_employed)\n",
    "* [Etapa 4. Clasificación de datos](#data_classification)\n",
    "* [Etapa 5. Prueba de hipótesis](#hypotheses)\n",
    "    * [3.1 Hipótesis 1: Comprobar si existe una correlación entre tener hijos y pagar a tiempo](#kids)\n",
    "    * [3.2 Hipótesis 2: Analizar si existe una correlación entre la situación familiar y el pago a tiempo](#family)\n",
    "    * [3.3 Hipótesis 3: Probar si existe una correlación entre el nivel de ingresos y el pago a tiempo](#income)\n",
    "    * [3.4 Hopótesis 4: Investigar cómo afecta el propósito del crédito a la tasa de incumplimiento](#purpose)\n",
    "* [Conclusiones](#end)"
   ]
  },
  {
   "cell_type": "markdown",
   "metadata": {},
   "source": [
    "## Introducción <a id='intro'></a>\n",
    "En este proyecto se realizará un análisis del riesgo de incumplimiento de los prestatarios y consiste en preparar un informe para la división de préstamos de un banco. Se deberá averiguar si el estado civil y el número de hijos de un cliente tienen un impacto en el incumplimiento de pago de un préstamo. El banco ya tiene algunos datos sobre la solvencia crediticia de los clientes.\n",
    "\n",
    "Este informe se tendrá en cuenta al crear una puntuación de crédito para un cliente potencial. La puntuación de crédito se utiliza para evaluar la capacidad de un prestatario potencial para pagar su préstamo.\n",
    "\n",
    "### Objetivo <a id='objetivo'></a>\n",
    "\n",
    "1. Comprobar si existe una correlación entre tener hijos y pagar a tiempo.\n",
    "2. Analizar si existe una correlación entre la situación familiar y el pago a tiempo.\n",
    "3. Probar si existe una correlación entre el nivel de ingresos y el pago a tiempo.\n",
    "\n",
    "### Etapas <a id='etapas'></a>\n",
    "1. Introducción\n",
    "2. Exploración de datos\n",
    "3. Transformación de datos\n",
    "4. Clasificación de datos\n",
    "5. Prueba de hipótesis"
   ]
  },
  {
   "cell_type": "markdown",
   "metadata": {},
   "source": [
    "### Abrir el archivo de datos y mirar la información general <a id='arch'></a>"
   ]
  },
  {
   "cell_type": "code",
   "execution_count": 95,
   "metadata": {},
   "outputs": [],
   "source": [
    "import pandas as pd\n",
    "import math"
   ]
  },
  {
   "cell_type": "code",
   "execution_count": 96,
   "metadata": {},
   "outputs": [],
   "source": [
    "credit = pd.read_csv(r'G:\\datasets\\credit_scoring_eng.csv')"
   ]
  },
  {
   "cell_type": "markdown",
   "metadata": {},
   "source": [
    "## Exploración de datos <a id='data_preprocessing'></a>"
   ]
  },
  {
   "cell_type": "markdown",
   "metadata": {},
   "source": [
    "### Descripción de los datos <a id='descripción'></a>\n",
    "- `children` - el número de hijos en la familia\n",
    "- `days_employed` - experiencia laboral en días\n",
    "- `dob_years` - la edad del cliente en años\n",
    "- `education` - la educación del cliente\n",
    "- `education_id` - identificador de educación\n",
    "- `family_status` - estado civil\n",
    "- `family_status_id` - identificador de estado civil\n",
    "- `gender` - género del cliente\n",
    "- `income_type` - tipo de empleo\n",
    "- `debt` - ¿había alguna deuda en el pago de un préstamo?\n",
    "- `total_income` - ingreso mensual\n",
    "- `purpose` - el propósito de obtener un préstamo"
   ]
  },
  {
   "cell_type": "code",
   "execution_count": 97,
   "metadata": {},
   "outputs": [
    {
     "data": {
      "text/plain": [
       "(21525, 12)"
      ]
     },
     "execution_count": 97,
     "metadata": {},
     "output_type": "execute_result"
    }
   ],
   "source": [
    "credit.shape"
   ]
  },
  {
   "cell_type": "code",
   "execution_count": 98,
   "metadata": {
    "scrolled": true
   },
   "outputs": [
    {
     "data": {
      "text/html": [
       "<div><div id=98c186ec-fac3-4777-8325-d8612c39f12f style=\"display:none; background-color:#9D6CFF; color:white; width:200px; height:30px; padding-left:5px; border-radius:4px; flex-direction:row; justify-content:space-around; align-items:center;\" onmouseover=\"this.style.backgroundColor='#BA9BF8'\" onmouseout=\"this.style.backgroundColor='#9D6CFF'\" onclick=\"window.commands?.execute('create-mitosheet-from-dataframe-output');\">See Full Dataframe in Mito</div> <script> if (window.commands.hasCommand('create-mitosheet-from-dataframe-output')) document.getElementById('98c186ec-fac3-4777-8325-d8612c39f12f').style.display = 'flex' </script> <table border=\"1\" class=\"dataframe\">\n",
       "  <thead>\n",
       "    <tr style=\"text-align: right;\">\n",
       "      <th></th>\n",
       "      <th>children</th>\n",
       "      <th>days_employed</th>\n",
       "      <th>dob_years</th>\n",
       "      <th>education</th>\n",
       "      <th>education_id</th>\n",
       "      <th>family_status</th>\n",
       "      <th>family_status_id</th>\n",
       "      <th>gender</th>\n",
       "      <th>income_type</th>\n",
       "      <th>debt</th>\n",
       "      <th>total_income</th>\n",
       "      <th>purpose</th>\n",
       "    </tr>\n",
       "  </thead>\n",
       "  <tbody>\n",
       "    <tr>\n",
       "      <th>0</th>\n",
       "      <td>1</td>\n",
       "      <td>-8437.673028</td>\n",
       "      <td>42</td>\n",
       "      <td>bachelor's degree</td>\n",
       "      <td>0</td>\n",
       "      <td>married</td>\n",
       "      <td>0</td>\n",
       "      <td>F</td>\n",
       "      <td>employee</td>\n",
       "      <td>0</td>\n",
       "      <td>40620.102</td>\n",
       "      <td>purchase of the house</td>\n",
       "    </tr>\n",
       "    <tr>\n",
       "      <th>1</th>\n",
       "      <td>1</td>\n",
       "      <td>-4024.803754</td>\n",
       "      <td>36</td>\n",
       "      <td>secondary education</td>\n",
       "      <td>1</td>\n",
       "      <td>married</td>\n",
       "      <td>0</td>\n",
       "      <td>F</td>\n",
       "      <td>employee</td>\n",
       "      <td>0</td>\n",
       "      <td>17932.802</td>\n",
       "      <td>car purchase</td>\n",
       "    </tr>\n",
       "    <tr>\n",
       "      <th>2</th>\n",
       "      <td>0</td>\n",
       "      <td>-5623.422610</td>\n",
       "      <td>33</td>\n",
       "      <td>Secondary Education</td>\n",
       "      <td>1</td>\n",
       "      <td>married</td>\n",
       "      <td>0</td>\n",
       "      <td>M</td>\n",
       "      <td>employee</td>\n",
       "      <td>0</td>\n",
       "      <td>23341.752</td>\n",
       "      <td>purchase of the house</td>\n",
       "    </tr>\n",
       "    <tr>\n",
       "      <th>3</th>\n",
       "      <td>3</td>\n",
       "      <td>-4124.747207</td>\n",
       "      <td>32</td>\n",
       "      <td>secondary education</td>\n",
       "      <td>1</td>\n",
       "      <td>married</td>\n",
       "      <td>0</td>\n",
       "      <td>M</td>\n",
       "      <td>employee</td>\n",
       "      <td>0</td>\n",
       "      <td>42820.568</td>\n",
       "      <td>supplementary education</td>\n",
       "    </tr>\n",
       "    <tr>\n",
       "      <th>4</th>\n",
       "      <td>0</td>\n",
       "      <td>340266.072047</td>\n",
       "      <td>53</td>\n",
       "      <td>secondary education</td>\n",
       "      <td>1</td>\n",
       "      <td>civil partnership</td>\n",
       "      <td>1</td>\n",
       "      <td>F</td>\n",
       "      <td>retiree</td>\n",
       "      <td>0</td>\n",
       "      <td>25378.572</td>\n",
       "      <td>to have a wedding</td>\n",
       "    </tr>\n",
       "    <tr>\n",
       "      <th>5</th>\n",
       "      <td>0</td>\n",
       "      <td>-926.185831</td>\n",
       "      <td>27</td>\n",
       "      <td>bachelor's degree</td>\n",
       "      <td>0</td>\n",
       "      <td>civil partnership</td>\n",
       "      <td>1</td>\n",
       "      <td>M</td>\n",
       "      <td>business</td>\n",
       "      <td>0</td>\n",
       "      <td>40922.170</td>\n",
       "      <td>purchase of the house</td>\n",
       "    </tr>\n",
       "    <tr>\n",
       "      <th>6</th>\n",
       "      <td>0</td>\n",
       "      <td>-2879.202052</td>\n",
       "      <td>43</td>\n",
       "      <td>bachelor's degree</td>\n",
       "      <td>0</td>\n",
       "      <td>married</td>\n",
       "      <td>0</td>\n",
       "      <td>F</td>\n",
       "      <td>business</td>\n",
       "      <td>0</td>\n",
       "      <td>38484.156</td>\n",
       "      <td>housing transactions</td>\n",
       "    </tr>\n",
       "    <tr>\n",
       "      <th>7</th>\n",
       "      <td>0</td>\n",
       "      <td>-152.779569</td>\n",
       "      <td>50</td>\n",
       "      <td>SECONDARY EDUCATION</td>\n",
       "      <td>1</td>\n",
       "      <td>married</td>\n",
       "      <td>0</td>\n",
       "      <td>M</td>\n",
       "      <td>employee</td>\n",
       "      <td>0</td>\n",
       "      <td>21731.829</td>\n",
       "      <td>education</td>\n",
       "    </tr>\n",
       "    <tr>\n",
       "      <th>8</th>\n",
       "      <td>2</td>\n",
       "      <td>-6929.865299</td>\n",
       "      <td>35</td>\n",
       "      <td>BACHELOR'S DEGREE</td>\n",
       "      <td>0</td>\n",
       "      <td>civil partnership</td>\n",
       "      <td>1</td>\n",
       "      <td>F</td>\n",
       "      <td>employee</td>\n",
       "      <td>0</td>\n",
       "      <td>15337.093</td>\n",
       "      <td>having a wedding</td>\n",
       "    </tr>\n",
       "    <tr>\n",
       "      <th>9</th>\n",
       "      <td>0</td>\n",
       "      <td>-2188.756445</td>\n",
       "      <td>41</td>\n",
       "      <td>secondary education</td>\n",
       "      <td>1</td>\n",
       "      <td>married</td>\n",
       "      <td>0</td>\n",
       "      <td>M</td>\n",
       "      <td>employee</td>\n",
       "      <td>0</td>\n",
       "      <td>23108.150</td>\n",
       "      <td>purchase of the house for my family</td>\n",
       "    </tr>\n",
       "  </tbody>\n",
       "</table></div>"
      ],
      "text/plain": [
       "   children  days_employed  dob_years            education  education_id  \\\n",
       "0         1   -8437.673028         42    bachelor's degree             0   \n",
       "1         1   -4024.803754         36  secondary education             1   \n",
       "2         0   -5623.422610         33  Secondary Education             1   \n",
       "3         3   -4124.747207         32  secondary education             1   \n",
       "4         0  340266.072047         53  secondary education             1   \n",
       "5         0    -926.185831         27    bachelor's degree             0   \n",
       "6         0   -2879.202052         43    bachelor's degree             0   \n",
       "7         0    -152.779569         50  SECONDARY EDUCATION             1   \n",
       "8         2   -6929.865299         35    BACHELOR'S DEGREE             0   \n",
       "9         0   -2188.756445         41  secondary education             1   \n",
       "\n",
       "       family_status  family_status_id gender income_type  debt  total_income  \\\n",
       "0            married                 0      F    employee     0     40620.102   \n",
       "1            married                 0      F    employee     0     17932.802   \n",
       "2            married                 0      M    employee     0     23341.752   \n",
       "3            married                 0      M    employee     0     42820.568   \n",
       "4  civil partnership                 1      F     retiree     0     25378.572   \n",
       "5  civil partnership                 1      M    business     0     40922.170   \n",
       "6            married                 0      F    business     0     38484.156   \n",
       "7            married                 0      M    employee     0     21731.829   \n",
       "8  civil partnership                 1      F    employee     0     15337.093   \n",
       "9            married                 0      M    employee     0     23108.150   \n",
       "\n",
       "                               purpose  \n",
       "0                purchase of the house  \n",
       "1                         car purchase  \n",
       "2                purchase of the house  \n",
       "3              supplementary education  \n",
       "4                    to have a wedding  \n",
       "5                purchase of the house  \n",
       "6                 housing transactions  \n",
       "7                            education  \n",
       "8                     having a wedding  \n",
       "9  purchase of the house for my family  "
      ]
     },
     "execution_count": 98,
     "metadata": {},
     "output_type": "execute_result"
    }
   ],
   "source": [
    "credit.head(10)"
   ]
  },
  {
   "cell_type": "markdown",
   "metadata": {},
   "source": [
    "La columna de `days_employed` muesta:\n",
    "- Números negativos.\n",
    "- Cantidad de días equivocados. Por ejemplo, la fila con el index 4 muestra 340266.07 días con empleo, esto son 932+ años.\n",
    "\n",
    "La columna `education` contiene valores con diferentes formatos, mayúsculas y minúsculas.\n",
    "\n",
    "La columna `purpose` tiene el peligro de contener el mismo valor escritos de diferente manera por ejemplo 'car purchase' y simplemente 'car' o 'cars'."
   ]
  },
  {
   "cell_type": "code",
   "execution_count": 99,
   "metadata": {
    "scrolled": false
   },
   "outputs": [
    {
     "name": "stdout",
     "output_type": "stream",
     "text": [
      "<class 'pandas.core.frame.DataFrame'>\n",
      "RangeIndex: 21525 entries, 0 to 21524\n",
      "Data columns (total 12 columns):\n",
      " #   Column            Non-Null Count  Dtype  \n",
      "---  ------            --------------  -----  \n",
      " 0   children          21525 non-null  int64  \n",
      " 1   days_employed     19351 non-null  float64\n",
      " 2   dob_years         21525 non-null  int64  \n",
      " 3   education         21525 non-null  object \n",
      " 4   education_id      21525 non-null  int64  \n",
      " 5   family_status     21525 non-null  object \n",
      " 6   family_status_id  21525 non-null  int64  \n",
      " 7   gender            21525 non-null  object \n",
      " 8   income_type       21525 non-null  object \n",
      " 9   debt              21525 non-null  int64  \n",
      " 10  total_income      19351 non-null  float64\n",
      " 11  purpose           21525 non-null  object \n",
      "dtypes: float64(2), int64(5), object(5)\n",
      "memory usage: 2.0+ MB\n"
     ]
    }
   ],
   "source": [
    "credit.info()\n"
   ]
  },
  {
   "cell_type": "markdown",
   "metadata": {},
   "source": [
    "Hay valores ausentes en las columnas days_employed y total_income. Los tipos de datos parecen estar en orden."
   ]
  },
  {
   "cell_type": "markdown",
   "metadata": {},
   "source": [
    "### Valores ausentes <a id='missing_values'></a>"
   ]
  },
  {
   "cell_type": "code",
   "execution_count": 100,
   "metadata": {
    "scrolled": true
   },
   "outputs": [
    {
     "data": {
      "text/plain": [
       "children               0\n",
       "days_employed       2174\n",
       "dob_years              0\n",
       "education              0\n",
       "education_id           0\n",
       "family_status          0\n",
       "family_status_id       0\n",
       "gender                 0\n",
       "income_type            0\n",
       "debt                   0\n",
       "total_income        2174\n",
       "purpose                0\n",
       "dtype: int64"
      ]
     },
     "execution_count": 100,
     "metadata": {},
     "output_type": "execute_result"
    }
   ],
   "source": [
    "credit.isna().sum()"
   ]
  },
  {
   "cell_type": "markdown",
   "metadata": {},
   "source": [
    "Los valores ausentes parecen ser simétricos ya que solo son dos columnas a las cuales les faltan datos. Es probable que se encuentra una correlación entre ambas. Se requiere realizar más investigación para poder determinar si todos los datos faltantes son de las mismas filas."
   ]
  },
  {
   "cell_type": "code",
   "execution_count": 101,
   "metadata": {},
   "outputs": [
    {
     "name": "stdout",
     "output_type": "stream",
     "text": [
      "12       False\n",
      "26       False\n",
      "29       False\n",
      "41       False\n",
      "55       False\n",
      "         ...  \n",
      "21489    False\n",
      "21495    False\n",
      "21497    False\n",
      "21502    False\n",
      "21510    False\n",
      "Name: total_income, Length: 2174, dtype: bool\n"
     ]
    },
    {
     "data": {
      "text/plain": [
       "False    2174\n",
       "Name: total_income, dtype: int64"
      ]
     },
     "execution_count": 101,
     "metadata": {},
     "output_type": "execute_result"
    }
   ],
   "source": [
    "missing = credit.loc[credit['days_employed'].isna(), 'total_income'].eq('NaN')\n",
    "print(missing)\n",
    "missing.value_counts()"
   ]
  },
  {
   "cell_type": "markdown",
   "metadata": {},
   "source": [
    "### Conclusión intermedia <a id='int_con'></a>\n",
    "\n",
    "Realizando la tabla filtrada nos podemos dar cuenta de que en efecto, todos los datos ausentes en `days_employed` son los mismos ausentes en `total_income`, la tabla anterior muestra esta afirmación dando como resultado las filas en las que en ambas se tienen valores ausentes simultaneamente, regresando `False` si así es. Como se puede notar, gracias al uso del método `.value_counts()`, nos regresa tan solo un resultado, `False`, con 2,174 apariciones las cuales también coinciden con la cantidad de datos ausentes totales (19,351 + 2,174 = 21,525).\n",
    "\n",
    "Ahora bien, se calculará el porcentaje de los valores ausentes en comparación con el conjunto de datos completo para determinar si se trata de una porción de datos considerablemenre grande, de ser así, se completrarán los valores ausentes. Para lograrlo, se tomarán en cuenta las columnas con valores ausentes y el `income_type` para observar si la mayoría de estos datos ausentes se deben a que la persona está retirada u otro factor a considerar.\n",
    "\n",
    "Se calcularán los datos duplicados para ver si afectan a los datos totales."
   ]
  },
  {
   "cell_type": "code",
   "execution_count": 102,
   "metadata": {},
   "outputs": [
    {
     "name": "stdout",
     "output_type": "stream",
     "text": [
      "children            54\n",
      "days_employed        0\n",
      "dob_years           54\n",
      "education           54\n",
      "education_id        54\n",
      "family_status       54\n",
      "family_status_id    54\n",
      "gender              54\n",
      "income_type         54\n",
      "debt                54\n",
      "total_income         0\n",
      "purpose             54\n",
      "dtype: int64\n",
      "\n",
      "11 %\n"
     ]
    }
   ],
   "source": [
    "#Cuantos datos son duplicados\n",
    "duplicates = credit[credit.duplicated()]\n",
    "print(duplicates.count())\n",
    "print()\n",
    "\n",
    "#Veamos cuanto porcentaje de datos está ausente\n",
    "print(math.ceil((missing.count() / credit['children'].count()) * 100),'%')"
   ]
  },
  {
   "cell_type": "code",
   "execution_count": 103,
   "metadata": {},
   "outputs": [
    {
     "data": {
      "text/html": [
       "<div><div id=fe2f64e5-f55f-4b8d-ae9f-36ecc6d92fac style=\"display:none; background-color:#9D6CFF; color:white; width:200px; height:30px; padding-left:5px; border-radius:4px; flex-direction:row; justify-content:space-around; align-items:center;\" onmouseover=\"this.style.backgroundColor='#BA9BF8'\" onmouseout=\"this.style.backgroundColor='#9D6CFF'\" onclick=\"window.commands?.execute('create-mitosheet-from-dataframe-output');\">See Full Dataframe in Mito</div> <script> if (window.commands.hasCommand('create-mitosheet-from-dataframe-output')) document.getElementById('fe2f64e5-f55f-4b8d-ae9f-36ecc6d92fac').style.display = 'flex' </script> <table border=\"1\" class=\"dataframe\">\n",
       "  <thead>\n",
       "    <tr style=\"text-align: right;\">\n",
       "      <th></th>\n",
       "      <th>total_income</th>\n",
       "    </tr>\n",
       "    <tr>\n",
       "      <th>income_type</th>\n",
       "      <th></th>\n",
       "    </tr>\n",
       "  </thead>\n",
       "  <tbody>\n",
       "    <tr>\n",
       "      <th>business</th>\n",
       "      <td>0</td>\n",
       "    </tr>\n",
       "    <tr>\n",
       "      <th>civil servant</th>\n",
       "      <td>0</td>\n",
       "    </tr>\n",
       "    <tr>\n",
       "      <th>employee</th>\n",
       "      <td>0</td>\n",
       "    </tr>\n",
       "    <tr>\n",
       "      <th>entrepreneur</th>\n",
       "      <td>0</td>\n",
       "    </tr>\n",
       "    <tr>\n",
       "      <th>retiree</th>\n",
       "      <td>0</td>\n",
       "    </tr>\n",
       "  </tbody>\n",
       "</table></div>"
      ],
      "text/plain": [
       "               total_income\n",
       "income_type                \n",
       "business                  0\n",
       "civil servant             0\n",
       "employee                  0\n",
       "entrepreneur              0\n",
       "retiree                   0"
      ]
     },
     "execution_count": 103,
     "metadata": {},
     "output_type": "execute_result"
    }
   ],
   "source": [
    "#Asegurando que el income_type no sea un factor para los datos ausentes\n",
    "credit[credit['days_employed'].isna()].pivot_table(index='income_type',values='total_income' ,aggfunc='count')"
   ]
  },
  {
   "cell_type": "code",
   "execution_count": 104,
   "metadata": {},
   "outputs": [
    {
     "data": {
      "text/html": [
       "<div><div id=a555166b-e2b8-4d6f-93d8-4d6cacd42527 style=\"display:none; background-color:#9D6CFF; color:white; width:200px; height:30px; padding-left:5px; border-radius:4px; flex-direction:row; justify-content:space-around; align-items:center;\" onmouseover=\"this.style.backgroundColor='#BA9BF8'\" onmouseout=\"this.style.backgroundColor='#9D6CFF'\" onclick=\"window.commands?.execute('create-mitosheet-from-dataframe-output');\">See Full Dataframe in Mito</div> <script> if (window.commands.hasCommand('create-mitosheet-from-dataframe-output')) document.getElementById('a555166b-e2b8-4d6f-93d8-4d6cacd42527').style.display = 'flex' </script> <table border=\"1\" class=\"dataframe\">\n",
       "  <thead>\n",
       "    <tr style=\"text-align: right;\">\n",
       "      <th></th>\n",
       "      <th>income_type</th>\n",
       "      <th>total_income</th>\n",
       "    </tr>\n",
       "  </thead>\n",
       "  <tbody>\n",
       "    <tr>\n",
       "      <th>0</th>\n",
       "      <td>business</td>\n",
       "      <td>32386.793835</td>\n",
       "    </tr>\n",
       "    <tr>\n",
       "      <th>1</th>\n",
       "      <td>civil servant</td>\n",
       "      <td>27343.729582</td>\n",
       "    </tr>\n",
       "    <tr>\n",
       "      <th>2</th>\n",
       "      <td>employee</td>\n",
       "      <td>25820.841683</td>\n",
       "    </tr>\n",
       "    <tr>\n",
       "      <th>3</th>\n",
       "      <td>entrepreneur</td>\n",
       "      <td>79866.103000</td>\n",
       "    </tr>\n",
       "    <tr>\n",
       "      <th>4</th>\n",
       "      <td>paternity / maternity leave</td>\n",
       "      <td>8612.661000</td>\n",
       "    </tr>\n",
       "    <tr>\n",
       "      <th>5</th>\n",
       "      <td>retiree</td>\n",
       "      <td>21940.394503</td>\n",
       "    </tr>\n",
       "    <tr>\n",
       "      <th>6</th>\n",
       "      <td>student</td>\n",
       "      <td>15712.260000</td>\n",
       "    </tr>\n",
       "    <tr>\n",
       "      <th>7</th>\n",
       "      <td>unemployed</td>\n",
       "      <td>21014.360500</td>\n",
       "    </tr>\n",
       "  </tbody>\n",
       "</table></div>"
      ],
      "text/plain": [
       "                   income_type  total_income\n",
       "0                     business  32386.793835\n",
       "1                civil servant  27343.729582\n",
       "2                     employee  25820.841683\n",
       "3                 entrepreneur  79866.103000\n",
       "4  paternity / maternity leave   8612.661000\n",
       "5                      retiree  21940.394503\n",
       "6                      student  15712.260000\n",
       "7                   unemployed  21014.360500"
      ]
     },
     "execution_count": 104,
     "metadata": {},
     "output_type": "execute_result"
    }
   ],
   "source": [
    "#Calculando la media de total_income por income_type\n",
    "credit.groupby('income_type').agg({'total_income': 'mean'}).reset_index()"
   ]
  },
  {
   "cell_type": "markdown",
   "metadata": {},
   "source": [
    "Resulta ser que los datos ausentes representan el 10% de nuestros datos. Debido a que el 10% de los datos es una cantidad muy grande, se tendrá que hacer algo al respecto. \n",
    "\n",
    "Es posible que estos datos se hayan perdido debido al formato que tienen ya que de igual manera es incorrecto, es decir, la columna de days_employed debe tener un error muy grande con los días y/o fechas que se trabajaron. Es por esto, que el mejor acercamiento es sustituir los datos ausentes con la mediana.\n",
    "\n",
    "El DataFrame cuenta con 54 datos duplicados. "
   ]
  },
  {
   "cell_type": "code",
   "execution_count": 105,
   "metadata": {},
   "outputs": [
    {
     "name": "stdout",
     "output_type": "stream",
     "text": [
      " 0     0.657329\n",
      " 1     0.223833\n",
      " 2     0.095470\n",
      " 3     0.015331\n",
      " 20    0.003531\n",
      "-1     0.002184\n",
      " 4     0.001905\n",
      " 5     0.000418\n",
      "Name: children, dtype: float64\n",
      "-8437.673028      0.000052\n",
      "-3507.818775      0.000052\n",
      " 354500.415854    0.000052\n",
      "-769.717438       0.000052\n",
      "-3963.590317      0.000052\n",
      "                    ...   \n",
      "-1099.957609      0.000052\n",
      "-209.984794       0.000052\n",
      " 398099.392433    0.000052\n",
      "-1271.038880      0.000052\n",
      "-1984.507589      0.000052\n",
      "Name: days_employed, Length: 19351, dtype: float64\n",
      "35    0.028664\n",
      "40    0.028293\n",
      "41    0.028200\n",
      "34    0.028014\n",
      "38    0.027782\n",
      "42    0.027735\n",
      "33    0.026992\n",
      "39    0.026620\n",
      "31    0.026016\n",
      "36    0.025784\n",
      "44    0.025412\n",
      "29    0.025319\n",
      "30    0.025087\n",
      "48    0.024994\n",
      "37    0.024948\n",
      "50    0.023879\n",
      "43    0.023833\n",
      "32    0.023693\n",
      "49    0.023600\n",
      "28    0.023368\n",
      "45    0.023089\n",
      "27    0.022904\n",
      "56    0.022625\n",
      "52    0.022485\n",
      "47    0.022300\n",
      "54    0.022253\n",
      "46    0.022067\n",
      "58    0.021417\n",
      "57    0.021370\n",
      "53    0.021324\n",
      "51    0.020813\n",
      "59    0.020627\n",
      "55    0.020581\n",
      "26    0.018955\n",
      "60    0.017515\n",
      "25    0.016585\n",
      "61    0.016492\n",
      "62    0.016353\n",
      "63    0.012497\n",
      "64    0.012311\n",
      "24    0.012265\n",
      "23    0.011800\n",
      "65    0.009013\n",
      "22    0.008502\n",
      "66    0.008502\n",
      "67    0.007758\n",
      "21    0.005157\n",
      "0     0.004692\n",
      "68    0.004599\n",
      "69    0.003949\n",
      "70    0.003020\n",
      "71    0.002695\n",
      "20    0.002369\n",
      "72    0.001533\n",
      "19    0.000650\n",
      "73    0.000372\n",
      "74    0.000279\n",
      "75    0.000046\n",
      "Name: dob_years, dtype: float64\n",
      "secondary education    0.638792\n",
      "bachelor's degree      0.219187\n",
      "SECONDARY EDUCATION    0.035865\n",
      "Secondary Education    0.033031\n",
      "some college           0.031034\n",
      "BACHELOR'S DEGREE      0.012729\n",
      "Bachelor's Degree      0.012451\n",
      "primary education      0.011614\n",
      "Some College           0.002184\n",
      "SOME COLLEGE           0.001347\n",
      "PRIMARY EDUCATION      0.000790\n",
      "Primary Education      0.000697\n",
      "graduate degree        0.000186\n",
      "Graduate Degree        0.000046\n",
      "GRADUATE DEGREE        0.000046\n",
      "Name: education, dtype: float64\n",
      "1    0.707689\n",
      "0    0.244367\n",
      "2    0.034564\n",
      "3    0.013101\n",
      "4    0.000279\n",
      "Name: education_id, dtype: float64\n",
      "married              0.575145\n",
      "civil partnership    0.194053\n",
      "unmarried            0.130685\n",
      "divorced             0.055517\n",
      "widow / widower      0.044599\n",
      "Name: family_status, dtype: float64\n",
      "0    0.575145\n",
      "1    0.194053\n",
      "4    0.130685\n",
      "3    0.055517\n",
      "2    0.044599\n",
      "Name: family_status_id, dtype: float64\n",
      "F      0.661370\n",
      "M      0.338583\n",
      "XNA    0.000046\n",
      "Name: gender, dtype: float64\n",
      "employee                       0.516562\n",
      "business                       0.236237\n",
      "retiree                        0.179141\n",
      "civil servant                  0.067782\n",
      "unemployed                     0.000093\n",
      "entrepreneur                   0.000093\n",
      "student                        0.000046\n",
      "paternity / maternity leave    0.000046\n",
      "Name: income_type, dtype: float64\n",
      "0    0.919117\n",
      "1    0.080883\n",
      "Name: debt, dtype: float64\n",
      "17312.717    0.000103\n",
      "42413.096    0.000103\n",
      "31791.384    0.000103\n",
      "21005.772    0.000052\n",
      "18591.443    0.000052\n",
      "               ...   \n",
      "27020.895    0.000052\n",
      "23686.835    0.000052\n",
      "9606.294     0.000052\n",
      "28156.762    0.000052\n",
      "13127.587    0.000052\n",
      "Name: total_income, Length: 19348, dtype: float64\n",
      "wedding ceremony                            0.037027\n",
      "having a wedding                            0.036098\n",
      "to have a wedding                           0.035958\n",
      "real estate transactions                    0.031405\n",
      "buy commercial real estate                  0.030848\n",
      "buying property for renting out             0.030337\n",
      "housing transactions                        0.030337\n",
      "transactions with commercial real estate    0.030244\n",
      "purchase of the house                       0.030058\n",
      "housing                                     0.030058\n",
      "purchase of the house for my family         0.029779\n",
      "construction of own property                0.029501\n",
      "property                                    0.029454\n",
      "transactions with my real estate            0.029268\n",
      "building a real estate                      0.029082\n",
      "buy real estate                             0.028990\n",
      "building a property                         0.028804\n",
      "purchase of my own house                    0.028804\n",
      "housing renovation                          0.028432\n",
      "buy residential real estate                 0.028200\n",
      "buying my own car                           0.023461\n",
      "going to university                         0.023043\n",
      "car                                         0.022997\n",
      "second-hand car purchase                    0.022718\n",
      "to own a car                                0.022300\n",
      "buying a second-hand car                    0.022253\n",
      "cars                                        0.022207\n",
      "to buy a car                                0.021928\n",
      "supplementary education                     0.021463\n",
      "car purchase                                0.021463\n",
      "purchase of a car                           0.021138\n",
      "university education                        0.021045\n",
      "education                                   0.020767\n",
      "to get a supplementary education            0.020767\n",
      "getting an education                        0.020581\n",
      "profile education                           0.020256\n",
      "getting higher education                    0.019791\n",
      "to become educated                          0.019141\n",
      "Name: purpose, dtype: float64\n"
     ]
    }
   ],
   "source": [
    "# Comprobando la distribución en el conjunto de datos entero\n",
    "for col in credit.columns:\n",
    "    print(credit[col].value_counts(normalize = True))"
   ]
  },
  {
   "cell_type": "code",
   "execution_count": 106,
   "metadata": {},
   "outputs": [
    {
     "name": "stdout",
     "output_type": "stream",
     "text": [
      " 0     0.656814\n",
      " 1     0.224433\n",
      " 2     0.095654\n",
      " 3     0.015193\n",
      " 20    0.003462\n",
      "-1     0.002274\n",
      " 4     0.001757\n",
      " 5     0.000413\n",
      "Name: children, dtype: float64\n",
      "-8437.673028      0.000052\n",
      "-3507.818775      0.000052\n",
      " 354500.415854    0.000052\n",
      "-769.717438       0.000052\n",
      "-3963.590317      0.000052\n",
      "                    ...   \n",
      "-1099.957609      0.000052\n",
      "-209.984794       0.000052\n",
      " 398099.392433    0.000052\n",
      "-1271.038880      0.000052\n",
      "-1984.507589      0.000052\n",
      "Name: days_employed, Length: 19351, dtype: float64\n",
      "35    0.028577\n",
      "41    0.028319\n",
      "38    0.028112\n",
      "40    0.028061\n",
      "34    0.027595\n",
      "42    0.027492\n",
      "33    0.027389\n",
      "39    0.026975\n",
      "44    0.025993\n",
      "29    0.025580\n",
      "31    0.025580\n",
      "48    0.025425\n",
      "36    0.025425\n",
      "37    0.025012\n",
      "30    0.024908\n",
      "32    0.024443\n",
      "43    0.023926\n",
      "50    0.023926\n",
      "49    0.023668\n",
      "27    0.023616\n",
      "45    0.023100\n",
      "28    0.023048\n",
      "56    0.022376\n",
      "52    0.022273\n",
      "46    0.022066\n",
      "54    0.021911\n",
      "47    0.021756\n",
      "53    0.021446\n",
      "59    0.021188\n",
      "58    0.020929\n",
      "57    0.020877\n",
      "51    0.020567\n",
      "55    0.020412\n",
      "26    0.019275\n",
      "60    0.017467\n",
      "25    0.017260\n",
      "61    0.016382\n",
      "62    0.016227\n",
      "24    0.012557\n",
      "63    0.012402\n",
      "64    0.011782\n",
      "23    0.011266\n",
      "65    0.008992\n",
      "22    0.008578\n",
      "66    0.008423\n",
      "67    0.007803\n",
      "21    0.004806\n",
      "0     0.004703\n",
      "68    0.004651\n",
      "69    0.004134\n",
      "70    0.003204\n",
      "71    0.002739\n",
      "20    0.002377\n",
      "72    0.001602\n",
      "19    0.000672\n",
      "73    0.000362\n",
      "74    0.000310\n",
      "75    0.000052\n",
      "Name: dob_years, dtype: float64\n",
      "secondary education    0.637796\n",
      "bachelor's degree      0.218180\n",
      "SECONDARY EDUCATION    0.036432\n",
      "Secondary Education    0.033383\n",
      "some college           0.031678\n",
      "BACHELOR'S DEGREE      0.012971\n",
      "Bachelor's Degree      0.012557\n",
      "primary education      0.011937\n",
      "Some College           0.002067\n",
      "SOME COLLEGE           0.001137\n",
      "PRIMARY EDUCATION      0.000827\n",
      "Primary Education      0.000723\n",
      "graduate degree        0.000207\n",
      "Graduate Degree        0.000052\n",
      "GRADUATE DEGREE        0.000052\n",
      "Name: education, dtype: float64\n",
      "1    0.707612\n",
      "0    0.243708\n",
      "2    0.034882\n",
      "3    0.013488\n",
      "4    0.000310\n",
      "Name: education_id, dtype: float64\n",
      "married              0.575836\n",
      "civil partnership    0.193013\n",
      "unmarried            0.130484\n",
      "divorced             0.055966\n",
      "widow / widower      0.044701\n",
      "Name: family_status, dtype: float64\n",
      "0    0.575836\n",
      "1    0.193013\n",
      "4    0.130484\n",
      "3    0.055966\n",
      "2    0.044701\n",
      "Name: family_status_id, dtype: float64\n",
      "F      0.658984\n",
      "M      0.340964\n",
      "XNA    0.000052\n",
      "Name: gender, dtype: float64\n",
      "employee                       0.517493\n",
      "business                       0.236525\n",
      "retiree                        0.177924\n",
      "civil servant                  0.067800\n",
      "unemployed                     0.000103\n",
      "student                        0.000052\n",
      "entrepreneur                   0.000052\n",
      "paternity / maternity leave    0.000052\n",
      "Name: income_type, dtype: float64\n",
      "0    0.918816\n",
      "1    0.081184\n",
      "Name: debt, dtype: float64\n",
      "17312.717    0.000103\n",
      "42413.096    0.000103\n",
      "31791.384    0.000103\n",
      "21005.772    0.000052\n",
      "18591.443    0.000052\n",
      "               ...   \n",
      "27020.895    0.000052\n",
      "23686.835    0.000052\n",
      "9606.294     0.000052\n",
      "28156.762    0.000052\n",
      "13127.587    0.000052\n",
      "Name: total_income, Length: 19348, dtype: float64\n",
      "wedding ceremony                            0.037259\n",
      "to have a wedding                           0.035812\n",
      "having a wedding                            0.035399\n",
      "real estate transactions                    0.031781\n",
      "buy commercial real estate                  0.030851\n",
      "purchase of the house                       0.030748\n",
      "buying property for renting out             0.030386\n",
      "housing                                     0.030334\n",
      "transactions with commercial real estate    0.030024\n",
      "building a real estate                      0.029973\n",
      "housing transactions                        0.029921\n",
      "purchase of my own house                    0.029663\n",
      "property                                    0.029559\n",
      "purchase of the house for my family         0.029456\n",
      "building a property                         0.028991\n",
      "construction of own property                0.028939\n",
      "transactions with my real estate            0.028887\n",
      "buy real estate                             0.028526\n",
      "buy residential real estate                 0.028216\n",
      "housing renovation                          0.028009\n",
      "car                                         0.023461\n",
      "buying my own car                           0.023358\n",
      "to buy a car                                0.022841\n",
      "going to university                         0.022738\n",
      "buying a second-hand car                    0.022583\n",
      "second-hand car purchase                    0.022479\n",
      "to own a car                                0.022118\n",
      "cars                                        0.021756\n",
      "car purchase                                0.021653\n",
      "supplementary education                     0.021394\n",
      "university education                        0.021343\n",
      "purchase of a car                           0.021136\n",
      "education                                   0.020929\n",
      "to get a supplementary education            0.020464\n",
      "getting an education                        0.020309\n",
      "getting higher education                    0.020154\n",
      "profile education                           0.020102\n",
      "to become educated                          0.018449\n",
      "Name: purpose, dtype: float64\n"
     ]
    }
   ],
   "source": [
    "for col in credit.columns:\n",
    "    print(credit.dropna()[col].value_counts(normalize = True))"
   ]
  },
  {
   "cell_type": "markdown",
   "metadata": {},
   "source": [
    "**Conclusión intermedia**\n",
    "\n",
    "Como se puede notar, el análisis anterior mostró que no hay un cambio importante en los porcentajes de los datos ausentes en las demás columnas. Debido a esto, lo más probable es que los datos ausentes esten presentes de manera accidental y aleatoria.\n",
    "\n",
    "A continuación, se sigue llevando a cabo un análisis filtrando las columnas con mayor claridad."
   ]
  },
  {
   "cell_type": "code",
   "execution_count": 107,
   "metadata": {},
   "outputs": [
    {
     "name": "stdout",
     "output_type": "stream",
     "text": [
      " 0     0.657329\n",
      " 1     0.223833\n",
      " 2     0.095470\n",
      " 3     0.015331\n",
      " 20    0.003531\n",
      "-1     0.002184\n",
      " 4     0.001905\n",
      " 5     0.000418\n",
      "Name: children, dtype: float64\n",
      "secondary education    0.638792\n",
      "bachelor's degree      0.219187\n",
      "SECONDARY EDUCATION    0.035865\n",
      "Secondary Education    0.033031\n",
      "some college           0.031034\n",
      "BACHELOR'S DEGREE      0.012729\n",
      "Bachelor's Degree      0.012451\n",
      "primary education      0.011614\n",
      "Some College           0.002184\n",
      "SOME COLLEGE           0.001347\n",
      "PRIMARY EDUCATION      0.000790\n",
      "Primary Education      0.000697\n",
      "graduate degree        0.000186\n",
      "Graduate Degree        0.000046\n",
      "GRADUATE DEGREE        0.000046\n",
      "Name: education, dtype: float64\n",
      "1    0.707689\n",
      "0    0.244367\n",
      "2    0.034564\n",
      "3    0.013101\n",
      "4    0.000279\n",
      "Name: education_id, dtype: float64\n",
      "married              0.575145\n",
      "civil partnership    0.194053\n",
      "unmarried            0.130685\n",
      "divorced             0.055517\n",
      "widow / widower      0.044599\n",
      "Name: family_status, dtype: float64\n",
      "0    0.575145\n",
      "1    0.194053\n",
      "4    0.130685\n",
      "3    0.055517\n",
      "2    0.044599\n",
      "Name: family_status_id, dtype: float64\n",
      "F      0.661370\n",
      "M      0.338583\n",
      "XNA    0.000046\n",
      "Name: gender, dtype: float64\n",
      "employee                       0.516562\n",
      "business                       0.236237\n",
      "retiree                        0.179141\n",
      "civil servant                  0.067782\n",
      "unemployed                     0.000093\n",
      "entrepreneur                   0.000093\n",
      "student                        0.000046\n",
      "paternity / maternity leave    0.000046\n",
      "Name: income_type, dtype: float64\n",
      "0    0.919117\n",
      "1    0.080883\n",
      "Name: debt, dtype: float64\n",
      "wedding ceremony                            0.037027\n",
      "having a wedding                            0.036098\n",
      "to have a wedding                           0.035958\n",
      "real estate transactions                    0.031405\n",
      "buy commercial real estate                  0.030848\n",
      "buying property for renting out             0.030337\n",
      "housing transactions                        0.030337\n",
      "transactions with commercial real estate    0.030244\n",
      "purchase of the house                       0.030058\n",
      "housing                                     0.030058\n",
      "purchase of the house for my family         0.029779\n",
      "construction of own property                0.029501\n",
      "property                                    0.029454\n",
      "transactions with my real estate            0.029268\n",
      "building a real estate                      0.029082\n",
      "buy real estate                             0.028990\n",
      "building a property                         0.028804\n",
      "purchase of my own house                    0.028804\n",
      "housing renovation                          0.028432\n",
      "buy residential real estate                 0.028200\n",
      "buying my own car                           0.023461\n",
      "going to university                         0.023043\n",
      "car                                         0.022997\n",
      "second-hand car purchase                    0.022718\n",
      "to own a car                                0.022300\n",
      "buying a second-hand car                    0.022253\n",
      "cars                                        0.022207\n",
      "to buy a car                                0.021928\n",
      "supplementary education                     0.021463\n",
      "car purchase                                0.021463\n",
      "purchase of a car                           0.021138\n",
      "university education                        0.021045\n",
      "education                                   0.020767\n",
      "to get a supplementary education            0.020767\n",
      "getting an education                        0.020581\n",
      "profile education                           0.020256\n",
      "getting higher education                    0.019791\n",
      "to become educated                          0.019141\n",
      "Name: purpose, dtype: float64\n"
     ]
    }
   ],
   "source": [
    "credit_missing = credit[['children', 'education', 'education_id', 'family_status', 'family_status_id', 'gender', 'income_type', 'debt', 'purpose']]\n",
    "for col in credit_missing.columns:\n",
    "    print(credit[col].value_counts(normalize = True))"
   ]
  },
  {
   "cell_type": "code",
   "execution_count": 108,
   "metadata": {},
   "outputs": [
    {
     "name": "stdout",
     "output_type": "stream",
     "text": [
      " 0     0.656814\n",
      " 1     0.224433\n",
      " 2     0.095654\n",
      " 3     0.015193\n",
      " 20    0.003462\n",
      "-1     0.002274\n",
      " 4     0.001757\n",
      " 5     0.000413\n",
      "Name: children, dtype: float64\n",
      "secondary education    0.637796\n",
      "bachelor's degree      0.218180\n",
      "SECONDARY EDUCATION    0.036432\n",
      "Secondary Education    0.033383\n",
      "some college           0.031678\n",
      "BACHELOR'S DEGREE      0.012971\n",
      "Bachelor's Degree      0.012557\n",
      "primary education      0.011937\n",
      "Some College           0.002067\n",
      "SOME COLLEGE           0.001137\n",
      "PRIMARY EDUCATION      0.000827\n",
      "Primary Education      0.000723\n",
      "graduate degree        0.000207\n",
      "Graduate Degree        0.000052\n",
      "GRADUATE DEGREE        0.000052\n",
      "Name: education, dtype: float64\n",
      "1    0.707612\n",
      "0    0.243708\n",
      "2    0.034882\n",
      "3    0.013488\n",
      "4    0.000310\n",
      "Name: education_id, dtype: float64\n",
      "married              0.575836\n",
      "civil partnership    0.193013\n",
      "unmarried            0.130484\n",
      "divorced             0.055966\n",
      "widow / widower      0.044701\n",
      "Name: family_status, dtype: float64\n",
      "0    0.575836\n",
      "1    0.193013\n",
      "4    0.130484\n",
      "3    0.055966\n",
      "2    0.044701\n",
      "Name: family_status_id, dtype: float64\n",
      "F      0.658984\n",
      "M      0.340964\n",
      "XNA    0.000052\n",
      "Name: gender, dtype: float64\n",
      "employee                       0.517493\n",
      "business                       0.236525\n",
      "retiree                        0.177924\n",
      "civil servant                  0.067800\n",
      "unemployed                     0.000103\n",
      "student                        0.000052\n",
      "entrepreneur                   0.000052\n",
      "paternity / maternity leave    0.000052\n",
      "Name: income_type, dtype: float64\n",
      "0    0.918816\n",
      "1    0.081184\n",
      "Name: debt, dtype: float64\n",
      "wedding ceremony                            0.037259\n",
      "to have a wedding                           0.035812\n",
      "having a wedding                            0.035399\n",
      "real estate transactions                    0.031781\n",
      "buy commercial real estate                  0.030851\n",
      "purchase of the house                       0.030748\n",
      "buying property for renting out             0.030386\n",
      "housing                                     0.030334\n",
      "transactions with commercial real estate    0.030024\n",
      "building a real estate                      0.029973\n",
      "housing transactions                        0.029921\n",
      "purchase of my own house                    0.029663\n",
      "property                                    0.029559\n",
      "purchase of the house for my family         0.029456\n",
      "building a property                         0.028991\n",
      "construction of own property                0.028939\n",
      "transactions with my real estate            0.028887\n",
      "buy real estate                             0.028526\n",
      "buy residential real estate                 0.028216\n",
      "housing renovation                          0.028009\n",
      "car                                         0.023461\n",
      "buying my own car                           0.023358\n",
      "to buy a car                                0.022841\n",
      "going to university                         0.022738\n",
      "buying a second-hand car                    0.022583\n",
      "second-hand car purchase                    0.022479\n",
      "to own a car                                0.022118\n",
      "cars                                        0.021756\n",
      "car purchase                                0.021653\n",
      "supplementary education                     0.021394\n",
      "university education                        0.021343\n",
      "purchase of a car                           0.021136\n",
      "education                                   0.020929\n",
      "to get a supplementary education            0.020464\n",
      "getting an education                        0.020309\n",
      "getting higher education                    0.020154\n",
      "profile education                           0.020102\n",
      "to become educated                          0.018449\n",
      "Name: purpose, dtype: float64\n"
     ]
    }
   ],
   "source": [
    "for col in credit_missing.columns:\n",
    "    print(credit.dropna()[col].value_counts(normalize = True))"
   ]
  },
  {
   "cell_type": "markdown",
   "metadata": {},
   "source": [
    "**Conclusión intermedia**\n",
    "\n",
    "Asegurando que los cambios en los porcentajes son mínimos, podemos concluir que en efecto, los valores ausentes son accidentales y aleatorios."
   ]
  },
  {
   "cell_type": "markdown",
   "metadata": {},
   "source": [
    "### Conclusiones <a id='data_preprocessing_conclusions'></a>\n",
    "\n",
    "Debido a que no se encontraron patrones en el cambio de porcentajes en los datos, los valores ausentes accidentales y aleatorios.\n",
    "\n",
    "Para abordar los valores ausente se tomará en cuenta el contexto de estos y se determinará la mejor solución. Ya que los datos ausentes son numéricos, este problema se resolverá utilizando mediana.\n",
    "\n",
    "En la siguiente etapa se tomarán en cuenta para la tranformación y limpieza del DataFrame los valores duplicados, diferentes registros, artefactos incorrectos y valores ausentes. En cada uno de estos problemas se le dará un seguimiento adecuado."
   ]
  },
  {
   "cell_type": "markdown",
   "metadata": {},
   "source": [
    "## Transformación de datos <a id='data_transformation'></a>\n",
    "\n",
    "De simple vista, se puede observar que la columna `education` tiene datos con el mismo valor que han sido escritos de diferente manera, ya sea con una mayúscula, toda la oración en mayúsculas, etc.\n",
    "\n",
    "Algo similar ocurre en la columna `purpose`."
   ]
  },
  {
   "cell_type": "code",
   "execution_count": 109,
   "metadata": {},
   "outputs": [
    {
     "data": {
      "text/plain": [
       "0      bachelor's degree\n",
       "1    secondary education\n",
       "2    Secondary Education\n",
       "3    secondary education\n",
       "4    secondary education\n",
       "5      bachelor's degree\n",
       "6      bachelor's degree\n",
       "7    SECONDARY EDUCATION\n",
       "8      BACHELOR'S DEGREE\n",
       "9    secondary education\n",
       "Name: education, dtype: object"
      ]
     },
     "execution_count": 109,
     "metadata": {},
     "output_type": "execute_result"
    }
   ],
   "source": [
    "# Veamos todos los valores en la columna de educación para verificar si será necesario corregir la ortografía y qué habrá que corregir exactamente\n",
    "credit['education'].head(10)"
   ]
  },
  {
   "cell_type": "code",
   "execution_count": 110,
   "metadata": {
    "scrolled": true
   },
   "outputs": [],
   "source": [
    "credit['education'] = credit['education'].str.lower()"
   ]
  },
  {
   "cell_type": "code",
   "execution_count": 111,
   "metadata": {},
   "outputs": [
    {
     "data": {
      "text/plain": [
       "0          bachelor's degree\n",
       "1        secondary education\n",
       "2        secondary education\n",
       "3        secondary education\n",
       "4        secondary education\n",
       "                ...         \n",
       "21520    secondary education\n",
       "21521    secondary education\n",
       "21522    secondary education\n",
       "21523    secondary education\n",
       "21524    secondary education\n",
       "Name: education, Length: 21525, dtype: object"
      ]
     },
     "execution_count": 111,
     "metadata": {},
     "output_type": "execute_result"
    }
   ],
   "source": [
    "credit['education']"
   ]
  },
  {
   "cell_type": "code",
   "execution_count": 112,
   "metadata": {},
   "outputs": [
    {
     "data": {
      "text/plain": [
       " 0     14149\n",
       " 1      4818\n",
       " 2      2055\n",
       " 3       330\n",
       " 20       76\n",
       "-1        47\n",
       " 4        41\n",
       " 5         9\n",
       "Name: children, dtype: int64"
      ]
     },
     "execution_count": 112,
     "metadata": {},
     "output_type": "execute_result"
    }
   ],
   "source": [
    "# Veamos la distribución de los valores en la columna `children`\n",
    "credit['children'].value_counts()"
   ]
  },
  {
   "cell_type": "markdown",
   "metadata": {},
   "source": [
    "Se puede notar que existen dos conjuntos de datos en la columna `children` que es muy probable que tengan error, el de -1 y el de 20 ya que no se puede tener -1 hijo y tener 20 hijos es algo impensable además, los datos muestran que entre más alta sea la cantidad de hijos, menos casos hay, por ejemplo, se encuentran 2,055 personas con 2 hijos y tan solo 9 con 5. Para solucionar este problema, primero se calculará la media de los datos para determinar si es viable utilizarla para llenar los datos equivocados. De no serlo, se corregirá los dígitos con problemas para cambiar el 20 por un 2 y el -1 por un 1 ya que lo más probable es que estos datos hayan sido escritos erroneamente por un humano."
   ]
  },
  {
   "cell_type": "code",
   "execution_count": 113,
   "metadata": {},
   "outputs": [
    {
     "data": {
      "text/plain": [
       "0.5389082462253194"
      ]
     },
     "execution_count": 113,
     "metadata": {},
     "output_type": "execute_result"
    }
   ],
   "source": [
    "credit['children'].mean()"
   ]
  },
  {
   "cell_type": "markdown",
   "metadata": {},
   "source": [
    "Ya que no es posible tener 0.54 hijos, se redondearán hacia arriba. Teniendo esto en cuenta, todos los datos con problema serían transfomrados a 1. Se ha considerado que un mejor acercamiento para solucionar este error es sustituir los datos con errores de 20 y -1 por 2 y 1, respectivamente."
   ]
  },
  {
   "cell_type": "code",
   "execution_count": 114,
   "metadata": {},
   "outputs": [],
   "source": [
    "credit.head(10)\n",
    "credit['children'] = credit['children'].replace([-1, 20], [1, 2])"
   ]
  },
  {
   "cell_type": "code",
   "execution_count": 115,
   "metadata": {},
   "outputs": [
    {
     "data": {
      "text/plain": [
       "0    14149\n",
       "1     4865\n",
       "2     2131\n",
       "3      330\n",
       "4       41\n",
       "5        9\n",
       "Name: children, dtype: int64"
      ]
     },
     "execution_count": 115,
     "metadata": {},
     "output_type": "execute_result"
    }
   ],
   "source": [
    "credit['children'].value_counts()"
   ]
  },
  {
   "cell_type": "markdown",
   "metadata": {},
   "source": [
    "Desde un principio se notó que la columna de `days_employed` tenía un problema crítico para el análisis correcto de los datos, muchos están en negativos y otros tienen cantidades imposibles de días trabajados. A continuación se calculará el porcentaje de datos problemáticos en esta columna.\n",
    "\n",
    "Para determinar si la cantidad de días es correcto o no, se tomarán en cuenta los trabajadores más jóvenes (19 años) y los más ancianos (75 años), esto nos da un rango de 56 años (75 - 19)(20,440 días) trabajados máximo  y será el dato que se utilizará para el análisis de la columna."
   ]
  },
  {
   "cell_type": "code",
   "execution_count": 116,
   "metadata": {},
   "outputs": [
    {
     "data": {
      "text/plain": [
       "income_type\n",
       "retiree       3443\n",
       "unemployed       2\n",
       "dtype: int64"
      ]
     },
     "execution_count": 116,
     "metadata": {},
     "output_type": "execute_result"
    }
   ],
   "source": [
    "credit[credit['days_employed'] > 0].value_counts('income_type')"
   ]
  },
  {
   "cell_type": "code",
   "execution_count": 117,
   "metadata": {},
   "outputs": [
    {
     "data": {
      "text/plain": [
       "income_type\n",
       "employee                       10014\n",
       "business                        4577\n",
       "civil servant                   1312\n",
       "entrepreneur                       1\n",
       "paternity / maternity leave        1\n",
       "student                            1\n",
       "dtype: int64"
      ]
     },
     "execution_count": 117,
     "metadata": {},
     "output_type": "execute_result"
    }
   ],
   "source": [
    "credit[credit['days_employed'] <= 20440].value_counts('income_type')"
   ]
  },
  {
   "cell_type": "code",
   "execution_count": 118,
   "metadata": {},
   "outputs": [
    {
     "name": "stdout",
     "output_type": "stream",
     "text": [
      "3445\n",
      "15906\n"
     ]
    },
    {
     "data": {
      "text/html": [
       "<div><div id=4ab6c22f-03c8-4119-87e1-59d710ed5e94 style=\"display:none; background-color:#9D6CFF; color:white; width:200px; height:30px; padding-left:5px; border-radius:4px; flex-direction:row; justify-content:space-around; align-items:center;\" onmouseover=\"this.style.backgroundColor='#BA9BF8'\" onmouseout=\"this.style.backgroundColor='#9D6CFF'\" onclick=\"window.commands?.execute('create-mitosheet-from-dataframe-output');\">See Full Dataframe in Mito</div> <script> if (window.commands.hasCommand('create-mitosheet-from-dataframe-output')) document.getElementById('4ab6c22f-03c8-4119-87e1-59d710ed5e94').style.display = 'flex' </script> <table border=\"1\" class=\"dataframe\">\n",
       "  <thead>\n",
       "    <tr style=\"text-align: right;\">\n",
       "      <th></th>\n",
       "      <th>children</th>\n",
       "      <th>days_employed</th>\n",
       "      <th>dob_years</th>\n",
       "      <th>education</th>\n",
       "      <th>education_id</th>\n",
       "      <th>family_status</th>\n",
       "      <th>family_status_id</th>\n",
       "      <th>gender</th>\n",
       "      <th>income_type</th>\n",
       "      <th>debt</th>\n",
       "      <th>total_income</th>\n",
       "      <th>purpose</th>\n",
       "    </tr>\n",
       "  </thead>\n",
       "  <tbody>\n",
       "  </tbody>\n",
       "</table></div>"
      ],
      "text/plain": [
       "Empty DataFrame\n",
       "Columns: [children, days_employed, dob_years, education, education_id, family_status, family_status_id, gender, income_type, debt, total_income, purpose]\n",
       "Index: []"
      ]
     },
     "execution_count": 118,
     "metadata": {},
     "output_type": "execute_result"
    }
   ],
   "source": [
    "print(sum(1 for i in credit['days_employed'] if i > 0))\n",
    "print(sum(1 for i in credit['days_employed'] if i <= 20440))\n",
    "(credit[(credit['days_employed'] > 0) & (credit['days_employed'] <= 20440)])"
   ]
  },
  {
   "cell_type": "code",
   "execution_count": 119,
   "metadata": {},
   "outputs": [
    {
     "data": {
      "text/html": [
       "<div><div id=e952622e-80c2-4297-b9bf-ac5fb483c378 style=\"display:none; background-color:#9D6CFF; color:white; width:200px; height:30px; padding-left:5px; border-radius:4px; flex-direction:row; justify-content:space-around; align-items:center;\" onmouseover=\"this.style.backgroundColor='#BA9BF8'\" onmouseout=\"this.style.backgroundColor='#9D6CFF'\" onclick=\"window.commands?.execute('create-mitosheet-from-dataframe-output');\">See Full Dataframe in Mito</div> <script> if (window.commands.hasCommand('create-mitosheet-from-dataframe-output')) document.getElementById('e952622e-80c2-4297-b9bf-ac5fb483c378').style.display = 'flex' </script> <table border=\"1\" class=\"dataframe\">\n",
       "  <thead>\n",
       "    <tr style=\"text-align: right;\">\n",
       "      <th></th>\n",
       "      <th>children</th>\n",
       "      <th>days_employed</th>\n",
       "      <th>dob_years</th>\n",
       "      <th>education</th>\n",
       "      <th>education_id</th>\n",
       "      <th>family_status</th>\n",
       "      <th>family_status_id</th>\n",
       "      <th>gender</th>\n",
       "      <th>income_type</th>\n",
       "      <th>debt</th>\n",
       "      <th>total_income</th>\n",
       "      <th>purpose</th>\n",
       "    </tr>\n",
       "  </thead>\n",
       "  <tbody>\n",
       "    <tr>\n",
       "      <th>1242</th>\n",
       "      <td>0</td>\n",
       "      <td>334764.259831</td>\n",
       "      <td>22</td>\n",
       "      <td>secondary education</td>\n",
       "      <td>1</td>\n",
       "      <td>unmarried</td>\n",
       "      <td>4</td>\n",
       "      <td>F</td>\n",
       "      <td>retiree</td>\n",
       "      <td>0</td>\n",
       "      <td>14298.976</td>\n",
       "      <td>getting higher education</td>\n",
       "    </tr>\n",
       "    <tr>\n",
       "      <th>3619</th>\n",
       "      <td>0</td>\n",
       "      <td>NaN</td>\n",
       "      <td>24</td>\n",
       "      <td>secondary education</td>\n",
       "      <td>1</td>\n",
       "      <td>married</td>\n",
       "      <td>0</td>\n",
       "      <td>F</td>\n",
       "      <td>retiree</td>\n",
       "      <td>0</td>\n",
       "      <td>NaN</td>\n",
       "      <td>purchase of my own house</td>\n",
       "    </tr>\n",
       "    <tr>\n",
       "      <th>3963</th>\n",
       "      <td>0</td>\n",
       "      <td>391961.274017</td>\n",
       "      <td>34</td>\n",
       "      <td>secondary education</td>\n",
       "      <td>1</td>\n",
       "      <td>unmarried</td>\n",
       "      <td>4</td>\n",
       "      <td>M</td>\n",
       "      <td>retiree</td>\n",
       "      <td>0</td>\n",
       "      <td>12785.054</td>\n",
       "      <td>university education</td>\n",
       "    </tr>\n",
       "    <tr>\n",
       "      <th>5717</th>\n",
       "      <td>0</td>\n",
       "      <td>397905.003200</td>\n",
       "      <td>33</td>\n",
       "      <td>secondary education</td>\n",
       "      <td>1</td>\n",
       "      <td>civil partnership</td>\n",
       "      <td>1</td>\n",
       "      <td>M</td>\n",
       "      <td>retiree</td>\n",
       "      <td>0</td>\n",
       "      <td>15083.208</td>\n",
       "      <td>having a wedding</td>\n",
       "    </tr>\n",
       "    <tr>\n",
       "      <th>5842</th>\n",
       "      <td>2</td>\n",
       "      <td>397548.767244</td>\n",
       "      <td>34</td>\n",
       "      <td>secondary education</td>\n",
       "      <td>1</td>\n",
       "      <td>married</td>\n",
       "      <td>0</td>\n",
       "      <td>F</td>\n",
       "      <td>retiree</td>\n",
       "      <td>0</td>\n",
       "      <td>47686.626</td>\n",
       "      <td>transactions with commercial real estate</td>\n",
       "    </tr>\n",
       "    <tr>\n",
       "      <th>...</th>\n",
       "      <td>...</td>\n",
       "      <td>...</td>\n",
       "      <td>...</td>\n",
       "      <td>...</td>\n",
       "      <td>...</td>\n",
       "      <td>...</td>\n",
       "      <td>...</td>\n",
       "      <td>...</td>\n",
       "      <td>...</td>\n",
       "      <td>...</td>\n",
       "      <td>...</td>\n",
       "      <td>...</td>\n",
       "    </tr>\n",
       "    <tr>\n",
       "      <th>18175</th>\n",
       "      <td>2</td>\n",
       "      <td>NaN</td>\n",
       "      <td>31</td>\n",
       "      <td>secondary education</td>\n",
       "      <td>1</td>\n",
       "      <td>civil partnership</td>\n",
       "      <td>1</td>\n",
       "      <td>F</td>\n",
       "      <td>retiree</td>\n",
       "      <td>0</td>\n",
       "      <td>NaN</td>\n",
       "      <td>wedding ceremony</td>\n",
       "    </tr>\n",
       "    <tr>\n",
       "      <th>18699</th>\n",
       "      <td>0</td>\n",
       "      <td>368556.010382</td>\n",
       "      <td>34</td>\n",
       "      <td>secondary education</td>\n",
       "      <td>1</td>\n",
       "      <td>civil partnership</td>\n",
       "      <td>1</td>\n",
       "      <td>M</td>\n",
       "      <td>retiree</td>\n",
       "      <td>0</td>\n",
       "      <td>11795.272</td>\n",
       "      <td>to have a wedding</td>\n",
       "    </tr>\n",
       "    <tr>\n",
       "      <th>19417</th>\n",
       "      <td>1</td>\n",
       "      <td>350340.760224</td>\n",
       "      <td>28</td>\n",
       "      <td>secondary education</td>\n",
       "      <td>1</td>\n",
       "      <td>divorced</td>\n",
       "      <td>3</td>\n",
       "      <td>F</td>\n",
       "      <td>retiree</td>\n",
       "      <td>0</td>\n",
       "      <td>8459.679</td>\n",
       "      <td>cars</td>\n",
       "    </tr>\n",
       "    <tr>\n",
       "      <th>19439</th>\n",
       "      <td>0</td>\n",
       "      <td>389397.167577</td>\n",
       "      <td>26</td>\n",
       "      <td>bachelor's degree</td>\n",
       "      <td>0</td>\n",
       "      <td>married</td>\n",
       "      <td>0</td>\n",
       "      <td>F</td>\n",
       "      <td>retiree</td>\n",
       "      <td>0</td>\n",
       "      <td>34394.128</td>\n",
       "      <td>buy real estate</td>\n",
       "    </tr>\n",
       "    <tr>\n",
       "      <th>20560</th>\n",
       "      <td>0</td>\n",
       "      <td>333394.000848</td>\n",
       "      <td>33</td>\n",
       "      <td>secondary education</td>\n",
       "      <td>1</td>\n",
       "      <td>married</td>\n",
       "      <td>0</td>\n",
       "      <td>M</td>\n",
       "      <td>retiree</td>\n",
       "      <td>0</td>\n",
       "      <td>26145.901</td>\n",
       "      <td>education</td>\n",
       "    </tr>\n",
       "  </tbody>\n",
       "</table></div>"
      ],
      "text/plain": [
       "       children  days_employed  dob_years            education  education_id  \\\n",
       "1242          0  334764.259831         22  secondary education             1   \n",
       "3619          0            NaN         24  secondary education             1   \n",
       "3963          0  391961.274017         34  secondary education             1   \n",
       "5717          0  397905.003200         33  secondary education             1   \n",
       "5842          2  397548.767244         34  secondary education             1   \n",
       "7229          1  328827.345667         32  secondary education             1   \n",
       "12507         0  379492.102505         27  secondary education             1   \n",
       "12692         0  353056.050122         32  secondary education             1   \n",
       "12735         0  336213.383598         32  secondary education             1   \n",
       "12753         1  329781.704997         27  secondary education             1   \n",
       "13953         0  376824.585817         27  secondary education             1   \n",
       "16166         0  364348.197352         26  secondary education             1   \n",
       "18175         2            NaN         31  secondary education             1   \n",
       "18699         0  368556.010382         34  secondary education             1   \n",
       "19417         1  350340.760224         28  secondary education             1   \n",
       "19439         0  389397.167577         26    bachelor's degree             0   \n",
       "20560         0  333394.000848         33  secondary education             1   \n",
       "\n",
       "           family_status  family_status_id gender income_type  debt  \\\n",
       "1242           unmarried                 4      F     retiree     0   \n",
       "3619             married                 0      F     retiree     0   \n",
       "3963           unmarried                 4      M     retiree     0   \n",
       "5717   civil partnership                 1      M     retiree     0   \n",
       "5842             married                 0      F     retiree     0   \n",
       "7229   civil partnership                 1      F     retiree     0   \n",
       "12507          unmarried                 4      F     retiree     0   \n",
       "12692            married                 0      M     retiree     1   \n",
       "12735  civil partnership                 1      M     retiree     0   \n",
       "12753            married                 0      F     retiree     0   \n",
       "13953           divorced                 3      M     retiree     0   \n",
       "16166  civil partnership                 1      M     retiree     0   \n",
       "18175  civil partnership                 1      F     retiree     0   \n",
       "18699  civil partnership                 1      M     retiree     0   \n",
       "19417           divorced                 3      F     retiree     0   \n",
       "19439            married                 0      F     retiree     0   \n",
       "20560            married                 0      M     retiree     0   \n",
       "\n",
       "       total_income                                   purpose  \n",
       "1242      14298.976                  getting higher education  \n",
       "3619            NaN                  purchase of my own house  \n",
       "3963      12785.054                      university education  \n",
       "5717      15083.208                          having a wedding  \n",
       "5842      47686.626  transactions with commercial real estate  \n",
       "7229      19546.075                         to have a wedding  \n",
       "12507      8155.094                         purchase of a car  \n",
       "12692     26515.852                                       car  \n",
       "12735     20323.527  transactions with commercial real estate  \n",
       "12753     10431.696                      getting an education  \n",
       "13953     15673.919                      housing transactions  \n",
       "16166     12807.071                                       car  \n",
       "18175           NaN                          wedding ceremony  \n",
       "18699     11795.272                         to have a wedding  \n",
       "19417      8459.679                                      cars  \n",
       "19439     34394.128                           buy real estate  \n",
       "20560     26145.901                                 education  "
      ]
     },
     "execution_count": 119,
     "metadata": {},
     "output_type": "execute_result"
    }
   ],
   "source": [
    "credit[credit['income_type'].str.contains('retiree') & (credit['dob_years'] != 0) & (credit['dob_years'] < 35)]"
   ]
  },
  {
   "cell_type": "code",
   "execution_count": 120,
   "metadata": {},
   "outputs": [],
   "source": [
    "years_employed = credit['days_employed'] / 365"
   ]
  },
  {
   "cell_type": "markdown",
   "metadata": {},
   "source": [
    "Después de realizar el calculo se puede notar que absolutamente todos los datos muestran problema, ya sea que tienen un número negativo o son una cantidad de años imposibles de alcanzar. \n",
    "\n",
    "Es probable que este error haya sido causado por un problema técnico ya que más del 99% de los datos con una cantidad de años trabajados abrumadora pertenecen a personas con un `income_type` de retirado y solo dos filas tienen uno de unemployed. Esto pudo haber sido ocasionado por una falla en el calculo ya que en el dataframe se cuenta por ejemplo, con personas con 22 años que han trabajado durante 917 años. Aún no es posible rellenar los valores ausentes ya que ni la media, ni la mediana ni moda serían útiles hasta que este error sea solucionado. Para solucionar esta problemática se dividió la cantidad de días para transformarlos a años y apartir de eso se puede encontrar un patrón que demuestra -----.\n",
    "\n",
    "En cuanto a los datos negativos, es también muy probable que haya sido un error técnico y simplemente se deba de eliminar el signo negativo para solucionar el problema."
   ]
  },
  {
   "cell_type": "code",
   "execution_count": 121,
   "metadata": {
    "scrolled": true
   },
   "outputs": [],
   "source": [
    "credit['days_employed'] = credit['days_employed'].abs()\n",
    "years_employed = years_employed.abs()"
   ]
  },
  {
   "cell_type": "code",
   "execution_count": 122,
   "metadata": {},
   "outputs": [
    {
     "data": {
      "text/plain": [
       "0      23.116912\n",
       "1      11.026860\n",
       "2      15.406637\n",
       "3      11.300677\n",
       "4     932.235814\n",
       "5       2.537495\n",
       "6       7.888225\n",
       "7       0.418574\n",
       "8      18.985932\n",
       "9       5.996593\n",
       "10     11.428722\n",
       "11      2.171786\n",
       "12           NaN\n",
       "13      5.059293\n",
       "14      5.054674\n",
       "Name: days_employed, dtype: float64"
      ]
     },
     "execution_count": 122,
     "metadata": {},
     "output_type": "execute_result"
    }
   ],
   "source": [
    "years_employed.head(15)"
   ]
  },
  {
   "cell_type": "markdown",
   "metadata": {},
   "source": [
    "Se analizará si se cuenta con alguna edad de cliente que no sea posible, de ser cierto, se corregirá"
   ]
  },
  {
   "cell_type": "code",
   "execution_count": 123,
   "metadata": {
    "scrolled": true
   },
   "outputs": [
    {
     "name": "stdout",
     "output_type": "stream",
     "text": [
      "35    617\n",
      "40    609\n",
      "41    607\n",
      "34    603\n",
      "38    598\n",
      "42    597\n",
      "33    581\n",
      "39    573\n",
      "31    560\n",
      "36    555\n",
      "44    547\n",
      "29    545\n",
      "30    540\n",
      "48    538\n",
      "37    537\n",
      "50    514\n",
      "43    513\n",
      "32    510\n",
      "49    508\n",
      "28    503\n",
      "45    497\n",
      "27    493\n",
      "56    487\n",
      "52    484\n",
      "47    480\n",
      "54    479\n",
      "46    475\n",
      "58    461\n",
      "57    460\n",
      "53    459\n",
      "51    448\n",
      "59    444\n",
      "55    443\n",
      "26    408\n",
      "60    377\n",
      "25    357\n",
      "61    355\n",
      "62    352\n",
      "63    269\n",
      "64    265\n",
      "24    264\n",
      "23    254\n",
      "65    194\n",
      "22    183\n",
      "66    183\n",
      "67    167\n",
      "21    111\n",
      "0     101\n",
      "68     99\n",
      "69     85\n",
      "70     65\n",
      "71     58\n",
      "20     51\n",
      "72     33\n",
      "19     14\n",
      "73      8\n",
      "74      6\n",
      "75      1\n",
      "Name: dob_years, dtype: int64\n",
      "0.010838189056648316 %\n"
     ]
    }
   ],
   "source": [
    "print(credit['dob_years'].value_counts())\n",
    "print((sum(credit.dob_years == 0) / sum(credit.dob_years)* 100),'%')"
   ]
  },
  {
   "cell_type": "markdown",
   "metadata": {},
   "source": [
    "Se encontró un dato con valor de 0 y hay 101 entradas con este valor los cuales son equivalente al 0.01% del total de los datos. Para solucionarlo, se reemplazaran por la media de los datos ya que no se encuentran datos críticos."
   ]
  },
  {
   "cell_type": "code",
   "execution_count": 124,
   "metadata": {},
   "outputs": [],
   "source": [
    "credit['dob_years'] = credit['dob_years'].replace(0, int(credit['dob_years'].mean()))\n"
   ]
  },
  {
   "cell_type": "code",
   "execution_count": 125,
   "metadata": {},
   "outputs": [
    {
     "name": "stdout",
     "output_type": "stream",
     "text": [
      "35    617\n",
      "43    614\n",
      "40    609\n",
      "41    607\n",
      "34    603\n",
      "38    598\n",
      "42    597\n",
      "33    581\n",
      "39    573\n",
      "31    560\n",
      "36    555\n",
      "44    547\n",
      "29    545\n",
      "30    540\n",
      "48    538\n",
      "37    537\n",
      "50    514\n",
      "32    510\n",
      "49    508\n",
      "28    503\n",
      "45    497\n",
      "27    493\n",
      "56    487\n",
      "52    484\n",
      "47    480\n",
      "54    479\n",
      "46    475\n",
      "58    461\n",
      "57    460\n",
      "53    459\n",
      "51    448\n",
      "59    444\n",
      "55    443\n",
      "26    408\n",
      "60    377\n",
      "25    357\n",
      "61    355\n",
      "62    352\n",
      "63    269\n",
      "64    265\n",
      "24    264\n",
      "23    254\n",
      "65    194\n",
      "66    183\n",
      "22    183\n",
      "67    167\n",
      "21    111\n",
      "68     99\n",
      "69     85\n",
      "70     65\n",
      "71     58\n",
      "20     51\n",
      "72     33\n",
      "19     14\n",
      "73      8\n",
      "74      6\n",
      "75      1\n",
      "Name: dob_years, dtype: int64\n"
     ]
    }
   ],
   "source": [
    "print(credit['dob_years'].value_counts())\n"
   ]
  },
  {
   "cell_type": "markdown",
   "metadata": {},
   "source": [
    "Ahora revisemos la columna `family_status`"
   ]
  },
  {
   "cell_type": "code",
   "execution_count": 126,
   "metadata": {},
   "outputs": [
    {
     "name": "stdout",
     "output_type": "stream",
     "text": [
      "married              12380\n",
      "civil partnership     4177\n",
      "unmarried             2813\n",
      "divorced              1195\n",
      "widow / widower        960\n",
      "Name: family_status, dtype: int64 0    12380\n",
      "1     4177\n",
      "4     2813\n",
      "3     1195\n",
      "2      960\n",
      "Name: family_status_id, dtype: int64\n",
      "\n"
     ]
    },
    {
     "data": {
      "text/plain": [
       "21525"
      ]
     },
     "execution_count": 126,
     "metadata": {},
     "output_type": "execute_result"
    }
   ],
   "source": [
    "print(credit['family_status'].value_counts(), credit['family_status_id'].value_counts())\n",
    "print()\n",
    "credit['family_status'].isna().count()"
   ]
  },
  {
   "cell_type": "code",
   "execution_count": 127,
   "metadata": {},
   "outputs": [
    {
     "data": {
      "text/plain": [
       "family_status      family_status_id\n",
       "married            0                   12380\n",
       "civil partnership  1                    4177\n",
       "unmarried          4                    2813\n",
       "divorced           3                    1195\n",
       "widow / widower    2                     960\n",
       "dtype: int64"
      ]
     },
     "execution_count": 127,
     "metadata": {},
     "output_type": "execute_result"
    }
   ],
   "source": [
    "credit.loc[:, ['family_status', 'family_status_id']].value_counts()"
   ]
  },
  {
   "cell_type": "markdown",
   "metadata": {},
   "source": [
    "Las columnas `family_status` y `family_status_id` parecen estar libres de problemas.\n",
    "\n",
    "En el caso de la columna `gender` se tendrá que tomar en cuenta que si hay más de dos variables, se transformarán esos datos utilizando la moda para determinar su valor final."
   ]
  },
  {
   "cell_type": "code",
   "execution_count": 128,
   "metadata": {},
   "outputs": [
    {
     "data": {
      "text/plain": [
       "F      14236\n",
       "M       7288\n",
       "XNA        1\n",
       "Name: gender, dtype: int64"
      ]
     },
     "execution_count": 128,
     "metadata": {},
     "output_type": "execute_result"
    }
   ],
   "source": [
    "credit['gender'].value_counts()"
   ]
  },
  {
   "cell_type": "code",
   "execution_count": 129,
   "metadata": {},
   "outputs": [
    {
     "data": {
      "text/plain": [
       "0    F\n",
       "dtype: object"
      ]
     },
     "execution_count": 129,
     "metadata": {},
     "output_type": "execute_result"
    }
   ],
   "source": [
    "credit['gender'].mode()"
   ]
  },
  {
   "cell_type": "code",
   "execution_count": 130,
   "metadata": {},
   "outputs": [],
   "source": [
    "credit['gender'] = credit['gender'].replace('XNA', 'F')"
   ]
  },
  {
   "cell_type": "code",
   "execution_count": 131,
   "metadata": {},
   "outputs": [
    {
     "data": {
      "text/plain": [
       "F    14237\n",
       "M     7288\n",
       "Name: gender, dtype: int64"
      ]
     },
     "execution_count": 131,
     "metadata": {},
     "output_type": "execute_result"
    }
   ],
   "source": [
    "credit['gender'].value_counts()"
   ]
  },
  {
   "cell_type": "markdown",
   "metadata": {},
   "source": [
    "Ahora se revisará la columna `income_type`."
   ]
  },
  {
   "cell_type": "code",
   "execution_count": 132,
   "metadata": {},
   "outputs": [
    {
     "name": "stdout",
     "output_type": "stream",
     "text": [
      "employee                       11119\n",
      "business                        5085\n",
      "retiree                         3856\n",
      "civil servant                   1459\n",
      "unemployed                         2\n",
      "entrepreneur                       2\n",
      "student                            1\n",
      "paternity / maternity leave        1\n",
      "Name: income_type, dtype: int64\n",
      "\n"
     ]
    },
    {
     "data": {
      "text/plain": [
       "21525"
      ]
     },
     "execution_count": 132,
     "metadata": {},
     "output_type": "execute_result"
    }
   ],
   "source": [
    "print(credit['income_type'].value_counts())\n",
    "print()\n",
    "credit['income_type'].isna().count()"
   ]
  },
  {
   "cell_type": "markdown",
   "metadata": {},
   "source": [
    "No se encontraron errores en `income_type`"
   ]
  },
  {
   "cell_type": "markdown",
   "metadata": {},
   "source": [
    "Por la naturaleza de la tabla y los datos en ella, habrá miles de duplicados sin embargo, eso no significa que deban de ser cambiados o borrados ya que habrá muchas personas con el dato `married`, con un hijo y que tengan 50 años, por ejemplo:"
   ]
  },
  {
   "cell_type": "code",
   "execution_count": 133,
   "metadata": {},
   "outputs": [
    {
     "data": {
      "text/html": [
       "<div><div id=f31eec68-3d12-4fd8-a9b4-f87b50a221f9 style=\"display:none; background-color:#9D6CFF; color:white; width:200px; height:30px; padding-left:5px; border-radius:4px; flex-direction:row; justify-content:space-around; align-items:center;\" onmouseover=\"this.style.backgroundColor='#BA9BF8'\" onmouseout=\"this.style.backgroundColor='#9D6CFF'\" onclick=\"window.commands?.execute('create-mitosheet-from-dataframe-output');\">See Full Dataframe in Mito</div> <script> if (window.commands.hasCommand('create-mitosheet-from-dataframe-output')) document.getElementById('f31eec68-3d12-4fd8-a9b4-f87b50a221f9').style.display = 'flex' </script> <table border=\"1\" class=\"dataframe\">\n",
       "  <thead>\n",
       "    <tr style=\"text-align: right;\">\n",
       "      <th></th>\n",
       "      <th>children</th>\n",
       "      <th>days_employed</th>\n",
       "      <th>dob_years</th>\n",
       "      <th>education</th>\n",
       "      <th>education_id</th>\n",
       "      <th>family_status</th>\n",
       "      <th>family_status_id</th>\n",
       "      <th>gender</th>\n",
       "      <th>income_type</th>\n",
       "      <th>debt</th>\n",
       "      <th>total_income</th>\n",
       "      <th>purpose</th>\n",
       "    </tr>\n",
       "  </thead>\n",
       "  <tbody>\n",
       "    <tr>\n",
       "      <th>116</th>\n",
       "      <td>1</td>\n",
       "      <td>540.038425</td>\n",
       "      <td>50</td>\n",
       "      <td>secondary education</td>\n",
       "      <td>1</td>\n",
       "      <td>married</td>\n",
       "      <td>0</td>\n",
       "      <td>M</td>\n",
       "      <td>employee</td>\n",
       "      <td>0</td>\n",
       "      <td>13338.611</td>\n",
       "      <td>buy residential real estate</td>\n",
       "    </tr>\n",
       "    <tr>\n",
       "      <th>233</th>\n",
       "      <td>1</td>\n",
       "      <td>1475.697490</td>\n",
       "      <td>50</td>\n",
       "      <td>secondary education</td>\n",
       "      <td>1</td>\n",
       "      <td>married</td>\n",
       "      <td>0</td>\n",
       "      <td>F</td>\n",
       "      <td>employee</td>\n",
       "      <td>0</td>\n",
       "      <td>22942.571</td>\n",
       "      <td>to buy a car</td>\n",
       "    </tr>\n",
       "    <tr>\n",
       "      <th>570</th>\n",
       "      <td>1</td>\n",
       "      <td>3806.562913</td>\n",
       "      <td>50</td>\n",
       "      <td>secondary education</td>\n",
       "      <td>1</td>\n",
       "      <td>married</td>\n",
       "      <td>0</td>\n",
       "      <td>M</td>\n",
       "      <td>employee</td>\n",
       "      <td>0</td>\n",
       "      <td>23409.661</td>\n",
       "      <td>building a real estate</td>\n",
       "    </tr>\n",
       "    <tr>\n",
       "      <th>705</th>\n",
       "      <td>1</td>\n",
       "      <td>902.084528</td>\n",
       "      <td>50</td>\n",
       "      <td>secondary education</td>\n",
       "      <td>1</td>\n",
       "      <td>married</td>\n",
       "      <td>0</td>\n",
       "      <td>F</td>\n",
       "      <td>civil servant</td>\n",
       "      <td>0</td>\n",
       "      <td>22061.264</td>\n",
       "      <td>car purchase</td>\n",
       "    </tr>\n",
       "    <tr>\n",
       "      <th>877</th>\n",
       "      <td>1</td>\n",
       "      <td>558.262799</td>\n",
       "      <td>50</td>\n",
       "      <td>secondary education</td>\n",
       "      <td>1</td>\n",
       "      <td>married</td>\n",
       "      <td>0</td>\n",
       "      <td>M</td>\n",
       "      <td>business</td>\n",
       "      <td>0</td>\n",
       "      <td>36210.807</td>\n",
       "      <td>housing renovation</td>\n",
       "    </tr>\n",
       "    <tr>\n",
       "      <th>...</th>\n",
       "      <td>...</td>\n",
       "      <td>...</td>\n",
       "      <td>...</td>\n",
       "      <td>...</td>\n",
       "      <td>...</td>\n",
       "      <td>...</td>\n",
       "      <td>...</td>\n",
       "      <td>...</td>\n",
       "      <td>...</td>\n",
       "      <td>...</td>\n",
       "      <td>...</td>\n",
       "      <td>...</td>\n",
       "    </tr>\n",
       "    <tr>\n",
       "      <th>18669</th>\n",
       "      <td>1</td>\n",
       "      <td>1953.777603</td>\n",
       "      <td>50</td>\n",
       "      <td>secondary education</td>\n",
       "      <td>1</td>\n",
       "      <td>married</td>\n",
       "      <td>0</td>\n",
       "      <td>F</td>\n",
       "      <td>civil servant</td>\n",
       "      <td>0</td>\n",
       "      <td>4672.012</td>\n",
       "      <td>cars</td>\n",
       "    </tr>\n",
       "    <tr>\n",
       "      <th>19661</th>\n",
       "      <td>1</td>\n",
       "      <td>335525.912971</td>\n",
       "      <td>50</td>\n",
       "      <td>secondary education</td>\n",
       "      <td>1</td>\n",
       "      <td>married</td>\n",
       "      <td>0</td>\n",
       "      <td>F</td>\n",
       "      <td>retiree</td>\n",
       "      <td>0</td>\n",
       "      <td>25147.636</td>\n",
       "      <td>buy residential real estate</td>\n",
       "    </tr>\n",
       "    <tr>\n",
       "      <th>19679</th>\n",
       "      <td>1</td>\n",
       "      <td>3924.380059</td>\n",
       "      <td>50</td>\n",
       "      <td>secondary education</td>\n",
       "      <td>1</td>\n",
       "      <td>married</td>\n",
       "      <td>0</td>\n",
       "      <td>M</td>\n",
       "      <td>civil servant</td>\n",
       "      <td>0</td>\n",
       "      <td>16681.436</td>\n",
       "      <td>property</td>\n",
       "    </tr>\n",
       "    <tr>\n",
       "      <th>20463</th>\n",
       "      <td>1</td>\n",
       "      <td>3376.486227</td>\n",
       "      <td>50</td>\n",
       "      <td>secondary education</td>\n",
       "      <td>1</td>\n",
       "      <td>married</td>\n",
       "      <td>0</td>\n",
       "      <td>F</td>\n",
       "      <td>civil servant</td>\n",
       "      <td>0</td>\n",
       "      <td>24139.713</td>\n",
       "      <td>purchase of my own house</td>\n",
       "    </tr>\n",
       "    <tr>\n",
       "      <th>21387</th>\n",
       "      <td>1</td>\n",
       "      <td>75.897403</td>\n",
       "      <td>50</td>\n",
       "      <td>secondary education</td>\n",
       "      <td>1</td>\n",
       "      <td>married</td>\n",
       "      <td>0</td>\n",
       "      <td>F</td>\n",
       "      <td>business</td>\n",
       "      <td>0</td>\n",
       "      <td>27918.787</td>\n",
       "      <td>housing</td>\n",
       "    </tr>\n",
       "  </tbody>\n",
       "</table></div>"
      ],
      "text/plain": [
       "       children  days_employed  dob_years            education  education_id  \\\n",
       "116           1     540.038425         50  secondary education             1   \n",
       "233           1    1475.697490         50  secondary education             1   \n",
       "570           1    3806.562913         50  secondary education             1   \n",
       "705           1     902.084528         50  secondary education             1   \n",
       "877           1     558.262799         50  secondary education             1   \n",
       "...         ...            ...        ...                  ...           ...   \n",
       "18669         1    1953.777603         50  secondary education             1   \n",
       "19661         1  335525.912971         50  secondary education             1   \n",
       "19679         1    3924.380059         50  secondary education             1   \n",
       "20463         1    3376.486227         50  secondary education             1   \n",
       "21387         1      75.897403         50  secondary education             1   \n",
       "\n",
       "      family_status  family_status_id gender    income_type  debt  \\\n",
       "116         married                 0      M       employee     0   \n",
       "233         married                 0      F       employee     0   \n",
       "570         married                 0      M       employee     0   \n",
       "705         married                 0      F  civil servant     0   \n",
       "877         married                 0      M       business     0   \n",
       "...             ...               ...    ...            ...   ...   \n",
       "18669       married                 0      F  civil servant     0   \n",
       "19661       married                 0      F        retiree     0   \n",
       "19679       married                 0      M  civil servant     0   \n",
       "20463       married                 0      F  civil servant     0   \n",
       "21387       married                 0      F       business     0   \n",
       "\n",
       "       total_income                      purpose  \n",
       "116       13338.611  buy residential real estate  \n",
       "233       22942.571                 to buy a car  \n",
       "570       23409.661       building a real estate  \n",
       "705       22061.264                 car purchase  \n",
       "877       36210.807           housing renovation  \n",
       "...             ...                          ...  \n",
       "18669      4672.012                         cars  \n",
       "19661     25147.636  buy residential real estate  \n",
       "19679     16681.436                     property  \n",
       "20463     24139.713     purchase of my own house  \n",
       "21387     27918.787                      housing  \n",
       "\n",
       "[62 rows x 12 columns]"
      ]
     },
     "execution_count": 133,
     "metadata": {},
     "output_type": "execute_result"
    }
   ],
   "source": [
    "credit[credit['family_status'].str.contains('married') & (credit['dob_years'] == 50) & (credit['children'] == 1)]"
   ]
  },
  {
   "cell_type": "markdown",
   "metadata": {},
   "source": [
    "En el ejemplo anterior se muestra una de las muchas casualidades y \"duplicados\" que puede llegar a haber en la tabla. Los datos más importantes para determinar si existen realmente duplicados son las columnas `days_employed` y `total_income`."
   ]
  },
  {
   "cell_type": "code",
   "execution_count": 134,
   "metadata": {},
   "outputs": [
    {
     "data": {
      "text/html": [
       "<div><div id=cbd4de8d-f494-4300-a7a2-aa48153491ea style=\"display:none; background-color:#9D6CFF; color:white; width:200px; height:30px; padding-left:5px; border-radius:4px; flex-direction:row; justify-content:space-around; align-items:center;\" onmouseover=\"this.style.backgroundColor='#BA9BF8'\" onmouseout=\"this.style.backgroundColor='#9D6CFF'\" onclick=\"window.commands?.execute('create-mitosheet-from-dataframe-output');\">See Full Dataframe in Mito</div> <script> if (window.commands.hasCommand('create-mitosheet-from-dataframe-output')) document.getElementById('cbd4de8d-f494-4300-a7a2-aa48153491ea').style.display = 'flex' </script> <table border=\"1\" class=\"dataframe\">\n",
       "  <thead>\n",
       "    <tr style=\"text-align: right;\">\n",
       "      <th></th>\n",
       "      <th>children</th>\n",
       "      <th>days_employed</th>\n",
       "      <th>dob_years</th>\n",
       "      <th>education</th>\n",
       "      <th>education_id</th>\n",
       "      <th>family_status</th>\n",
       "      <th>family_status_id</th>\n",
       "      <th>gender</th>\n",
       "      <th>income_type</th>\n",
       "      <th>debt</th>\n",
       "      <th>total_income</th>\n",
       "      <th>purpose</th>\n",
       "      <th>size</th>\n",
       "    </tr>\n",
       "  </thead>\n",
       "  <tbody>\n",
       "    <tr>\n",
       "      <th>0</th>\n",
       "      <td>0</td>\n",
       "      <td>24.240695</td>\n",
       "      <td>32</td>\n",
       "      <td>bachelor's degree</td>\n",
       "      <td>0</td>\n",
       "      <td>unmarried</td>\n",
       "      <td>4</td>\n",
       "      <td>M</td>\n",
       "      <td>employee</td>\n",
       "      <td>0</td>\n",
       "      <td>19858.460</td>\n",
       "      <td>to get a supplementary education</td>\n",
       "      <td>1</td>\n",
       "    </tr>\n",
       "    <tr>\n",
       "      <th>1</th>\n",
       "      <td>0</td>\n",
       "      <td>33.520665</td>\n",
       "      <td>43</td>\n",
       "      <td>secondary education</td>\n",
       "      <td>1</td>\n",
       "      <td>unmarried</td>\n",
       "      <td>4</td>\n",
       "      <td>M</td>\n",
       "      <td>employee</td>\n",
       "      <td>1</td>\n",
       "      <td>20568.944</td>\n",
       "      <td>car purchase</td>\n",
       "      <td>1</td>\n",
       "    </tr>\n",
       "    <tr>\n",
       "      <th>2</th>\n",
       "      <td>0</td>\n",
       "      <td>39.954170</td>\n",
       "      <td>34</td>\n",
       "      <td>bachelor's degree</td>\n",
       "      <td>0</td>\n",
       "      <td>married</td>\n",
       "      <td>0</td>\n",
       "      <td>F</td>\n",
       "      <td>civil servant</td>\n",
       "      <td>0</td>\n",
       "      <td>15562.363</td>\n",
       "      <td>housing</td>\n",
       "      <td>1</td>\n",
       "    </tr>\n",
       "    <tr>\n",
       "      <th>3</th>\n",
       "      <td>0</td>\n",
       "      <td>47.109840</td>\n",
       "      <td>49</td>\n",
       "      <td>bachelor's degree</td>\n",
       "      <td>0</td>\n",
       "      <td>married</td>\n",
       "      <td>0</td>\n",
       "      <td>F</td>\n",
       "      <td>employee</td>\n",
       "      <td>0</td>\n",
       "      <td>31607.243</td>\n",
       "      <td>buying a second-hand car</td>\n",
       "      <td>1</td>\n",
       "    </tr>\n",
       "    <tr>\n",
       "      <th>4</th>\n",
       "      <td>0</td>\n",
       "      <td>50.128298</td>\n",
       "      <td>43</td>\n",
       "      <td>secondary education</td>\n",
       "      <td>1</td>\n",
       "      <td>civil partnership</td>\n",
       "      <td>1</td>\n",
       "      <td>F</td>\n",
       "      <td>business</td>\n",
       "      <td>0</td>\n",
       "      <td>15901.112</td>\n",
       "      <td>having a wedding</td>\n",
       "      <td>1</td>\n",
       "    </tr>\n",
       "    <tr>\n",
       "      <th>...</th>\n",
       "      <td>...</td>\n",
       "      <td>...</td>\n",
       "      <td>...</td>\n",
       "      <td>...</td>\n",
       "      <td>...</td>\n",
       "      <td>...</td>\n",
       "      <td>...</td>\n",
       "      <td>...</td>\n",
       "      <td>...</td>\n",
       "      <td>...</td>\n",
       "      <td>...</td>\n",
       "      <td>...</td>\n",
       "      <td>...</td>\n",
       "    </tr>\n",
       "    <tr>\n",
       "      <th>19346</th>\n",
       "      <td>5</td>\n",
       "      <td>773.124856</td>\n",
       "      <td>36</td>\n",
       "      <td>secondary education</td>\n",
       "      <td>1</td>\n",
       "      <td>married</td>\n",
       "      <td>0</td>\n",
       "      <td>F</td>\n",
       "      <td>employee</td>\n",
       "      <td>0</td>\n",
       "      <td>7803.663</td>\n",
       "      <td>housing transactions</td>\n",
       "      <td>1</td>\n",
       "    </tr>\n",
       "    <tr>\n",
       "      <th>19347</th>\n",
       "      <td>5</td>\n",
       "      <td>1690.018117</td>\n",
       "      <td>59</td>\n",
       "      <td>secondary education</td>\n",
       "      <td>1</td>\n",
       "      <td>married</td>\n",
       "      <td>0</td>\n",
       "      <td>M</td>\n",
       "      <td>employee</td>\n",
       "      <td>0</td>\n",
       "      <td>43050.936</td>\n",
       "      <td>transactions with my real estate</td>\n",
       "      <td>1</td>\n",
       "    </tr>\n",
       "    <tr>\n",
       "      <th>19348</th>\n",
       "      <td>5</td>\n",
       "      <td>2286.262752</td>\n",
       "      <td>37</td>\n",
       "      <td>secondary education</td>\n",
       "      <td>1</td>\n",
       "      <td>married</td>\n",
       "      <td>0</td>\n",
       "      <td>F</td>\n",
       "      <td>employee</td>\n",
       "      <td>0</td>\n",
       "      <td>41071.736</td>\n",
       "      <td>buy real estate</td>\n",
       "      <td>1</td>\n",
       "    </tr>\n",
       "    <tr>\n",
       "      <th>19349</th>\n",
       "      <td>5</td>\n",
       "      <td>2386.600221</td>\n",
       "      <td>35</td>\n",
       "      <td>secondary education</td>\n",
       "      <td>1</td>\n",
       "      <td>married</td>\n",
       "      <td>0</td>\n",
       "      <td>F</td>\n",
       "      <td>business</td>\n",
       "      <td>0</td>\n",
       "      <td>32678.703</td>\n",
       "      <td>housing</td>\n",
       "      <td>1</td>\n",
       "    </tr>\n",
       "    <tr>\n",
       "      <th>19350</th>\n",
       "      <td>5</td>\n",
       "      <td>3248.839837</td>\n",
       "      <td>36</td>\n",
       "      <td>secondary education</td>\n",
       "      <td>1</td>\n",
       "      <td>married</td>\n",
       "      <td>0</td>\n",
       "      <td>F</td>\n",
       "      <td>business</td>\n",
       "      <td>0</td>\n",
       "      <td>26953.748</td>\n",
       "      <td>real estate transactions</td>\n",
       "      <td>1</td>\n",
       "    </tr>\n",
       "  </tbody>\n",
       "</table></div>"
      ],
      "text/plain": [
       "       children  days_employed  dob_years            education  education_id  \\\n",
       "0             0      24.240695         32    bachelor's degree             0   \n",
       "1             0      33.520665         43  secondary education             1   \n",
       "2             0      39.954170         34    bachelor's degree             0   \n",
       "3             0      47.109840         49    bachelor's degree             0   \n",
       "4             0      50.128298         43  secondary education             1   \n",
       "...         ...            ...        ...                  ...           ...   \n",
       "19346         5     773.124856         36  secondary education             1   \n",
       "19347         5    1690.018117         59  secondary education             1   \n",
       "19348         5    2286.262752         37  secondary education             1   \n",
       "19349         5    2386.600221         35  secondary education             1   \n",
       "19350         5    3248.839837         36  secondary education             1   \n",
       "\n",
       "           family_status  family_status_id gender    income_type  debt  \\\n",
       "0              unmarried                 4      M       employee     0   \n",
       "1              unmarried                 4      M       employee     1   \n",
       "2                married                 0      F  civil servant     0   \n",
       "3                married                 0      F       employee     0   \n",
       "4      civil partnership                 1      F       business     0   \n",
       "...                  ...               ...    ...            ...   ...   \n",
       "19346            married                 0      F       employee     0   \n",
       "19347            married                 0      M       employee     0   \n",
       "19348            married                 0      F       employee     0   \n",
       "19349            married                 0      F       business     0   \n",
       "19350            married                 0      F       business     0   \n",
       "\n",
       "       total_income                           purpose  size  \n",
       "0         19858.460  to get a supplementary education     1  \n",
       "1         20568.944                      car purchase     1  \n",
       "2         15562.363                           housing     1  \n",
       "3         31607.243          buying a second-hand car     1  \n",
       "4         15901.112                  having a wedding     1  \n",
       "...             ...                               ...   ...  \n",
       "19346      7803.663              housing transactions     1  \n",
       "19347     43050.936  transactions with my real estate     1  \n",
       "19348     41071.736                   buy real estate     1  \n",
       "19349     32678.703                           housing     1  \n",
       "19350     26953.748          real estate transactions     1  \n",
       "\n",
       "[19351 rows x 13 columns]"
      ]
     },
     "execution_count": 134,
     "metadata": {},
     "output_type": "execute_result"
    }
   ],
   "source": [
    "credit_size = credit.groupby(credit.columns.tolist(), as_index = False).size()\n",
    "credit_size"
   ]
  },
  {
   "cell_type": "code",
   "execution_count": 135,
   "metadata": {},
   "outputs": [
    {
     "name": "stdout",
     "output_type": "stream",
     "text": [
      "1    19351\n",
      "Name: size, dtype: int64\n",
      "\n"
     ]
    },
    {
     "data": {
      "text/plain": [
       "children            19351\n",
       "days_employed       19351\n",
       "dob_years           19351\n",
       "education           19351\n",
       "education_id        19351\n",
       "family_status       19351\n",
       "family_status_id    19351\n",
       "gender              19351\n",
       "income_type         19351\n",
       "debt                19351\n",
       "total_income        19351\n",
       "purpose             19351\n",
       "size                19351\n",
       "dtype: int64"
      ]
     },
     "execution_count": 135,
     "metadata": {},
     "output_type": "execute_result"
    }
   ],
   "source": [
    "print(credit_size['size'].value_counts())\n",
    "print()\n",
    "credit_size.count()"
   ]
  },
  {
   "cell_type": "code",
   "execution_count": 136,
   "metadata": {},
   "outputs": [
    {
     "data": {
      "text/html": [
       "<div><div id=9ba00a5c-e194-4b9f-8a8c-3d2af994ee4d style=\"display:none; background-color:#9D6CFF; color:white; width:200px; height:30px; padding-left:5px; border-radius:4px; flex-direction:row; justify-content:space-around; align-items:center;\" onmouseover=\"this.style.backgroundColor='#BA9BF8'\" onmouseout=\"this.style.backgroundColor='#9D6CFF'\" onclick=\"window.commands?.execute('create-mitosheet-from-dataframe-output');\">See Full Dataframe in Mito</div> <script> if (window.commands.hasCommand('create-mitosheet-from-dataframe-output')) document.getElementById('9ba00a5c-e194-4b9f-8a8c-3d2af994ee4d').style.display = 'flex' </script> <table border=\"1\" class=\"dataframe\">\n",
       "  <thead>\n",
       "    <tr style=\"text-align: right;\">\n",
       "      <th></th>\n",
       "      <th>children</th>\n",
       "      <th>days_employed</th>\n",
       "      <th>dob_years</th>\n",
       "      <th>education</th>\n",
       "      <th>education_id</th>\n",
       "      <th>family_status</th>\n",
       "      <th>family_status_id</th>\n",
       "      <th>gender</th>\n",
       "      <th>income_type</th>\n",
       "      <th>debt</th>\n",
       "      <th>total_income</th>\n",
       "      <th>purpose</th>\n",
       "    </tr>\n",
       "  </thead>\n",
       "  <tbody>\n",
       "    <tr>\n",
       "      <th>20297</th>\n",
       "      <td>1</td>\n",
       "      <td>NaN</td>\n",
       "      <td>23</td>\n",
       "      <td>secondary education</td>\n",
       "      <td>1</td>\n",
       "      <td>civil partnership</td>\n",
       "      <td>1</td>\n",
       "      <td>F</td>\n",
       "      <td>employee</td>\n",
       "      <td>0</td>\n",
       "      <td>NaN</td>\n",
       "      <td>to have a wedding</td>\n",
       "    </tr>\n",
       "    <tr>\n",
       "      <th>19321</th>\n",
       "      <td>0</td>\n",
       "      <td>NaN</td>\n",
       "      <td>23</td>\n",
       "      <td>secondary education</td>\n",
       "      <td>1</td>\n",
       "      <td>unmarried</td>\n",
       "      <td>4</td>\n",
       "      <td>F</td>\n",
       "      <td>employee</td>\n",
       "      <td>0</td>\n",
       "      <td>NaN</td>\n",
       "      <td>second-hand car purchase</td>\n",
       "    </tr>\n",
       "    <tr>\n",
       "      <th>18328</th>\n",
       "      <td>0</td>\n",
       "      <td>NaN</td>\n",
       "      <td>29</td>\n",
       "      <td>bachelor's degree</td>\n",
       "      <td>0</td>\n",
       "      <td>married</td>\n",
       "      <td>0</td>\n",
       "      <td>M</td>\n",
       "      <td>employee</td>\n",
       "      <td>0</td>\n",
       "      <td>NaN</td>\n",
       "      <td>buy residential real estate</td>\n",
       "    </tr>\n",
       "    <tr>\n",
       "      <th>18349</th>\n",
       "      <td>1</td>\n",
       "      <td>NaN</td>\n",
       "      <td>30</td>\n",
       "      <td>bachelor's degree</td>\n",
       "      <td>0</td>\n",
       "      <td>married</td>\n",
       "      <td>0</td>\n",
       "      <td>F</td>\n",
       "      <td>civil servant</td>\n",
       "      <td>0</td>\n",
       "      <td>NaN</td>\n",
       "      <td>purchase of the house for my family</td>\n",
       "    </tr>\n",
       "    <tr>\n",
       "      <th>21281</th>\n",
       "      <td>1</td>\n",
       "      <td>NaN</td>\n",
       "      <td>30</td>\n",
       "      <td>bachelor's degree</td>\n",
       "      <td>0</td>\n",
       "      <td>married</td>\n",
       "      <td>0</td>\n",
       "      <td>F</td>\n",
       "      <td>employee</td>\n",
       "      <td>0</td>\n",
       "      <td>NaN</td>\n",
       "      <td>buy commercial real estate</td>\n",
       "    </tr>\n",
       "    <tr>\n",
       "      <th>...</th>\n",
       "      <td>...</td>\n",
       "      <td>...</td>\n",
       "      <td>...</td>\n",
       "      <td>...</td>\n",
       "      <td>...</td>\n",
       "      <td>...</td>\n",
       "      <td>...</td>\n",
       "      <td>...</td>\n",
       "      <td>...</td>\n",
       "      <td>...</td>\n",
       "      <td>...</td>\n",
       "      <td>...</td>\n",
       "    </tr>\n",
       "    <tr>\n",
       "      <th>20702</th>\n",
       "      <td>0</td>\n",
       "      <td>NaN</td>\n",
       "      <td>64</td>\n",
       "      <td>secondary education</td>\n",
       "      <td>1</td>\n",
       "      <td>married</td>\n",
       "      <td>0</td>\n",
       "      <td>F</td>\n",
       "      <td>retiree</td>\n",
       "      <td>0</td>\n",
       "      <td>NaN</td>\n",
       "      <td>supplementary education</td>\n",
       "    </tr>\n",
       "    <tr>\n",
       "      <th>20187</th>\n",
       "      <td>0</td>\n",
       "      <td>NaN</td>\n",
       "      <td>65</td>\n",
       "      <td>secondary education</td>\n",
       "      <td>1</td>\n",
       "      <td>civil partnership</td>\n",
       "      <td>1</td>\n",
       "      <td>F</td>\n",
       "      <td>retiree</td>\n",
       "      <td>0</td>\n",
       "      <td>NaN</td>\n",
       "      <td>to have a wedding</td>\n",
       "    </tr>\n",
       "    <tr>\n",
       "      <th>9528</th>\n",
       "      <td>0</td>\n",
       "      <td>NaN</td>\n",
       "      <td>66</td>\n",
       "      <td>secondary education</td>\n",
       "      <td>1</td>\n",
       "      <td>widow / widower</td>\n",
       "      <td>2</td>\n",
       "      <td>F</td>\n",
       "      <td>retiree</td>\n",
       "      <td>0</td>\n",
       "      <td>NaN</td>\n",
       "      <td>transactions with my real estate</td>\n",
       "    </tr>\n",
       "    <tr>\n",
       "      <th>7938</th>\n",
       "      <td>0</td>\n",
       "      <td>NaN</td>\n",
       "      <td>71</td>\n",
       "      <td>secondary education</td>\n",
       "      <td>1</td>\n",
       "      <td>civil partnership</td>\n",
       "      <td>1</td>\n",
       "      <td>F</td>\n",
       "      <td>retiree</td>\n",
       "      <td>0</td>\n",
       "      <td>NaN</td>\n",
       "      <td>having a wedding</td>\n",
       "    </tr>\n",
       "    <tr>\n",
       "      <th>9604</th>\n",
       "      <td>0</td>\n",
       "      <td>NaN</td>\n",
       "      <td>71</td>\n",
       "      <td>secondary education</td>\n",
       "      <td>1</td>\n",
       "      <td>civil partnership</td>\n",
       "      <td>1</td>\n",
       "      <td>F</td>\n",
       "      <td>retiree</td>\n",
       "      <td>0</td>\n",
       "      <td>NaN</td>\n",
       "      <td>having a wedding</td>\n",
       "    </tr>\n",
       "  </tbody>\n",
       "</table></div>"
      ],
      "text/plain": [
       "       children  days_employed  dob_years            education  education_id  \\\n",
       "20297         1            NaN         23  secondary education             1   \n",
       "19321         0            NaN         23  secondary education             1   \n",
       "18328         0            NaN         29    bachelor's degree             0   \n",
       "18349         1            NaN         30    bachelor's degree             0   \n",
       "21281         1            NaN         30    bachelor's degree             0   \n",
       "...         ...            ...        ...                  ...           ...   \n",
       "20702         0            NaN         64  secondary education             1   \n",
       "20187         0            NaN         65  secondary education             1   \n",
       "9528          0            NaN         66  secondary education             1   \n",
       "7938          0            NaN         71  secondary education             1   \n",
       "9604          0            NaN         71  secondary education             1   \n",
       "\n",
       "           family_status  family_status_id gender    income_type  debt  \\\n",
       "20297  civil partnership                 1      F       employee     0   \n",
       "19321          unmarried                 4      F       employee     0   \n",
       "18328            married                 0      M       employee     0   \n",
       "18349            married                 0      F  civil servant     0   \n",
       "21281            married                 0      F       employee     0   \n",
       "...                  ...               ...    ...            ...   ...   \n",
       "20702            married                 0      F        retiree     0   \n",
       "20187  civil partnership                 1      F        retiree     0   \n",
       "9528     widow / widower                 2      F        retiree     0   \n",
       "7938   civil partnership                 1      F        retiree     0   \n",
       "9604   civil partnership                 1      F        retiree     0   \n",
       "\n",
       "       total_income                              purpose  \n",
       "20297           NaN                    to have a wedding  \n",
       "19321           NaN             second-hand car purchase  \n",
       "18328           NaN          buy residential real estate  \n",
       "18349           NaN  purchase of the house for my family  \n",
       "21281           NaN           buy commercial real estate  \n",
       "...             ...                                  ...  \n",
       "20702           NaN              supplementary education  \n",
       "20187           NaN                    to have a wedding  \n",
       "9528            NaN     transactions with my real estate  \n",
       "7938            NaN                     having a wedding  \n",
       "9604            NaN                     having a wedding  \n",
       "\n",
       "[71 rows x 12 columns]"
      ]
     },
     "execution_count": 136,
     "metadata": {},
     "output_type": "execute_result"
    }
   ],
   "source": [
    "credit[credit.duplicated()].sort_values(by = ['dob_years', 'education', 'family_status'])"
   ]
  },
  {
   "cell_type": "code",
   "execution_count": 137,
   "metadata": {},
   "outputs": [
    {
     "name": "stdout",
     "output_type": "stream",
     "text": [
      "<class 'pandas.core.frame.DataFrame'>\n",
      "RangeIndex: 21525 entries, 0 to 21524\n",
      "Data columns (total 12 columns):\n",
      " #   Column            Non-Null Count  Dtype  \n",
      "---  ------            --------------  -----  \n",
      " 0   children          21525 non-null  int64  \n",
      " 1   days_employed     19351 non-null  float64\n",
      " 2   dob_years         21525 non-null  int64  \n",
      " 3   education         21525 non-null  object \n",
      " 4   education_id      21525 non-null  int64  \n",
      " 5   family_status     21525 non-null  object \n",
      " 6   family_status_id  21525 non-null  int64  \n",
      " 7   gender            21525 non-null  object \n",
      " 8   income_type       21525 non-null  object \n",
      " 9   debt              21525 non-null  int64  \n",
      " 10  total_income      19351 non-null  float64\n",
      " 11  purpose           21525 non-null  object \n",
      "dtypes: float64(2), int64(5), object(5)\n",
      "memory usage: 2.0+ MB\n"
     ]
    }
   ],
   "source": [
    "credit.info()"
   ]
  },
  {
   "cell_type": "code",
   "execution_count": 138,
   "metadata": {},
   "outputs": [
    {
     "data": {
      "text/plain": [
       "0.32984901277584205"
      ]
     },
     "execution_count": 138,
     "metadata": {},
     "output_type": "execute_result"
    }
   ],
   "source": [
    "credit.duplicated().sum()/len(credit)*100"
   ]
  },
  {
   "cell_type": "code",
   "execution_count": 139,
   "metadata": {},
   "outputs": [
    {
     "data": {
      "text/plain": [
       "71"
      ]
     },
     "execution_count": 139,
     "metadata": {},
     "output_type": "execute_result"
    }
   ],
   "source": [
    "credit.duplicated().sum()"
   ]
  },
  {
   "cell_type": "code",
   "execution_count": 140,
   "metadata": {},
   "outputs": [
    {
     "data": {
      "text/plain": [
       "(21454, 12)"
      ]
     },
     "execution_count": 140,
     "metadata": {},
     "output_type": "execute_result"
    }
   ],
   "source": [
    "credit = credit.drop_duplicates().reset_index(drop = True)\n",
    "credit.shape"
   ]
  },
  {
   "cell_type": "markdown",
   "metadata": {},
   "source": [
    "Se comprobró que el DataFrame contaba con 71 datos duplicados los cuales representan el 0.33% de los datos, por esto, se tomó la decisión de utilizar `drop_duplicates` para limpiar los datos"
   ]
  },
  {
   "cell_type": "markdown",
   "metadata": {},
   "source": [
    "### Restaurar valores ausentes en `total_income` <a id='restore_total_income'></a>"
   ]
  },
  {
   "cell_type": "markdown",
   "metadata": {},
   "source": [
    "Como ha sido previamente mencionado, las columnas `total_income` y `days_employed` tienen valores ausentes."
   ]
  },
  {
   "cell_type": "code",
   "execution_count": 141,
   "metadata": {},
   "outputs": [
    {
     "data": {
      "text/html": [
       "<div><div id=519dca76-0331-44e7-a363-ae3d45de6cdb style=\"display:none; background-color:#9D6CFF; color:white; width:200px; height:30px; padding-left:5px; border-radius:4px; flex-direction:row; justify-content:space-around; align-items:center;\" onmouseover=\"this.style.backgroundColor='#BA9BF8'\" onmouseout=\"this.style.backgroundColor='#9D6CFF'\" onclick=\"window.commands?.execute('create-mitosheet-from-dataframe-output');\">See Full Dataframe in Mito</div> <script> if (window.commands.hasCommand('create-mitosheet-from-dataframe-output')) document.getElementById('519dca76-0331-44e7-a363-ae3d45de6cdb').style.display = 'flex' </script> <table border=\"1\" class=\"dataframe\">\n",
       "  <thead>\n",
       "    <tr style=\"text-align: right;\">\n",
       "      <th></th>\n",
       "      <th>children</th>\n",
       "      <th>days_employed</th>\n",
       "      <th>dob_years</th>\n",
       "      <th>education</th>\n",
       "      <th>education_id</th>\n",
       "      <th>family_status</th>\n",
       "      <th>family_status_id</th>\n",
       "      <th>gender</th>\n",
       "      <th>income_type</th>\n",
       "      <th>debt</th>\n",
       "      <th>total_income</th>\n",
       "      <th>purpose</th>\n",
       "    </tr>\n",
       "  </thead>\n",
       "  <tbody>\n",
       "    <tr>\n",
       "      <th>12</th>\n",
       "      <td>0</td>\n",
       "      <td>NaN</td>\n",
       "      <td>65</td>\n",
       "      <td>secondary education</td>\n",
       "      <td>1</td>\n",
       "      <td>civil partnership</td>\n",
       "      <td>1</td>\n",
       "      <td>M</td>\n",
       "      <td>retiree</td>\n",
       "      <td>0</td>\n",
       "      <td>NaN</td>\n",
       "      <td>to have a wedding</td>\n",
       "    </tr>\n",
       "    <tr>\n",
       "      <th>26</th>\n",
       "      <td>0</td>\n",
       "      <td>NaN</td>\n",
       "      <td>41</td>\n",
       "      <td>secondary education</td>\n",
       "      <td>1</td>\n",
       "      <td>married</td>\n",
       "      <td>0</td>\n",
       "      <td>M</td>\n",
       "      <td>civil servant</td>\n",
       "      <td>0</td>\n",
       "      <td>NaN</td>\n",
       "      <td>education</td>\n",
       "    </tr>\n",
       "    <tr>\n",
       "      <th>29</th>\n",
       "      <td>0</td>\n",
       "      <td>NaN</td>\n",
       "      <td>63</td>\n",
       "      <td>secondary education</td>\n",
       "      <td>1</td>\n",
       "      <td>unmarried</td>\n",
       "      <td>4</td>\n",
       "      <td>F</td>\n",
       "      <td>retiree</td>\n",
       "      <td>0</td>\n",
       "      <td>NaN</td>\n",
       "      <td>building a real estate</td>\n",
       "    </tr>\n",
       "    <tr>\n",
       "      <th>41</th>\n",
       "      <td>0</td>\n",
       "      <td>NaN</td>\n",
       "      <td>50</td>\n",
       "      <td>secondary education</td>\n",
       "      <td>1</td>\n",
       "      <td>married</td>\n",
       "      <td>0</td>\n",
       "      <td>F</td>\n",
       "      <td>civil servant</td>\n",
       "      <td>0</td>\n",
       "      <td>NaN</td>\n",
       "      <td>second-hand car purchase</td>\n",
       "    </tr>\n",
       "    <tr>\n",
       "      <th>55</th>\n",
       "      <td>0</td>\n",
       "      <td>NaN</td>\n",
       "      <td>54</td>\n",
       "      <td>secondary education</td>\n",
       "      <td>1</td>\n",
       "      <td>civil partnership</td>\n",
       "      <td>1</td>\n",
       "      <td>F</td>\n",
       "      <td>retiree</td>\n",
       "      <td>1</td>\n",
       "      <td>NaN</td>\n",
       "      <td>to have a wedding</td>\n",
       "    </tr>\n",
       "    <tr>\n",
       "      <th>...</th>\n",
       "      <td>...</td>\n",
       "      <td>...</td>\n",
       "      <td>...</td>\n",
       "      <td>...</td>\n",
       "      <td>...</td>\n",
       "      <td>...</td>\n",
       "      <td>...</td>\n",
       "      <td>...</td>\n",
       "      <td>...</td>\n",
       "      <td>...</td>\n",
       "      <td>...</td>\n",
       "      <td>...</td>\n",
       "    </tr>\n",
       "    <tr>\n",
       "      <th>21418</th>\n",
       "      <td>2</td>\n",
       "      <td>NaN</td>\n",
       "      <td>47</td>\n",
       "      <td>secondary education</td>\n",
       "      <td>1</td>\n",
       "      <td>married</td>\n",
       "      <td>0</td>\n",
       "      <td>M</td>\n",
       "      <td>business</td>\n",
       "      <td>0</td>\n",
       "      <td>NaN</td>\n",
       "      <td>purchase of a car</td>\n",
       "    </tr>\n",
       "    <tr>\n",
       "      <th>21424</th>\n",
       "      <td>1</td>\n",
       "      <td>NaN</td>\n",
       "      <td>50</td>\n",
       "      <td>secondary education</td>\n",
       "      <td>1</td>\n",
       "      <td>civil partnership</td>\n",
       "      <td>1</td>\n",
       "      <td>F</td>\n",
       "      <td>employee</td>\n",
       "      <td>0</td>\n",
       "      <td>NaN</td>\n",
       "      <td>wedding ceremony</td>\n",
       "    </tr>\n",
       "    <tr>\n",
       "      <th>21426</th>\n",
       "      <td>0</td>\n",
       "      <td>NaN</td>\n",
       "      <td>48</td>\n",
       "      <td>bachelor's degree</td>\n",
       "      <td>0</td>\n",
       "      <td>married</td>\n",
       "      <td>0</td>\n",
       "      <td>F</td>\n",
       "      <td>business</td>\n",
       "      <td>0</td>\n",
       "      <td>NaN</td>\n",
       "      <td>building a property</td>\n",
       "    </tr>\n",
       "    <tr>\n",
       "      <th>21431</th>\n",
       "      <td>1</td>\n",
       "      <td>NaN</td>\n",
       "      <td>42</td>\n",
       "      <td>secondary education</td>\n",
       "      <td>1</td>\n",
       "      <td>married</td>\n",
       "      <td>0</td>\n",
       "      <td>F</td>\n",
       "      <td>employee</td>\n",
       "      <td>0</td>\n",
       "      <td>NaN</td>\n",
       "      <td>building a real estate</td>\n",
       "    </tr>\n",
       "    <tr>\n",
       "      <th>21439</th>\n",
       "      <td>2</td>\n",
       "      <td>NaN</td>\n",
       "      <td>28</td>\n",
       "      <td>secondary education</td>\n",
       "      <td>1</td>\n",
       "      <td>married</td>\n",
       "      <td>0</td>\n",
       "      <td>F</td>\n",
       "      <td>employee</td>\n",
       "      <td>0</td>\n",
       "      <td>NaN</td>\n",
       "      <td>car purchase</td>\n",
       "    </tr>\n",
       "  </tbody>\n",
       "</table></div>"
      ],
      "text/plain": [
       "       children  days_employed  dob_years            education  education_id  \\\n",
       "12            0            NaN         65  secondary education             1   \n",
       "26            0            NaN         41  secondary education             1   \n",
       "29            0            NaN         63  secondary education             1   \n",
       "41            0            NaN         50  secondary education             1   \n",
       "55            0            NaN         54  secondary education             1   \n",
       "...         ...            ...        ...                  ...           ...   \n",
       "21418         2            NaN         47  secondary education             1   \n",
       "21424         1            NaN         50  secondary education             1   \n",
       "21426         0            NaN         48    bachelor's degree             0   \n",
       "21431         1            NaN         42  secondary education             1   \n",
       "21439         2            NaN         28  secondary education             1   \n",
       "\n",
       "           family_status  family_status_id gender    income_type  debt  \\\n",
       "12     civil partnership                 1      M        retiree     0   \n",
       "26               married                 0      M  civil servant     0   \n",
       "29             unmarried                 4      F        retiree     0   \n",
       "41               married                 0      F  civil servant     0   \n",
       "55     civil partnership                 1      F        retiree     1   \n",
       "...                  ...               ...    ...            ...   ...   \n",
       "21418            married                 0      M       business     0   \n",
       "21424  civil partnership                 1      F       employee     0   \n",
       "21426            married                 0      F       business     0   \n",
       "21431            married                 0      F       employee     0   \n",
       "21439            married                 0      F       employee     0   \n",
       "\n",
       "       total_income                   purpose  \n",
       "12              NaN         to have a wedding  \n",
       "26              NaN                 education  \n",
       "29              NaN    building a real estate  \n",
       "41              NaN  second-hand car purchase  \n",
       "55              NaN         to have a wedding  \n",
       "...             ...                       ...  \n",
       "21418           NaN         purchase of a car  \n",
       "21424           NaN          wedding ceremony  \n",
       "21426           NaN       building a property  \n",
       "21431           NaN    building a real estate  \n",
       "21439           NaN              car purchase  \n",
       "\n",
       "[2103 rows x 12 columns]"
      ]
     },
     "execution_count": 141,
     "metadata": {},
     "output_type": "execute_result"
    }
   ],
   "source": [
    "credit[credit['total_income'].isnull()]"
   ]
  },
  {
   "cell_type": "markdown",
   "metadata": {},
   "source": [
    "Se comenzará por analizar las columnas con datos más relevantes para este caso. Se utilizará `median` debido a que existen valores atipicos."
   ]
  },
  {
   "cell_type": "code",
   "execution_count": 142,
   "metadata": {},
   "outputs": [
    {
     "data": {
      "text/html": [
       "<div><div id=f96b3c2c-6532-4cd5-b177-00de7315fb82 style=\"display:none; background-color:#9D6CFF; color:white; width:200px; height:30px; padding-left:5px; border-radius:4px; flex-direction:row; justify-content:space-around; align-items:center;\" onmouseover=\"this.style.backgroundColor='#BA9BF8'\" onmouseout=\"this.style.backgroundColor='#9D6CFF'\" onclick=\"window.commands?.execute('create-mitosheet-from-dataframe-output');\">See Full Dataframe in Mito</div> <script> if (window.commands.hasCommand('create-mitosheet-from-dataframe-output')) document.getElementById('f96b3c2c-6532-4cd5-b177-00de7315fb82').style.display = 'flex' </script> <table border=\"1\" class=\"dataframe\">\n",
       "  <thead>\n",
       "    <tr style=\"text-align: right;\">\n",
       "      <th></th>\n",
       "      <th>education</th>\n",
       "      <th>total_income</th>\n",
       "    </tr>\n",
       "  </thead>\n",
       "  <tbody>\n",
       "    <tr>\n",
       "      <th>0</th>\n",
       "      <td>bachelor's degree</td>\n",
       "      <td>28054.5310</td>\n",
       "    </tr>\n",
       "    <tr>\n",
       "      <th>1</th>\n",
       "      <td>graduate degree</td>\n",
       "      <td>25161.5835</td>\n",
       "    </tr>\n",
       "    <tr>\n",
       "      <th>2</th>\n",
       "      <td>primary education</td>\n",
       "      <td>18741.9760</td>\n",
       "    </tr>\n",
       "    <tr>\n",
       "      <th>3</th>\n",
       "      <td>secondary education</td>\n",
       "      <td>21836.5830</td>\n",
       "    </tr>\n",
       "    <tr>\n",
       "      <th>4</th>\n",
       "      <td>some college</td>\n",
       "      <td>25618.4640</td>\n",
       "    </tr>\n",
       "  </tbody>\n",
       "</table></div>"
      ],
      "text/plain": [
       "             education  total_income\n",
       "0    bachelor's degree    28054.5310\n",
       "1      graduate degree    25161.5835\n",
       "2    primary education    18741.9760\n",
       "3  secondary education    21836.5830\n",
       "4         some college    25618.4640"
      ]
     },
     "execution_count": 142,
     "metadata": {},
     "output_type": "execute_result"
    }
   ],
   "source": [
    "education_median = credit.groupby('education').agg({'total_income': 'median'}).reset_index()\n",
    "education_median"
   ]
  },
  {
   "cell_type": "markdown",
   "metadata": {},
   "source": [
    "Es importante notar que en efecto, entre más son los estudios de las personas, más alto es el ingreso total, esto puede ser relevante más adelante. De la misma manera, se analizará si la edad es un factor importante."
   ]
  },
  {
   "cell_type": "code",
   "execution_count": 143,
   "metadata": {},
   "outputs": [
    {
     "name": "stdout",
     "output_type": "stream",
     "text": [
      "   dob_years  total_income\n",
      "0         19    14934.9010\n",
      "1         20    17520.3290\n",
      "2         21    20522.5150\n",
      "3         22    19839.3410\n",
      "4         23    19706.0455\n",
      "5         24    22464.4030\n",
      "6         25    22899.0990\n",
      "7         26    23273.1360\n",
      "8         27    24708.6790\n",
      "9         28    23946.0940\n"
     ]
    },
    {
     "data": {
      "text/html": [
       "<div><div id=dbf1bb27-9192-42ed-8089-33c0a9f5d019 style=\"display:none; background-color:#9D6CFF; color:white; width:200px; height:30px; padding-left:5px; border-radius:4px; flex-direction:row; justify-content:space-around; align-items:center;\" onmouseover=\"this.style.backgroundColor='#BA9BF8'\" onmouseout=\"this.style.backgroundColor='#9D6CFF'\" onclick=\"window.commands?.execute('create-mitosheet-from-dataframe-output');\">See Full Dataframe in Mito</div> <script> if (window.commands.hasCommand('create-mitosheet-from-dataframe-output')) document.getElementById('dbf1bb27-9192-42ed-8089-33c0a9f5d019').style.display = 'flex' </script> <table border=\"1\" class=\"dataframe\">\n",
       "  <thead>\n",
       "    <tr style=\"text-align: right;\">\n",
       "      <th></th>\n",
       "      <th>dob_years</th>\n",
       "      <th>total_income</th>\n",
       "    </tr>\n",
       "  </thead>\n",
       "  <tbody>\n",
       "    <tr>\n",
       "      <th>47</th>\n",
       "      <td>66</td>\n",
       "      <td>17867.7550</td>\n",
       "    </tr>\n",
       "    <tr>\n",
       "      <th>48</th>\n",
       "      <td>67</td>\n",
       "      <td>18024.9680</td>\n",
       "    </tr>\n",
       "    <tr>\n",
       "      <th>49</th>\n",
       "      <td>68</td>\n",
       "      <td>18113.3420</td>\n",
       "    </tr>\n",
       "    <tr>\n",
       "      <th>50</th>\n",
       "      <td>69</td>\n",
       "      <td>16690.0775</td>\n",
       "    </tr>\n",
       "    <tr>\n",
       "      <th>51</th>\n",
       "      <td>70</td>\n",
       "      <td>18889.9720</td>\n",
       "    </tr>\n",
       "    <tr>\n",
       "      <th>52</th>\n",
       "      <td>71</td>\n",
       "      <td>19669.4870</td>\n",
       "    </tr>\n",
       "    <tr>\n",
       "      <th>53</th>\n",
       "      <td>72</td>\n",
       "      <td>17757.6840</td>\n",
       "    </tr>\n",
       "    <tr>\n",
       "      <th>54</th>\n",
       "      <td>73</td>\n",
       "      <td>19070.4780</td>\n",
       "    </tr>\n",
       "    <tr>\n",
       "      <th>55</th>\n",
       "      <td>74</td>\n",
       "      <td>12296.0520</td>\n",
       "    </tr>\n",
       "    <tr>\n",
       "      <th>56</th>\n",
       "      <td>75</td>\n",
       "      <td>24525.2240</td>\n",
       "    </tr>\n",
       "  </tbody>\n",
       "</table></div>"
      ],
      "text/plain": [
       "    dob_years  total_income\n",
       "47         66    17867.7550\n",
       "48         67    18024.9680\n",
       "49         68    18113.3420\n",
       "50         69    16690.0775\n",
       "51         70    18889.9720\n",
       "52         71    19669.4870\n",
       "53         72    17757.6840\n",
       "54         73    19070.4780\n",
       "55         74    12296.0520\n",
       "56         75    24525.2240"
      ]
     },
     "execution_count": 143,
     "metadata": {},
     "output_type": "execute_result"
    }
   ],
   "source": [
    "dob_years_median = credit.groupby('dob_years').agg({'total_income': 'median'}).reset_index()\n",
    "print(dob_years_median.head(10))\n",
    "dob_years_median.tail(10)"
   ]
  },
  {
   "cell_type": "markdown",
   "metadata": {},
   "source": [
    "Esta métrica no es muy consistente ya que como se puede notar, una persona de 68 años puede ganar menos que alguien de 20 años pero una persona con 67 años gana más que alguien de 20 años. Ahora se determinará la relevancia de `income_type`"
   ]
  },
  {
   "cell_type": "code",
   "execution_count": 144,
   "metadata": {},
   "outputs": [
    {
     "data": {
      "text/html": [
       "<div><div id=c0fb40d6-c852-408b-bf23-ab4b52a44c17 style=\"display:none; background-color:#9D6CFF; color:white; width:200px; height:30px; padding-left:5px; border-radius:4px; flex-direction:row; justify-content:space-around; align-items:center;\" onmouseover=\"this.style.backgroundColor='#BA9BF8'\" onmouseout=\"this.style.backgroundColor='#9D6CFF'\" onclick=\"window.commands?.execute('create-mitosheet-from-dataframe-output');\">See Full Dataframe in Mito</div> <script> if (window.commands.hasCommand('create-mitosheet-from-dataframe-output')) document.getElementById('c0fb40d6-c852-408b-bf23-ab4b52a44c17').style.display = 'flex' </script> <table border=\"1\" class=\"dataframe\">\n",
       "  <thead>\n",
       "    <tr style=\"text-align: right;\">\n",
       "      <th></th>\n",
       "      <th>income_type</th>\n",
       "      <th>total_income</th>\n",
       "    </tr>\n",
       "  </thead>\n",
       "  <tbody>\n",
       "    <tr>\n",
       "      <th>0</th>\n",
       "      <td>business</td>\n",
       "      <td>27577.2720</td>\n",
       "    </tr>\n",
       "    <tr>\n",
       "      <th>1</th>\n",
       "      <td>civil servant</td>\n",
       "      <td>24071.6695</td>\n",
       "    </tr>\n",
       "    <tr>\n",
       "      <th>2</th>\n",
       "      <td>employee</td>\n",
       "      <td>22815.1035</td>\n",
       "    </tr>\n",
       "    <tr>\n",
       "      <th>3</th>\n",
       "      <td>entrepreneur</td>\n",
       "      <td>79866.1030</td>\n",
       "    </tr>\n",
       "    <tr>\n",
       "      <th>4</th>\n",
       "      <td>paternity / maternity leave</td>\n",
       "      <td>8612.6610</td>\n",
       "    </tr>\n",
       "    <tr>\n",
       "      <th>5</th>\n",
       "      <td>retiree</td>\n",
       "      <td>18962.3180</td>\n",
       "    </tr>\n",
       "    <tr>\n",
       "      <th>6</th>\n",
       "      <td>student</td>\n",
       "      <td>15712.2600</td>\n",
       "    </tr>\n",
       "    <tr>\n",
       "      <th>7</th>\n",
       "      <td>unemployed</td>\n",
       "      <td>21014.3605</td>\n",
       "    </tr>\n",
       "  </tbody>\n",
       "</table></div>"
      ],
      "text/plain": [
       "                   income_type  total_income\n",
       "0                     business    27577.2720\n",
       "1                civil servant    24071.6695\n",
       "2                     employee    22815.1035\n",
       "3                 entrepreneur    79866.1030\n",
       "4  paternity / maternity leave     8612.6610\n",
       "5                      retiree    18962.3180\n",
       "6                      student    15712.2600\n",
       "7                   unemployed    21014.3605"
      ]
     },
     "execution_count": 144,
     "metadata": {},
     "output_type": "execute_result"
    }
   ],
   "source": [
    "income_type_median = credit.groupby('income_type').agg({'total_income': 'median'}).reset_index()\n",
    "income_type_median"
   ]
  },
  {
   "cell_type": "markdown",
   "metadata": {},
   "source": [
    "Esta columna es la más relevante ya que muestran los datos organizados por la manera en que los consiguen.\n",
    "\n",
    "Para la columna de `total_income` se realizará un agrupamiento de los datos por el `income_type` para así realizar `median` en cada uno de los diferentes tipos de ingresos los cuales reemplazarán cada uno de los valores ausentes dependiendo del tipo de ingresos que esa persona tiene."
   ]
  },
  {
   "cell_type": "code",
   "execution_count": 145,
   "metadata": {},
   "outputs": [
    {
     "data": {
      "text/html": [
       "<div><div id=57727915-cb87-42d2-b220-b8c1a0556c31 style=\"display:none; background-color:#9D6CFF; color:white; width:200px; height:30px; padding-left:5px; border-radius:4px; flex-direction:row; justify-content:space-around; align-items:center;\" onmouseover=\"this.style.backgroundColor='#BA9BF8'\" onmouseout=\"this.style.backgroundColor='#9D6CFF'\" onclick=\"window.commands?.execute('create-mitosheet-from-dataframe-output');\">See Full Dataframe in Mito</div> <script> if (window.commands.hasCommand('create-mitosheet-from-dataframe-output')) document.getElementById('57727915-cb87-42d2-b220-b8c1a0556c31').style.display = 'flex' </script> <table border=\"1\" class=\"dataframe\">\n",
       "  <thead>\n",
       "    <tr style=\"text-align: right;\">\n",
       "      <th></th>\n",
       "      <th>children</th>\n",
       "      <th>days_employed</th>\n",
       "      <th>dob_years</th>\n",
       "      <th>education</th>\n",
       "      <th>education_id</th>\n",
       "      <th>family_status</th>\n",
       "      <th>family_status_id</th>\n",
       "      <th>gender</th>\n",
       "      <th>income_type</th>\n",
       "      <th>debt</th>\n",
       "      <th>total_income</th>\n",
       "      <th>purpose</th>\n",
       "    </tr>\n",
       "  </thead>\n",
       "  <tbody>\n",
       "    <tr>\n",
       "      <th>12</th>\n",
       "      <td>0</td>\n",
       "      <td>NaN</td>\n",
       "      <td>65</td>\n",
       "      <td>secondary education</td>\n",
       "      <td>1</td>\n",
       "      <td>civil partnership</td>\n",
       "      <td>1</td>\n",
       "      <td>M</td>\n",
       "      <td>retiree</td>\n",
       "      <td>0</td>\n",
       "      <td>18962.3180</td>\n",
       "      <td>to have a wedding</td>\n",
       "    </tr>\n",
       "    <tr>\n",
       "      <th>26</th>\n",
       "      <td>0</td>\n",
       "      <td>NaN</td>\n",
       "      <td>41</td>\n",
       "      <td>secondary education</td>\n",
       "      <td>1</td>\n",
       "      <td>married</td>\n",
       "      <td>0</td>\n",
       "      <td>M</td>\n",
       "      <td>civil servant</td>\n",
       "      <td>0</td>\n",
       "      <td>24071.6695</td>\n",
       "      <td>education</td>\n",
       "    </tr>\n",
       "    <tr>\n",
       "      <th>29</th>\n",
       "      <td>0</td>\n",
       "      <td>NaN</td>\n",
       "      <td>63</td>\n",
       "      <td>secondary education</td>\n",
       "      <td>1</td>\n",
       "      <td>unmarried</td>\n",
       "      <td>4</td>\n",
       "      <td>F</td>\n",
       "      <td>retiree</td>\n",
       "      <td>0</td>\n",
       "      <td>18962.3180</td>\n",
       "      <td>building a real estate</td>\n",
       "    </tr>\n",
       "    <tr>\n",
       "      <th>41</th>\n",
       "      <td>0</td>\n",
       "      <td>NaN</td>\n",
       "      <td>50</td>\n",
       "      <td>secondary education</td>\n",
       "      <td>1</td>\n",
       "      <td>married</td>\n",
       "      <td>0</td>\n",
       "      <td>F</td>\n",
       "      <td>civil servant</td>\n",
       "      <td>0</td>\n",
       "      <td>24071.6695</td>\n",
       "      <td>second-hand car purchase</td>\n",
       "    </tr>\n",
       "    <tr>\n",
       "      <th>55</th>\n",
       "      <td>0</td>\n",
       "      <td>NaN</td>\n",
       "      <td>54</td>\n",
       "      <td>secondary education</td>\n",
       "      <td>1</td>\n",
       "      <td>civil partnership</td>\n",
       "      <td>1</td>\n",
       "      <td>F</td>\n",
       "      <td>retiree</td>\n",
       "      <td>1</td>\n",
       "      <td>18962.3180</td>\n",
       "      <td>to have a wedding</td>\n",
       "    </tr>\n",
       "  </tbody>\n",
       "</table></div>"
      ],
      "text/plain": [
       "    children  days_employed  dob_years            education  education_id  \\\n",
       "12         0            NaN         65  secondary education             1   \n",
       "26         0            NaN         41  secondary education             1   \n",
       "29         0            NaN         63  secondary education             1   \n",
       "41         0            NaN         50  secondary education             1   \n",
       "55         0            NaN         54  secondary education             1   \n",
       "\n",
       "        family_status  family_status_id gender    income_type  debt  \\\n",
       "12  civil partnership                 1      M        retiree     0   \n",
       "26            married                 0      M  civil servant     0   \n",
       "29          unmarried                 4      F        retiree     0   \n",
       "41            married                 0      F  civil servant     0   \n",
       "55  civil partnership                 1      F        retiree     1   \n",
       "\n",
       "    total_income                   purpose  \n",
       "12    18962.3180         to have a wedding  \n",
       "26    24071.6695                 education  \n",
       "29    18962.3180    building a real estate  \n",
       "41    24071.6695  second-hand car purchase  \n",
       "55    18962.3180         to have a wedding  "
      ]
     },
     "execution_count": 145,
     "metadata": {},
     "output_type": "execute_result"
    }
   ],
   "source": [
    "income_type_replace = {row[\"income_type\"]:row[\"total_income\"] for i, row in income_type_median.iterrows()}\n",
    "credit['total_income'] = credit['total_income'].fillna(credit[\"income_type\"].map(income_type_replace))\n",
    "credit[credit['days_employed'].isnull()].head()"
   ]
  },
  {
   "cell_type": "markdown",
   "metadata": {},
   "source": [
    "Se comprobará que el número total de valores en `total_income` coincida con el número de valores en otras columnas."
   ]
  },
  {
   "cell_type": "code",
   "execution_count": 146,
   "metadata": {},
   "outputs": [
    {
     "name": "stdout",
     "output_type": "stream",
     "text": [
      "<class 'pandas.core.frame.DataFrame'>\n",
      "RangeIndex: 21454 entries, 0 to 21453\n",
      "Data columns (total 12 columns):\n",
      " #   Column            Non-Null Count  Dtype  \n",
      "---  ------            --------------  -----  \n",
      " 0   children          21454 non-null  int64  \n",
      " 1   days_employed     19351 non-null  float64\n",
      " 2   dob_years         21454 non-null  int64  \n",
      " 3   education         21454 non-null  object \n",
      " 4   education_id      21454 non-null  int64  \n",
      " 5   family_status     21454 non-null  object \n",
      " 6   family_status_id  21454 non-null  int64  \n",
      " 7   gender            21454 non-null  object \n",
      " 8   income_type       21454 non-null  object \n",
      " 9   debt              21454 non-null  int64  \n",
      " 10  total_income      21454 non-null  float64\n",
      " 11  purpose           21454 non-null  object \n",
      "dtypes: float64(2), int64(5), object(5)\n",
      "memory usage: 2.0+ MB\n"
     ]
    }
   ],
   "source": [
    "credit.info()"
   ]
  },
  {
   "cell_type": "markdown",
   "metadata": {},
   "source": [
    "###  Restaurar valores en `days_employed` <a id='restore_days_employed'></a>"
   ]
  },
  {
   "cell_type": "markdown",
   "metadata": {},
   "source": [
    "Para restaurar los valores ausentes en `days_employed`, se tomarán en cuenta los datos de la columna `income_type` al igual que en el caso anterior ya que son los datos más relevantes para este estudio y reflejan un resultado muy útil."
   ]
  },
  {
   "cell_type": "code",
   "execution_count": 147,
   "metadata": {
    "pycharm": {
     "name": "#%%\n"
    }
   },
   "outputs": [
    {
     "data": {
      "text/html": [
       "<div><div id=987657fd-6c8c-40db-a1d2-5418485429b8 style=\"display:none; background-color:#9D6CFF; color:white; width:200px; height:30px; padding-left:5px; border-radius:4px; flex-direction:row; justify-content:space-around; align-items:center;\" onmouseover=\"this.style.backgroundColor='#BA9BF8'\" onmouseout=\"this.style.backgroundColor='#9D6CFF'\" onclick=\"window.commands?.execute('create-mitosheet-from-dataframe-output');\">See Full Dataframe in Mito</div> <script> if (window.commands.hasCommand('create-mitosheet-from-dataframe-output')) document.getElementById('987657fd-6c8c-40db-a1d2-5418485429b8').style.display = 'flex' </script> <table border=\"1\" class=\"dataframe\">\n",
       "  <thead>\n",
       "    <tr style=\"text-align: right;\">\n",
       "      <th></th>\n",
       "      <th>income_type</th>\n",
       "      <th>days_employed</th>\n",
       "    </tr>\n",
       "  </thead>\n",
       "  <tbody>\n",
       "    <tr>\n",
       "      <th>0</th>\n",
       "      <td>business</td>\n",
       "      <td>2111.524398</td>\n",
       "    </tr>\n",
       "    <tr>\n",
       "      <th>1</th>\n",
       "      <td>civil servant</td>\n",
       "      <td>3399.896902</td>\n",
       "    </tr>\n",
       "    <tr>\n",
       "      <th>2</th>\n",
       "      <td>employee</td>\n",
       "      <td>2326.499216</td>\n",
       "    </tr>\n",
       "    <tr>\n",
       "      <th>3</th>\n",
       "      <td>entrepreneur</td>\n",
       "      <td>520.848083</td>\n",
       "    </tr>\n",
       "    <tr>\n",
       "      <th>4</th>\n",
       "      <td>paternity / maternity leave</td>\n",
       "      <td>3296.759962</td>\n",
       "    </tr>\n",
       "    <tr>\n",
       "      <th>5</th>\n",
       "      <td>retiree</td>\n",
       "      <td>365003.491245</td>\n",
       "    </tr>\n",
       "    <tr>\n",
       "      <th>6</th>\n",
       "      <td>student</td>\n",
       "      <td>578.751554</td>\n",
       "    </tr>\n",
       "    <tr>\n",
       "      <th>7</th>\n",
       "      <td>unemployed</td>\n",
       "      <td>366413.652744</td>\n",
       "    </tr>\n",
       "  </tbody>\n",
       "</table></div>"
      ],
      "text/plain": [
       "                   income_type  days_employed\n",
       "0                     business    2111.524398\n",
       "1                civil servant    3399.896902\n",
       "2                     employee    2326.499216\n",
       "3                 entrepreneur     520.848083\n",
       "4  paternity / maternity leave    3296.759962\n",
       "5                      retiree  365003.491245\n",
       "6                      student     578.751554\n",
       "7                   unemployed  366413.652744"
      ]
     },
     "execution_count": 147,
     "metadata": {},
     "output_type": "execute_result"
    }
   ],
   "source": [
    "days_employed_mean = credit.groupby('income_type').agg({'days_employed': 'mean'}).reset_index()\n",
    "days_employed_mean"
   ]
  },
  {
   "cell_type": "code",
   "execution_count": 148,
   "metadata": {},
   "outputs": [
    {
     "data": {
      "text/html": [
       "<div><div id=c104be63-c347-4626-9db3-fa517bd08f87 style=\"display:none; background-color:#9D6CFF; color:white; width:200px; height:30px; padding-left:5px; border-radius:4px; flex-direction:row; justify-content:space-around; align-items:center;\" onmouseover=\"this.style.backgroundColor='#BA9BF8'\" onmouseout=\"this.style.backgroundColor='#9D6CFF'\" onclick=\"window.commands?.execute('create-mitosheet-from-dataframe-output');\">See Full Dataframe in Mito</div> <script> if (window.commands.hasCommand('create-mitosheet-from-dataframe-output')) document.getElementById('c104be63-c347-4626-9db3-fa517bd08f87').style.display = 'flex' </script> <table border=\"1\" class=\"dataframe\">\n",
       "  <thead>\n",
       "    <tr style=\"text-align: right;\">\n",
       "      <th></th>\n",
       "      <th>income_type</th>\n",
       "      <th>days_employed</th>\n",
       "    </tr>\n",
       "  </thead>\n",
       "  <tbody>\n",
       "    <tr>\n",
       "      <th>0</th>\n",
       "      <td>business</td>\n",
       "      <td>1547.382223</td>\n",
       "    </tr>\n",
       "    <tr>\n",
       "      <th>1</th>\n",
       "      <td>civil servant</td>\n",
       "      <td>2689.368353</td>\n",
       "    </tr>\n",
       "    <tr>\n",
       "      <th>2</th>\n",
       "      <td>employee</td>\n",
       "      <td>1574.202821</td>\n",
       "    </tr>\n",
       "    <tr>\n",
       "      <th>3</th>\n",
       "      <td>entrepreneur</td>\n",
       "      <td>520.848083</td>\n",
       "    </tr>\n",
       "    <tr>\n",
       "      <th>4</th>\n",
       "      <td>paternity / maternity leave</td>\n",
       "      <td>3296.759962</td>\n",
       "    </tr>\n",
       "    <tr>\n",
       "      <th>5</th>\n",
       "      <td>retiree</td>\n",
       "      <td>365213.306266</td>\n",
       "    </tr>\n",
       "    <tr>\n",
       "      <th>6</th>\n",
       "      <td>student</td>\n",
       "      <td>578.751554</td>\n",
       "    </tr>\n",
       "    <tr>\n",
       "      <th>7</th>\n",
       "      <td>unemployed</td>\n",
       "      <td>366413.652744</td>\n",
       "    </tr>\n",
       "  </tbody>\n",
       "</table></div>"
      ],
      "text/plain": [
       "                   income_type  days_employed\n",
       "0                     business    1547.382223\n",
       "1                civil servant    2689.368353\n",
       "2                     employee    1574.202821\n",
       "3                 entrepreneur     520.848083\n",
       "4  paternity / maternity leave    3296.759962\n",
       "5                      retiree  365213.306266\n",
       "6                      student     578.751554\n",
       "7                   unemployed  366413.652744"
      ]
     },
     "execution_count": 148,
     "metadata": {},
     "output_type": "execute_result"
    }
   ],
   "source": [
    "days_employed_median = credit.groupby('income_type').agg({'days_employed': 'median'}).reset_index()\n",
    "days_employed_median"
   ]
  },
  {
   "cell_type": "markdown",
   "metadata": {},
   "source": [
    "Se utilizarán las medias debido a que no hay valores fuera de lo común y representan un valor más preciso."
   ]
  },
  {
   "cell_type": "code",
   "execution_count": 149,
   "metadata": {},
   "outputs": [
    {
     "data": {
      "text/html": [
       "<div><div id=1bee8c9c-f239-4d3a-8aa1-7cde09fe4c20 style=\"display:none; background-color:#9D6CFF; color:white; width:200px; height:30px; padding-left:5px; border-radius:4px; flex-direction:row; justify-content:space-around; align-items:center;\" onmouseover=\"this.style.backgroundColor='#BA9BF8'\" onmouseout=\"this.style.backgroundColor='#9D6CFF'\" onclick=\"window.commands?.execute('create-mitosheet-from-dataframe-output');\">See Full Dataframe in Mito</div> <script> if (window.commands.hasCommand('create-mitosheet-from-dataframe-output')) document.getElementById('1bee8c9c-f239-4d3a-8aa1-7cde09fe4c20').style.display = 'flex' </script> <table border=\"1\" class=\"dataframe\">\n",
       "  <thead>\n",
       "    <tr style=\"text-align: right;\">\n",
       "      <th></th>\n",
       "      <th>children</th>\n",
       "      <th>days_employed</th>\n",
       "      <th>dob_years</th>\n",
       "      <th>education</th>\n",
       "      <th>education_id</th>\n",
       "      <th>family_status</th>\n",
       "      <th>family_status_id</th>\n",
       "      <th>gender</th>\n",
       "      <th>income_type</th>\n",
       "      <th>debt</th>\n",
       "      <th>total_income</th>\n",
       "      <th>purpose</th>\n",
       "    </tr>\n",
       "  </thead>\n",
       "  <tbody>\n",
       "  </tbody>\n",
       "</table></div>"
      ],
      "text/plain": [
       "Empty DataFrame\n",
       "Columns: [children, days_employed, dob_years, education, education_id, family_status, family_status_id, gender, income_type, debt, total_income, purpose]\n",
       "Index: []"
      ]
     },
     "execution_count": 149,
     "metadata": {},
     "output_type": "execute_result"
    }
   ],
   "source": [
    "days_employed_replace = {row[\"income_type\"]:row[\"days_employed\"] for i, row in days_employed_mean.iterrows()}\n",
    "credit['days_employed'] = credit['days_employed'].fillna(credit[\"income_type\"].map(days_employed_replace))\n",
    "credit[credit['days_employed'].isnull()].head()"
   ]
  },
  {
   "cell_type": "code",
   "execution_count": 150,
   "metadata": {},
   "outputs": [
    {
     "name": "stdout",
     "output_type": "stream",
     "text": [
      "<class 'pandas.core.frame.DataFrame'>\n",
      "RangeIndex: 21454 entries, 0 to 21453\n",
      "Data columns (total 12 columns):\n",
      " #   Column            Non-Null Count  Dtype  \n",
      "---  ------            --------------  -----  \n",
      " 0   children          21454 non-null  int64  \n",
      " 1   days_employed     21454 non-null  float64\n",
      " 2   dob_years         21454 non-null  int64  \n",
      " 3   education         21454 non-null  object \n",
      " 4   education_id      21454 non-null  int64  \n",
      " 5   family_status     21454 non-null  object \n",
      " 6   family_status_id  21454 non-null  int64  \n",
      " 7   gender            21454 non-null  object \n",
      " 8   income_type       21454 non-null  object \n",
      " 9   debt              21454 non-null  int64  \n",
      " 10  total_income      21454 non-null  float64\n",
      " 11  purpose           21454 non-null  object \n",
      "dtypes: float64(2), int64(5), object(5)\n",
      "memory usage: 2.0+ MB\n"
     ]
    }
   ],
   "source": [
    "credit.info()"
   ]
  },
  {
   "cell_type": "markdown",
   "metadata": {},
   "source": [
    "## Clasificación de datos <a id='data_classification'></a>\n",
    "\n",
    "Primeramente se requiere analizar aquellas columnas que cuenten con ID para observar y determinar si será posible clasificar las demás columnas en base a IDs.\n",
    "\n",
    "Empezando con `familiy_status` y `family_status_id`:"
   ]
  },
  {
   "cell_type": "code",
   "execution_count": 151,
   "metadata": {
    "scrolled": true
   },
   "outputs": [
    {
     "data": {
      "text/html": [
       "<div><div id=d46f847b-56bd-47a6-9c1d-41b2882e7d85 style=\"display:none; background-color:#9D6CFF; color:white; width:200px; height:30px; padding-left:5px; border-radius:4px; flex-direction:row; justify-content:space-around; align-items:center;\" onmouseover=\"this.style.backgroundColor='#BA9BF8'\" onmouseout=\"this.style.backgroundColor='#9D6CFF'\" onclick=\"window.commands?.execute('create-mitosheet-from-dataframe-output');\">See Full Dataframe in Mito</div> <script> if (window.commands.hasCommand('create-mitosheet-from-dataframe-output')) document.getElementById('d46f847b-56bd-47a6-9c1d-41b2882e7d85').style.display = 'flex' </script> <table border=\"1\" class=\"dataframe\">\n",
       "  <thead>\n",
       "    <tr style=\"text-align: right;\">\n",
       "      <th></th>\n",
       "      <th>family_status_id</th>\n",
       "      <th>family_status</th>\n",
       "    </tr>\n",
       "  </thead>\n",
       "  <tbody>\n",
       "    <tr>\n",
       "      <th>0</th>\n",
       "      <td>0</td>\n",
       "      <td>married</td>\n",
       "    </tr>\n",
       "    <tr>\n",
       "      <th>4</th>\n",
       "      <td>1</td>\n",
       "      <td>civil partnership</td>\n",
       "    </tr>\n",
       "    <tr>\n",
       "      <th>18</th>\n",
       "      <td>2</td>\n",
       "      <td>widow / widower</td>\n",
       "    </tr>\n",
       "    <tr>\n",
       "      <th>19</th>\n",
       "      <td>3</td>\n",
       "      <td>divorced</td>\n",
       "    </tr>\n",
       "    <tr>\n",
       "      <th>24</th>\n",
       "      <td>4</td>\n",
       "      <td>unmarried</td>\n",
       "    </tr>\n",
       "  </tbody>\n",
       "</table></div>"
      ],
      "text/plain": [
       "    family_status_id      family_status\n",
       "0                  0            married\n",
       "4                  1  civil partnership\n",
       "18                 2    widow / widower\n",
       "19                 3           divorced\n",
       "24                 4          unmarried"
      ]
     },
     "execution_count": 151,
     "metadata": {},
     "output_type": "execute_result"
    }
   ],
   "source": [
    "credit.drop_duplicates(['family_status_id', 'family_status'])[['family_status_id', 'family_status']]"
   ]
  },
  {
   "cell_type": "markdown",
   "metadata": {},
   "source": [
    "No se encuentra una diferencia entre ambas columnas ya que son exactamente iguales y tienen los mismos valores representados de diferente manera. Se comprobará si ocurre lo mismo para `education` y `education_id`"
   ]
  },
  {
   "cell_type": "code",
   "execution_count": 152,
   "metadata": {},
   "outputs": [
    {
     "data": {
      "text/html": [
       "<div><div id=279b9a97-2e81-4ea9-af3f-3ae52ac6a6d1 style=\"display:none; background-color:#9D6CFF; color:white; width:200px; height:30px; padding-left:5px; border-radius:4px; flex-direction:row; justify-content:space-around; align-items:center;\" onmouseover=\"this.style.backgroundColor='#BA9BF8'\" onmouseout=\"this.style.backgroundColor='#9D6CFF'\" onclick=\"window.commands?.execute('create-mitosheet-from-dataframe-output');\">See Full Dataframe in Mito</div> <script> if (window.commands.hasCommand('create-mitosheet-from-dataframe-output')) document.getElementById('279b9a97-2e81-4ea9-af3f-3ae52ac6a6d1').style.display = 'flex' </script> <table border=\"1\" class=\"dataframe\">\n",
       "  <thead>\n",
       "    <tr style=\"text-align: right;\">\n",
       "      <th></th>\n",
       "      <th>education_id</th>\n",
       "      <th>education</th>\n",
       "    </tr>\n",
       "  </thead>\n",
       "  <tbody>\n",
       "    <tr>\n",
       "      <th>0</th>\n",
       "      <td>0</td>\n",
       "      <td>bachelor's degree</td>\n",
       "    </tr>\n",
       "    <tr>\n",
       "      <th>1</th>\n",
       "      <td>1</td>\n",
       "      <td>secondary education</td>\n",
       "    </tr>\n",
       "    <tr>\n",
       "      <th>13</th>\n",
       "      <td>2</td>\n",
       "      <td>some college</td>\n",
       "    </tr>\n",
       "    <tr>\n",
       "      <th>31</th>\n",
       "      <td>3</td>\n",
       "      <td>primary education</td>\n",
       "    </tr>\n",
       "    <tr>\n",
       "      <th>2962</th>\n",
       "      <td>4</td>\n",
       "      <td>graduate degree</td>\n",
       "    </tr>\n",
       "  </tbody>\n",
       "</table></div>"
      ],
      "text/plain": [
       "      education_id            education\n",
       "0                0    bachelor's degree\n",
       "1                1  secondary education\n",
       "13               2         some college\n",
       "31               3    primary education\n",
       "2962             4      graduate degree"
      ]
     },
     "execution_count": 152,
     "metadata": {},
     "output_type": "execute_result"
    }
   ],
   "source": [
    "credit.drop_duplicates(['education_id', 'education'])[['education_id', 'education']]"
   ]
  },
  {
   "cell_type": "markdown",
   "metadata": {},
   "source": [
    "Como se puede observar, estas columnas también son idénticas y sólo cambia la manera en que se presentan los datos.\n",
    "\n",
    "Para clasificar los datos se utilizarán sus IDs, es decir, se le asignará un ID a cada valor de las columnas para obtener una cantidad de IDs que sea mucho más clara y concisa. Así mismo, se crearán diccionarios para cada una de estas columnas con las claves siendo los IDs.\n",
    "\n",
    "Se comenzará por agrupar la columna `purpose` ya que esta tiene el mismo significado escrito de maneras diferentes como se observa a continuación:"
   ]
  },
  {
   "cell_type": "code",
   "execution_count": 153,
   "metadata": {},
   "outputs": [],
   "source": [
    "purpose_dicc = {0:['estate', 'real'], 1:'wedding', 2:'hous', 3:'property', 4:'car', 5:['educat', 'university'], 6:'N/A'}\n",
    "family_dicc = {0:'lower_middle', 1:'middle', 2:'upper_middle', 3:'N/A'}"
   ]
  },
  {
   "cell_type": "code",
   "execution_count": 154,
   "metadata": {},
   "outputs": [
    {
     "data": {
      "text/plain": [
       "array(['purchase of the house', 'car purchase', 'supplementary education',\n",
       "       'to have a wedding', 'housing transactions', 'education',\n",
       "       'having a wedding', 'purchase of the house for my family',\n",
       "       'buy real estate', 'buy commercial real estate',\n",
       "       'buy residential real estate', 'construction of own property',\n",
       "       'property', 'building a property', 'buying a second-hand car',\n",
       "       'buying my own car', 'transactions with commercial real estate',\n",
       "       'building a real estate', 'housing',\n",
       "       'transactions with my real estate', 'cars', 'to become educated',\n",
       "       'second-hand car purchase', 'getting an education', 'car',\n",
       "       'wedding ceremony', 'to get a supplementary education',\n",
       "       'purchase of my own house', 'real estate transactions',\n",
       "       'getting higher education', 'to own a car', 'purchase of a car',\n",
       "       'profile education', 'university education',\n",
       "       'buying property for renting out', 'to buy a car',\n",
       "       'housing renovation', 'going to university'], dtype=object)"
      ]
     },
     "execution_count": 154,
     "metadata": {},
     "output_type": "execute_result"
    }
   ],
   "source": [
    "purpose_unique = credit['purpose'].unique()\n",
    "purpose_unique"
   ]
  },
  {
   "cell_type": "code",
   "execution_count": 155,
   "metadata": {},
   "outputs": [],
   "source": [
    "def purpose_cleaning(purpose): \n",
    "    if 'estate' in purpose or 'real' in purpose:\n",
    "        return 0\n",
    "    elif 'wedding' in purpose:\n",
    "        return 1\n",
    "    elif 'hous' in purpose:\n",
    "        return 2\n",
    "    elif 'property' in purpose:\n",
    "        return 3\n",
    "    elif 'car' in purpose:\n",
    "        return 4\n",
    "    elif 'educat' in purpose or 'university' in purpose:\n",
    "        return 5\n",
    "    else:\n",
    "        return 6"
   ]
  },
  {
   "cell_type": "code",
   "execution_count": 156,
   "metadata": {},
   "outputs": [
    {
     "data": {
      "text/plain": [
       "0    4464\n",
       "4    4306\n",
       "5    4013\n",
       "2    3809\n",
       "3    2538\n",
       "1    2324\n",
       "Name: purpose_id, dtype: int64"
      ]
     },
     "execution_count": 156,
     "metadata": {},
     "output_type": "execute_result"
    }
   ],
   "source": [
    "credit['purpose_id'] = credit['purpose'].apply(purpose_cleaning)\n",
    "credit['purpose_id'].value_counts()"
   ]
  },
  {
   "cell_type": "markdown",
   "metadata": {},
   "source": [
    "Una vez completado este paso, es posible continuar con las demás columnas que tendrán un beneficio de limpieza y claridad al realizar este mismo ejercicio en ellas. Las columnas en las cuales se realizará un reemplazo por IDs en lugar de su valor acutal (además de `purpose`) son `income_type`, `gender` y `total_income`.\n",
    "\n",
    "Pra las columnas `education` y `family_status` simplemente se reemplazará una columna por la otra asegurando que sean los mismos valores.\n",
    "\n",
    "Se eligieron estas columnas ya que tienen una cantidad de valores lo bastantemente bajas para justificar este cambio y que sean más fácil de leer los datos presentados."
   ]
  },
  {
   "cell_type": "code",
   "execution_count": 157,
   "metadata": {},
   "outputs": [],
   "source": [
    "lower_middle = credit['total_income'].quantile(q = 0.25)\n",
    "middle = credit['total_income'].quantile(q = 0.5)\n",
    "upper_middle = credit['total_income'].quantile(q = 0.75)\n",
    "\n",
    "def total_income_id(income):\n",
    "    if income <= lower_middle:\n",
    "        return 0\n",
    "    elif income <= middle:\n",
    "        return 1\n",
    "    elif income <= upper_middle:\n",
    "        return 2\n",
    "    else:\n",
    "        return 3"
   ]
  },
  {
   "cell_type": "code",
   "execution_count": 158,
   "metadata": {},
   "outputs": [
    {
     "data": {
      "text/plain": [
       "1    5479\n",
       "3    5364\n",
       "0    5364\n",
       "2    5247\n",
       "Name: total_income_id, dtype: int64"
      ]
     },
     "execution_count": 158,
     "metadata": {},
     "output_type": "execute_result"
    }
   ],
   "source": [
    "credit['total_income_id'] = credit['total_income'].apply(total_income_id)\n",
    "credit['total_income_id'].value_counts()"
   ]
  },
  {
   "cell_type": "code",
   "execution_count": 159,
   "metadata": {},
   "outputs": [
    {
     "name": "stdout",
     "output_type": "stream",
     "text": [
      "{'M': 0, 'F': 1}\n",
      "{'employee': 0, 'retiree': 1, 'business': 2, 'civil servant': 3, 'unemployed': 4, 'entrepreneur': 5, 'student': 6, 'paternity / maternity leave': 7}\n",
      "{\"bachelor's degree\": 0, 'secondary education': 1, 'some college': 2, 'primary education': 3, 'graduate degree': 4}\n"
     ]
    },
    {
     "data": {
      "text/plain": [
       "{'married': 0,\n",
       " 'civil partnership': 1,\n",
       " 'widow / widower': 2,\n",
       " 'divorced': 3,\n",
       " 'unmarried': 4}"
      ]
     },
     "execution_count": 159,
     "metadata": {},
     "output_type": "execute_result"
    }
   ],
   "source": [
    "gender_id = {'M':0, 'F':1}\n",
    "income_type_id = {income_type:i for i, income_type in enumerate(credit['income_type'].unique())}\n",
    "education_id = {row['education']:row['education_id'] for i, row in credit.drop_duplicates(['education', 'education_id'])[['education', 'education_id']].iterrows()}\n",
    "family_status_id = {row['family_status']:row['family_status_id'] for i, row in credit.drop_duplicates(['family_status', 'family_status_id'])[['family_status', 'family_status_id']].iterrows()}\n",
    "print(gender_id)\n",
    "print(income_type_id)\n",
    "print(education_id)\n",
    "family_status_id"
   ]
  },
  {
   "cell_type": "code",
   "execution_count": 160,
   "metadata": {},
   "outputs": [],
   "source": [
    "def data_processing():\n",
    "    global credit\n",
    "    credit['income_type_id'] = credit['income_type'].map(income_type_id)\n",
    "    credit['gender_id'] = credit['gender'].map(gender_id)\n",
    "    credit['gender_id'] = credit['gender_id'].astype(int)\n",
    "\n",
    "data_processing()"
   ]
  },
  {
   "cell_type": "markdown",
   "metadata": {},
   "source": [
    "Se procede a eliminar las columnas con los valores obsoletos"
   ]
  },
  {
   "cell_type": "code",
   "execution_count": 161,
   "metadata": {},
   "outputs": [
    {
     "data": {
      "text/html": [
       "<div><div id=f7b844bb-5159-4edd-bb09-6ff02f059654 style=\"display:none; background-color:#9D6CFF; color:white; width:200px; height:30px; padding-left:5px; border-radius:4px; flex-direction:row; justify-content:space-around; align-items:center;\" onmouseover=\"this.style.backgroundColor='#BA9BF8'\" onmouseout=\"this.style.backgroundColor='#9D6CFF'\" onclick=\"window.commands?.execute('create-mitosheet-from-dataframe-output');\">See Full Dataframe in Mito</div> <script> if (window.commands.hasCommand('create-mitosheet-from-dataframe-output')) document.getElementById('f7b844bb-5159-4edd-bb09-6ff02f059654').style.display = 'flex' </script> <table border=\"1\" class=\"dataframe\">\n",
       "  <thead>\n",
       "    <tr style=\"text-align: right;\">\n",
       "      <th></th>\n",
       "      <th>children</th>\n",
       "      <th>days_employed</th>\n",
       "      <th>dob_years</th>\n",
       "      <th>education_id</th>\n",
       "      <th>family_status_id</th>\n",
       "      <th>debt</th>\n",
       "      <th>purpose_id</th>\n",
       "      <th>total_income_id</th>\n",
       "      <th>income_type_id</th>\n",
       "      <th>gender_id</th>\n",
       "    </tr>\n",
       "  </thead>\n",
       "  <tbody>\n",
       "    <tr>\n",
       "      <th>0</th>\n",
       "      <td>1</td>\n",
       "      <td>8437.673028</td>\n",
       "      <td>42</td>\n",
       "      <td>0</td>\n",
       "      <td>0</td>\n",
       "      <td>0</td>\n",
       "      <td>2</td>\n",
       "      <td>3</td>\n",
       "      <td>0</td>\n",
       "      <td>1</td>\n",
       "    </tr>\n",
       "    <tr>\n",
       "      <th>1</th>\n",
       "      <td>1</td>\n",
       "      <td>4024.803754</td>\n",
       "      <td>36</td>\n",
       "      <td>1</td>\n",
       "      <td>0</td>\n",
       "      <td>0</td>\n",
       "      <td>4</td>\n",
       "      <td>1</td>\n",
       "      <td>0</td>\n",
       "      <td>1</td>\n",
       "    </tr>\n",
       "    <tr>\n",
       "      <th>2</th>\n",
       "      <td>0</td>\n",
       "      <td>5623.422610</td>\n",
       "      <td>33</td>\n",
       "      <td>1</td>\n",
       "      <td>0</td>\n",
       "      <td>0</td>\n",
       "      <td>2</td>\n",
       "      <td>2</td>\n",
       "      <td>0</td>\n",
       "      <td>0</td>\n",
       "    </tr>\n",
       "    <tr>\n",
       "      <th>3</th>\n",
       "      <td>3</td>\n",
       "      <td>4124.747207</td>\n",
       "      <td>32</td>\n",
       "      <td>1</td>\n",
       "      <td>0</td>\n",
       "      <td>0</td>\n",
       "      <td>5</td>\n",
       "      <td>3</td>\n",
       "      <td>0</td>\n",
       "      <td>0</td>\n",
       "    </tr>\n",
       "    <tr>\n",
       "      <th>4</th>\n",
       "      <td>0</td>\n",
       "      <td>340266.072047</td>\n",
       "      <td>53</td>\n",
       "      <td>1</td>\n",
       "      <td>1</td>\n",
       "      <td>0</td>\n",
       "      <td>1</td>\n",
       "      <td>2</td>\n",
       "      <td>1</td>\n",
       "      <td>1</td>\n",
       "    </tr>\n",
       "    <tr>\n",
       "      <th>...</th>\n",
       "      <td>...</td>\n",
       "      <td>...</td>\n",
       "      <td>...</td>\n",
       "      <td>...</td>\n",
       "      <td>...</td>\n",
       "      <td>...</td>\n",
       "      <td>...</td>\n",
       "      <td>...</td>\n",
       "      <td>...</td>\n",
       "      <td>...</td>\n",
       "    </tr>\n",
       "    <tr>\n",
       "      <th>10</th>\n",
       "      <td>2</td>\n",
       "      <td>4171.483647</td>\n",
       "      <td>36</td>\n",
       "      <td>0</td>\n",
       "      <td>0</td>\n",
       "      <td>0</td>\n",
       "      <td>0</td>\n",
       "      <td>1</td>\n",
       "      <td>2</td>\n",
       "      <td>0</td>\n",
       "    </tr>\n",
       "    <tr>\n",
       "      <th>11</th>\n",
       "      <td>0</td>\n",
       "      <td>792.701887</td>\n",
       "      <td>40</td>\n",
       "      <td>1</td>\n",
       "      <td>0</td>\n",
       "      <td>0</td>\n",
       "      <td>0</td>\n",
       "      <td>0</td>\n",
       "      <td>0</td>\n",
       "      <td>1</td>\n",
       "    </tr>\n",
       "    <tr>\n",
       "      <th>12</th>\n",
       "      <td>0</td>\n",
       "      <td>365003.491245</td>\n",
       "      <td>65</td>\n",
       "      <td>1</td>\n",
       "      <td>1</td>\n",
       "      <td>0</td>\n",
       "      <td>1</td>\n",
       "      <td>1</td>\n",
       "      <td>1</td>\n",
       "      <td>0</td>\n",
       "    </tr>\n",
       "    <tr>\n",
       "      <th>13</th>\n",
       "      <td>0</td>\n",
       "      <td>1846.641941</td>\n",
       "      <td>54</td>\n",
       "      <td>2</td>\n",
       "      <td>0</td>\n",
       "      <td>0</td>\n",
       "      <td>4</td>\n",
       "      <td>1</td>\n",
       "      <td>0</td>\n",
       "      <td>1</td>\n",
       "    </tr>\n",
       "    <tr>\n",
       "      <th>14</th>\n",
       "      <td>0</td>\n",
       "      <td>1844.956182</td>\n",
       "      <td>56</td>\n",
       "      <td>0</td>\n",
       "      <td>1</td>\n",
       "      <td>1</td>\n",
       "      <td>0</td>\n",
       "      <td>2</td>\n",
       "      <td>2</td>\n",
       "      <td>1</td>\n",
       "    </tr>\n",
       "  </tbody>\n",
       "</table></div>"
      ],
      "text/plain": [
       "    children  days_employed  dob_years  education_id  family_status_id  debt  \\\n",
       "0          1    8437.673028         42             0                 0     0   \n",
       "1          1    4024.803754         36             1                 0     0   \n",
       "2          0    5623.422610         33             1                 0     0   \n",
       "3          3    4124.747207         32             1                 0     0   \n",
       "4          0  340266.072047         53             1                 1     0   \n",
       "5          0     926.185831         27             0                 1     0   \n",
       "6          0    2879.202052         43             0                 0     0   \n",
       "7          0     152.779569         50             1                 0     0   \n",
       "8          2    6929.865299         35             0                 1     0   \n",
       "9          0    2188.756445         41             1                 0     0   \n",
       "10         2    4171.483647         36             0                 0     0   \n",
       "11         0     792.701887         40             1                 0     0   \n",
       "12         0  365003.491245         65             1                 1     0   \n",
       "13         0    1846.641941         54             2                 0     0   \n",
       "14         0    1844.956182         56             0                 1     1   \n",
       "\n",
       "    purpose_id  total_income_id  income_type_id  gender_id  \n",
       "0            2                3               0          1  \n",
       "1            4                1               0          1  \n",
       "2            2                2               0          0  \n",
       "3            5                3               0          0  \n",
       "4            1                2               1          1  \n",
       "5            2                3               2          0  \n",
       "6            2                3               2          1  \n",
       "7            5                1               0          0  \n",
       "8            1                0               0          1  \n",
       "9            2                2               0          0  \n",
       "10           0                1               2          0  \n",
       "11           0                0               0          1  \n",
       "12           1                1               1          0  \n",
       "13           4                1               0          1  \n",
       "14           0                2               2          1  "
      ]
     },
     "execution_count": 161,
     "metadata": {},
     "output_type": "execute_result"
    }
   ],
   "source": [
    "def columns_to_delete():\n",
    "    global credit\n",
    "    columns = ['gender', 'purpose', 'education', 'income_type', 'family_status', 'total_income']\n",
    "    credit = credit.drop([col for col in columns if col in credit.columns], axis=1)\n",
    "columns_to_delete()\n",
    "credit.head(15)"
   ]
  },
  {
   "cell_type": "code",
   "execution_count": 162,
   "metadata": {},
   "outputs": [
    {
     "data": {
      "text/html": [
       "<div><div id=288b29d9-7bd1-4832-90c2-008d2f9701a1 style=\"display:none; background-color:#9D6CFF; color:white; width:200px; height:30px; padding-left:5px; border-radius:4px; flex-direction:row; justify-content:space-around; align-items:center;\" onmouseover=\"this.style.backgroundColor='#BA9BF8'\" onmouseout=\"this.style.backgroundColor='#9D6CFF'\" onclick=\"window.commands?.execute('create-mitosheet-from-dataframe-output');\">See Full Dataframe in Mito</div> <script> if (window.commands.hasCommand('create-mitosheet-from-dataframe-output')) document.getElementById('288b29d9-7bd1-4832-90c2-008d2f9701a1').style.display = 'flex' </script> <table border=\"1\" class=\"dataframe\">\n",
       "  <thead>\n",
       "    <tr style=\"text-align: right;\">\n",
       "      <th></th>\n",
       "      <th>income_type_id</th>\n",
       "      <th>education_id</th>\n",
       "      <th>family_status_id</th>\n",
       "      <th>gender_id</th>\n",
       "      <th>total_income_id</th>\n",
       "      <th>purpose_id</th>\n",
       "    </tr>\n",
       "  </thead>\n",
       "  <tbody>\n",
       "    <tr>\n",
       "      <th>0</th>\n",
       "      <td>11084</td>\n",
       "      <td>5250.0</td>\n",
       "      <td>12339.0</td>\n",
       "      <td>7279.0</td>\n",
       "      <td>5364.0</td>\n",
       "      <td>4464.0</td>\n",
       "    </tr>\n",
       "    <tr>\n",
       "      <th>1</th>\n",
       "      <td>3829</td>\n",
       "      <td>15172.0</td>\n",
       "      <td>4151.0</td>\n",
       "      <td>14175.0</td>\n",
       "      <td>5479.0</td>\n",
       "      <td>2324.0</td>\n",
       "    </tr>\n",
       "    <tr>\n",
       "      <th>2</th>\n",
       "      <td>5078</td>\n",
       "      <td>744.0</td>\n",
       "      <td>959.0</td>\n",
       "      <td>NaN</td>\n",
       "      <td>5247.0</td>\n",
       "      <td>3809.0</td>\n",
       "    </tr>\n",
       "    <tr>\n",
       "      <th>3</th>\n",
       "      <td>1457</td>\n",
       "      <td>282.0</td>\n",
       "      <td>1195.0</td>\n",
       "      <td>NaN</td>\n",
       "      <td>5364.0</td>\n",
       "      <td>2538.0</td>\n",
       "    </tr>\n",
       "    <tr>\n",
       "      <th>4</th>\n",
       "      <td>2</td>\n",
       "      <td>6.0</td>\n",
       "      <td>2810.0</td>\n",
       "      <td>NaN</td>\n",
       "      <td>NaN</td>\n",
       "      <td>4306.0</td>\n",
       "    </tr>\n",
       "    <tr>\n",
       "      <th>5</th>\n",
       "      <td>2</td>\n",
       "      <td>NaN</td>\n",
       "      <td>NaN</td>\n",
       "      <td>NaN</td>\n",
       "      <td>NaN</td>\n",
       "      <td>4013.0</td>\n",
       "    </tr>\n",
       "    <tr>\n",
       "      <th>6</th>\n",
       "      <td>1</td>\n",
       "      <td>NaN</td>\n",
       "      <td>NaN</td>\n",
       "      <td>NaN</td>\n",
       "      <td>NaN</td>\n",
       "      <td>NaN</td>\n",
       "    </tr>\n",
       "    <tr>\n",
       "      <th>7</th>\n",
       "      <td>1</td>\n",
       "      <td>NaN</td>\n",
       "      <td>NaN</td>\n",
       "      <td>NaN</td>\n",
       "      <td>NaN</td>\n",
       "      <td>NaN</td>\n",
       "    </tr>\n",
       "  </tbody>\n",
       "</table></div>"
      ],
      "text/plain": [
       "   income_type_id  education_id  family_status_id  gender_id  total_income_id  \\\n",
       "0           11084        5250.0           12339.0     7279.0           5364.0   \n",
       "1            3829       15172.0            4151.0    14175.0           5479.0   \n",
       "2            5078         744.0             959.0        NaN           5247.0   \n",
       "3            1457         282.0            1195.0        NaN           5364.0   \n",
       "4               2           6.0            2810.0        NaN              NaN   \n",
       "5               2           NaN               NaN        NaN              NaN   \n",
       "6               1           NaN               NaN        NaN              NaN   \n",
       "7               1           NaN               NaN        NaN              NaN   \n",
       "\n",
       "   purpose_id  \n",
       "0      4464.0  \n",
       "1      2324.0  \n",
       "2      3809.0  \n",
       "3      2538.0  \n",
       "4      4306.0  \n",
       "5      4013.0  \n",
       "6         NaN  \n",
       "7         NaN  "
      ]
     },
     "execution_count": 162,
     "metadata": {},
     "output_type": "execute_result"
    }
   ],
   "source": [
    "credit[['income_type_id', 'education_id', 'family_status_id', 'gender_id', 'total_income_id', 'purpose_id']].apply(pd.Series.value_counts)"
   ]
  },
  {
   "cell_type": "code",
   "execution_count": 163,
   "metadata": {
    "scrolled": true
   },
   "outputs": [
    {
     "data": {
      "text/html": [
       "<div><div id=1998ae58-1ed4-45b8-96e7-0877f4a74ea0 style=\"display:none; background-color:#9D6CFF; color:white; width:200px; height:30px; padding-left:5px; border-radius:4px; flex-direction:row; justify-content:space-around; align-items:center;\" onmouseover=\"this.style.backgroundColor='#BA9BF8'\" onmouseout=\"this.style.backgroundColor='#9D6CFF'\" onclick=\"window.commands?.execute('create-mitosheet-from-dataframe-output');\">See Full Dataframe in Mito</div> <script> if (window.commands.hasCommand('create-mitosheet-from-dataframe-output')) document.getElementById('1998ae58-1ed4-45b8-96e7-0877f4a74ea0').style.display = 'flex' </script> <table border=\"1\" class=\"dataframe\">\n",
       "  <thead>\n",
       "    <tr style=\"text-align: right;\">\n",
       "      <th></th>\n",
       "      <th>income_type_id</th>\n",
       "      <th>education_id</th>\n",
       "      <th>family_status_id</th>\n",
       "      <th>gender_id</th>\n",
       "      <th>total_income_id</th>\n",
       "      <th>purpose_id</th>\n",
       "    </tr>\n",
       "  </thead>\n",
       "  <tbody>\n",
       "    <tr>\n",
       "      <th>0</th>\n",
       "      <td>0.516640</td>\n",
       "      <td>0.244710</td>\n",
       "      <td>0.575138</td>\n",
       "      <td>0.339284</td>\n",
       "      <td>0.250023</td>\n",
       "      <td>0.208073</td>\n",
       "    </tr>\n",
       "    <tr>\n",
       "      <th>1</th>\n",
       "      <td>0.178475</td>\n",
       "      <td>0.707187</td>\n",
       "      <td>0.193484</td>\n",
       "      <td>0.660716</td>\n",
       "      <td>0.255384</td>\n",
       "      <td>0.108325</td>\n",
       "    </tr>\n",
       "    <tr>\n",
       "      <th>2</th>\n",
       "      <td>0.236692</td>\n",
       "      <td>0.034679</td>\n",
       "      <td>0.044700</td>\n",
       "      <td>NaN</td>\n",
       "      <td>0.244570</td>\n",
       "      <td>0.177543</td>\n",
       "    </tr>\n",
       "    <tr>\n",
       "      <th>3</th>\n",
       "      <td>0.067913</td>\n",
       "      <td>0.013144</td>\n",
       "      <td>0.055701</td>\n",
       "      <td>NaN</td>\n",
       "      <td>0.250023</td>\n",
       "      <td>0.118300</td>\n",
       "    </tr>\n",
       "    <tr>\n",
       "      <th>4</th>\n",
       "      <td>0.000093</td>\n",
       "      <td>0.000280</td>\n",
       "      <td>0.130978</td>\n",
       "      <td>NaN</td>\n",
       "      <td>NaN</td>\n",
       "      <td>0.200708</td>\n",
       "    </tr>\n",
       "    <tr>\n",
       "      <th>5</th>\n",
       "      <td>0.000093</td>\n",
       "      <td>NaN</td>\n",
       "      <td>NaN</td>\n",
       "      <td>NaN</td>\n",
       "      <td>NaN</td>\n",
       "      <td>0.187051</td>\n",
       "    </tr>\n",
       "    <tr>\n",
       "      <th>6</th>\n",
       "      <td>0.000047</td>\n",
       "      <td>NaN</td>\n",
       "      <td>NaN</td>\n",
       "      <td>NaN</td>\n",
       "      <td>NaN</td>\n",
       "      <td>NaN</td>\n",
       "    </tr>\n",
       "    <tr>\n",
       "      <th>7</th>\n",
       "      <td>0.000047</td>\n",
       "      <td>NaN</td>\n",
       "      <td>NaN</td>\n",
       "      <td>NaN</td>\n",
       "      <td>NaN</td>\n",
       "      <td>NaN</td>\n",
       "    </tr>\n",
       "  </tbody>\n",
       "</table></div>"
      ],
      "text/plain": [
       "   income_type_id  education_id  family_status_id  gender_id  total_income_id  \\\n",
       "0        0.516640      0.244710          0.575138   0.339284         0.250023   \n",
       "1        0.178475      0.707187          0.193484   0.660716         0.255384   \n",
       "2        0.236692      0.034679          0.044700        NaN         0.244570   \n",
       "3        0.067913      0.013144          0.055701        NaN         0.250023   \n",
       "4        0.000093      0.000280          0.130978        NaN              NaN   \n",
       "5        0.000093           NaN               NaN        NaN              NaN   \n",
       "6        0.000047           NaN               NaN        NaN              NaN   \n",
       "7        0.000047           NaN               NaN        NaN              NaN   \n",
       "\n",
       "   purpose_id  \n",
       "0    0.208073  \n",
       "1    0.108325  \n",
       "2    0.177543  \n",
       "3    0.118300  \n",
       "4    0.200708  \n",
       "5    0.187051  \n",
       "6         NaN  \n",
       "7         NaN  "
      ]
     },
     "execution_count": 163,
     "metadata": {},
     "output_type": "execute_result"
    }
   ],
   "source": [
    "credit[['income_type_id', 'education_id', 'family_status_id', 'gender_id', 'total_income_id', 'purpose_id']].apply(pd.Series.value_counts, normalize = True)\n"
   ]
  },
  {
   "cell_type": "markdown",
   "metadata": {},
   "source": [
    "## Comprobación de las hipótesis <a id='hypotheses'></a>\n"
   ]
  },
  {
   "cell_type": "markdown",
   "metadata": {},
   "source": [
    "### ¿Existe una correlación entre tener hijos y pagar a tiempo? <a id='kids'></a>"
   ]
  },
  {
   "cell_type": "code",
   "execution_count": 164,
   "metadata": {},
   "outputs": [
    {
     "name": "stdout",
     "output_type": "stream",
     "text": [
      "0    14091\n",
      "1     4855\n",
      "2     2128\n",
      "3      330\n",
      "4       41\n",
      "5        9\n",
      "Name: children, dtype: int64\n",
      "90.83 1 4410\n",
      "92.46 0 13028\n",
      "91.82 3 303\n",
      "90.51 2 1926\n",
      "90.24 4 37\n",
      "100.0 5 9\n"
     ]
    },
    {
     "data": {
      "text/plain": [
       "0.028430810965430202"
      ]
     },
     "execution_count": 164,
     "metadata": {},
     "output_type": "execute_result"
    }
   ],
   "source": [
    "print(credit['children'].value_counts())\n",
    "for have_children in credit['children'].unique():\n",
    "    number_children = credit['children'][(credit['children'] == have_children) & (credit['debt'] == 0)].count()\n",
    "    data = credit['children'][credit['children'] == have_children].count()\n",
    "    children_percent = round(number_children/ data * 100, 2)\n",
    "    print(children_percent, have_children, number_children)\n",
    "credit['children'].corr(credit['debt'], method = 'spearman')"
   ]
  },
  {
   "cell_type": "markdown",
   "metadata": {},
   "source": [
    "Como se puede observar, hay una diferencia mínima entre las personas con hijos que pagan a tiempo y las que no tienen hijos que pagan a tiempo ya que, del total de personas que no tienen hijos (14,091), el 92.46% (13,028) de ellos pagan a tiempo su préstamo mientras que el porcentaje más bajo de las peronsas con hijos se muestra en las familias con 4 hijos (90.24%), con una diferencia de menos del 2%. Así mismo, se nota una correlación muy baja entre ambas columnas.\n",
    "\n",
    "A continuación se mostrará una `pivot_table` para mostrar los datos aún más claros."
   ]
  },
  {
   "cell_type": "code",
   "execution_count": 165,
   "metadata": {},
   "outputs": [
    {
     "data": {
      "text/html": [
       "<div><div id=7f632f9f-5104-4ac6-9528-778b5866be91 style=\"display:none; background-color:#9D6CFF; color:white; width:200px; height:30px; padding-left:5px; border-radius:4px; flex-direction:row; justify-content:space-around; align-items:center;\" onmouseover=\"this.style.backgroundColor='#BA9BF8'\" onmouseout=\"this.style.backgroundColor='#9D6CFF'\" onclick=\"window.commands?.execute('create-mitosheet-from-dataframe-output');\">See Full Dataframe in Mito</div> <script> if (window.commands.hasCommand('create-mitosheet-from-dataframe-output')) document.getElementById('7f632f9f-5104-4ac6-9528-778b5866be91').style.display = 'flex' </script> <table border=\"1\" class=\"dataframe\">\n",
       "  <thead>\n",
       "    <tr>\n",
       "      <th></th>\n",
       "      <th>sum</th>\n",
       "      <th>count</th>\n",
       "      <th>ratio</th>\n",
       "    </tr>\n",
       "    <tr>\n",
       "      <th></th>\n",
       "      <th>debt</th>\n",
       "      <th>debt</th>\n",
       "      <th></th>\n",
       "    </tr>\n",
       "    <tr>\n",
       "      <th>children</th>\n",
       "      <th></th>\n",
       "      <th></th>\n",
       "      <th></th>\n",
       "    </tr>\n",
       "  </thead>\n",
       "  <tbody>\n",
       "    <tr>\n",
       "      <th>0</th>\n",
       "      <td>1063</td>\n",
       "      <td>14091</td>\n",
       "      <td>7.544</td>\n",
       "    </tr>\n",
       "    <tr>\n",
       "      <th>1</th>\n",
       "      <td>445</td>\n",
       "      <td>4855</td>\n",
       "      <td>9.166</td>\n",
       "    </tr>\n",
       "    <tr>\n",
       "      <th>2</th>\n",
       "      <td>202</td>\n",
       "      <td>2128</td>\n",
       "      <td>9.492</td>\n",
       "    </tr>\n",
       "    <tr>\n",
       "      <th>3</th>\n",
       "      <td>27</td>\n",
       "      <td>330</td>\n",
       "      <td>8.182</td>\n",
       "    </tr>\n",
       "    <tr>\n",
       "      <th>4</th>\n",
       "      <td>4</td>\n",
       "      <td>41</td>\n",
       "      <td>9.756</td>\n",
       "    </tr>\n",
       "    <tr>\n",
       "      <th>5</th>\n",
       "      <td>0</td>\n",
       "      <td>9</td>\n",
       "      <td>0.000</td>\n",
       "    </tr>\n",
       "  </tbody>\n",
       "</table></div>"
      ],
      "text/plain": [
       "           sum  count  ratio\n",
       "          debt   debt       \n",
       "children                    \n",
       "0         1063  14091  7.544\n",
       "1          445   4855  9.166\n",
       "2          202   2128  9.492\n",
       "3           27    330  8.182\n",
       "4            4     41  9.756\n",
       "5            0      9  0.000"
      ]
     },
     "execution_count": 165,
     "metadata": {},
     "output_type": "execute_result"
    }
   ],
   "source": [
    "pivot_table_children = credit.pivot_table(index = ['children'], values = ['debt'], aggfunc = ['sum','count'])\n",
    "pivot_table_children['ratio'] = round(pivot_table_children[('sum', 'debt')] / pivot_table_children[('count', 'debt')] *100, 3)\n",
    "pivot_table_children"
   ]
  },
  {
   "cell_type": "markdown",
   "metadata": {},
   "source": [
    "### ¿Existe una correlación entre la situación familiar y el pago a tiempo? <a id='family'></a>"
   ]
  },
  {
   "cell_type": "code",
   "execution_count": 166,
   "metadata": {},
   "outputs": [
    {
     "name": "stdout",
     "output_type": "stream",
     "text": [
      "0    12339\n",
      "1     4151\n",
      "4     2810\n",
      "3     1195\n",
      "2      959\n",
      "Name: family_status_id, dtype: int64\n",
      "\n",
      "92.45 0 11408\n",
      "90.65 1 3763\n",
      "93.43 2 896\n",
      "92.89 3 1110\n",
      "90.25 4 2536\n"
     ]
    }
   ],
   "source": [
    "print(credit['family_status_id'].value_counts())\n",
    "print()\n",
    "for fam_status in credit['family_status_id'].unique():\n",
    "    fam_count = credit['family_status_id'][(credit['family_status_id'] == fam_status) & (credit['debt'] == 0)].count()\n",
    "    data = credit['family_status_id'][credit['family_status_id'] == fam_status].count()\n",
    "    fam_percent = round(fam_count / data * 100, 2)\n",
    "    print(fam_percent, fam_status, fam_count)"
   ]
  },
  {
   "cell_type": "markdown",
   "metadata": {},
   "source": [
    "De igual manera, estos resultados muestran un cumplimiento de pago muy alto, teniendo en cuenta que los cinco grupos están por encima del 90% de cumplimiento del pago a tiempo\n",
    "\n",
    "Considerando que el significado de cada grupo es:\n",
    "\n",
    "- `0` es 'married'\n",
    "- `1` es 'civil partnership'\n",
    "- `2` es 'widow/widower'\n",
    "- `3` es 'divorced'\n",
    "- `4` es 'unmarried'\n",
    "\n",
    "Se mostrará a continuación una tabla dinámica para accesar a los valores de interés de manera clara y ordenada."
   ]
  },
  {
   "cell_type": "code",
   "execution_count": 167,
   "metadata": {},
   "outputs": [
    {
     "data": {
      "text/html": [
       "<div><div id=d9731211-9e11-416a-a832-dff44dc36336 style=\"display:none; background-color:#9D6CFF; color:white; width:200px; height:30px; padding-left:5px; border-radius:4px; flex-direction:row; justify-content:space-around; align-items:center;\" onmouseover=\"this.style.backgroundColor='#BA9BF8'\" onmouseout=\"this.style.backgroundColor='#9D6CFF'\" onclick=\"window.commands?.execute('create-mitosheet-from-dataframe-output');\">See Full Dataframe in Mito</div> <script> if (window.commands.hasCommand('create-mitosheet-from-dataframe-output')) document.getElementById('d9731211-9e11-416a-a832-dff44dc36336').style.display = 'flex' </script> <table border=\"1\" class=\"dataframe\">\n",
       "  <thead>\n",
       "    <tr>\n",
       "      <th></th>\n",
       "      <th>sum</th>\n",
       "      <th>count</th>\n",
       "      <th>ratio</th>\n",
       "    </tr>\n",
       "    <tr>\n",
       "      <th></th>\n",
       "      <th>debt</th>\n",
       "      <th>debt</th>\n",
       "      <th></th>\n",
       "    </tr>\n",
       "    <tr>\n",
       "      <th>family_status_id</th>\n",
       "      <th></th>\n",
       "      <th></th>\n",
       "      <th></th>\n",
       "    </tr>\n",
       "  </thead>\n",
       "  <tbody>\n",
       "    <tr>\n",
       "      <th>0</th>\n",
       "      <td>931</td>\n",
       "      <td>12339</td>\n",
       "      <td>7.545</td>\n",
       "    </tr>\n",
       "    <tr>\n",
       "      <th>1</th>\n",
       "      <td>388</td>\n",
       "      <td>4151</td>\n",
       "      <td>9.347</td>\n",
       "    </tr>\n",
       "    <tr>\n",
       "      <th>2</th>\n",
       "      <td>63</td>\n",
       "      <td>959</td>\n",
       "      <td>6.569</td>\n",
       "    </tr>\n",
       "    <tr>\n",
       "      <th>3</th>\n",
       "      <td>85</td>\n",
       "      <td>1195</td>\n",
       "      <td>7.113</td>\n",
       "    </tr>\n",
       "    <tr>\n",
       "      <th>4</th>\n",
       "      <td>274</td>\n",
       "      <td>2810</td>\n",
       "      <td>9.751</td>\n",
       "    </tr>\n",
       "  </tbody>\n",
       "</table></div>"
      ],
      "text/plain": [
       "                  sum  count  ratio\n",
       "                 debt   debt       \n",
       "family_status_id                   \n",
       "0                 931  12339  7.545\n",
       "1                 388   4151  9.347\n",
       "2                  63    959  6.569\n",
       "3                  85   1195  7.113\n",
       "4                 274   2810  9.751"
      ]
     },
     "execution_count": 167,
     "metadata": {},
     "output_type": "execute_result"
    }
   ],
   "source": [
    "pivot_table_family_status_id = credit.pivot_table(index = ['family_status_id'], values = ['debt'], aggfunc = ['sum','count'])\n",
    "pivot_table_family_status_id['ratio'] = round(pivot_table_family_status_id[('sum', 'debt')] / pivot_table_family_status_id[('count', 'debt')] *100, 3)\n",
    "pivot_table_family_status_id"
   ]
  },
  {
   "cell_type": "markdown",
   "metadata": {},
   "source": [
    "### ¿Existe una correlación entre el nivel de ingresos y el pago a tiempo? <a id='income'></a>"
   ]
  },
  {
   "cell_type": "code",
   "execution_count": 168,
   "metadata": {},
   "outputs": [
    {
     "name": "stdout",
     "output_type": "stream",
     "text": [
      "1    5479\n",
      "3    5364\n",
      "0    5364\n",
      "2    5247\n",
      "Name: total_income_id, dtype: int64\n",
      "\n",
      "92.86 3 4981\n",
      "91.18 1 4996\n",
      "91.46 2 4799\n",
      "92.04 0 4937\n"
     ]
    },
    {
     "data": {
      "text/plain": [
       "-0.01121101352898981"
      ]
     },
     "execution_count": 168,
     "metadata": {},
     "output_type": "execute_result"
    }
   ],
   "source": [
    "print(credit['total_income_id'].value_counts())\n",
    "print()\n",
    "for total_income_type in credit['total_income_id'].unique():\n",
    "    income_total = credit['total_income_id'][(credit['total_income_id'] == total_income_type) & (credit['debt'] == 0)].count()\n",
    "    data = credit['total_income_id'][credit['total_income_id'] == total_income_type].count()\n",
    "    total_income_percent = round(income_total / data * 100, 2)\n",
    "    print(total_income_percent, total_income_type, income_total)\n",
    "credit['total_income_id'].corr(credit['debt'], method = 'spearman')"
   ]
  },
  {
   "cell_type": "markdown",
   "metadata": {},
   "source": [
    "Con estos resultados se puede llegar a la conclución de que de manera similar a los casos anteriores, no se encuentra una gran diferencia dentro de los grupos. La correlación es negativa lo cual significa que están un poco asociadas pero de manera inversa.\n",
    "\n",
    "Teniendo en cuenta que:\n",
    "\n",
    "- `0` es 'lower middle'\n",
    "- `1` es 'middle'\n",
    "- `2` es 'upper middle'\n",
    "- `3` es 'lower high'\n",
    "\n",
    "En la tabla dinámica se muestran los resultados."
   ]
  },
  {
   "cell_type": "code",
   "execution_count": 169,
   "metadata": {},
   "outputs": [
    {
     "data": {
      "text/html": [
       "<div><div id=e5bf34a9-c949-4ce6-a951-b2172657e2de style=\"display:none; background-color:#9D6CFF; color:white; width:200px; height:30px; padding-left:5px; border-radius:4px; flex-direction:row; justify-content:space-around; align-items:center;\" onmouseover=\"this.style.backgroundColor='#BA9BF8'\" onmouseout=\"this.style.backgroundColor='#9D6CFF'\" onclick=\"window.commands?.execute('create-mitosheet-from-dataframe-output');\">See Full Dataframe in Mito</div> <script> if (window.commands.hasCommand('create-mitosheet-from-dataframe-output')) document.getElementById('e5bf34a9-c949-4ce6-a951-b2172657e2de').style.display = 'flex' </script> <table border=\"1\" class=\"dataframe\">\n",
       "  <thead>\n",
       "    <tr>\n",
       "      <th></th>\n",
       "      <th>sum</th>\n",
       "      <th>count</th>\n",
       "      <th>ratio</th>\n",
       "    </tr>\n",
       "    <tr>\n",
       "      <th></th>\n",
       "      <th>debt</th>\n",
       "      <th>debt</th>\n",
       "      <th></th>\n",
       "    </tr>\n",
       "    <tr>\n",
       "      <th>total_income_id</th>\n",
       "      <th></th>\n",
       "      <th></th>\n",
       "      <th></th>\n",
       "    </tr>\n",
       "  </thead>\n",
       "  <tbody>\n",
       "    <tr>\n",
       "      <th>0</th>\n",
       "      <td>427</td>\n",
       "      <td>5364</td>\n",
       "      <td>7.960</td>\n",
       "    </tr>\n",
       "    <tr>\n",
       "      <th>1</th>\n",
       "      <td>483</td>\n",
       "      <td>5479</td>\n",
       "      <td>8.815</td>\n",
       "    </tr>\n",
       "    <tr>\n",
       "      <th>2</th>\n",
       "      <td>448</td>\n",
       "      <td>5247</td>\n",
       "      <td>8.538</td>\n",
       "    </tr>\n",
       "    <tr>\n",
       "      <th>3</th>\n",
       "      <td>383</td>\n",
       "      <td>5364</td>\n",
       "      <td>7.140</td>\n",
       "    </tr>\n",
       "  </tbody>\n",
       "</table></div>"
      ],
      "text/plain": [
       "                 sum count  ratio\n",
       "                debt  debt       \n",
       "total_income_id                  \n",
       "0                427  5364  7.960\n",
       "1                483  5479  8.815\n",
       "2                448  5247  8.538\n",
       "3                383  5364  7.140"
      ]
     },
     "execution_count": 169,
     "metadata": {},
     "output_type": "execute_result"
    }
   ],
   "source": [
    "pivot_table_total_income= credit.pivot_table(index = ['total_income_id'], values = ['debt'], aggfunc = ['sum','count'])\n",
    "pivot_table_total_income['ratio'] = round(pivot_table_total_income[('sum', 'debt')] / pivot_table_total_income[('count', 'debt')] *100, 3)\n",
    "pivot_table_total_income"
   ]
  },
  {
   "cell_type": "markdown",
   "metadata": {},
   "source": [
    "### ¿Cómo afecta el propósito del crédito a la tasa de incumplimiento? <a id='purpose'></a>"
   ]
  },
  {
   "cell_type": "code",
   "execution_count": 170,
   "metadata": {},
   "outputs": [
    {
     "name": "stdout",
     "output_type": "stream",
     "text": [
      "0    4464\n",
      "4    4306\n",
      "5    4013\n",
      "2    3809\n",
      "3    2538\n",
      "1    2324\n",
      "Name: purpose_id, dtype: int64\n",
      "\n",
      "93.28 2 3553\n",
      "90.64 4 3903\n",
      "90.78 5 3643\n",
      "92.0 1 2138\n",
      "92.47 0 4128\n",
      "92.51 3 2348\n"
     ]
    }
   ],
   "source": [
    "print(credit['purpose_id'].value_counts())\n",
    "print()\n",
    "for purpose_id_1 in credit['purpose_id'].unique():\n",
    "    purpose_total = credit['purpose_id'][(credit['purpose_id'] == purpose_id_1) & (credit['debt'] == 0)].count()\n",
    "    data = credit['purpose_id'][credit['purpose_id'] == purpose_id_1].count()\n",
    "    purpose_percent = round(purpose_total / data * 100, 2)\n",
    "    print(purpose_percent, purpose_id_1, purpose_total)"
   ]
  },
  {
   "cell_type": "markdown",
   "metadata": {},
   "source": [
    "Este caso es similar a los anteriores donde no se observa una gran diferencia entre los grupos y todos tienen un porcentaje muy alto en pago a tiempo. Sin embargo, los datos muestran que las personas que tienen el propósito de comprar un carro y los que necesitan apoyo financiero para estudiar, son los que menos porcentaje tienen, esto se puede deber a que es más probable que personas más jóvenes pidan estos préstamos para estos propósitos.\n",
    "\n",
    "Recordando que:\n",
    "\n",
    "- `0` es 'real' o 'estate'\n",
    "- `1` es 'wedding'\n",
    "- `2` es 'house'\n",
    "- `3` es 'property'\n",
    "- `4` es 'car'\n",
    "- `5` es 'education' o 'university'\n",
    "- `6` es 'other'\n",
    "\n",
    "La tabla dinámica de estos datos será mostrada a continuación:"
   ]
  },
  {
   "cell_type": "code",
   "execution_count": 171,
   "metadata": {},
   "outputs": [
    {
     "data": {
      "text/html": [
       "<div><div id=a1c51037-6a0b-4cc5-9ca8-387081ea364c style=\"display:none; background-color:#9D6CFF; color:white; width:200px; height:30px; padding-left:5px; border-radius:4px; flex-direction:row; justify-content:space-around; align-items:center;\" onmouseover=\"this.style.backgroundColor='#BA9BF8'\" onmouseout=\"this.style.backgroundColor='#9D6CFF'\" onclick=\"window.commands?.execute('create-mitosheet-from-dataframe-output');\">See Full Dataframe in Mito</div> <script> if (window.commands.hasCommand('create-mitosheet-from-dataframe-output')) document.getElementById('a1c51037-6a0b-4cc5-9ca8-387081ea364c').style.display = 'flex' </script> <table border=\"1\" class=\"dataframe\">\n",
       "  <thead>\n",
       "    <tr>\n",
       "      <th></th>\n",
       "      <th>sum</th>\n",
       "      <th>count</th>\n",
       "      <th>ratio</th>\n",
       "    </tr>\n",
       "    <tr>\n",
       "      <th></th>\n",
       "      <th>debt</th>\n",
       "      <th>debt</th>\n",
       "      <th></th>\n",
       "    </tr>\n",
       "    <tr>\n",
       "      <th>purpose_id</th>\n",
       "      <th></th>\n",
       "      <th></th>\n",
       "      <th></th>\n",
       "    </tr>\n",
       "  </thead>\n",
       "  <tbody>\n",
       "    <tr>\n",
       "      <th>0</th>\n",
       "      <td>336</td>\n",
       "      <td>4464</td>\n",
       "      <td>7.527</td>\n",
       "    </tr>\n",
       "    <tr>\n",
       "      <th>1</th>\n",
       "      <td>186</td>\n",
       "      <td>2324</td>\n",
       "      <td>8.003</td>\n",
       "    </tr>\n",
       "    <tr>\n",
       "      <th>2</th>\n",
       "      <td>256</td>\n",
       "      <td>3809</td>\n",
       "      <td>6.721</td>\n",
       "    </tr>\n",
       "    <tr>\n",
       "      <th>3</th>\n",
       "      <td>190</td>\n",
       "      <td>2538</td>\n",
       "      <td>7.486</td>\n",
       "    </tr>\n",
       "    <tr>\n",
       "      <th>4</th>\n",
       "      <td>403</td>\n",
       "      <td>4306</td>\n",
       "      <td>9.359</td>\n",
       "    </tr>\n",
       "    <tr>\n",
       "      <th>5</th>\n",
       "      <td>370</td>\n",
       "      <td>4013</td>\n",
       "      <td>9.220</td>\n",
       "    </tr>\n",
       "  </tbody>\n",
       "</table></div>"
      ],
      "text/plain": [
       "            sum count  ratio\n",
       "           debt  debt       \n",
       "purpose_id                  \n",
       "0           336  4464  7.527\n",
       "1           186  2324  8.003\n",
       "2           256  3809  6.721\n",
       "3           190  2538  7.486\n",
       "4           403  4306  9.359\n",
       "5           370  4013  9.220"
      ]
     },
     "execution_count": 171,
     "metadata": {},
     "output_type": "execute_result"
    }
   ],
   "source": [
    "pivot_table_purpose = credit.pivot_table(index = ['purpose_id'], values = ['debt'], aggfunc = ['sum','count'])\n",
    "pivot_table_purpose['ratio'] = round(pivot_table_purpose[('sum', 'debt')] / pivot_table_purpose[('count', 'debt')] *100, 3)\n",
    "pivot_table_purpose"
   ]
  },
  {
   "cell_type": "markdown",
   "metadata": {},
   "source": [
    "# Conclusión general <a id='end'></a>\n",
    "\n",
    "Después de analizar el conjunto de datos, se puede notar que:\n",
    "\n",
    "- Todos los clientes en `family_status_id`, `children`, `total_income_id` y `purpose_id` pagan sus préstamos a tiempo en más del 90% de las ocaciones.\n",
    "- Las familias con 5 hijos pagan el 100% de las veces a tiempo.\n",
    "- Las personas que buscan el préstamo para comprar un carro, con ingresos medios, n ose casaron  o no están casadas y las personas con 4 hijos, son las que más bajo porcentaje de pagos a tiempo tienen.\n",
    "- La correlación más alta se encuentra en la cantidad de hijos y el pago a tiempo con apenas 0.284\n"
   ]
  }
 ],
 "metadata": {
  "ExecuteTimeLog": [
   {
    "duration": 2741,
    "start_time": "2021-10-21T01:08:49.480Z"
   },
   {
    "duration": 52,
    "start_time": "2021-10-21T01:08:53.315Z"
   },
   {
    "duration": 49,
    "start_time": "2021-10-21T01:08:57.432Z"
   },
   {
    "duration": 70,
    "start_time": "2021-10-21T01:09:07.706Z"
   },
   {
    "duration": 40,
    "start_time": "2022-04-27T05:11:32.384Z"
   },
   {
    "duration": 40,
    "start_time": "2022-04-27T05:11:53.760Z"
   },
   {
    "duration": 4,
    "start_time": "2022-04-27T05:12:41.905Z"
   },
   {
    "duration": 13,
    "start_time": "2022-04-27T05:12:54.373Z"
   },
   {
    "duration": 15,
    "start_time": "2022-04-27T05:14:30.726Z"
   },
   {
    "duration": 20,
    "start_time": "2022-04-27T05:17:01.619Z"
   },
   {
    "duration": 22,
    "start_time": "2022-04-27T05:18:59.884Z"
   },
   {
    "duration": 21,
    "start_time": "2022-04-27T05:19:20.910Z"
   },
   {
    "duration": 18,
    "start_time": "2022-04-27T05:22:40.760Z"
   },
   {
    "duration": 12,
    "start_time": "2022-04-27T05:25:30.866Z"
   },
   {
    "duration": 20,
    "start_time": "2022-04-27T05:25:47.926Z"
   },
   {
    "duration": 14,
    "start_time": "2022-04-27T05:29:14.917Z"
   },
   {
    "duration": 20,
    "start_time": "2022-04-27T05:29:27.824Z"
   },
   {
    "duration": 2182,
    "start_time": "2022-04-27T05:30:25.413Z"
   },
   {
    "duration": 2304,
    "start_time": "2022-04-27T05:30:46.545Z"
   },
   {
    "duration": 2550,
    "start_time": "2022-04-27T05:31:13.314Z"
   },
   {
    "duration": 38,
    "start_time": "2022-04-27T05:31:27.374Z"
   },
   {
    "duration": 8,
    "start_time": "2022-04-27T05:36:28.674Z"
   },
   {
    "duration": 12,
    "start_time": "2022-04-27T05:38:41.311Z"
   },
   {
    "duration": 9,
    "start_time": "2022-04-27T05:38:54.172Z"
   },
   {
    "duration": 21,
    "start_time": "2022-04-27T05:39:21.835Z"
   },
   {
    "duration": 7,
    "start_time": "2022-04-27T05:39:41.692Z"
   },
   {
    "duration": 5,
    "start_time": "2022-04-27T05:39:59.108Z"
   },
   {
    "duration": 6,
    "start_time": "2022-04-27T05:40:15.440Z"
   },
   {
    "duration": 6,
    "start_time": "2022-04-27T05:40:27.360Z"
   },
   {
    "duration": 8,
    "start_time": "2022-04-27T05:40:48.296Z"
   },
   {
    "duration": 7,
    "start_time": "2022-04-27T05:41:02.127Z"
   },
   {
    "duration": 50,
    "start_time": "2022-04-27T18:20:49.617Z"
   },
   {
    "duration": 538,
    "start_time": "2022-04-27T18:21:16.588Z"
   },
   {
    "duration": 10,
    "start_time": "2022-04-27T18:21:17.129Z"
   },
   {
    "duration": 18,
    "start_time": "2022-04-27T18:21:17.140Z"
   },
   {
    "duration": 18,
    "start_time": "2022-04-27T18:21:17.160Z"
   },
   {
    "duration": 43,
    "start_time": "2022-04-27T18:21:17.181Z"
   },
   {
    "duration": 5,
    "start_time": "2022-04-27T18:21:17.226Z"
   },
   {
    "duration": 7,
    "start_time": "2022-04-27T18:21:17.233Z"
   },
   {
    "duration": 16,
    "start_time": "2022-04-27T18:21:17.242Z"
   },
   {
    "duration": 8,
    "start_time": "2022-04-27T18:21:17.260Z"
   },
   {
    "duration": 9,
    "start_time": "2022-04-27T18:21:17.271Z"
   },
   {
    "duration": 10,
    "start_time": "2022-04-27T18:21:17.283Z"
   },
   {
    "duration": 6,
    "start_time": "2022-04-27T18:21:17.295Z"
   },
   {
    "duration": 3,
    "start_time": "2022-04-27T18:21:17.307Z"
   },
   {
    "duration": 2,
    "start_time": "2022-04-27T18:21:17.315Z"
   },
   {
    "duration": 6,
    "start_time": "2022-04-27T18:21:17.319Z"
   },
   {
    "duration": 5,
    "start_time": "2022-04-27T18:21:17.327Z"
   },
   {
    "duration": 5,
    "start_time": "2022-04-27T18:21:17.334Z"
   },
   {
    "duration": 12,
    "start_time": "2022-04-27T18:21:17.341Z"
   },
   {
    "duration": 10,
    "start_time": "2022-04-27T18:21:17.355Z"
   },
   {
    "duration": 6,
    "start_time": "2022-04-27T18:21:17.367Z"
   },
   {
    "duration": 6,
    "start_time": "2022-04-27T18:21:17.375Z"
   },
   {
    "duration": 26,
    "start_time": "2022-04-27T18:21:17.383Z"
   },
   {
    "duration": 9,
    "start_time": "2022-04-27T18:21:17.411Z"
   },
   {
    "duration": 5,
    "start_time": "2022-04-27T18:21:17.423Z"
   },
   {
    "duration": 5,
    "start_time": "2022-04-27T18:21:17.430Z"
   },
   {
    "duration": 6,
    "start_time": "2022-04-27T18:21:17.437Z"
   },
   {
    "duration": 9,
    "start_time": "2022-04-27T18:21:17.445Z"
   },
   {
    "duration": 9,
    "start_time": "2022-04-27T18:21:17.456Z"
   },
   {
    "duration": 7,
    "start_time": "2022-04-27T18:21:17.467Z"
   },
   {
    "duration": 6,
    "start_time": "2022-04-27T18:21:17.476Z"
   },
   {
    "duration": 3,
    "start_time": "2022-04-27T18:21:17.510Z"
   },
   {
    "duration": 8,
    "start_time": "2022-04-27T18:21:17.515Z"
   },
   {
    "duration": 8,
    "start_time": "2022-04-27T18:21:17.525Z"
   },
   {
    "duration": 8,
    "start_time": "2022-04-27T18:21:17.535Z"
   },
   {
    "duration": 8,
    "start_time": "2022-04-27T18:21:17.545Z"
   },
   {
    "duration": 6,
    "start_time": "2022-04-27T18:21:17.555Z"
   },
   {
    "duration": 5,
    "start_time": "2022-04-27T18:21:17.562Z"
   },
   {
    "duration": 7,
    "start_time": "2022-04-27T18:21:17.569Z"
   },
   {
    "duration": 8,
    "start_time": "2022-04-27T18:21:17.577Z"
   },
   {
    "duration": 21,
    "start_time": "2022-04-27T18:21:17.587Z"
   },
   {
    "duration": 9,
    "start_time": "2022-04-27T18:21:17.609Z"
   },
   {
    "duration": 6,
    "start_time": "2022-04-27T18:21:17.620Z"
   },
   {
    "duration": 4,
    "start_time": "2022-04-27T18:21:17.629Z"
   },
   {
    "duration": 3,
    "start_time": "2022-04-27T18:21:17.638Z"
   },
   {
    "duration": 5,
    "start_time": "2022-04-27T18:21:17.643Z"
   },
   {
    "duration": 6,
    "start_time": "2022-04-27T18:21:17.650Z"
   },
   {
    "duration": 6,
    "start_time": "2022-04-27T18:21:17.658Z"
   },
   {
    "duration": 5,
    "start_time": "2022-04-27T18:21:17.666Z"
   },
   {
    "duration": 36,
    "start_time": "2022-04-27T18:21:17.674Z"
   },
   {
    "duration": 5,
    "start_time": "2022-04-27T18:21:17.712Z"
   },
   {
    "duration": 7,
    "start_time": "2022-04-27T18:21:17.719Z"
   },
   {
    "duration": 5,
    "start_time": "2022-04-27T18:21:17.728Z"
   },
   {
    "duration": 6,
    "start_time": "2022-04-27T18:21:17.734Z"
   },
   {
    "duration": 7,
    "start_time": "2022-04-27T18:21:17.741Z"
   },
   {
    "duration": 5,
    "start_time": "2022-04-27T18:21:17.750Z"
   },
   {
    "duration": 5,
    "start_time": "2022-04-27T18:21:17.757Z"
   },
   {
    "duration": 6,
    "start_time": "2022-04-27T18:21:17.763Z"
   },
   {
    "duration": 3,
    "start_time": "2022-04-27T18:21:17.771Z"
   },
   {
    "duration": 4,
    "start_time": "2022-04-27T18:21:17.776Z"
   },
   {
    "duration": 3,
    "start_time": "2022-04-27T18:21:17.808Z"
   },
   {
    "duration": 5,
    "start_time": "2022-04-27T18:21:17.812Z"
   },
   {
    "duration": 6,
    "start_time": "2022-04-27T18:21:17.818Z"
   },
   {
    "duration": 20,
    "start_time": "2022-04-27T18:21:17.826Z"
   },
   {
    "duration": 15,
    "start_time": "2022-04-27T18:21:17.848Z"
   },
   {
    "duration": 4,
    "start_time": "2022-04-27T18:21:17.865Z"
   },
   {
    "duration": 4,
    "start_time": "2022-04-27T18:21:17.871Z"
   },
   {
    "duration": 5,
    "start_time": "2022-04-27T18:21:17.877Z"
   },
   {
    "duration": 4,
    "start_time": "2022-04-27T18:21:17.884Z"
   },
   {
    "duration": 2,
    "start_time": "2022-04-27T18:21:17.907Z"
   },
   {
    "duration": 4,
    "start_time": "2022-04-27T18:21:17.911Z"
   },
   {
    "duration": 3,
    "start_time": "2022-04-27T18:21:17.919Z"
   },
   {
    "duration": 5,
    "start_time": "2022-04-27T18:21:35.291Z"
   },
   {
    "duration": 33,
    "start_time": "2022-04-27T18:24:14.903Z"
   },
   {
    "duration": 6,
    "start_time": "2022-04-27T18:24:24.722Z"
   },
   {
    "duration": 12,
    "start_time": "2022-04-27T18:24:34.985Z"
   },
   {
    "duration": 15,
    "start_time": "2022-04-27T18:26:32.122Z"
   },
   {
    "duration": 7,
    "start_time": "2022-04-27T18:26:40.808Z"
   },
   {
    "duration": 6,
    "start_time": "2022-04-27T18:26:47.312Z"
   },
   {
    "duration": 9,
    "start_time": "2022-04-27T18:28:47.675Z"
   },
   {
    "duration": 9,
    "start_time": "2022-04-27T18:29:06.053Z"
   },
   {
    "duration": 7,
    "start_time": "2022-04-27T18:30:25.173Z"
   },
   {
    "duration": 7,
    "start_time": "2022-04-27T18:31:43.947Z"
   },
   {
    "duration": 8,
    "start_time": "2022-04-27T18:31:49.730Z"
   },
   {
    "duration": 10,
    "start_time": "2022-04-27T18:32:20.194Z"
   },
   {
    "duration": 4,
    "start_time": "2022-04-27T19:04:38.222Z"
   },
   {
    "duration": 4,
    "start_time": "2022-04-27T19:04:59.691Z"
   },
   {
    "duration": 64,
    "start_time": "2022-04-27T19:05:10.796Z"
   },
   {
    "duration": 72,
    "start_time": "2022-04-27T19:05:16.153Z"
   },
   {
    "duration": 5,
    "start_time": "2022-04-27T19:05:23.485Z"
   },
   {
    "duration": 4,
    "start_time": "2022-04-27T19:09:29.985Z"
   },
   {
    "duration": 4,
    "start_time": "2022-04-27T19:09:44.711Z"
   },
   {
    "duration": 98,
    "start_time": "2022-04-27T19:10:05.338Z"
   },
   {
    "duration": 5,
    "start_time": "2022-04-27T19:10:10.093Z"
   },
   {
    "duration": 26,
    "start_time": "2022-04-27T19:18:38.604Z"
   },
   {
    "duration": 41,
    "start_time": "2022-04-27T19:18:48.109Z"
   },
   {
    "duration": 21,
    "start_time": "2022-04-27T20:10:39.672Z"
   },
   {
    "duration": 1067,
    "start_time": "2022-04-27T20:14:40.046Z"
   },
   {
    "duration": 22,
    "start_time": "2022-04-27T20:14:47.350Z"
   },
   {
    "duration": 2,
    "start_time": "2022-04-27T20:16:11.932Z"
   },
   {
    "duration": 586,
    "start_time": "2022-04-28T17:40:13.185Z"
   },
   {
    "duration": 13,
    "start_time": "2022-04-28T17:40:13.774Z"
   },
   {
    "duration": 27,
    "start_time": "2022-04-28T17:40:13.789Z"
   },
   {
    "duration": 21,
    "start_time": "2022-04-28T17:40:13.819Z"
   },
   {
    "duration": 69,
    "start_time": "2022-04-28T17:40:13.843Z"
   },
   {
    "duration": 12,
    "start_time": "2022-04-28T17:40:13.915Z"
   },
   {
    "duration": 30,
    "start_time": "2022-04-28T17:40:19.669Z"
   },
   {
    "duration": 32,
    "start_time": "2022-04-28T17:47:59.109Z"
   },
   {
    "duration": 44,
    "start_time": "2022-04-28T17:49:23.012Z"
   },
   {
    "duration": 44,
    "start_time": "2022-04-28T17:49:45.443Z"
   },
   {
    "duration": 45,
    "start_time": "2022-04-28T17:50:43.999Z"
   },
   {
    "duration": 16,
    "start_time": "2022-04-28T17:52:08.937Z"
   },
   {
    "duration": 32,
    "start_time": "2022-04-28T17:55:13.960Z"
   },
   {
    "duration": 22,
    "start_time": "2022-04-28T17:56:18.376Z"
   },
   {
    "duration": 17,
    "start_time": "2022-04-28T17:56:24.751Z"
   },
   {
    "duration": 42,
    "start_time": "2022-04-28T17:56:35.696Z"
   },
   {
    "duration": 3,
    "start_time": "2022-04-28T18:28:09.995Z"
   },
   {
    "duration": 515,
    "start_time": "2022-05-03T22:11:48.479Z"
   },
   {
    "duration": 12,
    "start_time": "2022-05-03T22:11:48.998Z"
   },
   {
    "duration": 20,
    "start_time": "2022-05-03T22:11:49.011Z"
   },
   {
    "duration": 15,
    "start_time": "2022-05-03T22:11:49.033Z"
   },
   {
    "duration": 52,
    "start_time": "2022-05-03T22:11:49.049Z"
   },
   {
    "duration": 12,
    "start_time": "2022-05-03T22:11:49.103Z"
   },
   {
    "duration": 36,
    "start_time": "2022-05-03T22:11:49.117Z"
   },
   {
    "duration": 51,
    "start_time": "2022-05-03T22:11:49.155Z"
   },
   {
    "duration": 9,
    "start_time": "2022-05-03T22:11:49.208Z"
   },
   {
    "duration": 4,
    "start_time": "2022-05-03T22:11:49.220Z"
   },
   {
    "duration": 4,
    "start_time": "2022-05-03T22:11:49.226Z"
   },
   {
    "duration": 5,
    "start_time": "2022-05-03T22:11:49.232Z"
   },
   {
    "duration": 4,
    "start_time": "2022-05-03T22:11:49.239Z"
   },
   {
    "duration": 5,
    "start_time": "2022-05-03T22:11:49.245Z"
   },
   {
    "duration": 5,
    "start_time": "2022-05-03T22:11:49.251Z"
   },
   {
    "duration": 7,
    "start_time": "2022-05-03T22:11:49.257Z"
   },
   {
    "duration": 39,
    "start_time": "2022-05-03T22:11:49.265Z"
   },
   {
    "duration": 5,
    "start_time": "2022-05-03T22:11:49.306Z"
   },
   {
    "duration": 16,
    "start_time": "2022-05-03T22:11:49.314Z"
   },
   {
    "duration": 7,
    "start_time": "2022-05-03T22:11:49.332Z"
   },
   {
    "duration": 7,
    "start_time": "2022-05-03T22:11:49.341Z"
   },
   {
    "duration": 7,
    "start_time": "2022-05-03T22:11:49.349Z"
   },
   {
    "duration": 8,
    "start_time": "2022-05-03T22:11:49.357Z"
   },
   {
    "duration": 7,
    "start_time": "2022-05-03T22:11:49.366Z"
   },
   {
    "duration": 29,
    "start_time": "2022-05-03T22:11:49.374Z"
   },
   {
    "duration": 18,
    "start_time": "2022-05-03T22:11:49.405Z"
   },
   {
    "duration": 31,
    "start_time": "2022-05-03T22:11:49.425Z"
   },
   {
    "duration": 10,
    "start_time": "2022-05-03T22:11:49.460Z"
   },
   {
    "duration": 27,
    "start_time": "2022-05-03T22:11:49.471Z"
   },
   {
    "duration": 28,
    "start_time": "2022-05-03T22:11:49.500Z"
   },
   {
    "duration": 21,
    "start_time": "2022-05-03T22:11:49.529Z"
   },
   {
    "duration": 24,
    "start_time": "2022-05-03T22:11:49.552Z"
   },
   {
    "duration": 6,
    "start_time": "2022-05-03T22:11:49.578Z"
   },
   {
    "duration": 21,
    "start_time": "2022-05-03T22:11:49.586Z"
   },
   {
    "duration": 15,
    "start_time": "2022-05-03T22:11:49.609Z"
   },
   {
    "duration": 16,
    "start_time": "2022-05-03T22:11:49.626Z"
   },
   {
    "duration": 19,
    "start_time": "2022-05-03T22:11:49.644Z"
   },
   {
    "duration": 17,
    "start_time": "2022-05-03T22:11:49.664Z"
   },
   {
    "duration": 8,
    "start_time": "2022-05-03T22:11:49.683Z"
   },
   {
    "duration": 4,
    "start_time": "2022-05-03T22:11:49.697Z"
   },
   {
    "duration": 16,
    "start_time": "2022-05-03T22:11:49.703Z"
   },
   {
    "duration": 10,
    "start_time": "2022-05-03T22:11:49.721Z"
   },
   {
    "duration": 14,
    "start_time": "2022-05-03T22:11:49.732Z"
   },
   {
    "duration": 8,
    "start_time": "2022-05-03T22:11:49.748Z"
   },
   {
    "duration": 9,
    "start_time": "2022-05-03T22:11:49.758Z"
   },
   {
    "duration": 8,
    "start_time": "2022-05-03T22:11:49.768Z"
   },
   {
    "duration": 9,
    "start_time": "2022-05-03T22:11:49.777Z"
   },
   {
    "duration": 23,
    "start_time": "2022-05-03T22:11:49.787Z"
   },
   {
    "duration": 6,
    "start_time": "2022-05-03T22:11:49.812Z"
   },
   {
    "duration": 8,
    "start_time": "2022-05-03T22:11:49.820Z"
   },
   {
    "duration": 8,
    "start_time": "2022-05-03T22:11:49.830Z"
   },
   {
    "duration": 7,
    "start_time": "2022-05-03T22:11:49.839Z"
   },
   {
    "duration": 6,
    "start_time": "2022-05-03T22:11:49.848Z"
   },
   {
    "duration": 8,
    "start_time": "2022-05-03T22:11:49.855Z"
   },
   {
    "duration": 8,
    "start_time": "2022-05-03T22:11:49.865Z"
   },
   {
    "duration": 9,
    "start_time": "2022-05-03T22:11:49.874Z"
   },
   {
    "duration": 11,
    "start_time": "2022-05-03T22:11:49.884Z"
   },
   {
    "duration": 9,
    "start_time": "2022-05-03T22:11:49.897Z"
   },
   {
    "duration": 14,
    "start_time": "2022-05-03T22:11:49.907Z"
   },
   {
    "duration": 7,
    "start_time": "2022-05-03T22:11:49.923Z"
   },
   {
    "duration": 8,
    "start_time": "2022-05-03T22:11:49.932Z"
   },
   {
    "duration": 8,
    "start_time": "2022-05-03T22:11:49.942Z"
   },
   {
    "duration": 7,
    "start_time": "2022-05-03T22:11:49.952Z"
   },
   {
    "duration": 9,
    "start_time": "2022-05-03T22:11:49.960Z"
   },
   {
    "duration": 10,
    "start_time": "2022-05-03T22:11:49.970Z"
   },
   {
    "duration": 8,
    "start_time": "2022-05-03T22:11:49.981Z"
   },
   {
    "duration": 13,
    "start_time": "2022-05-03T22:11:49.990Z"
   },
   {
    "duration": 7,
    "start_time": "2022-05-03T22:11:50.005Z"
   },
   {
    "duration": 7,
    "start_time": "2022-05-03T22:11:50.014Z"
   },
   {
    "duration": 9,
    "start_time": "2022-05-03T22:11:50.023Z"
   },
   {
    "duration": 9,
    "start_time": "2022-05-03T22:11:50.041Z"
   },
   {
    "duration": 21,
    "start_time": "2022-05-03T22:13:44.648Z"
   },
   {
    "duration": 49,
    "start_time": "2022-05-03T22:15:23.527Z"
   },
   {
    "duration": 59,
    "start_time": "2022-05-03T22:22:52.980Z"
   },
   {
    "duration": 67,
    "start_time": "2022-05-03T22:25:57.226Z"
   },
   {
    "duration": 2167,
    "start_time": "2022-05-03T22:27:30.345Z"
   },
   {
    "duration": 137,
    "start_time": "2022-05-03T22:27:50.619Z"
   },
   {
    "duration": 32,
    "start_time": "2022-05-03T22:28:12.595Z"
   },
   {
    "duration": 2,
    "start_time": "2022-05-03T22:31:16.794Z"
   },
   {
    "duration": 2240,
    "start_time": "2022-05-04T19:18:34.073Z"
   },
   {
    "duration": 37,
    "start_time": "2022-05-04T19:18:49.282Z"
   },
   {
    "duration": 4,
    "start_time": "2022-05-04T19:18:49.321Z"
   },
   {
    "duration": 14,
    "start_time": "2022-05-04T19:18:49.327Z"
   },
   {
    "duration": 16,
    "start_time": "2022-05-04T19:18:49.343Z"
   },
   {
    "duration": 24,
    "start_time": "2022-05-04T19:18:49.360Z"
   },
   {
    "duration": 7,
    "start_time": "2022-05-04T19:18:49.386Z"
   },
   {
    "duration": 30,
    "start_time": "2022-05-04T19:18:49.394Z"
   },
   {
    "duration": 29,
    "start_time": "2022-05-04T19:18:49.426Z"
   },
   {
    "duration": 2190,
    "start_time": "2022-05-04T19:18:49.457Z"
   },
   {
    "duration": 34,
    "start_time": "2022-05-04T19:19:13.725Z"
   },
   {
    "duration": 52,
    "start_time": "2022-05-04T19:21:12.765Z"
   },
   {
    "duration": 15,
    "start_time": "2022-05-04T19:22:46.065Z"
   },
   {
    "duration": 8,
    "start_time": "2022-05-04T19:22:54.105Z"
   },
   {
    "duration": 67,
    "start_time": "2022-05-04T19:23:30.066Z"
   },
   {
    "duration": 60,
    "start_time": "2022-05-04T19:23:33.202Z"
   },
   {
    "duration": 140,
    "start_time": "2022-05-04T19:24:05.122Z"
   },
   {
    "duration": 32,
    "start_time": "2022-05-04T19:25:38.915Z"
   },
   {
    "duration": 137,
    "start_time": "2022-05-04T19:40:40.910Z"
   },
   {
    "duration": 132,
    "start_time": "2022-05-04T19:40:49.816Z"
   },
   {
    "duration": 138,
    "start_time": "2022-05-04T19:41:03.595Z"
   },
   {
    "duration": 11,
    "start_time": "2022-05-04T19:41:49.866Z"
   },
   {
    "duration": 2101,
    "start_time": "2022-05-04T19:42:27.512Z"
   },
   {
    "duration": 11,
    "start_time": "2022-05-04T19:42:59.552Z"
   },
   {
    "duration": 12,
    "start_time": "2022-05-04T19:43:28.773Z"
   },
   {
    "duration": 11,
    "start_time": "2022-05-04T19:43:47.538Z"
   },
   {
    "duration": 16,
    "start_time": "2022-05-04T19:44:06.497Z"
   },
   {
    "duration": 22,
    "start_time": "2022-05-04T19:44:33.592Z"
   },
   {
    "duration": 36,
    "start_time": "2022-05-04T19:44:48.099Z"
   },
   {
    "duration": 33,
    "start_time": "2022-05-04T19:45:10.706Z"
   },
   {
    "duration": 32,
    "start_time": "2022-05-04T19:45:25.640Z"
   },
   {
    "duration": 28,
    "start_time": "2022-05-04T19:45:37.003Z"
   },
   {
    "duration": 106,
    "start_time": "2022-05-04T19:45:42.706Z"
   },
   {
    "duration": 24,
    "start_time": "2022-05-04T19:46:04.168Z"
   },
   {
    "duration": 88,
    "start_time": "2022-05-04T20:02:01.863Z"
   },
   {
    "duration": 19,
    "start_time": "2022-05-04T20:15:19.918Z"
   },
   {
    "duration": 14,
    "start_time": "2022-05-04T20:15:30.767Z"
   },
   {
    "duration": 12,
    "start_time": "2022-05-04T20:22:15.915Z"
   },
   {
    "duration": 5,
    "start_time": "2022-05-04T22:38:41.813Z"
   },
   {
    "duration": 5,
    "start_time": "2022-05-04T22:38:55.273Z"
   },
   {
    "duration": 10,
    "start_time": "2022-05-04T22:42:04.951Z"
   },
   {
    "duration": 9,
    "start_time": "2022-05-04T22:42:14.844Z"
   },
   {
    "duration": 13,
    "start_time": "2022-05-04T22:42:21.611Z"
   },
   {
    "duration": 10,
    "start_time": "2022-05-04T22:42:34.688Z"
   },
   {
    "duration": 5,
    "start_time": "2022-05-04T22:42:40.816Z"
   },
   {
    "duration": 5,
    "start_time": "2022-05-04T22:43:37.573Z"
   },
   {
    "duration": 5,
    "start_time": "2022-05-04T22:43:46.458Z"
   },
   {
    "duration": 4,
    "start_time": "2022-05-04T22:53:28.652Z"
   },
   {
    "duration": 6,
    "start_time": "2022-05-04T22:53:40.768Z"
   },
   {
    "duration": 6,
    "start_time": "2022-05-04T22:53:48.760Z"
   },
   {
    "duration": 4,
    "start_time": "2022-05-04T22:54:00.954Z"
   },
   {
    "duration": 6,
    "start_time": "2022-05-04T22:54:02.758Z"
   },
   {
    "duration": 6,
    "start_time": "2022-05-04T22:54:12.061Z"
   },
   {
    "duration": 6,
    "start_time": "2022-05-04T22:54:14.016Z"
   },
   {
    "duration": 6,
    "start_time": "2022-05-04T22:57:16.738Z"
   },
   {
    "duration": 6,
    "start_time": "2022-05-04T22:58:03.078Z"
   },
   {
    "duration": 4,
    "start_time": "2022-05-04T23:03:48.430Z"
   },
   {
    "duration": 4,
    "start_time": "2022-05-04T23:04:19.440Z"
   },
   {
    "duration": 6,
    "start_time": "2022-05-04T23:04:26.605Z"
   },
   {
    "duration": 6,
    "start_time": "2022-05-04T23:04:36.245Z"
   },
   {
    "duration": 7,
    "start_time": "2022-05-04T23:04:46.513Z"
   },
   {
    "duration": 6,
    "start_time": "2022-05-04T23:05:20.690Z"
   },
   {
    "duration": 6,
    "start_time": "2022-05-04T23:06:07.890Z"
   },
   {
    "duration": 9,
    "start_time": "2022-05-04T23:06:37.346Z"
   },
   {
    "duration": 7,
    "start_time": "2022-05-04T23:06:53.703Z"
   },
   {
    "duration": 13,
    "start_time": "2022-05-04T23:07:43.395Z"
   },
   {
    "duration": 5,
    "start_time": "2022-05-04T23:08:07.035Z"
   },
   {
    "duration": 6,
    "start_time": "2022-05-04T23:08:08.903Z"
   },
   {
    "duration": 13,
    "start_time": "2022-05-04T23:08:20.852Z"
   },
   {
    "duration": 4,
    "start_time": "2022-05-04T23:10:03.045Z"
   },
   {
    "duration": 6,
    "start_time": "2022-05-04T23:10:04.577Z"
   },
   {
    "duration": 15,
    "start_time": "2022-05-04T23:10:07.993Z"
   },
   {
    "duration": 4,
    "start_time": "2022-05-04T23:10:17.589Z"
   },
   {
    "duration": 6,
    "start_time": "2022-05-04T23:10:19.470Z"
   },
   {
    "duration": 12,
    "start_time": "2022-05-04T23:10:21.497Z"
   },
   {
    "duration": 6,
    "start_time": "2022-05-04T23:10:46.093Z"
   },
   {
    "duration": 6,
    "start_time": "2022-05-04T23:10:49.330Z"
   },
   {
    "duration": 42,
    "start_time": "2022-05-04T23:11:05.426Z"
   },
   {
    "duration": 4,
    "start_time": "2022-05-04T23:11:05.470Z"
   },
   {
    "duration": 20,
    "start_time": "2022-05-04T23:11:05.475Z"
   },
   {
    "duration": 24,
    "start_time": "2022-05-04T23:11:05.497Z"
   },
   {
    "duration": 33,
    "start_time": "2022-05-04T23:11:05.522Z"
   },
   {
    "duration": 7,
    "start_time": "2022-05-04T23:11:05.557Z"
   },
   {
    "duration": 21,
    "start_time": "2022-05-04T23:11:05.565Z"
   },
   {
    "duration": 11,
    "start_time": "2022-05-04T23:11:05.588Z"
   },
   {
    "duration": 11,
    "start_time": "2022-05-04T23:11:05.610Z"
   },
   {
    "duration": 51,
    "start_time": "2022-05-04T23:11:05.622Z"
   },
   {
    "duration": 122,
    "start_time": "2022-05-04T23:11:05.675Z"
   },
   {
    "duration": 23,
    "start_time": "2022-05-04T23:11:05.799Z"
   },
   {
    "duration": 97,
    "start_time": "2022-05-04T23:11:05.824Z"
   },
   {
    "duration": 5,
    "start_time": "2022-05-04T23:11:05.922Z"
   },
   {
    "duration": 14,
    "start_time": "2022-05-04T23:11:05.928Z"
   },
   {
    "duration": 12,
    "start_time": "2022-05-04T23:11:05.943Z"
   },
   {
    "duration": 9,
    "start_time": "2022-05-04T23:11:05.957Z"
   },
   {
    "duration": 4,
    "start_time": "2022-05-04T23:11:05.967Z"
   },
   {
    "duration": 6,
    "start_time": "2022-05-04T23:11:09.567Z"
   },
   {
    "duration": 5,
    "start_time": "2022-05-04T23:11:19.062Z"
   },
   {
    "duration": 6,
    "start_time": "2022-05-04T23:11:20.618Z"
   },
   {
    "duration": 4,
    "start_time": "2022-05-04T23:11:38.883Z"
   },
   {
    "duration": 5,
    "start_time": "2022-05-04T23:11:40.665Z"
   },
   {
    "duration": 5,
    "start_time": "2022-05-04T23:12:05.883Z"
   },
   {
    "duration": 4,
    "start_time": "2022-05-04T23:12:08.471Z"
   },
   {
    "duration": 5,
    "start_time": "2022-05-04T23:12:10.311Z"
   },
   {
    "duration": 6,
    "start_time": "2022-05-04T23:12:44.875Z"
   },
   {
    "duration": 5,
    "start_time": "2022-05-04T23:13:05.900Z"
   },
   {
    "duration": 5,
    "start_time": "2022-05-04T23:13:08.624Z"
   },
   {
    "duration": 6,
    "start_time": "2022-05-04T23:13:44.976Z"
   },
   {
    "duration": 5,
    "start_time": "2022-05-04T23:13:47.204Z"
   },
   {
    "duration": 5,
    "start_time": "2022-05-04T23:13:58.789Z"
   },
   {
    "duration": 5,
    "start_time": "2022-05-04T23:14:01.220Z"
   },
   {
    "duration": 5,
    "start_time": "2022-05-04T23:14:14.041Z"
   },
   {
    "duration": 5,
    "start_time": "2022-05-04T23:14:15.557Z"
   },
   {
    "duration": 6,
    "start_time": "2022-05-04T23:14:19.948Z"
   },
   {
    "duration": 6,
    "start_time": "2022-05-04T23:14:23.528Z"
   },
   {
    "duration": 5,
    "start_time": "2022-05-04T23:14:25.174Z"
   },
   {
    "duration": 5,
    "start_time": "2022-05-04T23:14:38.813Z"
   },
   {
    "duration": 5,
    "start_time": "2022-05-04T23:14:41.213Z"
   },
   {
    "duration": 38,
    "start_time": "2022-05-04T23:14:53.325Z"
   },
   {
    "duration": 3,
    "start_time": "2022-05-04T23:14:53.365Z"
   },
   {
    "duration": 22,
    "start_time": "2022-05-04T23:14:53.369Z"
   },
   {
    "duration": 31,
    "start_time": "2022-05-04T23:14:53.393Z"
   },
   {
    "duration": 34,
    "start_time": "2022-05-04T23:14:53.426Z"
   },
   {
    "duration": 8,
    "start_time": "2022-05-04T23:14:53.461Z"
   },
   {
    "duration": 18,
    "start_time": "2022-05-04T23:14:53.471Z"
   },
   {
    "duration": 11,
    "start_time": "2022-05-04T23:14:53.491Z"
   },
   {
    "duration": 28,
    "start_time": "2022-05-04T23:14:53.504Z"
   },
   {
    "duration": 48,
    "start_time": "2022-05-04T23:14:53.534Z"
   },
   {
    "duration": 110,
    "start_time": "2022-05-04T23:14:53.584Z"
   },
   {
    "duration": 22,
    "start_time": "2022-05-04T23:14:53.696Z"
   },
   {
    "duration": 97,
    "start_time": "2022-05-04T23:14:53.719Z"
   },
   {
    "duration": 4,
    "start_time": "2022-05-04T23:14:53.818Z"
   },
   {
    "duration": 13,
    "start_time": "2022-05-04T23:14:53.824Z"
   },
   {
    "duration": 20,
    "start_time": "2022-05-04T23:14:53.838Z"
   },
   {
    "duration": 19,
    "start_time": "2022-05-04T23:14:53.860Z"
   },
   {
    "duration": 12,
    "start_time": "2022-05-04T23:14:53.881Z"
   },
   {
    "duration": 6,
    "start_time": "2022-05-04T23:14:57.983Z"
   },
   {
    "duration": 6,
    "start_time": "2022-05-04T23:15:52.542Z"
   },
   {
    "duration": 5,
    "start_time": "2022-05-04T23:15:54.118Z"
   },
   {
    "duration": 7,
    "start_time": "2022-05-04T23:16:02.989Z"
   },
   {
    "duration": 5,
    "start_time": "2022-05-04T23:16:04.459Z"
   },
   {
    "duration": 6,
    "start_time": "2022-05-04T23:17:56.976Z"
   },
   {
    "duration": 6,
    "start_time": "2022-05-04T23:17:59.580Z"
   },
   {
    "duration": 38,
    "start_time": "2022-05-04T23:18:04.303Z"
   },
   {
    "duration": 3,
    "start_time": "2022-05-04T23:18:04.343Z"
   },
   {
    "duration": 21,
    "start_time": "2022-05-04T23:18:04.347Z"
   },
   {
    "duration": 20,
    "start_time": "2022-05-04T23:18:04.369Z"
   },
   {
    "duration": 18,
    "start_time": "2022-05-04T23:18:04.390Z"
   },
   {
    "duration": 11,
    "start_time": "2022-05-04T23:18:04.410Z"
   },
   {
    "duration": 39,
    "start_time": "2022-05-04T23:18:04.422Z"
   },
   {
    "duration": 10,
    "start_time": "2022-05-04T23:18:04.463Z"
   },
   {
    "duration": 12,
    "start_time": "2022-05-04T23:18:04.475Z"
   },
   {
    "duration": 26,
    "start_time": "2022-05-04T23:18:04.490Z"
   },
   {
    "duration": 143,
    "start_time": "2022-05-04T23:18:04.518Z"
   },
   {
    "duration": 22,
    "start_time": "2022-05-04T23:18:04.662Z"
   },
   {
    "duration": 93,
    "start_time": "2022-05-04T23:18:04.685Z"
   },
   {
    "duration": 5,
    "start_time": "2022-05-04T23:18:04.780Z"
   },
   {
    "duration": 11,
    "start_time": "2022-05-04T23:18:04.786Z"
   },
   {
    "duration": 12,
    "start_time": "2022-05-04T23:18:04.798Z"
   },
   {
    "duration": 26,
    "start_time": "2022-05-04T23:18:04.811Z"
   },
   {
    "duration": 15,
    "start_time": "2022-05-04T23:18:04.838Z"
   },
   {
    "duration": 10,
    "start_time": "2022-05-04T23:18:04.854Z"
   },
   {
    "duration": 18,
    "start_time": "2022-05-04T23:18:04.865Z"
   },
   {
    "duration": 10,
    "start_time": "2022-05-04T23:18:04.885Z"
   },
   {
    "duration": 12,
    "start_time": "2022-05-04T23:18:04.896Z"
   },
   {
    "duration": 9,
    "start_time": "2022-05-04T23:18:04.910Z"
   },
   {
    "duration": 14,
    "start_time": "2022-05-04T23:18:04.920Z"
   },
   {
    "duration": 10,
    "start_time": "2022-05-04T23:18:04.936Z"
   },
   {
    "duration": 9,
    "start_time": "2022-05-04T23:18:04.947Z"
   },
   {
    "duration": 8,
    "start_time": "2022-05-04T23:18:04.958Z"
   },
   {
    "duration": 9,
    "start_time": "2022-05-04T23:18:04.970Z"
   },
   {
    "duration": 14,
    "start_time": "2022-05-04T23:18:04.980Z"
   },
   {
    "duration": 10,
    "start_time": "2022-05-04T23:18:04.995Z"
   },
   {
    "duration": 13,
    "start_time": "2022-05-04T23:18:05.007Z"
   },
   {
    "duration": 10,
    "start_time": "2022-05-04T23:18:05.022Z"
   },
   {
    "duration": 9,
    "start_time": "2022-05-04T23:18:05.033Z"
   },
   {
    "duration": 9,
    "start_time": "2022-05-04T23:18:05.043Z"
   },
   {
    "duration": 10,
    "start_time": "2022-05-04T23:18:05.053Z"
   },
   {
    "duration": 14,
    "start_time": "2022-05-04T23:18:05.065Z"
   },
   {
    "duration": 26,
    "start_time": "2022-05-04T23:18:05.080Z"
   },
   {
    "duration": 20,
    "start_time": "2022-05-04T23:18:05.108Z"
   },
   {
    "duration": 16,
    "start_time": "2022-05-04T23:18:05.130Z"
   },
   {
    "duration": 14,
    "start_time": "2022-05-04T23:18:05.148Z"
   },
   {
    "duration": 15,
    "start_time": "2022-05-04T23:18:05.163Z"
   },
   {
    "duration": 8,
    "start_time": "2022-05-04T23:18:05.179Z"
   },
   {
    "duration": 14,
    "start_time": "2022-05-04T23:18:05.188Z"
   },
   {
    "duration": 10,
    "start_time": "2022-05-04T23:18:05.203Z"
   },
   {
    "duration": 7,
    "start_time": "2022-05-04T23:18:05.214Z"
   },
   {
    "duration": 13,
    "start_time": "2022-05-04T23:18:05.222Z"
   },
   {
    "duration": 12,
    "start_time": "2022-05-04T23:18:05.236Z"
   },
   {
    "duration": 10,
    "start_time": "2022-05-04T23:18:05.249Z"
   },
   {
    "duration": 14,
    "start_time": "2022-05-04T23:18:05.261Z"
   },
   {
    "duration": 12,
    "start_time": "2022-05-04T23:18:05.277Z"
   },
   {
    "duration": 22,
    "start_time": "2022-05-04T23:18:05.291Z"
   },
   {
    "duration": 6,
    "start_time": "2022-05-04T23:18:05.314Z"
   },
   {
    "duration": 6,
    "start_time": "2022-05-04T23:18:05.322Z"
   },
   {
    "duration": 10,
    "start_time": "2022-05-04T23:18:05.330Z"
   },
   {
    "duration": 7,
    "start_time": "2022-05-04T23:18:05.341Z"
   },
   {
    "duration": 7,
    "start_time": "2022-05-04T23:18:05.350Z"
   },
   {
    "duration": 11,
    "start_time": "2022-05-04T23:18:05.359Z"
   },
   {
    "duration": 10,
    "start_time": "2022-05-04T23:18:05.372Z"
   },
   {
    "duration": 9,
    "start_time": "2022-05-04T23:18:05.384Z"
   },
   {
    "duration": 13,
    "start_time": "2022-05-04T23:18:05.395Z"
   },
   {
    "duration": 17,
    "start_time": "2022-05-04T23:18:05.409Z"
   },
   {
    "duration": 20,
    "start_time": "2022-05-04T23:18:05.427Z"
   },
   {
    "duration": 13,
    "start_time": "2022-05-04T23:18:05.449Z"
   },
   {
    "duration": 15,
    "start_time": "2022-05-04T23:18:05.464Z"
   },
   {
    "duration": 21,
    "start_time": "2022-05-04T23:18:05.481Z"
   },
   {
    "duration": 16,
    "start_time": "2022-05-04T23:18:05.503Z"
   },
   {
    "duration": 17,
    "start_time": "2022-05-04T23:18:05.521Z"
   },
   {
    "duration": 11,
    "start_time": "2022-05-04T23:18:05.540Z"
   },
   {
    "duration": 21,
    "start_time": "2022-05-04T23:18:05.553Z"
   },
   {
    "duration": 17,
    "start_time": "2022-05-04T23:18:05.575Z"
   },
   {
    "duration": 11,
    "start_time": "2022-05-04T23:18:05.594Z"
   },
   {
    "duration": 8,
    "start_time": "2022-05-04T23:18:05.607Z"
   },
   {
    "duration": 8,
    "start_time": "2022-05-04T23:18:05.617Z"
   },
   {
    "duration": 7,
    "start_time": "2022-05-04T23:18:05.627Z"
   },
   {
    "duration": 4,
    "start_time": "2022-05-04T23:24:07.868Z"
   },
   {
    "duration": 5,
    "start_time": "2022-05-04T23:26:19.139Z"
   },
   {
    "duration": 4,
    "start_time": "2022-05-04T23:26:23.238Z"
   },
   {
    "duration": 7,
    "start_time": "2022-05-04T23:46:34.650Z"
   },
   {
    "duration": 9,
    "start_time": "2022-05-04T23:46:53.258Z"
   },
   {
    "duration": 7,
    "start_time": "2022-05-04T23:47:02.238Z"
   },
   {
    "duration": 7,
    "start_time": "2022-05-04T23:47:16.003Z"
   },
   {
    "duration": 7,
    "start_time": "2022-05-04T23:47:32.866Z"
   },
   {
    "duration": 7,
    "start_time": "2022-05-04T23:47:50.702Z"
   },
   {
    "duration": 7,
    "start_time": "2022-05-04T23:50:35.780Z"
   },
   {
    "duration": 7,
    "start_time": "2022-05-04T23:52:58.966Z"
   },
   {
    "duration": 7,
    "start_time": "2022-05-05T04:17:42.751Z"
   },
   {
    "duration": 4,
    "start_time": "2022-05-05T04:22:30.599Z"
   },
   {
    "duration": 7,
    "start_time": "2022-05-05T04:24:24.128Z"
   },
   {
    "duration": 7,
    "start_time": "2022-05-05T05:09:40.016Z"
   },
   {
    "duration": 7,
    "start_time": "2022-05-05T05:11:24.560Z"
   },
   {
    "duration": 7,
    "start_time": "2022-05-05T05:12:00.356Z"
   },
   {
    "duration": 429,
    "start_time": "2022-05-05T21:05:53.245Z"
   },
   {
    "duration": 9,
    "start_time": "2022-05-05T21:05:53.676Z"
   },
   {
    "duration": 20,
    "start_time": "2022-05-05T21:05:53.686Z"
   },
   {
    "duration": 15,
    "start_time": "2022-05-05T21:05:53.708Z"
   },
   {
    "duration": 19,
    "start_time": "2022-05-05T21:05:53.725Z"
   },
   {
    "duration": 7,
    "start_time": "2022-05-05T21:05:53.746Z"
   },
   {
    "duration": 53,
    "start_time": "2022-05-05T21:05:53.755Z"
   },
   {
    "duration": 14,
    "start_time": "2022-05-05T21:05:53.810Z"
   },
   {
    "duration": 10,
    "start_time": "2022-05-05T21:05:53.825Z"
   },
   {
    "duration": 62,
    "start_time": "2022-05-05T21:05:53.838Z"
   },
   {
    "duration": 131,
    "start_time": "2022-05-05T21:05:53.902Z"
   },
   {
    "duration": 27,
    "start_time": "2022-05-05T21:05:54.035Z"
   },
   {
    "duration": 129,
    "start_time": "2022-05-05T21:05:54.064Z"
   },
   {
    "duration": 7,
    "start_time": "2022-05-05T21:05:54.194Z"
   },
   {
    "duration": 17,
    "start_time": "2022-05-05T21:05:54.202Z"
   },
   {
    "duration": 7,
    "start_time": "2022-05-05T21:05:54.221Z"
   },
   {
    "duration": 11,
    "start_time": "2022-05-05T21:05:54.229Z"
   },
   {
    "duration": 5,
    "start_time": "2022-05-05T21:05:54.242Z"
   },
   {
    "duration": 7,
    "start_time": "2022-05-05T21:05:54.249Z"
   },
   {
    "duration": 6,
    "start_time": "2022-05-05T21:06:03.614Z"
   },
   {
    "duration": 5,
    "start_time": "2022-05-05T21:19:20.093Z"
   },
   {
    "duration": 70,
    "start_time": "2022-05-05T21:22:36.645Z"
   },
   {
    "duration": 6,
    "start_time": "2022-05-05T21:22:53.964Z"
   },
   {
    "duration": 9,
    "start_time": "2022-05-05T21:23:21.589Z"
   },
   {
    "duration": 5,
    "start_time": "2022-05-05T21:23:43.036Z"
   },
   {
    "duration": 6,
    "start_time": "2022-05-05T21:24:05.069Z"
   },
   {
    "duration": 5,
    "start_time": "2022-05-05T21:24:42.677Z"
   },
   {
    "duration": 6,
    "start_time": "2022-05-05T21:25:13.734Z"
   },
   {
    "duration": 9,
    "start_time": "2022-05-05T21:26:51.458Z"
   },
   {
    "duration": 8,
    "start_time": "2022-05-05T21:28:40.911Z"
   },
   {
    "duration": 6,
    "start_time": "2022-05-05T21:28:46.956Z"
   },
   {
    "duration": 10,
    "start_time": "2022-05-05T21:30:10.101Z"
   },
   {
    "duration": 9,
    "start_time": "2022-05-05T21:30:58.722Z"
   },
   {
    "duration": 8,
    "start_time": "2022-05-05T21:31:07.387Z"
   },
   {
    "duration": 8,
    "start_time": "2022-05-05T21:31:11.446Z"
   },
   {
    "duration": 4,
    "start_time": "2022-05-05T21:33:02.472Z"
   },
   {
    "duration": 4,
    "start_time": "2022-05-05T21:33:13.740Z"
   },
   {
    "duration": 4,
    "start_time": "2022-05-05T21:34:17.817Z"
   },
   {
    "duration": 5,
    "start_time": "2022-05-05T21:34:29.453Z"
   },
   {
    "duration": 7,
    "start_time": "2022-05-05T21:35:31.350Z"
   },
   {
    "duration": 4,
    "start_time": "2022-05-05T21:57:51.795Z"
   },
   {
    "duration": 7,
    "start_time": "2022-05-05T21:57:54.123Z"
   },
   {
    "duration": 8,
    "start_time": "2022-05-05T21:57:59.871Z"
   },
   {
    "duration": 7,
    "start_time": "2022-05-05T21:58:15.967Z"
   },
   {
    "duration": 6,
    "start_time": "2022-05-05T21:58:21.983Z"
   },
   {
    "duration": 7,
    "start_time": "2022-05-05T21:58:36.851Z"
   },
   {
    "duration": 6,
    "start_time": "2022-05-05T21:58:41.791Z"
   },
   {
    "duration": 6,
    "start_time": "2022-05-05T21:58:53.135Z"
   },
   {
    "duration": 4,
    "start_time": "2022-05-05T22:01:19.854Z"
   },
   {
    "duration": 10,
    "start_time": "2022-05-05T22:02:45.670Z"
   },
   {
    "duration": 138,
    "start_time": "2022-05-05T22:04:30.986Z"
   },
   {
    "duration": 9,
    "start_time": "2022-05-05T22:04:37.664Z"
   },
   {
    "duration": 11,
    "start_time": "2022-05-05T22:04:54.797Z"
   },
   {
    "duration": 10,
    "start_time": "2022-05-05T22:04:58.772Z"
   },
   {
    "duration": 7,
    "start_time": "2022-05-05T22:05:03.657Z"
   },
   {
    "duration": 9,
    "start_time": "2022-05-05T22:05:20.245Z"
   },
   {
    "duration": 7,
    "start_time": "2022-05-05T22:05:29.929Z"
   },
   {
    "duration": 8,
    "start_time": "2022-05-05T22:05:42.413Z"
   },
   {
    "duration": 9,
    "start_time": "2022-05-05T22:05:59.746Z"
   },
   {
    "duration": 10,
    "start_time": "2022-05-05T22:07:18.366Z"
   },
   {
    "duration": 11,
    "start_time": "2022-05-05T22:07:27.582Z"
   },
   {
    "duration": 9,
    "start_time": "2022-05-05T22:07:35.350Z"
   },
   {
    "duration": 14,
    "start_time": "2022-05-05T22:08:23.339Z"
   },
   {
    "duration": 10,
    "start_time": "2022-05-05T22:08:28.191Z"
   },
   {
    "duration": 6,
    "start_time": "2022-05-05T22:08:56.739Z"
   },
   {
    "duration": 14,
    "start_time": "2022-05-05T22:09:32.572Z"
   },
   {
    "duration": 17,
    "start_time": "2022-05-05T22:11:07.082Z"
   },
   {
    "duration": 152,
    "start_time": "2022-05-05T22:11:54.294Z"
   },
   {
    "duration": 132,
    "start_time": "2022-05-05T22:12:25.830Z"
   },
   {
    "duration": 141,
    "start_time": "2022-05-05T22:14:58.188Z"
   },
   {
    "duration": 143,
    "start_time": "2022-05-05T22:15:26.589Z"
   },
   {
    "duration": 141,
    "start_time": "2022-05-05T22:15:41.257Z"
   },
   {
    "duration": 142,
    "start_time": "2022-05-05T22:16:58.172Z"
   },
   {
    "duration": 135,
    "start_time": "2022-05-05T22:18:21.591Z"
   },
   {
    "duration": 141,
    "start_time": "2022-05-05T22:18:24.683Z"
   },
   {
    "duration": 14,
    "start_time": "2022-05-05T22:18:43.951Z"
   },
   {
    "duration": 6,
    "start_time": "2022-05-05T22:22:40.862Z"
   },
   {
    "duration": 7,
    "start_time": "2022-05-05T22:22:49.967Z"
   },
   {
    "duration": 19,
    "start_time": "2022-05-05T22:23:25.299Z"
   },
   {
    "duration": 8,
    "start_time": "2022-05-05T22:23:54.668Z"
   },
   {
    "duration": 10,
    "start_time": "2022-05-05T22:24:25.240Z"
   },
   {
    "duration": 7,
    "start_time": "2022-05-05T22:34:03.180Z"
   },
   {
    "duration": 6,
    "start_time": "2022-05-05T22:37:44.184Z"
   },
   {
    "duration": 9,
    "start_time": "2022-05-05T22:37:53.984Z"
   },
   {
    "duration": 8,
    "start_time": "2022-05-05T22:38:12.964Z"
   },
   {
    "duration": 8,
    "start_time": "2022-05-05T22:38:21.764Z"
   },
   {
    "duration": 7,
    "start_time": "2022-05-05T22:38:41.573Z"
   },
   {
    "duration": 9,
    "start_time": "2022-05-05T22:40:06.482Z"
   },
   {
    "duration": 21,
    "start_time": "2022-05-05T22:42:36.684Z"
   },
   {
    "duration": 13,
    "start_time": "2022-05-05T22:46:20.654Z"
   },
   {
    "duration": 16041,
    "start_time": "2022-05-05T22:46:36.527Z"
   },
   {
    "duration": 9,
    "start_time": "2022-05-05T22:47:21.617Z"
   },
   {
    "duration": 21,
    "start_time": "2022-05-05T22:49:34.645Z"
   },
   {
    "duration": 28,
    "start_time": "2022-05-05T22:54:06.464Z"
   },
   {
    "duration": 13,
    "start_time": "2022-05-05T22:54:17.252Z"
   },
   {
    "duration": 14,
    "start_time": "2022-05-05T22:54:57.465Z"
   },
   {
    "duration": 10,
    "start_time": "2022-05-05T22:56:29.534Z"
   },
   {
    "duration": 10,
    "start_time": "2022-05-05T22:56:43.448Z"
   },
   {
    "duration": 10,
    "start_time": "2022-05-05T22:56:56.974Z"
   },
   {
    "duration": 7,
    "start_time": "2022-05-05T22:57:41.403Z"
   },
   {
    "duration": 40,
    "start_time": "2022-05-05T22:57:48.210Z"
   },
   {
    "duration": 4,
    "start_time": "2022-05-05T22:57:48.252Z"
   },
   {
    "duration": 13,
    "start_time": "2022-05-05T22:57:48.258Z"
   },
   {
    "duration": 20,
    "start_time": "2022-05-05T22:57:48.273Z"
   },
   {
    "duration": 21,
    "start_time": "2022-05-05T22:57:48.295Z"
   },
   {
    "duration": 8,
    "start_time": "2022-05-05T22:57:48.317Z"
   },
   {
    "duration": 19,
    "start_time": "2022-05-05T22:57:48.326Z"
   },
   {
    "duration": 11,
    "start_time": "2022-05-05T22:57:48.347Z"
   },
   {
    "duration": 42,
    "start_time": "2022-05-05T22:57:48.359Z"
   },
   {
    "duration": 28,
    "start_time": "2022-05-05T22:57:48.402Z"
   },
   {
    "duration": 128,
    "start_time": "2022-05-05T22:57:48.432Z"
   },
   {
    "duration": 40,
    "start_time": "2022-05-05T22:57:48.561Z"
   },
   {
    "duration": 90,
    "start_time": "2022-05-05T22:57:48.603Z"
   },
   {
    "duration": 5,
    "start_time": "2022-05-05T22:57:48.696Z"
   },
   {
    "duration": 10,
    "start_time": "2022-05-05T22:57:48.702Z"
   },
   {
    "duration": 6,
    "start_time": "2022-05-05T22:57:48.714Z"
   },
   {
    "duration": 7,
    "start_time": "2022-05-05T22:57:48.722Z"
   },
   {
    "duration": 6,
    "start_time": "2022-05-05T22:57:48.730Z"
   },
   {
    "duration": 4,
    "start_time": "2022-05-05T22:57:48.737Z"
   },
   {
    "duration": 8,
    "start_time": "2022-05-05T22:57:48.743Z"
   },
   {
    "duration": 45,
    "start_time": "2022-05-05T22:57:48.752Z"
   },
   {
    "duration": 9,
    "start_time": "2022-05-05T22:57:48.798Z"
   },
   {
    "duration": 14,
    "start_time": "2022-05-05T22:57:48.809Z"
   },
   {
    "duration": 7,
    "start_time": "2022-05-05T22:57:51.747Z"
   },
   {
    "duration": 12,
    "start_time": "2022-05-05T22:58:04.867Z"
   },
   {
    "duration": 11,
    "start_time": "2022-05-05T22:58:16.451Z"
   },
   {
    "duration": 21,
    "start_time": "2022-05-05T22:58:31.857Z"
   },
   {
    "duration": 13,
    "start_time": "2022-05-05T22:58:45.699Z"
   },
   {
    "duration": 40,
    "start_time": "2022-05-05T22:58:50.191Z"
   },
   {
    "duration": 3,
    "start_time": "2022-05-05T22:58:50.233Z"
   },
   {
    "duration": 16,
    "start_time": "2022-05-05T22:58:50.238Z"
   },
   {
    "duration": 15,
    "start_time": "2022-05-05T22:58:50.256Z"
   },
   {
    "duration": 18,
    "start_time": "2022-05-05T22:58:50.293Z"
   },
   {
    "duration": 7,
    "start_time": "2022-05-05T22:58:50.312Z"
   },
   {
    "duration": 17,
    "start_time": "2022-05-05T22:58:50.321Z"
   },
   {
    "duration": 10,
    "start_time": "2022-05-05T22:58:50.340Z"
   },
   {
    "duration": 9,
    "start_time": "2022-05-05T22:58:50.352Z"
   },
   {
    "duration": 28,
    "start_time": "2022-05-05T22:58:50.392Z"
   },
   {
    "duration": 115,
    "start_time": "2022-05-05T22:58:50.421Z"
   },
   {
    "duration": 22,
    "start_time": "2022-05-05T22:58:50.537Z"
   },
   {
    "duration": 97,
    "start_time": "2022-05-05T22:58:50.560Z"
   },
   {
    "duration": 5,
    "start_time": "2022-05-05T22:58:50.658Z"
   },
   {
    "duration": 32,
    "start_time": "2022-05-05T22:58:50.664Z"
   },
   {
    "duration": 8,
    "start_time": "2022-05-05T22:58:50.698Z"
   },
   {
    "duration": 8,
    "start_time": "2022-05-05T22:58:50.707Z"
   },
   {
    "duration": 6,
    "start_time": "2022-05-05T22:58:50.716Z"
   },
   {
    "duration": 8,
    "start_time": "2022-05-05T22:58:50.724Z"
   },
   {
    "duration": 10,
    "start_time": "2022-05-05T22:58:50.733Z"
   },
   {
    "duration": 12,
    "start_time": "2022-05-05T22:58:50.744Z"
   },
   {
    "duration": 8,
    "start_time": "2022-05-05T22:58:50.758Z"
   },
   {
    "duration": 30,
    "start_time": "2022-05-05T22:58:50.767Z"
   },
   {
    "duration": 11,
    "start_time": "2022-05-05T22:58:53.031Z"
   },
   {
    "duration": 4,
    "start_time": "2022-05-05T23:00:14.205Z"
   },
   {
    "duration": 5,
    "start_time": "2022-05-05T23:00:20.956Z"
   },
   {
    "duration": 16338,
    "start_time": "2022-05-06T00:06:14.165Z"
   },
   {
    "duration": 9,
    "start_time": "2022-05-06T00:06:30.987Z"
   },
   {
    "duration": 43,
    "start_time": "2022-05-06T00:06:36.942Z"
   },
   {
    "duration": 4,
    "start_time": "2022-05-06T00:06:36.986Z"
   },
   {
    "duration": 13,
    "start_time": "2022-05-06T00:06:36.992Z"
   },
   {
    "duration": 16,
    "start_time": "2022-05-06T00:06:37.007Z"
   },
   {
    "duration": 19,
    "start_time": "2022-05-06T00:06:37.024Z"
   },
   {
    "duration": 8,
    "start_time": "2022-05-06T00:06:37.044Z"
   },
   {
    "duration": 45,
    "start_time": "2022-05-06T00:06:37.053Z"
   },
   {
    "duration": 12,
    "start_time": "2022-05-06T00:06:37.099Z"
   },
   {
    "duration": 10,
    "start_time": "2022-05-06T00:06:37.112Z"
   },
   {
    "duration": 27,
    "start_time": "2022-05-06T00:06:37.125Z"
   },
   {
    "duration": 149,
    "start_time": "2022-05-06T00:06:37.154Z"
   },
   {
    "duration": 24,
    "start_time": "2022-05-06T00:06:37.304Z"
   },
   {
    "duration": 98,
    "start_time": "2022-05-06T00:06:37.330Z"
   },
   {
    "duration": 4,
    "start_time": "2022-05-06T00:06:37.430Z"
   },
   {
    "duration": 12,
    "start_time": "2022-05-06T00:06:37.436Z"
   },
   {
    "duration": 7,
    "start_time": "2022-05-06T00:06:37.449Z"
   },
   {
    "duration": 6,
    "start_time": "2022-05-06T00:06:37.457Z"
   },
   {
    "duration": 30,
    "start_time": "2022-05-06T00:06:37.464Z"
   },
   {
    "duration": 5,
    "start_time": "2022-05-06T00:06:37.495Z"
   },
   {
    "duration": 9,
    "start_time": "2022-05-06T00:06:37.501Z"
   },
   {
    "duration": 9,
    "start_time": "2022-05-06T00:06:37.512Z"
   },
   {
    "duration": 10,
    "start_time": "2022-05-06T00:06:37.522Z"
   },
   {
    "duration": 15,
    "start_time": "2022-05-06T00:06:37.533Z"
   },
   {
    "duration": 13,
    "start_time": "2022-05-06T00:06:39.686Z"
   },
   {
    "duration": 12,
    "start_time": "2022-05-06T01:28:32.020Z"
   },
   {
    "duration": 39,
    "start_time": "2022-05-06T01:28:41.724Z"
   },
   {
    "duration": 4,
    "start_time": "2022-05-06T01:28:41.765Z"
   },
   {
    "duration": 13,
    "start_time": "2022-05-06T01:28:45.912Z"
   },
   {
    "duration": 39,
    "start_time": "2022-05-06T01:29:08.417Z"
   },
   {
    "duration": 4,
    "start_time": "2022-05-06T01:29:08.458Z"
   },
   {
    "duration": 13,
    "start_time": "2022-05-06T01:29:08.464Z"
   },
   {
    "duration": 17,
    "start_time": "2022-05-06T01:29:08.479Z"
   },
   {
    "duration": 19,
    "start_time": "2022-05-06T01:29:08.498Z"
   },
   {
    "duration": 8,
    "start_time": "2022-05-06T01:29:08.518Z"
   },
   {
    "duration": 28,
    "start_time": "2022-05-06T01:29:08.528Z"
   },
   {
    "duration": 47,
    "start_time": "2022-05-06T01:29:08.558Z"
   },
   {
    "duration": 15,
    "start_time": "2022-05-06T01:29:08.607Z"
   },
   {
    "duration": 30,
    "start_time": "2022-05-06T01:29:08.625Z"
   },
   {
    "duration": 214,
    "start_time": "2022-05-06T01:29:08.657Z"
   },
   {
    "duration": 34,
    "start_time": "2022-05-06T01:29:08.874Z"
   },
   {
    "duration": 101,
    "start_time": "2022-05-06T01:29:08.910Z"
   },
   {
    "duration": 4,
    "start_time": "2022-05-06T01:29:09.013Z"
   },
   {
    "duration": 11,
    "start_time": "2022-05-06T01:29:09.019Z"
   },
   {
    "duration": 5,
    "start_time": "2022-05-06T01:29:09.032Z"
   },
   {
    "duration": 39,
    "start_time": "2022-05-06T01:29:20.968Z"
   },
   {
    "duration": 3,
    "start_time": "2022-05-06T01:29:21.009Z"
   },
   {
    "duration": 18,
    "start_time": "2022-05-06T01:29:21.014Z"
   },
   {
    "duration": 18,
    "start_time": "2022-05-06T01:29:21.034Z"
   },
   {
    "duration": 44,
    "start_time": "2022-05-06T01:29:21.053Z"
   },
   {
    "duration": 8,
    "start_time": "2022-05-06T01:29:21.098Z"
   },
   {
    "duration": 21,
    "start_time": "2022-05-06T01:29:21.108Z"
   },
   {
    "duration": 14,
    "start_time": "2022-05-06T01:29:21.130Z"
   },
   {
    "duration": 14,
    "start_time": "2022-05-06T01:29:21.146Z"
   },
   {
    "duration": 57,
    "start_time": "2022-05-06T01:29:21.163Z"
   },
   {
    "duration": 129,
    "start_time": "2022-05-06T01:29:21.222Z"
   },
   {
    "duration": 39,
    "start_time": "2022-05-06T01:29:21.353Z"
   },
   {
    "duration": 104,
    "start_time": "2022-05-06T01:29:21.394Z"
   },
   {
    "duration": 6,
    "start_time": "2022-05-06T01:29:21.499Z"
   },
   {
    "duration": 16,
    "start_time": "2022-05-06T01:29:21.506Z"
   },
   {
    "duration": 9,
    "start_time": "2022-05-06T01:29:21.524Z"
   },
   {
    "duration": 11,
    "start_time": "2022-05-06T01:29:21.535Z"
   },
   {
    "duration": 5,
    "start_time": "2022-05-06T01:29:21.548Z"
   },
   {
    "duration": 15,
    "start_time": "2022-05-06T01:29:21.555Z"
   },
   {
    "duration": 39,
    "start_time": "2022-05-06T01:29:35.193Z"
   },
   {
    "duration": 4,
    "start_time": "2022-05-06T01:29:35.234Z"
   },
   {
    "duration": 16,
    "start_time": "2022-05-06T01:29:35.239Z"
   },
   {
    "duration": 33,
    "start_time": "2022-05-06T01:29:35.257Z"
   },
   {
    "duration": 20,
    "start_time": "2022-05-06T01:29:35.292Z"
   },
   {
    "duration": 9,
    "start_time": "2022-05-06T01:29:35.313Z"
   },
   {
    "duration": 23,
    "start_time": "2022-05-06T01:29:35.323Z"
   },
   {
    "duration": 13,
    "start_time": "2022-05-06T01:29:35.348Z"
   },
   {
    "duration": 36,
    "start_time": "2022-05-06T01:29:35.362Z"
   },
   {
    "duration": 31,
    "start_time": "2022-05-06T01:29:35.400Z"
   },
   {
    "duration": 129,
    "start_time": "2022-05-06T01:29:35.433Z"
   },
   {
    "duration": 44,
    "start_time": "2022-05-06T01:29:35.564Z"
   },
   {
    "duration": 95,
    "start_time": "2022-05-06T01:29:35.610Z"
   },
   {
    "duration": 5,
    "start_time": "2022-05-06T01:29:35.707Z"
   },
   {
    "duration": 16,
    "start_time": "2022-05-06T01:29:35.714Z"
   },
   {
    "duration": 7,
    "start_time": "2022-05-06T01:29:35.732Z"
   },
   {
    "duration": 7,
    "start_time": "2022-05-06T01:29:35.742Z"
   },
   {
    "duration": 5,
    "start_time": "2022-05-06T01:29:35.751Z"
   },
   {
    "duration": 5,
    "start_time": "2022-05-06T01:29:35.794Z"
   },
   {
    "duration": 9,
    "start_time": "2022-05-06T01:29:35.801Z"
   },
   {
    "duration": 9,
    "start_time": "2022-05-06T01:29:35.813Z"
   },
   {
    "duration": 12,
    "start_time": "2022-05-06T01:29:35.824Z"
   },
   {
    "duration": 23,
    "start_time": "2022-05-06T01:29:38.748Z"
   },
   {
    "duration": 9,
    "start_time": "2022-05-06T01:29:53.161Z"
   },
   {
    "duration": 58,
    "start_time": "2022-05-06T01:31:48.311Z"
   },
   {
    "duration": 5,
    "start_time": "2022-05-06T01:31:48.372Z"
   },
   {
    "duration": 22,
    "start_time": "2022-05-06T01:31:48.379Z"
   },
   {
    "duration": 14,
    "start_time": "2022-05-06T01:31:48.404Z"
   },
   {
    "duration": 19,
    "start_time": "2022-05-06T01:31:48.420Z"
   },
   {
    "duration": 11,
    "start_time": "2022-05-06T01:31:48.441Z"
   },
   {
    "duration": 41,
    "start_time": "2022-05-06T01:31:48.454Z"
   },
   {
    "duration": 12,
    "start_time": "2022-05-06T01:31:48.497Z"
   },
   {
    "duration": 11,
    "start_time": "2022-05-06T01:31:48.510Z"
   },
   {
    "duration": 29,
    "start_time": "2022-05-06T01:31:48.522Z"
   },
   {
    "duration": 156,
    "start_time": "2022-05-06T01:31:48.553Z"
   },
   {
    "duration": 25,
    "start_time": "2022-05-06T01:31:48.710Z"
   },
   {
    "duration": 102,
    "start_time": "2022-05-06T01:31:48.737Z"
   },
   {
    "duration": 5,
    "start_time": "2022-05-06T01:31:48.842Z"
   },
   {
    "duration": 23,
    "start_time": "2022-05-06T01:31:48.848Z"
   },
   {
    "duration": 9,
    "start_time": "2022-05-06T01:31:48.872Z"
   },
   {
    "duration": 13,
    "start_time": "2022-05-06T01:31:48.883Z"
   },
   {
    "duration": 8,
    "start_time": "2022-05-06T01:31:48.898Z"
   },
   {
    "duration": 4,
    "start_time": "2022-05-06T01:31:48.908Z"
   },
   {
    "duration": 7,
    "start_time": "2022-05-06T01:31:48.913Z"
   },
   {
    "duration": 9,
    "start_time": "2022-05-06T01:31:48.922Z"
   },
   {
    "duration": 9,
    "start_time": "2022-05-06T01:31:48.933Z"
   },
   {
    "duration": 17,
    "start_time": "2022-05-06T01:31:48.943Z"
   },
   {
    "duration": 35,
    "start_time": "2022-05-06T01:31:48.962Z"
   },
   {
    "duration": 5,
    "start_time": "2022-05-06T01:31:48.999Z"
   },
   {
    "duration": 11,
    "start_time": "2022-05-06T01:31:49.005Z"
   },
   {
    "duration": 4,
    "start_time": "2022-05-06T01:31:49.018Z"
   },
   {
    "duration": 9,
    "start_time": "2022-05-06T01:31:49.024Z"
   },
   {
    "duration": 11,
    "start_time": "2022-05-06T01:34:00.419Z"
   },
   {
    "duration": 11,
    "start_time": "2022-05-06T01:35:14.457Z"
   },
   {
    "duration": 7,
    "start_time": "2022-05-06T01:37:03.379Z"
   },
   {
    "duration": 7,
    "start_time": "2022-05-06T01:37:34.019Z"
   },
   {
    "duration": 4,
    "start_time": "2022-05-06T01:38:05.568Z"
   },
   {
    "duration": 9,
    "start_time": "2022-05-06T01:38:07.344Z"
   },
   {
    "duration": 8,
    "start_time": "2022-05-06T01:38:35.768Z"
   },
   {
    "duration": 10,
    "start_time": "2022-05-06T01:39:14.121Z"
   },
   {
    "duration": 15,
    "start_time": "2022-05-06T01:43:57.069Z"
   },
   {
    "duration": 14,
    "start_time": "2022-05-06T01:45:00.234Z"
   },
   {
    "duration": 14,
    "start_time": "2022-05-06T01:45:07.071Z"
   },
   {
    "duration": 17,
    "start_time": "2022-05-06T01:45:29.921Z"
   },
   {
    "duration": 9,
    "start_time": "2022-05-06T01:46:22.150Z"
   },
   {
    "duration": 9,
    "start_time": "2022-05-06T01:46:39.918Z"
   },
   {
    "duration": 8,
    "start_time": "2022-05-06T01:47:30.940Z"
   },
   {
    "duration": 11,
    "start_time": "2022-05-06T01:47:56.214Z"
   },
   {
    "duration": 43,
    "start_time": "2022-05-06T01:58:55.144Z"
   },
   {
    "duration": 4,
    "start_time": "2022-05-06T01:58:55.189Z"
   },
   {
    "duration": 20,
    "start_time": "2022-05-06T01:58:55.195Z"
   },
   {
    "duration": 15,
    "start_time": "2022-05-06T01:58:55.217Z"
   },
   {
    "duration": 18,
    "start_time": "2022-05-06T01:58:55.233Z"
   },
   {
    "duration": 7,
    "start_time": "2022-05-06T01:58:55.252Z"
   },
   {
    "duration": 25,
    "start_time": "2022-05-06T01:58:55.293Z"
   },
   {
    "duration": 13,
    "start_time": "2022-05-06T01:58:55.320Z"
   },
   {
    "duration": 11,
    "start_time": "2022-05-06T01:58:55.335Z"
   },
   {
    "duration": 72,
    "start_time": "2022-05-06T01:58:55.349Z"
   },
   {
    "duration": 131,
    "start_time": "2022-05-06T01:58:55.423Z"
   },
   {
    "duration": 37,
    "start_time": "2022-05-06T01:58:55.556Z"
   },
   {
    "duration": 99,
    "start_time": "2022-05-06T01:58:55.596Z"
   },
   {
    "duration": 12,
    "start_time": "2022-05-06T01:58:55.697Z"
   },
   {
    "duration": 10,
    "start_time": "2022-05-06T01:58:55.711Z"
   },
   {
    "duration": 9,
    "start_time": "2022-05-06T01:58:55.722Z"
   },
   {
    "duration": 7,
    "start_time": "2022-05-06T01:58:55.733Z"
   },
   {
    "duration": 5,
    "start_time": "2022-05-06T01:58:55.741Z"
   },
   {
    "duration": 11,
    "start_time": "2022-05-06T01:58:55.747Z"
   },
   {
    "duration": 7,
    "start_time": "2022-05-06T01:58:55.760Z"
   },
   {
    "duration": 35,
    "start_time": "2022-05-06T01:58:55.768Z"
   },
   {
    "duration": 8,
    "start_time": "2022-05-06T01:58:55.806Z"
   },
   {
    "duration": 14,
    "start_time": "2022-05-06T01:58:55.816Z"
   },
   {
    "duration": 6,
    "start_time": "2022-05-06T01:58:55.832Z"
   },
   {
    "duration": 11,
    "start_time": "2022-05-06T01:58:55.840Z"
   },
   {
    "duration": 13,
    "start_time": "2022-05-06T01:58:55.852Z"
   },
   {
    "duration": 11,
    "start_time": "2022-05-06T01:58:55.866Z"
   },
   {
    "duration": 5,
    "start_time": "2022-05-06T01:58:55.902Z"
   },
   {
    "duration": 14,
    "start_time": "2022-05-06T01:58:55.908Z"
   },
   {
    "duration": 17,
    "start_time": "2022-05-06T01:58:55.924Z"
   },
   {
    "duration": 8,
    "start_time": "2022-05-06T01:58:55.942Z"
   },
   {
    "duration": 9,
    "start_time": "2022-05-06T01:58:55.951Z"
   },
   {
    "duration": 7,
    "start_time": "2022-05-06T01:58:55.961Z"
   },
   {
    "duration": 34,
    "start_time": "2022-05-06T01:58:55.969Z"
   },
   {
    "duration": 7,
    "start_time": "2022-05-06T01:58:56.006Z"
   },
   {
    "duration": 14,
    "start_time": "2022-05-06T01:58:56.014Z"
   },
   {
    "duration": 6,
    "start_time": "2022-05-06T01:58:56.030Z"
   },
   {
    "duration": 6,
    "start_time": "2022-05-06T01:58:56.037Z"
   },
   {
    "duration": 7,
    "start_time": "2022-05-06T01:58:56.045Z"
   },
   {
    "duration": 9,
    "start_time": "2022-05-06T01:58:56.053Z"
   },
   {
    "duration": 7,
    "start_time": "2022-05-06T01:58:56.063Z"
   },
   {
    "duration": 8,
    "start_time": "2022-05-06T01:58:56.072Z"
   },
   {
    "duration": 9,
    "start_time": "2022-05-06T01:58:56.081Z"
   },
   {
    "duration": 17,
    "start_time": "2022-05-06T01:58:56.091Z"
   },
   {
    "duration": 7,
    "start_time": "2022-05-06T01:58:56.110Z"
   },
   {
    "duration": 10,
    "start_time": "2022-05-06T01:58:56.119Z"
   },
   {
    "duration": 11,
    "start_time": "2022-05-06T01:58:56.131Z"
   },
   {
    "duration": 10,
    "start_time": "2022-05-06T01:58:56.144Z"
   },
   {
    "duration": 10,
    "start_time": "2022-05-06T01:58:56.155Z"
   },
   {
    "duration": 8,
    "start_time": "2022-05-06T01:58:56.166Z"
   },
   {
    "duration": 10,
    "start_time": "2022-05-06T01:58:56.175Z"
   },
   {
    "duration": 19,
    "start_time": "2022-05-06T01:58:56.187Z"
   },
   {
    "duration": 6,
    "start_time": "2022-05-06T01:58:56.208Z"
   },
   {
    "duration": 8,
    "start_time": "2022-05-06T01:58:56.215Z"
   },
   {
    "duration": 9,
    "start_time": "2022-05-06T01:58:56.224Z"
   },
   {
    "duration": 11,
    "start_time": "2022-05-06T01:58:56.234Z"
   },
   {
    "duration": 8,
    "start_time": "2022-05-06T01:58:56.246Z"
   },
   {
    "duration": 8,
    "start_time": "2022-05-06T01:58:56.255Z"
   },
   {
    "duration": 19,
    "start_time": "2022-05-06T01:58:56.265Z"
   },
   {
    "duration": 20,
    "start_time": "2022-05-06T01:58:56.286Z"
   },
   {
    "duration": 5,
    "start_time": "2022-05-06T01:58:56.308Z"
   },
   {
    "duration": 9,
    "start_time": "2022-05-06T01:58:56.314Z"
   },
   {
    "duration": 9,
    "start_time": "2022-05-06T01:58:56.324Z"
   },
   {
    "duration": 8,
    "start_time": "2022-05-06T01:58:56.334Z"
   },
   {
    "duration": 7,
    "start_time": "2022-05-06T01:58:56.344Z"
   },
   {
    "duration": 9,
    "start_time": "2022-05-06T01:58:56.352Z"
   },
   {
    "duration": 9,
    "start_time": "2022-05-06T01:58:56.362Z"
   },
   {
    "duration": 10,
    "start_time": "2022-05-06T01:58:56.372Z"
   },
   {
    "duration": 22,
    "start_time": "2022-05-06T01:58:56.384Z"
   },
   {
    "duration": 8,
    "start_time": "2022-05-06T01:58:56.408Z"
   },
   {
    "duration": 9,
    "start_time": "2022-05-06T01:58:56.417Z"
   },
   {
    "duration": 8,
    "start_time": "2022-05-06T01:58:56.427Z"
   },
   {
    "duration": 8,
    "start_time": "2022-05-06T01:58:56.436Z"
   },
   {
    "duration": 9,
    "start_time": "2022-05-06T01:58:56.445Z"
   },
   {
    "duration": 9,
    "start_time": "2022-05-06T01:58:56.456Z"
   },
   {
    "duration": 9,
    "start_time": "2022-05-06T01:58:56.466Z"
   },
   {
    "duration": 18,
    "start_time": "2022-05-06T02:00:10.856Z"
   },
   {
    "duration": 9,
    "start_time": "2022-05-06T02:02:32.377Z"
   },
   {
    "duration": 1145,
    "start_time": "2022-05-06T02:02:39.558Z"
   },
   {
    "duration": 32,
    "start_time": "2022-05-06T02:02:46.591Z"
   },
   {
    "duration": 24,
    "start_time": "2022-05-06T02:03:11.039Z"
   },
   {
    "duration": 1322,
    "start_time": "2022-05-06T02:03:47.225Z"
   },
   {
    "duration": 21,
    "start_time": "2022-05-06T02:04:00.616Z"
   },
   {
    "duration": 23,
    "start_time": "2022-05-06T02:04:27.073Z"
   },
   {
    "duration": 23,
    "start_time": "2022-05-06T02:05:09.148Z"
   },
   {
    "duration": 8,
    "start_time": "2022-05-06T02:05:51.693Z"
   },
   {
    "duration": 7,
    "start_time": "2022-05-06T02:06:15.565Z"
   },
   {
    "duration": 7,
    "start_time": "2022-05-06T02:07:25.510Z"
   },
   {
    "duration": 7,
    "start_time": "2022-05-06T02:07:33.622Z"
   },
   {
    "duration": 5,
    "start_time": "2022-05-06T02:07:43.106Z"
   },
   {
    "duration": 2,
    "start_time": "2022-05-06T04:51:27.580Z"
   },
   {
    "duration": 40,
    "start_time": "2022-05-06T05:19:06.943Z"
   },
   {
    "duration": 5,
    "start_time": "2022-05-06T05:19:06.986Z"
   },
   {
    "duration": 15,
    "start_time": "2022-05-06T05:19:06.993Z"
   },
   {
    "duration": 17,
    "start_time": "2022-05-06T05:19:07.010Z"
   },
   {
    "duration": 18,
    "start_time": "2022-05-06T05:19:07.030Z"
   },
   {
    "duration": 7,
    "start_time": "2022-05-06T05:19:07.049Z"
   },
   {
    "duration": 18,
    "start_time": "2022-05-06T05:19:07.092Z"
   },
   {
    "duration": 12,
    "start_time": "2022-05-06T05:19:07.111Z"
   },
   {
    "duration": 11,
    "start_time": "2022-05-06T05:19:07.124Z"
   },
   {
    "duration": 71,
    "start_time": "2022-05-06T05:19:07.136Z"
   },
   {
    "duration": 118,
    "start_time": "2022-05-06T05:19:07.209Z"
   },
   {
    "duration": 23,
    "start_time": "2022-05-06T05:19:07.329Z"
   },
   {
    "duration": 101,
    "start_time": "2022-05-06T05:19:07.353Z"
   },
   {
    "duration": 4,
    "start_time": "2022-05-06T05:19:07.457Z"
   },
   {
    "duration": 36,
    "start_time": "2022-05-06T05:19:07.463Z"
   },
   {
    "duration": 7,
    "start_time": "2022-05-06T05:19:07.500Z"
   },
   {
    "duration": 12,
    "start_time": "2022-05-06T05:19:07.509Z"
   },
   {
    "duration": 6,
    "start_time": "2022-05-06T05:19:07.523Z"
   },
   {
    "duration": 4,
    "start_time": "2022-05-06T05:19:07.531Z"
   },
   {
    "duration": 7,
    "start_time": "2022-05-06T05:19:07.537Z"
   },
   {
    "duration": 12,
    "start_time": "2022-05-06T05:19:07.545Z"
   },
   {
    "duration": 9,
    "start_time": "2022-05-06T05:19:07.558Z"
   },
   {
    "duration": 30,
    "start_time": "2022-05-06T05:19:07.569Z"
   },
   {
    "duration": 26,
    "start_time": "2022-05-06T05:19:07.601Z"
   },
   {
    "duration": 7,
    "start_time": "2022-05-06T05:19:07.628Z"
   },
   {
    "duration": 6,
    "start_time": "2022-05-06T05:19:07.637Z"
   },
   {
    "duration": 13,
    "start_time": "2022-05-06T05:19:07.644Z"
   },
   {
    "duration": 4,
    "start_time": "2022-05-06T05:19:07.658Z"
   },
   {
    "duration": 29,
    "start_time": "2022-05-06T05:19:07.664Z"
   },
   {
    "duration": 10,
    "start_time": "2022-05-06T05:19:07.694Z"
   },
   {
    "duration": 10,
    "start_time": "2022-05-06T05:19:07.705Z"
   },
   {
    "duration": 6,
    "start_time": "2022-05-06T05:19:07.716Z"
   },
   {
    "duration": 8,
    "start_time": "2022-05-06T05:19:07.723Z"
   },
   {
    "duration": 13,
    "start_time": "2022-05-06T05:19:07.732Z"
   },
   {
    "duration": 10,
    "start_time": "2022-05-06T05:19:07.746Z"
   },
   {
    "duration": 12,
    "start_time": "2022-05-06T05:19:07.757Z"
   },
   {
    "duration": 24,
    "start_time": "2022-05-06T05:19:07.770Z"
   },
   {
    "duration": 8,
    "start_time": "2022-05-06T05:19:07.795Z"
   },
   {
    "duration": 4,
    "start_time": "2022-05-06T05:19:07.805Z"
   },
   {
    "duration": 7,
    "start_time": "2022-05-06T05:19:07.811Z"
   },
   {
    "duration": 3,
    "start_time": "2022-05-06T05:19:07.823Z"
   },
   {
    "duration": 7,
    "start_time": "2022-05-06T05:19:07.828Z"
   },
   {
    "duration": 8,
    "start_time": "2022-05-06T05:19:07.836Z"
   },
   {
    "duration": 8,
    "start_time": "2022-05-06T05:19:07.845Z"
   },
   {
    "duration": 5,
    "start_time": "2022-05-06T05:19:07.855Z"
   },
   {
    "duration": 7,
    "start_time": "2022-05-06T05:19:07.862Z"
   },
   {
    "duration": 22,
    "start_time": "2022-05-06T05:19:07.870Z"
   },
   {
    "duration": 3,
    "start_time": "2022-05-06T05:19:07.894Z"
   },
   {
    "duration": 11,
    "start_time": "2022-05-06T05:19:07.899Z"
   },
   {
    "duration": 8,
    "start_time": "2022-05-06T05:19:07.912Z"
   },
   {
    "duration": 8,
    "start_time": "2022-05-06T05:19:07.922Z"
   },
   {
    "duration": 8,
    "start_time": "2022-05-06T05:19:07.932Z"
   },
   {
    "duration": 7,
    "start_time": "2022-05-06T05:19:07.942Z"
   },
   {
    "duration": 7,
    "start_time": "2022-05-06T05:19:07.951Z"
   },
   {
    "duration": 9,
    "start_time": "2022-05-06T05:19:07.959Z"
   },
   {
    "duration": 9,
    "start_time": "2022-05-06T05:19:07.969Z"
   },
   {
    "duration": 11,
    "start_time": "2022-05-06T05:19:07.979Z"
   },
   {
    "duration": 8,
    "start_time": "2022-05-06T05:19:07.992Z"
   },
   {
    "duration": 8,
    "start_time": "2022-05-06T05:19:08.002Z"
   },
   {
    "duration": 8,
    "start_time": "2022-05-06T05:19:08.011Z"
   },
   {
    "duration": 9,
    "start_time": "2022-05-06T05:19:08.020Z"
   },
   {
    "duration": 8,
    "start_time": "2022-05-06T05:19:08.030Z"
   },
   {
    "duration": 8,
    "start_time": "2022-05-06T05:19:08.039Z"
   },
   {
    "duration": 10,
    "start_time": "2022-05-06T05:19:08.049Z"
   },
   {
    "duration": 9,
    "start_time": "2022-05-06T05:19:08.061Z"
   },
   {
    "duration": 7,
    "start_time": "2022-05-06T05:19:08.072Z"
   },
   {
    "duration": 9,
    "start_time": "2022-05-06T05:19:08.081Z"
   },
   {
    "duration": 8,
    "start_time": "2022-05-06T05:19:08.091Z"
   },
   {
    "duration": 8,
    "start_time": "2022-05-06T05:19:08.101Z"
   },
   {
    "duration": 6,
    "start_time": "2022-05-06T05:19:08.111Z"
   },
   {
    "duration": 7,
    "start_time": "2022-05-06T05:19:08.119Z"
   },
   {
    "duration": 8,
    "start_time": "2022-05-06T05:19:08.127Z"
   },
   {
    "duration": 9,
    "start_time": "2022-05-06T05:19:08.137Z"
   },
   {
    "duration": 8,
    "start_time": "2022-05-06T05:19:08.147Z"
   },
   {
    "duration": 7,
    "start_time": "2022-05-06T05:19:08.157Z"
   },
   {
    "duration": 12,
    "start_time": "2022-05-06T05:19:08.165Z"
   },
   {
    "duration": 8,
    "start_time": "2022-05-06T05:19:08.178Z"
   },
   {
    "duration": 11,
    "start_time": "2022-05-06T05:20:14.116Z"
   },
   {
    "duration": 9,
    "start_time": "2022-05-06T05:20:29.796Z"
   },
   {
    "duration": 10,
    "start_time": "2022-05-06T05:27:51.752Z"
   },
   {
    "duration": 14,
    "start_time": "2022-05-06T05:29:04.023Z"
   },
   {
    "duration": 13,
    "start_time": "2022-05-06T05:29:22.151Z"
   },
   {
    "duration": 12,
    "start_time": "2022-05-06T05:30:43.493Z"
   },
   {
    "duration": 14,
    "start_time": "2022-05-06T05:30:52.548Z"
   },
   {
    "duration": 10,
    "start_time": "2022-05-06T05:30:59.672Z"
   },
   {
    "duration": 14,
    "start_time": "2022-05-06T05:31:07.189Z"
   },
   {
    "duration": 15,
    "start_time": "2022-05-06T05:31:09.849Z"
   },
   {
    "duration": 11,
    "start_time": "2022-05-06T05:31:38.872Z"
   },
   {
    "duration": 6,
    "start_time": "2022-05-06T05:33:49.161Z"
   },
   {
    "duration": 11,
    "start_time": "2022-05-06T05:43:55.459Z"
   },
   {
    "duration": 14,
    "start_time": "2022-05-06T05:45:12.455Z"
   },
   {
    "duration": 12,
    "start_time": "2022-05-06T05:45:31.901Z"
   },
   {
    "duration": 132,
    "start_time": "2022-05-06T05:46:44.264Z"
   },
   {
    "duration": 12,
    "start_time": "2022-05-06T05:46:51.701Z"
   },
   {
    "duration": 1144,
    "start_time": "2022-05-06T05:48:08.967Z"
   },
   {
    "duration": 29,
    "start_time": "2022-05-06T05:51:01.775Z"
   },
   {
    "duration": 52,
    "start_time": "2022-05-06T05:58:32.106Z"
   },
   {
    "duration": 64,
    "start_time": "2022-05-06T06:03:05.369Z"
   },
   {
    "duration": 43,
    "start_time": "2022-05-06T06:03:24.408Z"
   },
   {
    "duration": 38,
    "start_time": "2022-05-06T06:04:03.273Z"
   },
   {
    "duration": 39,
    "start_time": "2022-05-06T06:04:10.082Z"
   },
   {
    "duration": 44,
    "start_time": "2022-05-06T06:04:48.943Z"
   },
   {
    "duration": 15,
    "start_time": "2022-05-06T06:05:34.490Z"
   },
   {
    "duration": 48,
    "start_time": "2022-05-06T06:06:53.975Z"
   },
   {
    "duration": 34,
    "start_time": "2022-05-06T06:07:46.292Z"
   },
   {
    "duration": 48,
    "start_time": "2022-05-06T06:07:53.116Z"
   },
   {
    "duration": 16,
    "start_time": "2022-05-06T06:08:10.789Z"
   },
   {
    "duration": 13,
    "start_time": "2022-05-06T06:08:21.944Z"
   },
   {
    "duration": 6,
    "start_time": "2022-05-06T06:09:18.753Z"
   },
   {
    "duration": 18,
    "start_time": "2022-05-06T06:09:36.354Z"
   },
   {
    "duration": 24,
    "start_time": "2022-05-06T06:10:19.090Z"
   },
   {
    "duration": 48,
    "start_time": "2022-05-06T06:12:00.312Z"
   },
   {
    "duration": 14,
    "start_time": "2022-05-06T06:12:04.049Z"
   },
   {
    "duration": 40,
    "start_time": "2022-05-06T06:12:17.688Z"
   },
   {
    "duration": 4,
    "start_time": "2022-05-06T06:12:17.730Z"
   },
   {
    "duration": 14,
    "start_time": "2022-05-06T06:12:17.736Z"
   },
   {
    "duration": 42,
    "start_time": "2022-05-06T06:12:17.752Z"
   },
   {
    "duration": 20,
    "start_time": "2022-05-06T06:12:17.795Z"
   },
   {
    "duration": 8,
    "start_time": "2022-05-06T06:12:17.817Z"
   },
   {
    "duration": 31,
    "start_time": "2022-05-06T06:12:17.827Z"
   },
   {
    "duration": 40,
    "start_time": "2022-05-06T06:12:17.860Z"
   },
   {
    "duration": 10,
    "start_time": "2022-05-06T06:12:17.901Z"
   },
   {
    "duration": 30,
    "start_time": "2022-05-06T06:12:17.914Z"
   },
   {
    "duration": 155,
    "start_time": "2022-05-06T06:12:17.945Z"
   },
   {
    "duration": 24,
    "start_time": "2022-05-06T06:12:18.102Z"
   },
   {
    "duration": 99,
    "start_time": "2022-05-06T06:12:18.128Z"
   },
   {
    "duration": 4,
    "start_time": "2022-05-06T06:12:18.229Z"
   },
   {
    "duration": 21,
    "start_time": "2022-05-06T06:12:18.235Z"
   },
   {
    "duration": 23,
    "start_time": "2022-05-06T06:12:18.258Z"
   },
   {
    "duration": 14,
    "start_time": "2022-05-06T06:12:18.283Z"
   },
   {
    "duration": 31,
    "start_time": "2022-05-06T06:12:18.299Z"
   },
   {
    "duration": 20,
    "start_time": "2022-05-06T06:12:18.332Z"
   },
   {
    "duration": 17,
    "start_time": "2022-05-06T06:12:18.354Z"
   },
   {
    "duration": 22,
    "start_time": "2022-05-06T06:12:18.373Z"
   },
   {
    "duration": 18,
    "start_time": "2022-05-06T06:12:18.397Z"
   },
   {
    "duration": 26,
    "start_time": "2022-05-06T06:12:18.417Z"
   },
   {
    "duration": 33,
    "start_time": "2022-05-06T06:12:18.445Z"
   },
   {
    "duration": 14,
    "start_time": "2022-05-06T06:12:18.480Z"
   },
   {
    "duration": 16,
    "start_time": "2022-05-06T06:12:18.495Z"
   },
   {
    "duration": 8,
    "start_time": "2022-05-06T06:12:18.513Z"
   },
   {
    "duration": 20,
    "start_time": "2022-05-06T06:12:18.525Z"
   },
   {
    "duration": 21,
    "start_time": "2022-05-06T06:12:18.546Z"
   },
   {
    "duration": 19,
    "start_time": "2022-05-06T06:12:18.569Z"
   },
   {
    "duration": 27,
    "start_time": "2022-05-06T06:12:18.589Z"
   },
   {
    "duration": 17,
    "start_time": "2022-05-06T06:12:18.617Z"
   },
   {
    "duration": 39,
    "start_time": "2022-05-06T06:12:18.636Z"
   },
   {
    "duration": 17,
    "start_time": "2022-05-06T06:12:18.676Z"
   },
   {
    "duration": 37,
    "start_time": "2022-05-06T06:12:18.694Z"
   },
   {
    "duration": 40,
    "start_time": "2022-05-06T06:12:18.732Z"
   },
   {
    "duration": 60,
    "start_time": "2022-05-06T06:12:18.773Z"
   },
   {
    "duration": 53,
    "start_time": "2022-05-06T06:12:18.835Z"
   },
   {
    "duration": 12,
    "start_time": "2022-05-06T06:12:18.890Z"
   },
   {
    "duration": 36,
    "start_time": "2022-05-06T06:12:18.904Z"
   },
   {
    "duration": 9,
    "start_time": "2022-05-06T06:12:18.942Z"
   },
   {
    "duration": 32,
    "start_time": "2022-05-06T06:12:18.952Z"
   },
   {
    "duration": 21,
    "start_time": "2022-05-06T06:12:18.985Z"
   },
   {
    "duration": 18,
    "start_time": "2022-05-06T06:12:19.008Z"
   },
   {
    "duration": 23,
    "start_time": "2022-05-06T06:12:19.027Z"
   },
   {
    "duration": 6,
    "start_time": "2022-05-06T06:12:19.052Z"
   },
   {
    "duration": 12,
    "start_time": "2022-05-06T06:12:19.060Z"
   },
   {
    "duration": 23,
    "start_time": "2022-05-06T06:12:19.074Z"
   },
   {
    "duration": 10,
    "start_time": "2022-05-06T06:12:19.098Z"
   },
   {
    "duration": 18,
    "start_time": "2022-05-06T06:12:19.110Z"
   },
   {
    "duration": 8,
    "start_time": "2022-05-06T06:12:19.130Z"
   },
   {
    "duration": 10,
    "start_time": "2022-05-06T06:12:19.140Z"
   },
   {
    "duration": 21,
    "start_time": "2022-05-06T06:12:19.152Z"
   },
   {
    "duration": 23,
    "start_time": "2022-05-06T06:12:19.175Z"
   },
   {
    "duration": 17,
    "start_time": "2022-05-06T06:12:19.200Z"
   },
   {
    "duration": 18,
    "start_time": "2022-05-06T06:12:19.218Z"
   },
   {
    "duration": 22,
    "start_time": "2022-05-06T06:12:19.238Z"
   },
   {
    "duration": 33,
    "start_time": "2022-05-06T06:12:19.261Z"
   },
   {
    "duration": 13,
    "start_time": "2022-05-06T06:12:19.296Z"
   },
   {
    "duration": 25,
    "start_time": "2022-05-06T06:12:19.311Z"
   },
   {
    "duration": 20,
    "start_time": "2022-05-06T06:12:19.337Z"
   },
   {
    "duration": 30,
    "start_time": "2022-05-06T06:12:19.358Z"
   },
   {
    "duration": 14,
    "start_time": "2022-05-06T06:12:19.390Z"
   },
   {
    "duration": 16,
    "start_time": "2022-05-06T06:12:19.405Z"
   },
   {
    "duration": 29,
    "start_time": "2022-05-06T06:12:19.423Z"
   },
   {
    "duration": 31,
    "start_time": "2022-05-06T06:12:19.453Z"
   },
   {
    "duration": 30,
    "start_time": "2022-05-06T06:12:19.485Z"
   },
   {
    "duration": 26,
    "start_time": "2022-05-06T06:12:19.517Z"
   },
   {
    "duration": 22,
    "start_time": "2022-05-06T06:12:19.545Z"
   },
   {
    "duration": 31,
    "start_time": "2022-05-06T06:12:19.569Z"
   },
   {
    "duration": 12,
    "start_time": "2022-05-06T06:12:19.601Z"
   },
   {
    "duration": 21,
    "start_time": "2022-05-06T06:12:19.614Z"
   },
   {
    "duration": 19,
    "start_time": "2022-05-06T06:12:19.636Z"
   },
   {
    "duration": 7,
    "start_time": "2022-05-06T06:12:19.657Z"
   },
   {
    "duration": 19,
    "start_time": "2022-05-06T06:12:19.666Z"
   },
   {
    "duration": 15,
    "start_time": "2022-05-06T06:12:19.686Z"
   },
   {
    "duration": 17,
    "start_time": "2022-05-06T06:12:19.702Z"
   },
   {
    "duration": 13,
    "start_time": "2022-05-06T06:12:25.605Z"
   },
   {
    "duration": 44,
    "start_time": "2022-05-06T21:09:58.494Z"
   },
   {
    "duration": 6,
    "start_time": "2022-05-06T21:13:12.318Z"
   },
   {
    "duration": 460,
    "start_time": "2022-05-06T21:13:40.130Z"
   },
   {
    "duration": 8,
    "start_time": "2022-05-06T21:13:40.592Z"
   },
   {
    "duration": 14,
    "start_time": "2022-05-06T21:13:40.601Z"
   },
   {
    "duration": 14,
    "start_time": "2022-05-06T21:13:40.617Z"
   },
   {
    "duration": 18,
    "start_time": "2022-05-06T21:13:40.647Z"
   },
   {
    "duration": 8,
    "start_time": "2022-05-06T21:13:40.666Z"
   },
   {
    "duration": 17,
    "start_time": "2022-05-06T21:13:40.675Z"
   },
   {
    "duration": 12,
    "start_time": "2022-05-06T21:13:40.693Z"
   },
   {
    "duration": 41,
    "start_time": "2022-05-06T21:13:40.707Z"
   },
   {
    "duration": 28,
    "start_time": "2022-05-06T21:13:40.751Z"
   },
   {
    "duration": 116,
    "start_time": "2022-05-06T21:13:40.781Z"
   },
   {
    "duration": 22,
    "start_time": "2022-05-06T21:13:40.899Z"
   },
   {
    "duration": 97,
    "start_time": "2022-05-06T21:13:40.922Z"
   },
   {
    "duration": 4,
    "start_time": "2022-05-06T21:13:41.021Z"
   },
   {
    "duration": 27,
    "start_time": "2022-05-06T21:13:41.027Z"
   },
   {
    "duration": 5,
    "start_time": "2022-05-06T21:13:41.056Z"
   },
   {
    "duration": 7,
    "start_time": "2022-05-06T21:13:41.062Z"
   },
   {
    "duration": 5,
    "start_time": "2022-05-06T21:13:41.071Z"
   },
   {
    "duration": 4,
    "start_time": "2022-05-06T21:13:41.077Z"
   },
   {
    "duration": 7,
    "start_time": "2022-05-06T21:13:41.082Z"
   },
   {
    "duration": 8,
    "start_time": "2022-05-06T21:13:41.090Z"
   },
   {
    "duration": 8,
    "start_time": "2022-05-06T21:13:41.099Z"
   },
   {
    "duration": 47,
    "start_time": "2022-05-06T21:13:41.108Z"
   },
   {
    "duration": 23,
    "start_time": "2022-05-06T21:13:41.157Z"
   },
   {
    "duration": 7,
    "start_time": "2022-05-06T21:13:41.181Z"
   },
   {
    "duration": 4,
    "start_time": "2022-05-06T21:13:41.190Z"
   },
   {
    "duration": 9,
    "start_time": "2022-05-06T21:13:41.195Z"
   },
   {
    "duration": 4,
    "start_time": "2022-05-06T21:13:41.207Z"
   },
   {
    "duration": 39,
    "start_time": "2022-05-06T21:13:41.212Z"
   },
   {
    "duration": 11,
    "start_time": "2022-05-06T21:13:41.252Z"
   },
   {
    "duration": 10,
    "start_time": "2022-05-06T21:13:41.265Z"
   },
   {
    "duration": 6,
    "start_time": "2022-05-06T21:13:41.276Z"
   },
   {
    "duration": 6,
    "start_time": "2022-05-06T21:13:41.283Z"
   },
   {
    "duration": 5,
    "start_time": "2022-05-06T21:13:41.290Z"
   },
   {
    "duration": 7,
    "start_time": "2022-05-06T21:13:41.296Z"
   },
   {
    "duration": 47,
    "start_time": "2022-05-06T21:13:41.304Z"
   },
   {
    "duration": 26,
    "start_time": "2022-05-06T21:13:41.353Z"
   },
   {
    "duration": 47,
    "start_time": "2022-05-06T21:13:41.381Z"
   },
   {
    "duration": 30,
    "start_time": "2022-05-06T21:13:41.429Z"
   },
   {
    "duration": 40,
    "start_time": "2022-05-06T21:13:41.461Z"
   },
   {
    "duration": 0,
    "start_time": "2022-05-06T21:13:41.503Z"
   },
   {
    "duration": 0,
    "start_time": "2022-05-06T21:13:41.504Z"
   },
   {
    "duration": 0,
    "start_time": "2022-05-06T21:13:41.505Z"
   },
   {
    "duration": 0,
    "start_time": "2022-05-06T21:13:41.505Z"
   },
   {
    "duration": 0,
    "start_time": "2022-05-06T21:13:41.507Z"
   },
   {
    "duration": 0,
    "start_time": "2022-05-06T21:13:41.508Z"
   },
   {
    "duration": 0,
    "start_time": "2022-05-06T21:13:41.508Z"
   },
   {
    "duration": 0,
    "start_time": "2022-05-06T21:13:41.509Z"
   },
   {
    "duration": 0,
    "start_time": "2022-05-06T21:13:41.511Z"
   },
   {
    "duration": 0,
    "start_time": "2022-05-06T21:13:41.548Z"
   },
   {
    "duration": 0,
    "start_time": "2022-05-06T21:13:41.549Z"
   },
   {
    "duration": 0,
    "start_time": "2022-05-06T21:13:41.550Z"
   },
   {
    "duration": 0,
    "start_time": "2022-05-06T21:13:41.551Z"
   },
   {
    "duration": 0,
    "start_time": "2022-05-06T21:13:41.552Z"
   },
   {
    "duration": 0,
    "start_time": "2022-05-06T21:13:41.553Z"
   },
   {
    "duration": 0,
    "start_time": "2022-05-06T21:13:41.554Z"
   },
   {
    "duration": 0,
    "start_time": "2022-05-06T21:13:41.554Z"
   },
   {
    "duration": 0,
    "start_time": "2022-05-06T21:13:41.555Z"
   },
   {
    "duration": 0,
    "start_time": "2022-05-06T21:13:41.556Z"
   },
   {
    "duration": 0,
    "start_time": "2022-05-06T21:13:41.557Z"
   },
   {
    "duration": 0,
    "start_time": "2022-05-06T21:13:41.559Z"
   },
   {
    "duration": 0,
    "start_time": "2022-05-06T21:13:41.559Z"
   },
   {
    "duration": 0,
    "start_time": "2022-05-06T21:13:41.561Z"
   },
   {
    "duration": 0,
    "start_time": "2022-05-06T21:13:41.561Z"
   },
   {
    "duration": 0,
    "start_time": "2022-05-06T21:13:41.563Z"
   },
   {
    "duration": 0,
    "start_time": "2022-05-06T21:13:41.563Z"
   },
   {
    "duration": 0,
    "start_time": "2022-05-06T21:13:41.564Z"
   },
   {
    "duration": 0,
    "start_time": "2022-05-06T21:13:41.565Z"
   },
   {
    "duration": 0,
    "start_time": "2022-05-06T21:13:41.566Z"
   },
   {
    "duration": 0,
    "start_time": "2022-05-06T21:13:41.567Z"
   },
   {
    "duration": 0,
    "start_time": "2022-05-06T21:13:41.568Z"
   },
   {
    "duration": 0,
    "start_time": "2022-05-06T21:13:41.569Z"
   },
   {
    "duration": 0,
    "start_time": "2022-05-06T21:13:41.570Z"
   },
   {
    "duration": 0,
    "start_time": "2022-05-06T21:13:41.571Z"
   },
   {
    "duration": 0,
    "start_time": "2022-05-06T21:13:41.573Z"
   },
   {
    "duration": 0,
    "start_time": "2022-05-06T21:13:41.573Z"
   },
   {
    "duration": 0,
    "start_time": "2022-05-06T21:13:41.574Z"
   },
   {
    "duration": 0,
    "start_time": "2022-05-06T21:13:41.575Z"
   },
   {
    "duration": 26,
    "start_time": "2022-05-06T21:14:13.562Z"
   },
   {
    "duration": 21,
    "start_time": "2022-05-06T21:14:49.600Z"
   },
   {
    "duration": 27,
    "start_time": "2022-05-06T21:21:25.523Z"
   },
   {
    "duration": 41,
    "start_time": "2022-05-06T21:27:48.864Z"
   },
   {
    "duration": 4,
    "start_time": "2022-05-06T21:27:48.906Z"
   },
   {
    "duration": 19,
    "start_time": "2022-05-06T21:27:48.911Z"
   },
   {
    "duration": 16,
    "start_time": "2022-05-06T21:27:48.932Z"
   },
   {
    "duration": 17,
    "start_time": "2022-05-06T21:27:48.949Z"
   },
   {
    "duration": 6,
    "start_time": "2022-05-06T21:27:48.968Z"
   },
   {
    "duration": 15,
    "start_time": "2022-05-06T21:27:48.976Z"
   },
   {
    "duration": 10,
    "start_time": "2022-05-06T21:27:48.993Z"
   },
   {
    "duration": 43,
    "start_time": "2022-05-06T21:27:49.005Z"
   },
   {
    "duration": 26,
    "start_time": "2022-05-06T21:27:49.051Z"
   },
   {
    "duration": 120,
    "start_time": "2022-05-06T21:27:49.079Z"
   },
   {
    "duration": 22,
    "start_time": "2022-05-06T21:27:49.200Z"
   },
   {
    "duration": 93,
    "start_time": "2022-05-06T21:27:49.224Z"
   },
   {
    "duration": 4,
    "start_time": "2022-05-06T21:27:49.318Z"
   },
   {
    "duration": 26,
    "start_time": "2022-05-06T21:27:49.323Z"
   },
   {
    "duration": 6,
    "start_time": "2022-05-06T21:27:49.351Z"
   },
   {
    "duration": 6,
    "start_time": "2022-05-06T21:27:49.358Z"
   },
   {
    "duration": 4,
    "start_time": "2022-05-06T21:27:49.366Z"
   },
   {
    "duration": 5,
    "start_time": "2022-05-06T21:27:49.371Z"
   },
   {
    "duration": 7,
    "start_time": "2022-05-06T21:27:49.377Z"
   },
   {
    "duration": 7,
    "start_time": "2022-05-06T21:27:49.385Z"
   },
   {
    "duration": 7,
    "start_time": "2022-05-06T21:27:49.394Z"
   },
   {
    "duration": 12,
    "start_time": "2022-05-06T21:27:49.402Z"
   },
   {
    "duration": 21,
    "start_time": "2022-05-06T21:27:49.448Z"
   },
   {
    "duration": 39,
    "start_time": "2022-05-06T21:28:24.518Z"
   },
   {
    "duration": 3,
    "start_time": "2022-05-06T21:28:24.559Z"
   },
   {
    "duration": 14,
    "start_time": "2022-05-06T21:28:24.563Z"
   },
   {
    "duration": 14,
    "start_time": "2022-05-06T21:28:24.579Z"
   },
   {
    "duration": 18,
    "start_time": "2022-05-06T21:28:24.594Z"
   },
   {
    "duration": 41,
    "start_time": "2022-05-06T21:28:24.613Z"
   },
   {
    "duration": 17,
    "start_time": "2022-05-06T21:28:24.655Z"
   },
   {
    "duration": 11,
    "start_time": "2022-05-06T21:28:24.674Z"
   },
   {
    "duration": 10,
    "start_time": "2022-05-06T21:28:24.686Z"
   },
   {
    "duration": 57,
    "start_time": "2022-05-06T21:28:24.698Z"
   },
   {
    "duration": 112,
    "start_time": "2022-05-06T21:28:24.756Z"
   },
   {
    "duration": 23,
    "start_time": "2022-05-06T21:28:24.869Z"
   },
   {
    "duration": 96,
    "start_time": "2022-05-06T21:28:24.893Z"
   },
   {
    "duration": 5,
    "start_time": "2022-05-06T21:28:24.990Z"
   },
   {
    "duration": 13,
    "start_time": "2022-05-06T21:28:24.996Z"
   },
   {
    "duration": 8,
    "start_time": "2022-05-06T21:28:25.010Z"
   },
   {
    "duration": 7,
    "start_time": "2022-05-06T21:28:25.019Z"
   },
   {
    "duration": 22,
    "start_time": "2022-05-06T21:28:25.028Z"
   },
   {
    "duration": 5,
    "start_time": "2022-05-06T21:28:25.052Z"
   },
   {
    "duration": 7,
    "start_time": "2022-05-06T21:28:25.058Z"
   },
   {
    "duration": 11,
    "start_time": "2022-05-06T21:28:25.067Z"
   },
   {
    "duration": 8,
    "start_time": "2022-05-06T21:28:25.079Z"
   },
   {
    "duration": 14,
    "start_time": "2022-05-06T21:28:25.089Z"
   },
   {
    "duration": 49,
    "start_time": "2022-05-06T21:28:25.104Z"
   },
   {
    "duration": 5,
    "start_time": "2022-05-06T21:28:25.155Z"
   },
   {
    "duration": 5,
    "start_time": "2022-05-06T21:28:25.161Z"
   },
   {
    "duration": 10,
    "start_time": "2022-05-06T21:28:25.167Z"
   },
   {
    "duration": 4,
    "start_time": "2022-05-06T21:28:25.179Z"
   },
   {
    "duration": 8,
    "start_time": "2022-05-06T21:28:25.184Z"
   },
   {
    "duration": 18,
    "start_time": "2022-05-06T21:28:25.194Z"
   },
   {
    "duration": 35,
    "start_time": "2022-05-06T21:28:25.213Z"
   },
   {
    "duration": 7,
    "start_time": "2022-05-06T21:28:25.249Z"
   },
   {
    "duration": 7,
    "start_time": "2022-05-06T21:28:25.257Z"
   },
   {
    "duration": 4,
    "start_time": "2022-05-06T21:28:25.265Z"
   },
   {
    "duration": 6,
    "start_time": "2022-05-06T21:28:25.271Z"
   },
   {
    "duration": 8,
    "start_time": "2022-05-06T21:28:25.278Z"
   },
   {
    "duration": 25,
    "start_time": "2022-05-06T21:28:25.288Z"
   },
   {
    "duration": 79,
    "start_time": "2022-05-06T21:28:25.314Z"
   },
   {
    "duration": 37,
    "start_time": "2022-05-06T21:28:42.250Z"
   },
   {
    "duration": 6,
    "start_time": "2022-05-06T21:28:42.289Z"
   },
   {
    "duration": 15,
    "start_time": "2022-05-06T21:28:42.296Z"
   },
   {
    "duration": 13,
    "start_time": "2022-05-06T21:28:42.313Z"
   },
   {
    "duration": 18,
    "start_time": "2022-05-06T21:28:42.348Z"
   },
   {
    "duration": 7,
    "start_time": "2022-05-06T21:28:42.367Z"
   },
   {
    "duration": 16,
    "start_time": "2022-05-06T21:28:42.376Z"
   },
   {
    "duration": 11,
    "start_time": "2022-05-06T21:28:42.394Z"
   },
   {
    "duration": 41,
    "start_time": "2022-05-06T21:28:42.407Z"
   },
   {
    "duration": 27,
    "start_time": "2022-05-06T21:28:42.451Z"
   },
   {
    "duration": 124,
    "start_time": "2022-05-06T21:28:42.479Z"
   },
   {
    "duration": 22,
    "start_time": "2022-05-06T21:28:42.604Z"
   },
   {
    "duration": 95,
    "start_time": "2022-05-06T21:28:42.628Z"
   },
   {
    "duration": 5,
    "start_time": "2022-05-06T21:28:42.724Z"
   },
   {
    "duration": 10,
    "start_time": "2022-05-06T21:28:42.747Z"
   },
   {
    "duration": 6,
    "start_time": "2022-05-06T21:28:42.759Z"
   },
   {
    "duration": 6,
    "start_time": "2022-05-06T21:28:42.767Z"
   },
   {
    "duration": 4,
    "start_time": "2022-05-06T21:28:42.775Z"
   },
   {
    "duration": 6,
    "start_time": "2022-05-06T21:28:42.780Z"
   },
   {
    "duration": 8,
    "start_time": "2022-05-06T21:28:42.787Z"
   },
   {
    "duration": 65,
    "start_time": "2022-05-06T21:28:42.797Z"
   },
   {
    "duration": 9,
    "start_time": "2022-05-06T21:28:42.863Z"
   },
   {
    "duration": 14,
    "start_time": "2022-05-06T21:28:42.873Z"
   },
   {
    "duration": 23,
    "start_time": "2022-05-06T21:28:42.888Z"
   },
   {
    "duration": 6,
    "start_time": "2022-05-06T21:28:42.912Z"
   },
   {
    "duration": 5,
    "start_time": "2022-05-06T21:28:42.947Z"
   },
   {
    "duration": 9,
    "start_time": "2022-05-06T21:28:42.953Z"
   },
   {
    "duration": 4,
    "start_time": "2022-05-06T21:28:42.965Z"
   },
   {
    "duration": 5,
    "start_time": "2022-05-06T21:28:42.970Z"
   },
   {
    "duration": 10,
    "start_time": "2022-05-06T21:28:42.977Z"
   },
   {
    "duration": 9,
    "start_time": "2022-05-06T21:28:42.989Z"
   },
   {
    "duration": 6,
    "start_time": "2022-05-06T21:28:43.000Z"
   },
   {
    "duration": 6,
    "start_time": "2022-05-06T21:28:43.049Z"
   },
   {
    "duration": 7,
    "start_time": "2022-05-06T21:28:43.056Z"
   },
   {
    "duration": 8,
    "start_time": "2022-05-06T21:28:43.064Z"
   },
   {
    "duration": 10,
    "start_time": "2022-05-06T21:28:43.074Z"
   },
   {
    "duration": 30,
    "start_time": "2022-05-06T21:28:43.086Z"
   },
   {
    "duration": 39,
    "start_time": "2022-05-06T21:28:47.845Z"
   },
   {
    "duration": 4,
    "start_time": "2022-05-06T21:28:47.886Z"
   },
   {
    "duration": 12,
    "start_time": "2022-05-06T21:28:47.892Z"
   },
   {
    "duration": 14,
    "start_time": "2022-05-06T21:28:47.906Z"
   },
   {
    "duration": 18,
    "start_time": "2022-05-06T21:28:47.948Z"
   },
   {
    "duration": 6,
    "start_time": "2022-05-06T21:28:47.968Z"
   },
   {
    "duration": 17,
    "start_time": "2022-05-06T21:28:47.976Z"
   },
   {
    "duration": 10,
    "start_time": "2022-05-06T21:28:47.994Z"
   },
   {
    "duration": 42,
    "start_time": "2022-05-06T21:28:48.006Z"
   },
   {
    "duration": 27,
    "start_time": "2022-05-06T21:28:48.050Z"
   },
   {
    "duration": 125,
    "start_time": "2022-05-06T21:28:48.078Z"
   },
   {
    "duration": 23,
    "start_time": "2022-05-06T21:28:48.204Z"
   },
   {
    "duration": 77,
    "start_time": "2022-05-06T21:28:48.247Z"
   },
   {
    "duration": 4,
    "start_time": "2022-05-06T21:28:48.326Z"
   },
   {
    "duration": 10,
    "start_time": "2022-05-06T21:28:48.347Z"
   },
   {
    "duration": 5,
    "start_time": "2022-05-06T21:28:48.359Z"
   },
   {
    "duration": 6,
    "start_time": "2022-05-06T21:28:48.366Z"
   },
   {
    "duration": 4,
    "start_time": "2022-05-06T21:28:48.374Z"
   },
   {
    "duration": 4,
    "start_time": "2022-05-06T21:28:48.380Z"
   },
   {
    "duration": 6,
    "start_time": "2022-05-06T21:28:48.385Z"
   },
   {
    "duration": 7,
    "start_time": "2022-05-06T21:28:48.392Z"
   },
   {
    "duration": 8,
    "start_time": "2022-05-06T21:28:48.400Z"
   },
   {
    "duration": 50,
    "start_time": "2022-05-06T21:28:48.410Z"
   },
   {
    "duration": 21,
    "start_time": "2022-05-06T21:28:48.461Z"
   },
   {
    "duration": 5,
    "start_time": "2022-05-06T21:28:48.484Z"
   },
   {
    "duration": 6,
    "start_time": "2022-05-06T21:28:48.490Z"
   },
   {
    "duration": 8,
    "start_time": "2022-05-06T21:28:48.497Z"
   },
   {
    "duration": 3,
    "start_time": "2022-05-06T21:28:48.508Z"
   },
   {
    "duration": 36,
    "start_time": "2022-05-06T21:28:48.513Z"
   },
   {
    "duration": 11,
    "start_time": "2022-05-06T21:28:48.550Z"
   },
   {
    "duration": 8,
    "start_time": "2022-05-06T21:28:48.563Z"
   },
   {
    "duration": 6,
    "start_time": "2022-05-06T21:28:48.572Z"
   },
   {
    "duration": 6,
    "start_time": "2022-05-06T21:28:48.580Z"
   },
   {
    "duration": 5,
    "start_time": "2022-05-06T21:28:48.587Z"
   },
   {
    "duration": 8,
    "start_time": "2022-05-06T21:28:48.593Z"
   },
   {
    "duration": 9,
    "start_time": "2022-05-06T21:28:48.602Z"
   },
   {
    "duration": 27,
    "start_time": "2022-05-06T21:28:48.647Z"
   },
   {
    "duration": 48,
    "start_time": "2022-05-06T21:28:48.676Z"
   },
   {
    "duration": 14,
    "start_time": "2022-05-06T21:32:34.270Z"
   },
   {
    "duration": 7,
    "start_time": "2022-05-06T21:32:41.773Z"
   },
   {
    "duration": 19,
    "start_time": "2022-05-06T21:32:48.824Z"
   },
   {
    "duration": 8,
    "start_time": "2022-05-06T21:32:55.570Z"
   },
   {
    "duration": 28,
    "start_time": "2022-05-06T21:33:05.947Z"
   },
   {
    "duration": 14,
    "start_time": "2022-05-06T21:33:15.046Z"
   },
   {
    "duration": 28,
    "start_time": "2022-05-06T21:33:22.186Z"
   },
   {
    "duration": 13,
    "start_time": "2022-05-06T21:33:30.804Z"
   },
   {
    "duration": 13,
    "start_time": "2022-05-06T21:34:23.931Z"
   },
   {
    "duration": 5,
    "start_time": "2022-05-06T21:34:34.259Z"
   },
   {
    "duration": 18,
    "start_time": "2022-05-06T21:34:46.975Z"
   },
   {
    "duration": 9,
    "start_time": "2022-05-06T21:34:54.507Z"
   },
   {
    "duration": 48,
    "start_time": "2022-05-06T21:35:05.968Z"
   },
   {
    "duration": 44,
    "start_time": "2022-05-06T21:35:10.979Z"
   },
   {
    "duration": 50,
    "start_time": "2022-05-06T21:35:14.595Z"
   },
   {
    "duration": 26,
    "start_time": "2022-05-06T21:35:36.067Z"
   },
   {
    "duration": 29,
    "start_time": "2022-05-06T21:35:40.554Z"
   },
   {
    "duration": 48,
    "start_time": "2022-05-06T21:36:03.748Z"
   },
   {
    "duration": 44,
    "start_time": "2022-05-06T21:36:38.603Z"
   },
   {
    "duration": 49,
    "start_time": "2022-05-06T21:36:48.057Z"
   },
   {
    "duration": 7,
    "start_time": "2022-05-06T21:39:23.250Z"
   },
   {
    "duration": 5,
    "start_time": "2022-05-06T21:40:03.447Z"
   },
   {
    "duration": 6,
    "start_time": "2022-05-06T21:41:33.572Z"
   },
   {
    "duration": 6,
    "start_time": "2022-05-06T21:42:00.265Z"
   },
   {
    "duration": 12,
    "start_time": "2022-05-06T21:43:20.086Z"
   },
   {
    "duration": 6,
    "start_time": "2022-05-06T21:43:36.605Z"
   },
   {
    "duration": 7,
    "start_time": "2022-05-06T21:56:39.389Z"
   },
   {
    "duration": 6,
    "start_time": "2022-05-06T21:56:56.353Z"
   },
   {
    "duration": 45,
    "start_time": "2022-05-06T22:01:47.302Z"
   },
   {
    "duration": 461,
    "start_time": "2022-05-06T22:01:54.823Z"
   },
   {
    "duration": 8,
    "start_time": "2022-05-06T22:01:55.285Z"
   },
   {
    "duration": 18,
    "start_time": "2022-05-06T22:01:55.295Z"
   },
   {
    "duration": 16,
    "start_time": "2022-05-06T22:01:55.315Z"
   },
   {
    "duration": 31,
    "start_time": "2022-05-06T22:01:55.332Z"
   },
   {
    "duration": 9,
    "start_time": "2022-05-06T22:01:55.365Z"
   },
   {
    "duration": 19,
    "start_time": "2022-05-06T22:01:55.375Z"
   },
   {
    "duration": 14,
    "start_time": "2022-05-06T22:01:55.396Z"
   },
   {
    "duration": 45,
    "start_time": "2022-05-06T22:01:55.411Z"
   },
   {
    "duration": 28,
    "start_time": "2022-05-06T22:01:55.460Z"
   },
   {
    "duration": 124,
    "start_time": "2022-05-06T22:01:55.489Z"
   },
   {
    "duration": 39,
    "start_time": "2022-05-06T22:01:55.614Z"
   },
   {
    "duration": 98,
    "start_time": "2022-05-06T22:01:55.655Z"
   },
   {
    "duration": 4,
    "start_time": "2022-05-06T22:01:55.755Z"
   },
   {
    "duration": 11,
    "start_time": "2022-05-06T22:01:55.760Z"
   },
   {
    "duration": 6,
    "start_time": "2022-05-06T22:01:55.772Z"
   },
   {
    "duration": 5,
    "start_time": "2022-05-06T22:01:55.779Z"
   },
   {
    "duration": 4,
    "start_time": "2022-05-06T22:01:55.786Z"
   },
   {
    "duration": 6,
    "start_time": "2022-05-06T22:01:55.791Z"
   },
   {
    "duration": 6,
    "start_time": "2022-05-06T22:01:55.799Z"
   },
   {
    "duration": 7,
    "start_time": "2022-05-06T22:01:55.806Z"
   },
   {
    "duration": 41,
    "start_time": "2022-05-06T22:01:55.814Z"
   },
   {
    "duration": 14,
    "start_time": "2022-05-06T22:01:55.857Z"
   },
   {
    "duration": 20,
    "start_time": "2022-05-06T22:01:55.873Z"
   },
   {
    "duration": 5,
    "start_time": "2022-05-06T22:01:55.895Z"
   },
   {
    "duration": 402,
    "start_time": "2022-05-06T22:04:12.201Z"
   },
   {
    "duration": 8,
    "start_time": "2022-05-06T22:04:12.605Z"
   },
   {
    "duration": 18,
    "start_time": "2022-05-06T22:04:12.615Z"
   },
   {
    "duration": 22,
    "start_time": "2022-05-06T22:04:12.634Z"
   },
   {
    "duration": 17,
    "start_time": "2022-05-06T22:04:12.658Z"
   },
   {
    "duration": 8,
    "start_time": "2022-05-06T22:04:12.677Z"
   },
   {
    "duration": 18,
    "start_time": "2022-05-06T22:04:12.686Z"
   },
   {
    "duration": 13,
    "start_time": "2022-05-06T22:04:12.706Z"
   },
   {
    "duration": 10,
    "start_time": "2022-05-06T22:04:12.747Z"
   },
   {
    "duration": 27,
    "start_time": "2022-05-06T22:04:12.760Z"
   },
   {
    "duration": 125,
    "start_time": "2022-05-06T22:04:12.788Z"
   },
   {
    "duration": 37,
    "start_time": "2022-05-06T22:04:12.914Z"
   },
   {
    "duration": 76,
    "start_time": "2022-05-06T22:04:12.952Z"
   },
   {
    "duration": 21,
    "start_time": "2022-05-06T22:04:13.029Z"
   },
   {
    "duration": 12,
    "start_time": "2022-05-06T22:04:13.051Z"
   },
   {
    "duration": 5,
    "start_time": "2022-05-06T22:04:13.064Z"
   },
   {
    "duration": 6,
    "start_time": "2022-05-06T22:04:13.070Z"
   },
   {
    "duration": 4,
    "start_time": "2022-05-06T22:04:13.077Z"
   },
   {
    "duration": 4,
    "start_time": "2022-05-06T22:04:13.082Z"
   },
   {
    "duration": 5,
    "start_time": "2022-05-06T22:04:13.088Z"
   },
   {
    "duration": 7,
    "start_time": "2022-05-06T22:04:13.094Z"
   },
   {
    "duration": 7,
    "start_time": "2022-05-06T22:04:13.103Z"
   },
   {
    "duration": 14,
    "start_time": "2022-05-06T22:04:13.147Z"
   },
   {
    "duration": 22,
    "start_time": "2022-05-06T22:04:13.162Z"
   },
   {
    "duration": 5,
    "start_time": "2022-05-06T22:04:13.185Z"
   },
   {
    "duration": 420,
    "start_time": "2022-05-06T22:04:32.370Z"
   },
   {
    "duration": 7,
    "start_time": "2022-05-06T22:04:32.792Z"
   },
   {
    "duration": 15,
    "start_time": "2022-05-06T22:04:32.800Z"
   },
   {
    "duration": 13,
    "start_time": "2022-05-06T22:04:32.817Z"
   },
   {
    "duration": 30,
    "start_time": "2022-05-06T22:04:32.832Z"
   },
   {
    "duration": 7,
    "start_time": "2022-05-06T22:04:32.864Z"
   },
   {
    "duration": 18,
    "start_time": "2022-05-06T22:04:32.872Z"
   },
   {
    "duration": 13,
    "start_time": "2022-05-06T22:04:32.891Z"
   },
   {
    "duration": 10,
    "start_time": "2022-05-06T22:04:32.905Z"
   },
   {
    "duration": 27,
    "start_time": "2022-05-06T22:04:32.948Z"
   },
   {
    "duration": 116,
    "start_time": "2022-05-06T22:04:32.977Z"
   },
   {
    "duration": 22,
    "start_time": "2022-05-06T22:04:33.094Z"
   },
   {
    "duration": 97,
    "start_time": "2022-05-06T22:04:33.117Z"
   },
   {
    "duration": 4,
    "start_time": "2022-05-06T22:04:33.216Z"
   },
   {
    "duration": 26,
    "start_time": "2022-05-06T22:04:33.222Z"
   },
   {
    "duration": 5,
    "start_time": "2022-05-06T22:04:33.250Z"
   },
   {
    "duration": 7,
    "start_time": "2022-05-06T22:04:33.256Z"
   },
   {
    "duration": 4,
    "start_time": "2022-05-06T22:04:33.264Z"
   },
   {
    "duration": 4,
    "start_time": "2022-05-06T22:04:33.270Z"
   },
   {
    "duration": 6,
    "start_time": "2022-05-06T22:04:33.276Z"
   },
   {
    "duration": 7,
    "start_time": "2022-05-06T22:04:33.283Z"
   },
   {
    "duration": 8,
    "start_time": "2022-05-06T22:04:33.291Z"
   },
   {
    "duration": 51,
    "start_time": "2022-05-06T22:04:33.300Z"
   },
   {
    "duration": 22,
    "start_time": "2022-05-06T22:04:33.352Z"
   },
   {
    "duration": 7,
    "start_time": "2022-05-06T22:04:33.375Z"
   },
   {
    "duration": 445,
    "start_time": "2022-05-06T22:06:23.417Z"
   },
   {
    "duration": 40,
    "start_time": "2022-05-06T22:06:25.819Z"
   },
   {
    "duration": 8,
    "start_time": "2022-05-06T22:06:28.433Z"
   },
   {
    "duration": 13,
    "start_time": "2022-05-06T22:06:29.575Z"
   },
   {
    "duration": 13,
    "start_time": "2022-05-06T22:06:31.910Z"
   },
   {
    "duration": 18,
    "start_time": "2022-05-06T22:06:35.663Z"
   },
   {
    "duration": 7,
    "start_time": "2022-05-06T22:06:39.170Z"
   },
   {
    "duration": 18,
    "start_time": "2022-05-06T22:06:43.173Z"
   },
   {
    "duration": 14,
    "start_time": "2022-05-06T22:06:47.009Z"
   },
   {
    "duration": 10,
    "start_time": "2022-05-06T22:06:48.318Z"
   },
   {
    "duration": 29,
    "start_time": "2022-05-06T22:06:51.425Z"
   },
   {
    "duration": 99,
    "start_time": "2022-05-06T22:06:54.602Z"
   },
   {
    "duration": 23,
    "start_time": "2022-05-06T22:06:57.697Z"
   },
   {
    "duration": 79,
    "start_time": "2022-05-06T22:07:00.937Z"
   },
   {
    "duration": 4,
    "start_time": "2022-05-06T22:07:04.777Z"
   },
   {
    "duration": 9,
    "start_time": "2022-05-06T22:07:07.713Z"
   },
   {
    "duration": 5,
    "start_time": "2022-05-06T22:07:11.722Z"
   },
   {
    "duration": 5,
    "start_time": "2022-05-06T22:07:13.534Z"
   },
   {
    "duration": 4,
    "start_time": "2022-05-06T22:07:15.120Z"
   },
   {
    "duration": 4,
    "start_time": "2022-05-06T22:07:16.750Z"
   },
   {
    "duration": 5,
    "start_time": "2022-05-06T22:07:17.848Z"
   },
   {
    "duration": 8,
    "start_time": "2022-05-06T22:07:20.559Z"
   },
   {
    "duration": 9,
    "start_time": "2022-05-06T22:07:22.083Z"
   },
   {
    "duration": 13,
    "start_time": "2022-05-06T22:07:23.786Z"
   },
   {
    "duration": 22,
    "start_time": "2022-05-06T22:07:25.658Z"
   },
   {
    "duration": 6,
    "start_time": "2022-05-06T22:07:28.150Z"
   },
   {
    "duration": 443,
    "start_time": "2022-05-06T22:08:12.237Z"
   },
   {
    "duration": 7,
    "start_time": "2022-05-06T22:08:12.682Z"
   },
   {
    "duration": 16,
    "start_time": "2022-05-06T22:08:12.691Z"
   },
   {
    "duration": 15,
    "start_time": "2022-05-06T22:08:12.709Z"
   },
   {
    "duration": 41,
    "start_time": "2022-05-06T22:08:12.725Z"
   },
   {
    "duration": 8,
    "start_time": "2022-05-06T22:08:12.767Z"
   },
   {
    "duration": 19,
    "start_time": "2022-05-06T22:08:12.776Z"
   },
   {
    "duration": 13,
    "start_time": "2022-05-06T22:08:12.797Z"
   },
   {
    "duration": 38,
    "start_time": "2022-05-06T22:08:12.812Z"
   },
   {
    "duration": 28,
    "start_time": "2022-05-06T22:08:12.852Z"
   },
   {
    "duration": 121,
    "start_time": "2022-05-06T22:08:12.882Z"
   },
   {
    "duration": 21,
    "start_time": "2022-05-06T22:08:13.005Z"
   },
   {
    "duration": 93,
    "start_time": "2022-05-06T22:08:13.027Z"
   },
   {
    "duration": 4,
    "start_time": "2022-05-06T22:08:13.122Z"
   },
   {
    "duration": 9,
    "start_time": "2022-05-06T22:08:13.148Z"
   },
   {
    "duration": 8,
    "start_time": "2022-05-06T22:08:13.159Z"
   },
   {
    "duration": 5,
    "start_time": "2022-05-06T22:08:13.169Z"
   },
   {
    "duration": 5,
    "start_time": "2022-05-06T22:08:13.175Z"
   },
   {
    "duration": 4,
    "start_time": "2022-05-06T22:08:13.181Z"
   },
   {
    "duration": 5,
    "start_time": "2022-05-06T22:08:13.186Z"
   },
   {
    "duration": 8,
    "start_time": "2022-05-06T22:08:13.192Z"
   },
   {
    "duration": 8,
    "start_time": "2022-05-06T22:08:13.202Z"
   },
   {
    "duration": 46,
    "start_time": "2022-05-06T22:08:13.211Z"
   },
   {
    "duration": 24,
    "start_time": "2022-05-06T22:08:13.259Z"
   },
   {
    "duration": 6,
    "start_time": "2022-05-06T22:08:16.984Z"
   },
   {
    "duration": 39,
    "start_time": "2022-05-06T22:08:29.052Z"
   },
   {
    "duration": 3,
    "start_time": "2022-05-06T22:08:29.093Z"
   },
   {
    "duration": 14,
    "start_time": "2022-05-06T22:08:29.097Z"
   },
   {
    "duration": 13,
    "start_time": "2022-05-06T22:08:29.113Z"
   },
   {
    "duration": 19,
    "start_time": "2022-05-06T22:08:29.147Z"
   },
   {
    "duration": 7,
    "start_time": "2022-05-06T22:08:29.168Z"
   },
   {
    "duration": 17,
    "start_time": "2022-05-06T22:08:29.176Z"
   },
   {
    "duration": 11,
    "start_time": "2022-05-06T22:08:29.195Z"
   },
   {
    "duration": 9,
    "start_time": "2022-05-06T22:08:29.207Z"
   },
   {
    "duration": 26,
    "start_time": "2022-05-06T22:08:29.250Z"
   },
   {
    "duration": 124,
    "start_time": "2022-05-06T22:08:29.278Z"
   },
   {
    "duration": 22,
    "start_time": "2022-05-06T22:08:29.403Z"
   },
   {
    "duration": 95,
    "start_time": "2022-05-06T22:08:29.426Z"
   },
   {
    "duration": 24,
    "start_time": "2022-05-06T22:08:29.522Z"
   },
   {
    "duration": 11,
    "start_time": "2022-05-06T22:08:29.548Z"
   },
   {
    "duration": 8,
    "start_time": "2022-05-06T22:08:29.560Z"
   },
   {
    "duration": 7,
    "start_time": "2022-05-06T22:08:29.569Z"
   },
   {
    "duration": 5,
    "start_time": "2022-05-06T22:08:29.577Z"
   },
   {
    "duration": 4,
    "start_time": "2022-05-06T22:08:29.584Z"
   },
   {
    "duration": 8,
    "start_time": "2022-05-06T22:08:29.589Z"
   },
   {
    "duration": 22,
    "start_time": "2022-05-06T22:08:29.599Z"
   },
   {
    "duration": 7,
    "start_time": "2022-05-06T22:08:29.623Z"
   },
   {
    "duration": 13,
    "start_time": "2022-05-06T22:08:29.648Z"
   },
   {
    "duration": 23,
    "start_time": "2022-05-06T22:08:29.662Z"
   },
   {
    "duration": 6,
    "start_time": "2022-05-06T22:08:29.686Z"
   },
   {
    "duration": 444,
    "start_time": "2022-05-06T22:09:10.841Z"
   },
   {
    "duration": 8,
    "start_time": "2022-05-06T22:09:11.286Z"
   },
   {
    "duration": 17,
    "start_time": "2022-05-06T22:09:11.295Z"
   },
   {
    "duration": 14,
    "start_time": "2022-05-06T22:09:11.314Z"
   },
   {
    "duration": 30,
    "start_time": "2022-05-06T22:09:11.329Z"
   },
   {
    "duration": 6,
    "start_time": "2022-05-06T22:09:11.361Z"
   },
   {
    "duration": 18,
    "start_time": "2022-05-06T22:09:11.369Z"
   },
   {
    "duration": 13,
    "start_time": "2022-05-06T22:09:11.389Z"
   },
   {
    "duration": 9,
    "start_time": "2022-05-06T22:09:11.404Z"
   },
   {
    "duration": 57,
    "start_time": "2022-05-06T22:09:11.415Z"
   },
   {
    "duration": 119,
    "start_time": "2022-05-06T22:09:11.473Z"
   },
   {
    "duration": 22,
    "start_time": "2022-05-06T22:09:11.594Z"
   },
   {
    "duration": 97,
    "start_time": "2022-05-06T22:09:11.617Z"
   },
   {
    "duration": 4,
    "start_time": "2022-05-06T22:09:11.716Z"
   },
   {
    "duration": 11,
    "start_time": "2022-05-06T22:09:11.721Z"
   },
   {
    "duration": 5,
    "start_time": "2022-05-06T22:09:11.748Z"
   },
   {
    "duration": 7,
    "start_time": "2022-05-06T22:09:11.754Z"
   },
   {
    "duration": 5,
    "start_time": "2022-05-06T22:09:11.762Z"
   },
   {
    "duration": 4,
    "start_time": "2022-05-06T22:09:11.768Z"
   },
   {
    "duration": 7,
    "start_time": "2022-05-06T22:09:11.773Z"
   },
   {
    "duration": 6,
    "start_time": "2022-05-06T22:09:11.782Z"
   },
   {
    "duration": 8,
    "start_time": "2022-05-06T22:09:11.789Z"
   },
   {
    "duration": 12,
    "start_time": "2022-05-06T22:09:11.798Z"
   },
   {
    "duration": 53,
    "start_time": "2022-05-06T22:09:11.812Z"
   },
   {
    "duration": 6,
    "start_time": "2022-05-06T22:09:11.866Z"
   },
   {
    "duration": 4,
    "start_time": "2022-05-06T22:09:42.241Z"
   },
   {
    "duration": 6,
    "start_time": "2022-05-06T22:09:43.402Z"
   },
   {
    "duration": 4,
    "start_time": "2022-05-06T22:10:25.746Z"
   },
   {
    "duration": 1596,
    "start_time": "2022-05-06T22:10:41.662Z"
   },
   {
    "duration": 10,
    "start_time": "2022-05-06T22:11:09.221Z"
   },
   {
    "duration": 5,
    "start_time": "2022-05-06T22:11:20.467Z"
   },
   {
    "duration": 40,
    "start_time": "2022-05-06T22:11:35.827Z"
   },
   {
    "duration": 4,
    "start_time": "2022-05-06T22:11:35.868Z"
   },
   {
    "duration": 14,
    "start_time": "2022-05-06T22:11:35.873Z"
   },
   {
    "duration": 15,
    "start_time": "2022-05-06T22:11:35.888Z"
   },
   {
    "duration": 46,
    "start_time": "2022-05-06T22:11:35.905Z"
   },
   {
    "duration": 8,
    "start_time": "2022-05-06T22:11:35.952Z"
   },
   {
    "duration": 18,
    "start_time": "2022-05-06T22:11:35.961Z"
   },
   {
    "duration": 11,
    "start_time": "2022-05-06T22:11:35.980Z"
   },
   {
    "duration": 9,
    "start_time": "2022-05-06T22:11:35.992Z"
   },
   {
    "duration": 66,
    "start_time": "2022-05-06T22:11:36.003Z"
   },
   {
    "duration": 117,
    "start_time": "2022-05-06T22:11:36.070Z"
   },
   {
    "duration": 22,
    "start_time": "2022-05-06T22:11:36.188Z"
   },
   {
    "duration": 96,
    "start_time": "2022-05-06T22:11:36.211Z"
   },
   {
    "duration": 4,
    "start_time": "2022-05-06T22:11:36.308Z"
   },
   {
    "duration": 12,
    "start_time": "2022-05-06T22:11:36.313Z"
   },
   {
    "duration": 6,
    "start_time": "2022-05-06T22:11:36.327Z"
   },
   {
    "duration": 16,
    "start_time": "2022-05-06T22:11:36.334Z"
   },
   {
    "duration": 6,
    "start_time": "2022-05-06T22:11:36.351Z"
   },
   {
    "duration": 6,
    "start_time": "2022-05-06T22:11:36.359Z"
   },
   {
    "duration": 8,
    "start_time": "2022-05-06T22:11:36.366Z"
   },
   {
    "duration": 9,
    "start_time": "2022-05-06T22:11:36.375Z"
   },
   {
    "duration": 7,
    "start_time": "2022-05-06T22:11:36.385Z"
   },
   {
    "duration": 13,
    "start_time": "2022-05-06T22:11:36.393Z"
   },
   {
    "duration": 51,
    "start_time": "2022-05-06T22:11:36.407Z"
   },
   {
    "duration": 3,
    "start_time": "2022-05-06T22:11:36.460Z"
   },
   {
    "duration": 5,
    "start_time": "2022-05-06T22:11:36.464Z"
   },
   {
    "duration": 7,
    "start_time": "2022-05-06T22:11:36.470Z"
   },
   {
    "duration": 7,
    "start_time": "2022-05-06T22:11:36.479Z"
   },
   {
    "duration": 3,
    "start_time": "2022-05-06T22:11:36.488Z"
   },
   {
    "duration": 8,
    "start_time": "2022-05-06T22:11:36.492Z"
   },
   {
    "duration": 18,
    "start_time": "2022-05-06T22:11:36.501Z"
   },
   {
    "duration": 33,
    "start_time": "2022-05-06T22:11:36.520Z"
   },
   {
    "duration": 5,
    "start_time": "2022-05-06T22:11:36.555Z"
   },
   {
    "duration": 7,
    "start_time": "2022-05-06T22:11:36.562Z"
   },
   {
    "duration": 5,
    "start_time": "2022-05-06T22:11:36.570Z"
   },
   {
    "duration": 8,
    "start_time": "2022-05-06T22:11:36.576Z"
   },
   {
    "duration": 9,
    "start_time": "2022-05-06T22:11:36.585Z"
   },
   {
    "duration": 52,
    "start_time": "2022-05-06T22:11:36.596Z"
   },
   {
    "duration": 59,
    "start_time": "2022-05-06T22:11:36.650Z"
   },
   {
    "duration": 15,
    "start_time": "2022-05-06T22:11:36.711Z"
   },
   {
    "duration": 31,
    "start_time": "2022-05-06T22:11:36.747Z"
   },
   {
    "duration": 11,
    "start_time": "2022-05-06T22:12:19.412Z"
   },
   {
    "duration": 18,
    "start_time": "2022-05-06T22:12:29.828Z"
   },
   {
    "duration": 9,
    "start_time": "2022-05-06T22:12:47.628Z"
   },
   {
    "duration": 9,
    "start_time": "2022-05-06T22:13:00.436Z"
   },
   {
    "duration": 4,
    "start_time": "2022-05-06T22:14:01.459Z"
   },
   {
    "duration": 5,
    "start_time": "2022-05-06T22:14:16.565Z"
   },
   {
    "duration": 4,
    "start_time": "2022-05-06T22:14:39.485Z"
   },
   {
    "duration": 5,
    "start_time": "2022-05-06T22:14:49.514Z"
   },
   {
    "duration": 32,
    "start_time": "2022-05-06T22:29:25.433Z"
   },
   {
    "duration": 13,
    "start_time": "2022-05-06T23:13:10.536Z"
   },
   {
    "duration": 52,
    "start_time": "2022-05-06T23:14:08.516Z"
   },
   {
    "duration": 53,
    "start_time": "2022-05-06T23:14:13.164Z"
   },
   {
    "duration": 49,
    "start_time": "2022-05-06T23:14:25.125Z"
   },
   {
    "duration": 11,
    "start_time": "2022-05-06T23:34:08.297Z"
   },
   {
    "duration": 17,
    "start_time": "2022-05-06T23:35:44.378Z"
   },
   {
    "duration": 8,
    "start_time": "2022-05-06T23:36:54.294Z"
   },
   {
    "duration": 9,
    "start_time": "2022-05-06T23:37:01.212Z"
   },
   {
    "duration": 41,
    "start_time": "2022-05-06T23:37:22.161Z"
   },
   {
    "duration": 4,
    "start_time": "2022-05-06T23:37:22.204Z"
   },
   {
    "duration": 16,
    "start_time": "2022-05-06T23:37:22.209Z"
   },
   {
    "duration": 15,
    "start_time": "2022-05-06T23:37:22.226Z"
   },
   {
    "duration": 19,
    "start_time": "2022-05-06T23:37:22.246Z"
   },
   {
    "duration": 6,
    "start_time": "2022-05-06T23:37:22.267Z"
   },
   {
    "duration": 21,
    "start_time": "2022-05-06T23:37:22.275Z"
   },
   {
    "duration": 11,
    "start_time": "2022-05-06T23:37:22.297Z"
   },
   {
    "duration": 44,
    "start_time": "2022-05-06T23:37:22.309Z"
   },
   {
    "duration": 28,
    "start_time": "2022-05-06T23:37:22.355Z"
   },
   {
    "duration": 124,
    "start_time": "2022-05-06T23:37:22.384Z"
   },
   {
    "duration": 44,
    "start_time": "2022-05-06T23:37:22.509Z"
   },
   {
    "duration": 94,
    "start_time": "2022-05-06T23:37:22.555Z"
   },
   {
    "duration": 5,
    "start_time": "2022-05-06T23:37:22.652Z"
   },
   {
    "duration": 11,
    "start_time": "2022-05-06T23:37:22.658Z"
   },
   {
    "duration": 5,
    "start_time": "2022-05-06T23:37:22.670Z"
   },
   {
    "duration": 5,
    "start_time": "2022-05-06T23:37:22.677Z"
   },
   {
    "duration": 5,
    "start_time": "2022-05-06T23:37:22.683Z"
   },
   {
    "duration": 5,
    "start_time": "2022-05-06T23:37:22.690Z"
   },
   {
    "duration": 7,
    "start_time": "2022-05-06T23:37:22.697Z"
   },
   {
    "duration": 45,
    "start_time": "2022-05-06T23:37:22.705Z"
   },
   {
    "duration": 10,
    "start_time": "2022-05-06T23:37:22.752Z"
   },
   {
    "duration": 14,
    "start_time": "2022-05-06T23:37:22.764Z"
   },
   {
    "duration": 25,
    "start_time": "2022-05-06T23:37:22.779Z"
   },
   {
    "duration": 4,
    "start_time": "2022-05-06T23:37:22.805Z"
   },
   {
    "duration": 39,
    "start_time": "2022-05-06T23:37:22.810Z"
   },
   {
    "duration": 5,
    "start_time": "2022-05-06T23:37:22.851Z"
   },
   {
    "duration": 13,
    "start_time": "2022-05-06T23:37:22.857Z"
   },
   {
    "duration": 4,
    "start_time": "2022-05-06T23:37:22.872Z"
   },
   {
    "duration": 5,
    "start_time": "2022-05-06T23:37:22.878Z"
   },
   {
    "duration": 10,
    "start_time": "2022-05-06T23:37:22.885Z"
   },
   {
    "duration": 10,
    "start_time": "2022-05-06T23:37:22.897Z"
   },
   {
    "duration": 45,
    "start_time": "2022-05-06T23:37:22.909Z"
   },
   {
    "duration": 6,
    "start_time": "2022-05-06T23:37:22.956Z"
   },
   {
    "duration": 5,
    "start_time": "2022-05-06T23:37:22.964Z"
   },
   {
    "duration": 7,
    "start_time": "2022-05-06T23:37:22.971Z"
   },
   {
    "duration": 10,
    "start_time": "2022-05-06T23:37:22.979Z"
   },
   {
    "duration": 60,
    "start_time": "2022-05-06T23:37:22.990Z"
   },
   {
    "duration": 55,
    "start_time": "2022-05-06T23:37:23.052Z"
   },
   {
    "duration": 14,
    "start_time": "2022-05-06T23:37:23.109Z"
   },
   {
    "duration": 32,
    "start_time": "2022-05-06T23:37:23.151Z"
   },
   {
    "duration": 20,
    "start_time": "2022-05-06T23:37:23.185Z"
   },
   {
    "duration": 2,
    "start_time": "2022-05-06T23:37:23.207Z"
   },
   {
    "duration": 4,
    "start_time": "2022-05-06T23:37:23.211Z"
   },
   {
    "duration": 30,
    "start_time": "2022-05-06T23:37:23.217Z"
   },
   {
    "duration": 20,
    "start_time": "2022-05-06T23:37:23.250Z"
   },
   {
    "duration": 11,
    "start_time": "2022-05-06T23:37:23.272Z"
   },
   {
    "duration": 18,
    "start_time": "2022-05-06T23:37:30.593Z"
   },
   {
    "duration": 8,
    "start_time": "2022-05-06T23:37:34.887Z"
   },
   {
    "duration": 48,
    "start_time": "2022-05-06T23:37:48.041Z"
   },
   {
    "duration": 4,
    "start_time": "2022-05-06T23:37:48.091Z"
   },
   {
    "duration": 18,
    "start_time": "2022-05-06T23:37:48.097Z"
   },
   {
    "duration": 41,
    "start_time": "2022-05-06T23:37:48.118Z"
   },
   {
    "duration": 26,
    "start_time": "2022-05-06T23:37:48.161Z"
   },
   {
    "duration": 9,
    "start_time": "2022-05-06T23:37:48.189Z"
   },
   {
    "duration": 53,
    "start_time": "2022-05-06T23:37:48.200Z"
   },
   {
    "duration": 16,
    "start_time": "2022-05-06T23:37:48.255Z"
   },
   {
    "duration": 14,
    "start_time": "2022-05-06T23:37:48.273Z"
   },
   {
    "duration": 60,
    "start_time": "2022-05-06T23:37:48.290Z"
   },
   {
    "duration": 173,
    "start_time": "2022-05-06T23:37:48.352Z"
   },
   {
    "duration": 37,
    "start_time": "2022-05-06T23:37:48.527Z"
   },
   {
    "duration": 94,
    "start_time": "2022-05-06T23:37:48.566Z"
   },
   {
    "duration": 4,
    "start_time": "2022-05-06T23:37:48.662Z"
   },
   {
    "duration": 12,
    "start_time": "2022-05-06T23:37:48.668Z"
   },
   {
    "duration": 6,
    "start_time": "2022-05-06T23:37:48.682Z"
   },
   {
    "duration": 9,
    "start_time": "2022-05-06T23:37:48.689Z"
   },
   {
    "duration": 11,
    "start_time": "2022-05-06T23:37:48.700Z"
   },
   {
    "duration": 5,
    "start_time": "2022-05-06T23:37:48.713Z"
   },
   {
    "duration": 31,
    "start_time": "2022-05-06T23:37:48.719Z"
   },
   {
    "duration": 10,
    "start_time": "2022-05-06T23:37:48.752Z"
   },
   {
    "duration": 9,
    "start_time": "2022-05-06T23:37:48.763Z"
   },
   {
    "duration": 13,
    "start_time": "2022-05-06T23:37:48.774Z"
   },
   {
    "duration": 23,
    "start_time": "2022-05-06T23:37:48.789Z"
   },
   {
    "duration": 5,
    "start_time": "2022-05-06T23:37:48.848Z"
   },
   {
    "duration": 10,
    "start_time": "2022-05-06T23:37:48.854Z"
   },
   {
    "duration": 8,
    "start_time": "2022-05-06T23:37:48.865Z"
   },
   {
    "duration": 8,
    "start_time": "2022-05-06T23:37:48.876Z"
   },
   {
    "duration": 3,
    "start_time": "2022-05-06T23:37:48.886Z"
   },
   {
    "duration": 6,
    "start_time": "2022-05-06T23:37:48.890Z"
   },
   {
    "duration": 13,
    "start_time": "2022-05-06T23:37:48.898Z"
   },
   {
    "duration": 38,
    "start_time": "2022-05-06T23:37:48.913Z"
   },
   {
    "duration": 6,
    "start_time": "2022-05-06T23:37:48.953Z"
   },
   {
    "duration": 8,
    "start_time": "2022-05-06T23:37:48.961Z"
   },
   {
    "duration": 5,
    "start_time": "2022-05-06T23:37:48.970Z"
   },
   {
    "duration": 7,
    "start_time": "2022-05-06T23:37:48.976Z"
   },
   {
    "duration": 9,
    "start_time": "2022-05-06T23:37:48.985Z"
   },
   {
    "duration": 98,
    "start_time": "2022-05-06T23:37:48.995Z"
   },
   {
    "duration": 62,
    "start_time": "2022-05-06T23:37:49.094Z"
   },
   {
    "duration": 14,
    "start_time": "2022-05-06T23:37:49.157Z"
   },
   {
    "duration": 32,
    "start_time": "2022-05-06T23:37:49.172Z"
   },
   {
    "duration": 14,
    "start_time": "2022-05-06T23:37:49.205Z"
   },
   {
    "duration": 3,
    "start_time": "2022-05-06T23:37:49.247Z"
   },
   {
    "duration": 4,
    "start_time": "2022-05-06T23:37:49.252Z"
   },
   {
    "duration": 5,
    "start_time": "2022-05-06T23:37:49.258Z"
   },
   {
    "duration": 27,
    "start_time": "2022-05-06T23:37:49.264Z"
   },
   {
    "duration": 10,
    "start_time": "2022-05-06T23:37:49.292Z"
   },
   {
    "duration": 21,
    "start_time": "2022-05-06T23:37:57.696Z"
   },
   {
    "duration": 12,
    "start_time": "2022-05-06T23:38:00.803Z"
   },
   {
    "duration": 18,
    "start_time": "2022-05-06T23:38:05.239Z"
   },
   {
    "duration": 37,
    "start_time": "2022-05-06T23:38:29.708Z"
   },
   {
    "duration": 3,
    "start_time": "2022-05-06T23:38:29.747Z"
   },
   {
    "duration": 13,
    "start_time": "2022-05-06T23:38:29.752Z"
   },
   {
    "duration": 13,
    "start_time": "2022-05-06T23:38:29.767Z"
   },
   {
    "duration": 17,
    "start_time": "2022-05-06T23:38:29.782Z"
   },
   {
    "duration": 7,
    "start_time": "2022-05-06T23:38:29.801Z"
   },
   {
    "duration": 17,
    "start_time": "2022-05-06T23:38:29.847Z"
   },
   {
    "duration": 11,
    "start_time": "2022-05-06T23:38:29.866Z"
   },
   {
    "duration": 10,
    "start_time": "2022-05-06T23:38:29.878Z"
   },
   {
    "duration": 59,
    "start_time": "2022-05-06T23:38:29.891Z"
   },
   {
    "duration": 118,
    "start_time": "2022-05-06T23:38:29.951Z"
   },
   {
    "duration": 23,
    "start_time": "2022-05-06T23:38:30.070Z"
   },
   {
    "duration": 101,
    "start_time": "2022-05-06T23:38:30.094Z"
   },
   {
    "duration": 4,
    "start_time": "2022-05-06T23:38:30.197Z"
   },
   {
    "duration": 22,
    "start_time": "2022-05-06T23:38:30.203Z"
   },
   {
    "duration": 9,
    "start_time": "2022-05-06T23:38:30.227Z"
   },
   {
    "duration": 16,
    "start_time": "2022-05-06T23:38:30.237Z"
   },
   {
    "duration": 21,
    "start_time": "2022-05-06T23:38:30.255Z"
   },
   {
    "duration": 13,
    "start_time": "2022-05-06T23:38:30.278Z"
   },
   {
    "duration": 18,
    "start_time": "2022-05-06T23:38:30.293Z"
   },
   {
    "duration": 22,
    "start_time": "2022-05-06T23:38:30.313Z"
   },
   {
    "duration": 20,
    "start_time": "2022-05-06T23:38:30.336Z"
   },
   {
    "duration": 22,
    "start_time": "2022-05-06T23:38:30.357Z"
   },
   {
    "duration": 27,
    "start_time": "2022-05-06T23:38:30.380Z"
   },
   {
    "duration": 9,
    "start_time": "2022-05-06T23:38:30.409Z"
   },
   {
    "duration": 5,
    "start_time": "2022-05-06T23:38:30.419Z"
   },
   {
    "duration": 15,
    "start_time": "2022-05-06T23:38:30.425Z"
   },
   {
    "duration": 19,
    "start_time": "2022-05-06T23:38:30.443Z"
   },
   {
    "duration": 6,
    "start_time": "2022-05-06T23:38:30.463Z"
   },
   {
    "duration": 13,
    "start_time": "2022-05-06T23:38:30.471Z"
   },
   {
    "duration": 24,
    "start_time": "2022-05-06T23:38:30.485Z"
   },
   {
    "duration": 11,
    "start_time": "2022-05-06T23:38:30.511Z"
   },
   {
    "duration": 6,
    "start_time": "2022-05-06T23:38:30.524Z"
   },
   {
    "duration": 10,
    "start_time": "2022-05-06T23:38:30.531Z"
   },
   {
    "duration": 4,
    "start_time": "2022-05-06T23:38:30.543Z"
   },
   {
    "duration": 8,
    "start_time": "2022-05-06T23:38:30.549Z"
   },
   {
    "duration": 18,
    "start_time": "2022-05-06T23:38:30.559Z"
   },
   {
    "duration": 31,
    "start_time": "2022-05-06T23:38:30.579Z"
   },
   {
    "duration": 57,
    "start_time": "2022-05-06T23:38:30.611Z"
   },
   {
    "duration": 13,
    "start_time": "2022-05-06T23:38:30.669Z"
   },
   {
    "duration": 32,
    "start_time": "2022-05-06T23:38:30.683Z"
   },
   {
    "duration": 33,
    "start_time": "2022-05-06T23:38:30.717Z"
   },
   {
    "duration": 2,
    "start_time": "2022-05-06T23:38:30.752Z"
   },
   {
    "duration": 8,
    "start_time": "2022-05-06T23:38:30.755Z"
   },
   {
    "duration": 9,
    "start_time": "2022-05-06T23:38:30.765Z"
   },
   {
    "duration": 24,
    "start_time": "2022-05-06T23:38:30.776Z"
   },
   {
    "duration": 12,
    "start_time": "2022-05-06T23:45:16.100Z"
   },
   {
    "duration": 12,
    "start_time": "2022-05-06T23:45:29.597Z"
   },
   {
    "duration": 11,
    "start_time": "2022-05-06T23:45:32.912Z"
   },
   {
    "duration": 17,
    "start_time": "2022-05-06T23:45:36.473Z"
   },
   {
    "duration": 13,
    "start_time": "2022-05-06T23:51:58.965Z"
   },
   {
    "duration": 9,
    "start_time": "2022-05-06T23:53:04.232Z"
   },
   {
    "duration": 8,
    "start_time": "2022-05-06T23:53:15.249Z"
   },
   {
    "duration": 9,
    "start_time": "2022-05-06T23:53:21.730Z"
   },
   {
    "duration": 10,
    "start_time": "2022-05-06T23:53:28.335Z"
   },
   {
    "duration": 11,
    "start_time": "2022-05-06T23:53:40.407Z"
   },
   {
    "duration": 13,
    "start_time": "2022-05-06T23:54:04.052Z"
   },
   {
    "duration": 13,
    "start_time": "2022-05-06T23:54:25.080Z"
   },
   {
    "duration": 13,
    "start_time": "2022-05-06T23:54:29.337Z"
   },
   {
    "duration": 13,
    "start_time": "2022-05-06T23:54:40.813Z"
   },
   {
    "duration": 14,
    "start_time": "2022-05-06T23:54:46.665Z"
   },
   {
    "duration": 13,
    "start_time": "2022-05-06T23:54:51.692Z"
   },
   {
    "duration": 15,
    "start_time": "2022-05-06T23:55:23.178Z"
   },
   {
    "duration": 14,
    "start_time": "2022-05-06T23:56:21.626Z"
   },
   {
    "duration": 12,
    "start_time": "2022-05-06T23:56:53.402Z"
   },
   {
    "duration": 13,
    "start_time": "2022-05-06T23:57:10.904Z"
   },
   {
    "duration": 13,
    "start_time": "2022-05-06T23:57:20.038Z"
   },
   {
    "duration": 17,
    "start_time": "2022-05-07T00:02:46.749Z"
   },
   {
    "duration": 16,
    "start_time": "2022-05-07T00:02:57.906Z"
   },
   {
    "duration": 16,
    "start_time": "2022-05-07T00:37:31.657Z"
   },
   {
    "duration": 4,
    "start_time": "2022-05-07T00:38:35.879Z"
   },
   {
    "duration": 4,
    "start_time": "2022-05-07T00:38:41.143Z"
   },
   {
    "duration": 5,
    "start_time": "2022-05-07T00:38:52.687Z"
   },
   {
    "duration": 42,
    "start_time": "2022-05-07T00:39:00.011Z"
   },
   {
    "duration": 4,
    "start_time": "2022-05-07T00:39:00.055Z"
   },
   {
    "duration": 15,
    "start_time": "2022-05-07T00:39:00.060Z"
   },
   {
    "duration": 17,
    "start_time": "2022-05-07T00:39:00.076Z"
   },
   {
    "duration": 18,
    "start_time": "2022-05-07T00:39:00.095Z"
   },
   {
    "duration": 36,
    "start_time": "2022-05-07T00:39:00.115Z"
   },
   {
    "duration": 18,
    "start_time": "2022-05-07T00:39:00.153Z"
   },
   {
    "duration": 11,
    "start_time": "2022-05-07T00:39:00.172Z"
   },
   {
    "duration": 12,
    "start_time": "2022-05-07T00:39:00.185Z"
   },
   {
    "duration": 56,
    "start_time": "2022-05-07T00:39:00.199Z"
   },
   {
    "duration": 129,
    "start_time": "2022-05-07T00:39:00.257Z"
   },
   {
    "duration": 22,
    "start_time": "2022-05-07T00:39:00.388Z"
   },
   {
    "duration": 106,
    "start_time": "2022-05-07T00:39:00.412Z"
   },
   {
    "duration": 5,
    "start_time": "2022-05-07T00:39:00.519Z"
   },
   {
    "duration": 28,
    "start_time": "2022-05-07T00:39:00.525Z"
   },
   {
    "duration": 5,
    "start_time": "2022-05-07T00:39:00.555Z"
   },
   {
    "duration": 8,
    "start_time": "2022-05-07T00:39:00.562Z"
   },
   {
    "duration": 10,
    "start_time": "2022-05-07T00:39:00.572Z"
   },
   {
    "duration": 5,
    "start_time": "2022-05-07T00:39:00.583Z"
   },
   {
    "duration": 14,
    "start_time": "2022-05-07T00:39:00.590Z"
   },
   {
    "duration": 10,
    "start_time": "2022-05-07T00:39:00.606Z"
   },
   {
    "duration": 8,
    "start_time": "2022-05-07T00:39:00.617Z"
   },
   {
    "duration": 32,
    "start_time": "2022-05-07T00:39:00.627Z"
   },
   {
    "duration": 27,
    "start_time": "2022-05-07T00:39:00.661Z"
   },
   {
    "duration": 3,
    "start_time": "2022-05-07T00:39:00.689Z"
   },
   {
    "duration": 1956,
    "start_time": "2022-05-07T00:39:00.694Z"
   },
   {
    "duration": 0,
    "start_time": "2022-05-07T00:39:02.653Z"
   },
   {
    "duration": 0,
    "start_time": "2022-05-07T00:39:02.654Z"
   },
   {
    "duration": 0,
    "start_time": "2022-05-07T00:39:02.655Z"
   },
   {
    "duration": 0,
    "start_time": "2022-05-07T00:39:02.656Z"
   },
   {
    "duration": 0,
    "start_time": "2022-05-07T00:39:02.657Z"
   },
   {
    "duration": 0,
    "start_time": "2022-05-07T00:39:02.658Z"
   },
   {
    "duration": 0,
    "start_time": "2022-05-07T00:39:02.659Z"
   },
   {
    "duration": 0,
    "start_time": "2022-05-07T00:39:02.660Z"
   },
   {
    "duration": 0,
    "start_time": "2022-05-07T00:39:02.661Z"
   },
   {
    "duration": 0,
    "start_time": "2022-05-07T00:39:02.661Z"
   },
   {
    "duration": 0,
    "start_time": "2022-05-07T00:39:02.662Z"
   },
   {
    "duration": 0,
    "start_time": "2022-05-07T00:39:02.663Z"
   },
   {
    "duration": 0,
    "start_time": "2022-05-07T00:39:02.664Z"
   },
   {
    "duration": 0,
    "start_time": "2022-05-07T00:39:02.665Z"
   },
   {
    "duration": 0,
    "start_time": "2022-05-07T00:39:02.666Z"
   },
   {
    "duration": 0,
    "start_time": "2022-05-07T00:39:02.667Z"
   },
   {
    "duration": 0,
    "start_time": "2022-05-07T00:39:02.667Z"
   },
   {
    "duration": 0,
    "start_time": "2022-05-07T00:39:02.668Z"
   },
   {
    "duration": 0,
    "start_time": "2022-05-07T00:39:02.669Z"
   },
   {
    "duration": 0,
    "start_time": "2022-05-07T00:39:02.670Z"
   },
   {
    "duration": 0,
    "start_time": "2022-05-07T00:39:02.671Z"
   },
   {
    "duration": 0,
    "start_time": "2022-05-07T00:39:02.672Z"
   },
   {
    "duration": 1,
    "start_time": "2022-05-07T00:39:02.672Z"
   },
   {
    "duration": 0,
    "start_time": "2022-05-07T00:39:02.673Z"
   },
   {
    "duration": 0,
    "start_time": "2022-05-07T00:39:02.674Z"
   },
   {
    "duration": 0,
    "start_time": "2022-05-07T00:39:02.675Z"
   },
   {
    "duration": 0,
    "start_time": "2022-05-07T00:39:02.676Z"
   },
   {
    "duration": 0,
    "start_time": "2022-05-07T00:39:02.677Z"
   },
   {
    "duration": 0,
    "start_time": "2022-05-07T00:39:02.678Z"
   },
   {
    "duration": 0,
    "start_time": "2022-05-07T00:39:02.679Z"
   },
   {
    "duration": 0,
    "start_time": "2022-05-07T00:39:02.679Z"
   },
   {
    "duration": 0,
    "start_time": "2022-05-07T00:39:02.680Z"
   },
   {
    "duration": 0,
    "start_time": "2022-05-07T00:39:02.681Z"
   },
   {
    "duration": 0,
    "start_time": "2022-05-07T00:39:02.682Z"
   },
   {
    "duration": 0,
    "start_time": "2022-05-07T00:39:02.683Z"
   },
   {
    "duration": 0,
    "start_time": "2022-05-07T00:39:02.684Z"
   },
   {
    "duration": 0,
    "start_time": "2022-05-07T00:39:02.684Z"
   },
   {
    "duration": 0,
    "start_time": "2022-05-07T00:39:02.685Z"
   },
   {
    "duration": 0,
    "start_time": "2022-05-07T00:39:02.686Z"
   },
   {
    "duration": 0,
    "start_time": "2022-05-07T00:39:02.687Z"
   },
   {
    "duration": 0,
    "start_time": "2022-05-07T00:39:02.688Z"
   },
   {
    "duration": 0,
    "start_time": "2022-05-07T00:39:02.689Z"
   },
   {
    "duration": 0,
    "start_time": "2022-05-07T00:39:02.689Z"
   },
   {
    "duration": 0,
    "start_time": "2022-05-07T00:39:02.691Z"
   },
   {
    "duration": 0,
    "start_time": "2022-05-07T00:39:02.748Z"
   },
   {
    "duration": 0,
    "start_time": "2022-05-07T00:39:02.749Z"
   },
   {
    "duration": 0,
    "start_time": "2022-05-07T00:39:02.750Z"
   },
   {
    "duration": 0,
    "start_time": "2022-05-07T00:39:02.751Z"
   },
   {
    "duration": 0,
    "start_time": "2022-05-07T00:39:02.752Z"
   },
   {
    "duration": 0,
    "start_time": "2022-05-07T00:39:02.753Z"
   },
   {
    "duration": 0,
    "start_time": "2022-05-07T00:39:02.754Z"
   },
   {
    "duration": 0,
    "start_time": "2022-05-07T00:39:02.755Z"
   },
   {
    "duration": 0,
    "start_time": "2022-05-07T00:39:02.756Z"
   },
   {
    "duration": 0,
    "start_time": "2022-05-07T00:39:02.757Z"
   },
   {
    "duration": 4,
    "start_time": "2022-05-07T00:39:36.344Z"
   },
   {
    "duration": 5,
    "start_time": "2022-05-07T00:39:38.467Z"
   },
   {
    "duration": 37,
    "start_time": "2022-05-07T00:39:45.604Z"
   },
   {
    "duration": 3,
    "start_time": "2022-05-07T00:39:45.643Z"
   },
   {
    "duration": 24,
    "start_time": "2022-05-07T00:39:45.647Z"
   },
   {
    "duration": 21,
    "start_time": "2022-05-07T00:39:45.673Z"
   },
   {
    "duration": 20,
    "start_time": "2022-05-07T00:39:45.695Z"
   },
   {
    "duration": 7,
    "start_time": "2022-05-07T00:39:45.716Z"
   },
   {
    "duration": 38,
    "start_time": "2022-05-07T00:39:45.725Z"
   },
   {
    "duration": 12,
    "start_time": "2022-05-07T00:39:45.764Z"
   },
   {
    "duration": 9,
    "start_time": "2022-05-07T00:39:45.777Z"
   },
   {
    "duration": 28,
    "start_time": "2022-05-07T00:39:45.789Z"
   },
   {
    "duration": 135,
    "start_time": "2022-05-07T00:39:45.847Z"
   },
   {
    "duration": 22,
    "start_time": "2022-05-07T00:39:45.983Z"
   },
   {
    "duration": 100,
    "start_time": "2022-05-07T00:39:46.007Z"
   },
   {
    "duration": 4,
    "start_time": "2022-05-07T00:39:46.108Z"
   },
   {
    "duration": 13,
    "start_time": "2022-05-07T00:39:46.114Z"
   },
   {
    "duration": 19,
    "start_time": "2022-05-07T00:39:46.129Z"
   },
   {
    "duration": 4,
    "start_time": "2022-05-07T00:39:46.150Z"
   },
   {
    "duration": 6,
    "start_time": "2022-05-07T00:39:46.156Z"
   },
   {
    "duration": 5,
    "start_time": "2022-05-07T00:39:46.163Z"
   },
   {
    "duration": 7,
    "start_time": "2022-05-07T00:39:46.169Z"
   },
   {
    "duration": 10,
    "start_time": "2022-05-07T00:39:46.177Z"
   },
   {
    "duration": 9,
    "start_time": "2022-05-07T00:39:46.188Z"
   },
   {
    "duration": 14,
    "start_time": "2022-05-07T00:39:46.198Z"
   },
   {
    "duration": 54,
    "start_time": "2022-05-07T00:39:46.213Z"
   },
   {
    "duration": 3,
    "start_time": "2022-05-07T00:39:46.269Z"
   },
   {
    "duration": 6,
    "start_time": "2022-05-07T00:39:46.274Z"
   },
   {
    "duration": 8,
    "start_time": "2022-05-07T00:39:46.281Z"
   },
   {
    "duration": 8,
    "start_time": "2022-05-07T00:39:46.294Z"
   },
   {
    "duration": 3,
    "start_time": "2022-05-07T00:39:46.304Z"
   },
   {
    "duration": 39,
    "start_time": "2022-05-07T00:39:46.309Z"
   },
   {
    "duration": 9,
    "start_time": "2022-05-07T00:39:46.349Z"
   },
   {
    "duration": 11,
    "start_time": "2022-05-07T00:39:46.360Z"
   },
   {
    "duration": 12,
    "start_time": "2022-05-07T00:39:46.373Z"
   },
   {
    "duration": 7,
    "start_time": "2022-05-07T00:39:46.387Z"
   },
   {
    "duration": 6,
    "start_time": "2022-05-07T00:39:46.396Z"
   },
   {
    "duration": 10,
    "start_time": "2022-05-07T00:39:46.403Z"
   },
   {
    "duration": 12,
    "start_time": "2022-05-07T00:39:46.414Z"
   },
   {
    "duration": 27,
    "start_time": "2022-05-07T00:39:46.447Z"
   },
   {
    "duration": 44,
    "start_time": "2022-05-07T00:39:46.476Z"
   },
   {
    "duration": 30,
    "start_time": "2022-05-07T00:39:46.522Z"
   },
   {
    "duration": 29,
    "start_time": "2022-05-07T00:39:46.553Z"
   },
   {
    "duration": 13,
    "start_time": "2022-05-07T00:39:46.583Z"
   },
   {
    "duration": 3,
    "start_time": "2022-05-07T00:39:46.597Z"
   },
   {
    "duration": 5,
    "start_time": "2022-05-07T00:39:46.601Z"
   },
   {
    "duration": 6,
    "start_time": "2022-05-07T00:39:46.607Z"
   },
   {
    "duration": 46,
    "start_time": "2022-05-07T00:39:46.614Z"
   },
   {
    "duration": 9,
    "start_time": "2022-05-07T00:39:46.661Z"
   },
   {
    "duration": 10,
    "start_time": "2022-05-07T00:39:46.672Z"
   },
   {
    "duration": 9,
    "start_time": "2022-05-07T00:39:46.683Z"
   },
   {
    "duration": 15,
    "start_time": "2022-05-07T00:39:46.693Z"
   },
   {
    "duration": 2,
    "start_time": "2022-05-07T00:39:46.709Z"
   },
   {
    "duration": 7,
    "start_time": "2022-05-07T00:39:46.712Z"
   },
   {
    "duration": 3,
    "start_time": "2022-05-07T00:39:46.747Z"
   },
   {
    "duration": 6,
    "start_time": "2022-05-07T00:39:46.751Z"
   },
   {
    "duration": 4,
    "start_time": "2022-05-07T00:39:46.759Z"
   },
   {
    "duration": 4,
    "start_time": "2022-05-07T00:39:46.765Z"
   },
   {
    "duration": 4,
    "start_time": "2022-05-07T00:39:46.770Z"
   },
   {
    "duration": 6,
    "start_time": "2022-05-07T00:39:46.775Z"
   },
   {
    "duration": 15,
    "start_time": "2022-05-07T00:39:46.783Z"
   },
   {
    "duration": 2,
    "start_time": "2022-05-07T00:39:46.800Z"
   },
   {
    "duration": 8,
    "start_time": "2022-05-07T00:39:46.803Z"
   },
   {
    "duration": 4,
    "start_time": "2022-05-07T00:39:46.812Z"
   },
   {
    "duration": 8,
    "start_time": "2022-05-07T00:39:46.818Z"
   },
   {
    "duration": 5,
    "start_time": "2022-05-07T00:39:46.828Z"
   },
   {
    "duration": 2,
    "start_time": "2022-05-07T00:39:46.848Z"
   },
   {
    "duration": 7,
    "start_time": "2022-05-07T00:39:46.852Z"
   },
   {
    "duration": 6,
    "start_time": "2022-05-07T00:39:46.860Z"
   },
   {
    "duration": 5,
    "start_time": "2022-05-07T00:39:46.868Z"
   },
   {
    "duration": 5,
    "start_time": "2022-05-07T00:39:46.875Z"
   },
   {
    "duration": 5,
    "start_time": "2022-05-07T00:39:46.882Z"
   },
   {
    "duration": 4,
    "start_time": "2022-05-07T00:39:46.889Z"
   },
   {
    "duration": 5,
    "start_time": "2022-05-07T00:39:46.895Z"
   },
   {
    "duration": 4,
    "start_time": "2022-05-07T00:39:46.902Z"
   },
   {
    "duration": 5,
    "start_time": "2022-05-07T00:39:46.908Z"
   },
   {
    "duration": 4,
    "start_time": "2022-05-07T00:39:46.915Z"
   },
   {
    "duration": 4,
    "start_time": "2022-05-07T00:39:46.920Z"
   },
   {
    "duration": 5,
    "start_time": "2022-05-07T00:39:46.926Z"
   },
   {
    "duration": 2,
    "start_time": "2022-05-07T00:39:46.948Z"
   },
   {
    "duration": 4,
    "start_time": "2022-05-07T00:39:46.952Z"
   },
   {
    "duration": 5,
    "start_time": "2022-05-07T00:39:46.957Z"
   },
   {
    "duration": 70,
    "start_time": "2022-05-07T07:37:10.319Z"
   },
   {
    "duration": 644,
    "start_time": "2022-05-07T07:37:17.647Z"
   },
   {
    "duration": 13,
    "start_time": "2022-05-07T07:37:18.294Z"
   },
   {
    "duration": 33,
    "start_time": "2022-05-07T07:37:18.309Z"
   },
   {
    "duration": 21,
    "start_time": "2022-05-07T07:37:18.344Z"
   },
   {
    "duration": 32,
    "start_time": "2022-05-07T07:37:18.381Z"
   },
   {
    "duration": 11,
    "start_time": "2022-05-07T07:37:18.415Z"
   },
   {
    "duration": 62,
    "start_time": "2022-05-07T07:37:18.428Z"
   },
   {
    "duration": 19,
    "start_time": "2022-05-07T07:37:18.493Z"
   },
   {
    "duration": 14,
    "start_time": "2022-05-07T07:37:18.515Z"
   },
   {
    "duration": 72,
    "start_time": "2022-05-07T07:37:18.531Z"
   },
   {
    "duration": 185,
    "start_time": "2022-05-07T07:37:18.605Z"
   },
   {
    "duration": 34,
    "start_time": "2022-05-07T07:37:18.792Z"
   },
   {
    "duration": 158,
    "start_time": "2022-05-07T07:37:18.828Z"
   },
   {
    "duration": 7,
    "start_time": "2022-05-07T07:37:18.990Z"
   },
   {
    "duration": 16,
    "start_time": "2022-05-07T07:37:18.998Z"
   },
   {
    "duration": 9,
    "start_time": "2022-05-07T07:37:19.016Z"
   },
   {
    "duration": 10,
    "start_time": "2022-05-07T07:37:19.027Z"
   },
   {
    "duration": 6,
    "start_time": "2022-05-07T07:37:19.039Z"
   },
   {
    "duration": 6,
    "start_time": "2022-05-07T07:37:19.082Z"
   },
   {
    "duration": 12,
    "start_time": "2022-05-07T07:37:19.090Z"
   },
   {
    "duration": 11,
    "start_time": "2022-05-07T07:37:19.104Z"
   },
   {
    "duration": 13,
    "start_time": "2022-05-07T07:37:19.117Z"
   },
   {
    "duration": 57,
    "start_time": "2022-05-07T07:37:19.131Z"
   },
   {
    "duration": 36,
    "start_time": "2022-05-07T07:37:19.190Z"
   },
   {
    "duration": 10,
    "start_time": "2022-05-07T07:37:19.228Z"
   },
   {
    "duration": 7,
    "start_time": "2022-05-07T07:37:19.240Z"
   },
   {
    "duration": 33,
    "start_time": "2022-05-07T07:37:19.249Z"
   },
   {
    "duration": 12,
    "start_time": "2022-05-07T07:37:19.284Z"
   },
   {
    "duration": 7,
    "start_time": "2022-05-07T07:37:19.298Z"
   },
   {
    "duration": 7,
    "start_time": "2022-05-07T07:37:19.307Z"
   },
   {
    "duration": 14,
    "start_time": "2022-05-07T07:37:19.316Z"
   },
   {
    "duration": 55,
    "start_time": "2022-05-07T07:37:19.331Z"
   },
   {
    "duration": 9,
    "start_time": "2022-05-07T07:37:19.388Z"
   },
   {
    "duration": 11,
    "start_time": "2022-05-07T07:37:19.399Z"
   },
   {
    "duration": 8,
    "start_time": "2022-05-07T07:37:19.412Z"
   },
   {
    "duration": 10,
    "start_time": "2022-05-07T07:37:19.422Z"
   },
   {
    "duration": 50,
    "start_time": "2022-05-07T07:37:19.433Z"
   },
   {
    "duration": 46,
    "start_time": "2022-05-07T07:37:19.485Z"
   },
   {
    "duration": 99,
    "start_time": "2022-05-07T07:37:19.534Z"
   },
   {
    "duration": 22,
    "start_time": "2022-05-07T07:37:19.635Z"
   },
   {
    "duration": 51,
    "start_time": "2022-05-07T07:37:19.686Z"
   },
   {
    "duration": 46,
    "start_time": "2022-05-07T07:37:19.740Z"
   },
   {
    "duration": 3,
    "start_time": "2022-05-07T07:37:19.788Z"
   },
   {
    "duration": 7,
    "start_time": "2022-05-07T07:37:19.793Z"
   },
   {
    "duration": 8,
    "start_time": "2022-05-07T07:37:19.802Z"
   },
   {
    "duration": 32,
    "start_time": "2022-05-07T07:37:19.813Z"
   },
   {
    "duration": 45,
    "start_time": "2022-05-07T07:37:19.847Z"
   },
   {
    "duration": 18,
    "start_time": "2022-05-07T07:37:19.894Z"
   },
   {
    "duration": 18,
    "start_time": "2022-05-07T07:37:19.914Z"
   },
   {
    "duration": 54,
    "start_time": "2022-05-07T07:37:19.934Z"
   },
   {
    "duration": 20,
    "start_time": "2022-05-07T07:37:19.990Z"
   },
   {
    "duration": 10,
    "start_time": "2022-05-07T07:37:20.012Z"
   },
   {
    "duration": 6,
    "start_time": "2022-05-07T07:37:20.024Z"
   },
   {
    "duration": 7,
    "start_time": "2022-05-07T07:37:20.032Z"
   },
   {
    "duration": 40,
    "start_time": "2022-05-07T07:37:20.041Z"
   },
   {
    "duration": 7,
    "start_time": "2022-05-07T07:37:20.084Z"
   },
   {
    "duration": 8,
    "start_time": "2022-05-07T07:37:20.094Z"
   },
   {
    "duration": 10,
    "start_time": "2022-05-07T07:37:20.104Z"
   },
   {
    "duration": 7,
    "start_time": "2022-05-07T07:37:20.116Z"
   },
   {
    "duration": 15,
    "start_time": "2022-05-07T07:37:20.125Z"
   },
   {
    "duration": 6,
    "start_time": "2022-05-07T07:37:20.142Z"
   },
   {
    "duration": 5,
    "start_time": "2022-05-07T07:37:20.150Z"
   },
   {
    "duration": 24,
    "start_time": "2022-05-07T07:37:20.158Z"
   },
   {
    "duration": 3,
    "start_time": "2022-05-07T07:37:20.184Z"
   },
   {
    "duration": 6,
    "start_time": "2022-05-07T07:37:20.189Z"
   },
   {
    "duration": 7,
    "start_time": "2022-05-07T07:37:20.197Z"
   },
   {
    "duration": 8,
    "start_time": "2022-05-07T07:37:20.206Z"
   },
   {
    "duration": 5,
    "start_time": "2022-05-07T07:37:20.216Z"
   },
   {
    "duration": 6,
    "start_time": "2022-05-07T07:37:20.223Z"
   },
   {
    "duration": 6,
    "start_time": "2022-05-07T07:37:20.231Z"
   },
   {
    "duration": 42,
    "start_time": "2022-05-07T07:37:20.239Z"
   },
   {
    "duration": 5,
    "start_time": "2022-05-07T07:37:20.284Z"
   },
   {
    "duration": 17,
    "start_time": "2022-05-07T07:37:44.455Z"
   },
   {
    "duration": 15,
    "start_time": "2022-05-07T07:37:52.216Z"
   },
   {
    "duration": 26,
    "start_time": "2022-05-07T07:38:26.632Z"
   },
   {
    "duration": 10,
    "start_time": "2022-05-07T07:50:37.246Z"
   },
   {
    "duration": 25,
    "start_time": "2022-05-07T07:57:51.399Z"
   },
   {
    "duration": 16,
    "start_time": "2022-05-07T08:05:30.761Z"
   },
   {
    "duration": 16,
    "start_time": "2022-05-07T08:05:34.789Z"
   },
   {
    "duration": 17,
    "start_time": "2022-05-07T08:46:39.784Z"
   },
   {
    "duration": 15,
    "start_time": "2022-05-07T08:47:01.759Z"
   },
   {
    "duration": 16,
    "start_time": "2022-05-07T08:47:08.158Z"
   },
   {
    "duration": 21,
    "start_time": "2022-05-07T08:47:38.754Z"
   },
   {
    "duration": 3,
    "start_time": "2022-05-07T08:48:13.855Z"
   },
   {
    "duration": 18,
    "start_time": "2022-05-07T08:53:33.257Z"
   },
   {
    "duration": 21,
    "start_time": "2022-05-07T08:58:16.486Z"
   },
   {
    "duration": 52,
    "start_time": "2022-05-09T16:41:46.219Z"
   },
   {
    "duration": 563,
    "start_time": "2022-05-09T16:41:52.127Z"
   },
   {
    "duration": 17,
    "start_time": "2022-05-09T16:41:52.693Z"
   },
   {
    "duration": 42,
    "start_time": "2022-05-09T16:41:52.712Z"
   },
   {
    "duration": 14,
    "start_time": "2022-05-09T16:41:52.756Z"
   },
   {
    "duration": 19,
    "start_time": "2022-05-09T16:41:52.772Z"
   },
   {
    "duration": 16,
    "start_time": "2022-05-09T16:41:52.793Z"
   },
   {
    "duration": 33,
    "start_time": "2022-05-09T16:41:52.811Z"
   },
   {
    "duration": 15,
    "start_time": "2022-05-09T16:41:52.846Z"
   },
   {
    "duration": 11,
    "start_time": "2022-05-09T16:41:52.862Z"
   },
   {
    "duration": 68,
    "start_time": "2022-05-09T16:41:52.875Z"
   },
   {
    "duration": 144,
    "start_time": "2022-05-09T16:41:52.945Z"
   },
   {
    "duration": 34,
    "start_time": "2022-05-09T16:41:53.107Z"
   },
   {
    "duration": 131,
    "start_time": "2022-05-09T16:41:53.142Z"
   },
   {
    "duration": 4,
    "start_time": "2022-05-09T16:41:53.277Z"
   },
   {
    "duration": 30,
    "start_time": "2022-05-09T16:41:53.283Z"
   },
   {
    "duration": 14,
    "start_time": "2022-05-09T16:41:53.324Z"
   },
   {
    "duration": 7,
    "start_time": "2022-05-09T16:41:53.340Z"
   },
   {
    "duration": 5,
    "start_time": "2022-05-09T16:41:53.348Z"
   },
   {
    "duration": 7,
    "start_time": "2022-05-09T16:41:53.355Z"
   },
   {
    "duration": 9,
    "start_time": "2022-05-09T16:41:53.363Z"
   },
   {
    "duration": 8,
    "start_time": "2022-05-09T16:41:53.374Z"
   },
   {
    "duration": 13,
    "start_time": "2022-05-09T16:41:53.383Z"
   },
   {
    "duration": 34,
    "start_time": "2022-05-09T16:41:53.400Z"
   },
   {
    "duration": 22,
    "start_time": "2022-05-09T16:41:53.436Z"
   },
   {
    "duration": 3,
    "start_time": "2022-05-09T16:41:53.460Z"
   },
   {
    "duration": 6,
    "start_time": "2022-05-09T16:41:53.464Z"
   },
   {
    "duration": 6,
    "start_time": "2022-05-09T16:41:53.472Z"
   },
   {
    "duration": 44,
    "start_time": "2022-05-09T16:41:53.479Z"
   },
   {
    "duration": 11,
    "start_time": "2022-05-09T16:41:53.525Z"
   },
   {
    "duration": 5,
    "start_time": "2022-05-09T16:41:53.538Z"
   },
   {
    "duration": 13,
    "start_time": "2022-05-09T16:41:53.544Z"
   },
   {
    "duration": 10,
    "start_time": "2022-05-09T16:41:53.559Z"
   },
   {
    "duration": 7,
    "start_time": "2022-05-09T16:41:53.570Z"
   },
   {
    "duration": 45,
    "start_time": "2022-05-09T16:41:53.579Z"
   },
   {
    "duration": 12,
    "start_time": "2022-05-09T16:41:53.626Z"
   },
   {
    "duration": 10,
    "start_time": "2022-05-09T16:41:53.639Z"
   },
   {
    "duration": 9,
    "start_time": "2022-05-09T16:41:53.651Z"
   },
   {
    "duration": 28,
    "start_time": "2022-05-09T16:41:53.661Z"
   },
   {
    "duration": 58,
    "start_time": "2022-05-09T16:41:53.690Z"
   },
   {
    "duration": 12,
    "start_time": "2022-05-09T16:41:53.750Z"
   },
   {
    "duration": 66,
    "start_time": "2022-05-09T16:41:53.766Z"
   },
   {
    "duration": 13,
    "start_time": "2022-05-09T16:41:53.834Z"
   },
   {
    "duration": 2,
    "start_time": "2022-05-09T16:41:53.849Z"
   },
   {
    "duration": 7,
    "start_time": "2022-05-09T16:41:53.852Z"
   },
   {
    "duration": 6,
    "start_time": "2022-05-09T16:41:53.861Z"
   },
   {
    "duration": 43,
    "start_time": "2022-05-09T16:41:53.869Z"
   },
   {
    "duration": 19,
    "start_time": "2022-05-09T16:41:53.917Z"
   },
   {
    "duration": 13,
    "start_time": "2022-05-09T16:41:53.938Z"
   },
   {
    "duration": 10,
    "start_time": "2022-05-09T16:41:53.953Z"
   },
   {
    "duration": 40,
    "start_time": "2022-05-09T16:41:53.965Z"
   },
   {
    "duration": 25,
    "start_time": "2022-05-09T16:41:54.013Z"
   },
   {
    "duration": 11,
    "start_time": "2022-05-09T16:41:54.040Z"
   },
   {
    "duration": 10,
    "start_time": "2022-05-09T16:41:54.052Z"
   },
   {
    "duration": 10,
    "start_time": "2022-05-09T16:41:54.064Z"
   },
   {
    "duration": 54,
    "start_time": "2022-05-09T16:41:54.075Z"
   },
   {
    "duration": 28,
    "start_time": "2022-05-09T16:41:56.738Z"
   },
   {
    "duration": 10,
    "start_time": "2022-05-09T16:42:10.259Z"
   },
   {
    "duration": 23,
    "start_time": "2022-05-09T16:43:19.207Z"
   },
   {
    "duration": 11,
    "start_time": "2022-05-09T16:43:47.924Z"
   },
   {
    "duration": 18,
    "start_time": "2022-05-09T16:48:26.110Z"
   },
   {
    "duration": 6,
    "start_time": "2022-05-09T17:23:33.975Z"
   },
   {
    "duration": 13,
    "start_time": "2022-05-09T17:28:36.426Z"
   },
   {
    "duration": 11,
    "start_time": "2022-05-09T17:29:15.117Z"
   },
   {
    "duration": 211,
    "start_time": "2022-05-09T17:32:28.526Z"
   },
   {
    "duration": 242,
    "start_time": "2022-05-09T17:32:36.358Z"
   },
   {
    "duration": 239,
    "start_time": "2022-05-09T17:32:54.715Z"
   },
   {
    "duration": 206,
    "start_time": "2022-05-09T17:32:59.095Z"
   },
   {
    "duration": 210,
    "start_time": "2022-05-09T17:33:54.780Z"
   },
   {
    "duration": 337,
    "start_time": "2022-05-09T17:35:24.757Z"
   },
   {
    "duration": 698,
    "start_time": "2022-05-09T17:35:36.137Z"
   },
   {
    "duration": 252,
    "start_time": "2022-05-09T17:35:40.294Z"
   },
   {
    "duration": 308,
    "start_time": "2022-05-09T17:35:42.824Z"
   },
   {
    "duration": 264,
    "start_time": "2022-05-09T17:36:06.573Z"
   },
   {
    "duration": 3,
    "start_time": "2022-05-09T17:39:21.440Z"
   },
   {
    "duration": 142,
    "start_time": "2022-05-09T17:39:28.433Z"
   },
   {
    "duration": 3,
    "start_time": "2022-05-09T17:40:47.950Z"
   },
   {
    "duration": 4,
    "start_time": "2022-05-09T17:41:46.242Z"
   },
   {
    "duration": 27,
    "start_time": "2022-05-09T17:46:53.619Z"
   },
   {
    "duration": 16,
    "start_time": "2022-05-09T17:47:10.481Z"
   },
   {
    "duration": 7,
    "start_time": "2022-05-09T17:47:33.952Z"
   },
   {
    "duration": 14,
    "start_time": "2022-05-09T17:54:42.329Z"
   },
   {
    "duration": 11,
    "start_time": "2022-05-09T17:54:47.344Z"
   },
   {
    "duration": 10,
    "start_time": "2022-05-09T17:54:56.737Z"
   },
   {
    "duration": 37,
    "start_time": "2022-05-09T17:58:51.250Z"
   },
   {
    "duration": 44,
    "start_time": "2022-05-09T17:59:35.202Z"
   },
   {
    "duration": 5,
    "start_time": "2022-05-09T18:00:28.562Z"
   },
   {
    "duration": 6,
    "start_time": "2022-05-09T18:00:43.218Z"
   },
   {
    "duration": 7,
    "start_time": "2022-05-09T18:01:12.859Z"
   },
   {
    "duration": 9,
    "start_time": "2022-05-09T18:02:04.350Z"
   },
   {
    "duration": 9,
    "start_time": "2022-05-09T18:02:19.826Z"
   },
   {
    "duration": 7,
    "start_time": "2022-05-09T18:02:31.281Z"
   },
   {
    "duration": 10,
    "start_time": "2022-05-09T18:09:36.557Z"
   },
   {
    "duration": 21,
    "start_time": "2022-05-09T18:09:39.128Z"
   },
   {
    "duration": 6,
    "start_time": "2022-05-09T18:09:44.484Z"
   },
   {
    "duration": 8,
    "start_time": "2022-05-09T18:09:55.948Z"
   },
   {
    "duration": 6,
    "start_time": "2022-05-09T18:10:05.480Z"
   },
   {
    "duration": 8,
    "start_time": "2022-05-09T18:10:13.777Z"
   },
   {
    "duration": 6,
    "start_time": "2022-05-09T18:10:17.252Z"
   },
   {
    "duration": 40,
    "start_time": "2022-05-09T18:17:44.947Z"
   },
   {
    "duration": 46,
    "start_time": "2022-05-09T18:17:51.054Z"
   },
   {
    "duration": 24,
    "start_time": "2022-05-09T18:18:02.170Z"
   },
   {
    "duration": 22,
    "start_time": "2022-05-09T18:18:38.526Z"
   },
   {
    "duration": 17,
    "start_time": "2022-05-09T18:18:49.054Z"
   },
   {
    "duration": 516,
    "start_time": "2022-05-09T18:20:04.617Z"
   },
   {
    "duration": 19,
    "start_time": "2022-05-09T18:21:07.360Z"
   },
   {
    "duration": 21,
    "start_time": "2022-05-09T18:21:29.936Z"
   },
   {
    "duration": 190,
    "start_time": "2022-05-09T18:26:28.325Z"
   },
   {
    "duration": 19,
    "start_time": "2022-05-09T18:28:41.386Z"
   },
   {
    "duration": 11,
    "start_time": "2022-05-09T18:30:09.619Z"
   },
   {
    "duration": 8,
    "start_time": "2022-05-09T18:38:01.047Z"
   },
   {
    "duration": 11,
    "start_time": "2022-05-09T18:40:23.022Z"
   },
   {
    "duration": 14,
    "start_time": "2022-05-09T18:40:37.381Z"
   },
   {
    "duration": 16,
    "start_time": "2022-05-09T18:40:49.224Z"
   },
   {
    "duration": 5,
    "start_time": "2022-05-09T18:49:10.340Z"
   },
   {
    "duration": 15,
    "start_time": "2022-05-09T18:49:13.279Z"
   },
   {
    "duration": 3296,
    "start_time": "2022-05-09T18:50:11.225Z"
   },
   {
    "duration": 0,
    "start_time": "2022-05-09T18:50:14.524Z"
   },
   {
    "duration": 3130,
    "start_time": "2022-05-09T18:50:32.121Z"
   },
   {
    "duration": 3212,
    "start_time": "2022-05-09T18:52:07.309Z"
   },
   {
    "duration": 3287,
    "start_time": "2022-05-09T18:52:32.918Z"
   },
   {
    "duration": 53,
    "start_time": "2022-05-09T18:52:46.767Z"
   },
   {
    "duration": 5,
    "start_time": "2022-05-09T18:52:46.822Z"
   },
   {
    "duration": 14,
    "start_time": "2022-05-09T18:52:46.828Z"
   },
   {
    "duration": 16,
    "start_time": "2022-05-09T18:52:46.844Z"
   },
   {
    "duration": 18,
    "start_time": "2022-05-09T18:52:46.862Z"
   },
   {
    "duration": 11,
    "start_time": "2022-05-09T18:52:46.900Z"
   },
   {
    "duration": 20,
    "start_time": "2022-05-09T18:52:46.956Z"
   },
   {
    "duration": 11,
    "start_time": "2022-05-09T18:52:46.978Z"
   },
   {
    "duration": 19,
    "start_time": "2022-05-09T18:52:46.991Z"
   },
   {
    "duration": 32,
    "start_time": "2022-05-09T18:52:47.012Z"
   },
   {
    "duration": 134,
    "start_time": "2022-05-09T18:52:47.045Z"
   },
   {
    "duration": 44,
    "start_time": "2022-05-09T18:52:47.181Z"
   },
   {
    "duration": 123,
    "start_time": "2022-05-09T18:52:47.227Z"
   },
   {
    "duration": 5,
    "start_time": "2022-05-09T18:52:47.351Z"
   },
   {
    "duration": 12,
    "start_time": "2022-05-09T18:52:47.357Z"
   },
   {
    "duration": 5,
    "start_time": "2022-05-09T18:52:47.371Z"
   },
   {
    "duration": 28,
    "start_time": "2022-05-09T18:52:47.378Z"
   },
   {
    "duration": 18,
    "start_time": "2022-05-09T18:52:47.408Z"
   },
   {
    "duration": 7,
    "start_time": "2022-05-09T18:52:47.428Z"
   },
   {
    "duration": 14,
    "start_time": "2022-05-09T18:52:47.437Z"
   },
   {
    "duration": 9,
    "start_time": "2022-05-09T18:52:47.452Z"
   },
   {
    "duration": 11,
    "start_time": "2022-05-09T18:52:47.463Z"
   },
   {
    "duration": 42,
    "start_time": "2022-05-09T18:52:47.476Z"
   },
   {
    "duration": 24,
    "start_time": "2022-05-09T18:52:47.519Z"
   },
   {
    "duration": 6,
    "start_time": "2022-05-09T18:52:47.546Z"
   },
   {
    "duration": 6,
    "start_time": "2022-05-09T18:52:47.553Z"
   },
   {
    "duration": 7,
    "start_time": "2022-05-09T18:52:47.561Z"
   },
   {
    "duration": 10,
    "start_time": "2022-05-09T18:52:47.569Z"
   },
   {
    "duration": 25,
    "start_time": "2022-05-09T18:52:47.580Z"
   },
   {
    "duration": 20,
    "start_time": "2022-05-09T18:52:47.607Z"
   },
   {
    "duration": 15,
    "start_time": "2022-05-09T18:52:47.629Z"
   },
   {
    "duration": 11,
    "start_time": "2022-05-09T18:52:47.645Z"
   },
   {
    "duration": 7,
    "start_time": "2022-05-09T18:52:47.657Z"
   },
   {
    "duration": 8,
    "start_time": "2022-05-09T18:52:47.666Z"
   },
   {
    "duration": 3,
    "start_time": "2022-05-09T18:52:47.677Z"
   },
   {
    "duration": 9,
    "start_time": "2022-05-09T18:52:47.706Z"
   },
   {
    "duration": 14,
    "start_time": "2022-05-09T18:52:47.721Z"
   },
   {
    "duration": 27,
    "start_time": "2022-05-09T18:52:47.737Z"
   },
   {
    "duration": 72,
    "start_time": "2022-05-09T18:52:47.766Z"
   },
   {
    "duration": 17,
    "start_time": "2022-05-09T18:52:47.840Z"
   },
   {
    "duration": 66,
    "start_time": "2022-05-09T18:52:47.859Z"
   },
   {
    "duration": 20,
    "start_time": "2022-05-09T18:52:47.928Z"
   },
   {
    "duration": 3,
    "start_time": "2022-05-09T18:52:47.950Z"
   },
   {
    "duration": 6,
    "start_time": "2022-05-09T18:52:47.955Z"
   },
   {
    "duration": 4,
    "start_time": "2022-05-09T18:52:47.963Z"
   },
   {
    "duration": 59,
    "start_time": "2022-05-09T18:52:47.969Z"
   },
   {
    "duration": 14,
    "start_time": "2022-05-09T18:52:48.032Z"
   },
   {
    "duration": 16,
    "start_time": "2022-05-09T18:52:48.048Z"
   },
   {
    "duration": 44,
    "start_time": "2022-05-09T18:52:48.065Z"
   },
   {
    "duration": 18,
    "start_time": "2022-05-09T18:52:48.111Z"
   },
   {
    "duration": 21,
    "start_time": "2022-05-09T18:52:48.131Z"
   },
   {
    "duration": 11,
    "start_time": "2022-05-09T18:52:48.154Z"
   },
   {
    "duration": 14,
    "start_time": "2022-05-09T18:52:48.167Z"
   },
   {
    "duration": 41,
    "start_time": "2022-05-09T18:52:48.183Z"
   },
   {
    "duration": 16,
    "start_time": "2022-05-09T18:52:48.226Z"
   },
   {
    "duration": 9,
    "start_time": "2022-05-09T18:52:48.244Z"
   },
   {
    "duration": 9,
    "start_time": "2022-05-09T18:52:48.255Z"
   },
   {
    "duration": 43,
    "start_time": "2022-05-09T18:52:48.266Z"
   },
   {
    "duration": 6,
    "start_time": "2022-05-09T18:52:48.311Z"
   },
   {
    "duration": 9,
    "start_time": "2022-05-09T18:52:48.318Z"
   },
   {
    "duration": 35,
    "start_time": "2022-05-09T18:52:48.329Z"
   },
   {
    "duration": 15,
    "start_time": "2022-05-09T18:52:54.933Z"
   },
   {
    "duration": 23,
    "start_time": "2022-05-09T18:52:58.024Z"
   },
   {
    "duration": 18,
    "start_time": "2022-05-09T18:53:09.612Z"
   },
   {
    "duration": 3188,
    "start_time": "2022-05-09T19:21:37.907Z"
   },
   {
    "duration": 189,
    "start_time": "2022-05-09T19:29:16.589Z"
   },
   {
    "duration": 6,
    "start_time": "2022-05-09T19:32:16.359Z"
   },
   {
    "duration": 4135,
    "start_time": "2022-05-09T19:33:29.357Z"
   },
   {
    "duration": 41,
    "start_time": "2022-05-09T19:33:40.940Z"
   },
   {
    "duration": 4,
    "start_time": "2022-05-09T19:33:40.983Z"
   },
   {
    "duration": 15,
    "start_time": "2022-05-09T19:33:40.988Z"
   },
   {
    "duration": 20,
    "start_time": "2022-05-09T19:33:41.005Z"
   },
   {
    "duration": 21,
    "start_time": "2022-05-09T19:33:41.027Z"
   },
   {
    "duration": 8,
    "start_time": "2022-05-09T19:33:41.050Z"
   },
   {
    "duration": 55,
    "start_time": "2022-05-09T19:33:41.059Z"
   },
   {
    "duration": 12,
    "start_time": "2022-05-09T19:33:41.117Z"
   },
   {
    "duration": 9,
    "start_time": "2022-05-09T19:33:41.131Z"
   },
   {
    "duration": 26,
    "start_time": "2022-05-09T19:33:41.143Z"
   },
   {
    "duration": 160,
    "start_time": "2022-05-09T19:33:41.170Z"
   },
   {
    "duration": 22,
    "start_time": "2022-05-09T19:33:41.332Z"
   },
   {
    "duration": 107,
    "start_time": "2022-05-09T19:33:41.355Z"
   },
   {
    "duration": 4,
    "start_time": "2022-05-09T19:33:41.464Z"
   },
   {
    "duration": 20,
    "start_time": "2022-05-09T19:33:41.469Z"
   },
   {
    "duration": 20,
    "start_time": "2022-05-09T19:33:41.490Z"
   },
   {
    "duration": 13,
    "start_time": "2022-05-09T19:33:41.512Z"
   },
   {
    "duration": 9,
    "start_time": "2022-05-09T19:33:41.526Z"
   },
   {
    "duration": 5,
    "start_time": "2022-05-09T19:33:41.537Z"
   },
   {
    "duration": 7,
    "start_time": "2022-05-09T19:33:41.543Z"
   },
   {
    "duration": 10,
    "start_time": "2022-05-09T19:33:41.551Z"
   },
   {
    "duration": 73,
    "start_time": "2022-05-09T19:33:41.562Z"
   },
   {
    "duration": 13,
    "start_time": "2022-05-09T19:33:41.637Z"
   },
   {
    "duration": 22,
    "start_time": "2022-05-09T19:33:41.651Z"
   },
   {
    "duration": 3,
    "start_time": "2022-05-09T19:33:41.674Z"
   },
   {
    "duration": 4,
    "start_time": "2022-05-09T19:33:41.700Z"
   },
   {
    "duration": 13,
    "start_time": "2022-05-09T19:33:41.706Z"
   },
   {
    "duration": 11,
    "start_time": "2022-05-09T19:33:41.724Z"
   },
   {
    "duration": 4,
    "start_time": "2022-05-09T19:33:41.737Z"
   },
   {
    "duration": 10,
    "start_time": "2022-05-09T19:33:41.742Z"
   },
   {
    "duration": 10,
    "start_time": "2022-05-09T19:33:41.754Z"
   },
   {
    "duration": 49,
    "start_time": "2022-05-09T19:33:41.765Z"
   },
   {
    "duration": 8,
    "start_time": "2022-05-09T19:33:41.817Z"
   },
   {
    "duration": 10,
    "start_time": "2022-05-09T19:33:41.827Z"
   },
   {
    "duration": 6,
    "start_time": "2022-05-09T19:33:41.839Z"
   },
   {
    "duration": 13,
    "start_time": "2022-05-09T19:33:41.847Z"
   },
   {
    "duration": 17,
    "start_time": "2022-05-09T19:33:41.862Z"
   },
   {
    "duration": 53,
    "start_time": "2022-05-09T19:33:41.881Z"
   },
   {
    "duration": 45,
    "start_time": "2022-05-09T19:33:41.935Z"
   },
   {
    "duration": 22,
    "start_time": "2022-05-09T19:33:41.982Z"
   },
   {
    "duration": 30,
    "start_time": "2022-05-09T19:33:42.006Z"
   },
   {
    "duration": 12,
    "start_time": "2022-05-09T19:33:42.038Z"
   },
   {
    "duration": 3,
    "start_time": "2022-05-09T19:33:42.051Z"
   },
   {
    "duration": 6,
    "start_time": "2022-05-09T19:33:42.055Z"
   },
   {
    "duration": 20,
    "start_time": "2022-05-09T19:33:42.062Z"
   },
   {
    "duration": 42,
    "start_time": "2022-05-09T19:33:42.083Z"
   },
   {
    "duration": 11,
    "start_time": "2022-05-09T19:33:42.126Z"
   },
   {
    "duration": 11,
    "start_time": "2022-05-09T19:33:42.138Z"
   },
   {
    "duration": 9,
    "start_time": "2022-05-09T19:33:42.150Z"
   },
   {
    "duration": 63,
    "start_time": "2022-05-09T19:33:42.161Z"
   },
   {
    "duration": 20,
    "start_time": "2022-05-09T19:33:42.227Z"
   },
   {
    "duration": 11,
    "start_time": "2022-05-09T19:33:42.249Z"
   },
   {
    "duration": 12,
    "start_time": "2022-05-09T19:33:42.262Z"
   },
   {
    "duration": 11,
    "start_time": "2022-05-09T19:33:42.276Z"
   },
   {
    "duration": 18,
    "start_time": "2022-05-09T19:33:42.305Z"
   },
   {
    "duration": 10,
    "start_time": "2022-05-09T19:33:42.325Z"
   },
   {
    "duration": 11,
    "start_time": "2022-05-09T19:33:42.337Z"
   },
   {
    "duration": 3,
    "start_time": "2022-05-09T19:33:44.834Z"
   },
   {
    "duration": 6,
    "start_time": "2022-05-09T19:33:51.845Z"
   },
   {
    "duration": 4,
    "start_time": "2022-05-09T19:33:59.360Z"
   },
   {
    "duration": 1054,
    "start_time": "2022-05-09T19:39:07.685Z"
   },
   {
    "duration": 258,
    "start_time": "2022-05-09T20:16:21.083Z"
   },
   {
    "duration": 34,
    "start_time": "2022-05-09T20:16:25.938Z"
   },
   {
    "duration": 203,
    "start_time": "2022-05-09T20:16:50.519Z"
   },
   {
    "duration": 204,
    "start_time": "2022-05-09T20:17:05.846Z"
   },
   {
    "duration": 214,
    "start_time": "2022-05-09T20:17:22.310Z"
   },
   {
    "duration": 189,
    "start_time": "2022-05-09T20:20:55.466Z"
   },
   {
    "duration": 203,
    "start_time": "2022-05-09T20:21:37.667Z"
   },
   {
    "duration": 148,
    "start_time": "2022-05-09T20:21:43.890Z"
   },
   {
    "duration": 4,
    "start_time": "2022-05-09T20:21:58.581Z"
   },
   {
    "duration": 6,
    "start_time": "2022-05-09T20:22:05.353Z"
   },
   {
    "duration": 138,
    "start_time": "2022-05-09T20:27:14.643Z"
   },
   {
    "duration": 15,
    "start_time": "2022-05-09T20:30:26.717Z"
   },
   {
    "duration": 18,
    "start_time": "2022-05-09T20:30:41.510Z"
   },
   {
    "duration": 12,
    "start_time": "2022-05-09T20:31:59.008Z"
   },
   {
    "duration": 234,
    "start_time": "2022-05-09T20:32:03.450Z"
   },
   {
    "duration": 23,
    "start_time": "2022-05-09T20:32:32.959Z"
   },
   {
    "duration": 56,
    "start_time": "2022-05-09T20:33:44.121Z"
   },
   {
    "duration": 220,
    "start_time": "2022-05-09T20:34:19.176Z"
   },
   {
    "duration": 25,
    "start_time": "2022-05-09T20:34:26.007Z"
   },
   {
    "duration": 3548,
    "start_time": "2022-05-09T20:37:00.667Z"
   },
   {
    "duration": 63,
    "start_time": "2022-05-09T20:37:12.259Z"
   },
   {
    "duration": 5,
    "start_time": "2022-05-09T20:37:12.325Z"
   },
   {
    "duration": 14,
    "start_time": "2022-05-09T20:37:12.331Z"
   },
   {
    "duration": 13,
    "start_time": "2022-05-09T20:37:12.347Z"
   },
   {
    "duration": 18,
    "start_time": "2022-05-09T20:37:12.362Z"
   },
   {
    "duration": 11,
    "start_time": "2022-05-09T20:37:12.405Z"
   },
   {
    "duration": 18,
    "start_time": "2022-05-09T20:37:12.418Z"
   },
   {
    "duration": 11,
    "start_time": "2022-05-09T20:37:12.438Z"
   },
   {
    "duration": 10,
    "start_time": "2022-05-09T20:37:12.451Z"
   },
   {
    "duration": 68,
    "start_time": "2022-05-09T20:37:12.463Z"
   },
   {
    "duration": 125,
    "start_time": "2022-05-09T20:37:12.533Z"
   },
   {
    "duration": 22,
    "start_time": "2022-05-09T20:37:12.660Z"
   },
   {
    "duration": 89,
    "start_time": "2022-05-09T20:37:12.701Z"
   },
   {
    "duration": 15,
    "start_time": "2022-05-09T20:37:12.792Z"
   },
   {
    "duration": 19,
    "start_time": "2022-05-09T20:37:12.809Z"
   },
   {
    "duration": 7,
    "start_time": "2022-05-09T20:37:12.830Z"
   },
   {
    "duration": 8,
    "start_time": "2022-05-09T20:37:12.839Z"
   },
   {
    "duration": 7,
    "start_time": "2022-05-09T20:37:12.848Z"
   },
   {
    "duration": 5,
    "start_time": "2022-05-09T20:37:12.857Z"
   },
   {
    "duration": 9,
    "start_time": "2022-05-09T20:37:12.866Z"
   },
   {
    "duration": 39,
    "start_time": "2022-05-09T20:37:12.876Z"
   },
   {
    "duration": 15,
    "start_time": "2022-05-09T20:37:12.917Z"
   },
   {
    "duration": 14,
    "start_time": "2022-05-09T20:37:12.933Z"
   },
   {
    "duration": 22,
    "start_time": "2022-05-09T20:37:12.949Z"
   },
   {
    "duration": 3,
    "start_time": "2022-05-09T20:37:12.973Z"
   },
   {
    "duration": 14,
    "start_time": "2022-05-09T20:37:13.003Z"
   },
   {
    "duration": 8,
    "start_time": "2022-05-09T20:37:13.019Z"
   },
   {
    "duration": 9,
    "start_time": "2022-05-09T20:37:13.029Z"
   },
   {
    "duration": 7,
    "start_time": "2022-05-09T20:37:13.039Z"
   },
   {
    "duration": 6,
    "start_time": "2022-05-09T20:37:13.048Z"
   },
   {
    "duration": 11,
    "start_time": "2022-05-09T20:37:13.055Z"
   },
   {
    "duration": 9,
    "start_time": "2022-05-09T20:37:13.067Z"
   },
   {
    "duration": 31,
    "start_time": "2022-05-09T20:37:13.078Z"
   },
   {
    "duration": 13,
    "start_time": "2022-05-09T20:37:13.111Z"
   },
   {
    "duration": 10,
    "start_time": "2022-05-09T20:37:13.125Z"
   },
   {
    "duration": 8,
    "start_time": "2022-05-09T20:37:13.137Z"
   },
   {
    "duration": 12,
    "start_time": "2022-05-09T20:37:13.146Z"
   },
   {
    "duration": 45,
    "start_time": "2022-05-09T20:37:13.160Z"
   },
   {
    "duration": 49,
    "start_time": "2022-05-09T20:37:13.207Z"
   },
   {
    "duration": 12,
    "start_time": "2022-05-09T20:37:13.258Z"
   },
   {
    "duration": 58,
    "start_time": "2022-05-09T20:37:13.272Z"
   },
   {
    "duration": 13,
    "start_time": "2022-05-09T20:37:13.331Z"
   },
   {
    "duration": 3,
    "start_time": "2022-05-09T20:37:13.345Z"
   },
   {
    "duration": 4,
    "start_time": "2022-05-09T20:37:13.350Z"
   },
   {
    "duration": 4,
    "start_time": "2022-05-09T20:37:13.356Z"
   },
   {
    "duration": 43,
    "start_time": "2022-05-09T20:37:13.362Z"
   },
   {
    "duration": 16,
    "start_time": "2022-05-09T20:37:13.407Z"
   },
   {
    "duration": 11,
    "start_time": "2022-05-09T20:37:13.424Z"
   },
   {
    "duration": 9,
    "start_time": "2022-05-09T20:37:13.437Z"
   },
   {
    "duration": 16,
    "start_time": "2022-05-09T20:37:13.448Z"
   },
   {
    "duration": 48,
    "start_time": "2022-05-09T20:37:13.465Z"
   },
   {
    "duration": 21,
    "start_time": "2022-05-09T20:37:13.515Z"
   },
   {
    "duration": 10,
    "start_time": "2022-05-09T20:37:13.537Z"
   },
   {
    "duration": 11,
    "start_time": "2022-05-09T20:37:13.549Z"
   },
   {
    "duration": 13,
    "start_time": "2022-05-09T20:37:13.562Z"
   },
   {
    "duration": 14,
    "start_time": "2022-05-09T20:37:13.606Z"
   },
   {
    "duration": 10,
    "start_time": "2022-05-09T20:37:13.622Z"
   },
   {
    "duration": 5,
    "start_time": "2022-05-09T20:37:13.633Z"
   },
   {
    "duration": 157,
    "start_time": "2022-05-09T20:37:13.640Z"
   },
   {
    "duration": 7,
    "start_time": "2022-05-09T20:37:13.798Z"
   },
   {
    "duration": 26,
    "start_time": "2022-05-09T20:37:13.807Z"
   },
   {
    "duration": 191,
    "start_time": "2022-05-09T20:37:13.834Z"
   },
   {
    "duration": 0,
    "start_time": "2022-05-09T20:37:14.026Z"
   },
   {
    "duration": 0,
    "start_time": "2022-05-09T20:37:14.028Z"
   },
   {
    "duration": 0,
    "start_time": "2022-05-09T20:37:14.029Z"
   },
   {
    "duration": 6,
    "start_time": "2022-05-09T20:37:43.256Z"
   },
   {
    "duration": 3664,
    "start_time": "2022-05-09T20:38:26.060Z"
   },
   {
    "duration": 52,
    "start_time": "2022-05-09T20:38:33.869Z"
   },
   {
    "duration": 4,
    "start_time": "2022-05-09T20:38:33.923Z"
   },
   {
    "duration": 24,
    "start_time": "2022-05-09T20:38:33.928Z"
   },
   {
    "duration": 19,
    "start_time": "2022-05-09T20:38:33.954Z"
   },
   {
    "duration": 31,
    "start_time": "2022-05-09T20:38:33.974Z"
   },
   {
    "duration": 10,
    "start_time": "2022-05-09T20:38:34.013Z"
   },
   {
    "duration": 16,
    "start_time": "2022-05-09T20:38:34.025Z"
   },
   {
    "duration": 11,
    "start_time": "2022-05-09T20:38:34.043Z"
   },
   {
    "duration": 10,
    "start_time": "2022-05-09T20:38:34.056Z"
   },
   {
    "duration": 69,
    "start_time": "2022-05-09T20:38:34.069Z"
   },
   {
    "duration": 125,
    "start_time": "2022-05-09T20:38:34.140Z"
   },
   {
    "duration": 50,
    "start_time": "2022-05-09T20:38:34.266Z"
   },
   {
    "duration": 93,
    "start_time": "2022-05-09T20:38:34.321Z"
   },
   {
    "duration": 5,
    "start_time": "2022-05-09T20:38:34.417Z"
   },
   {
    "duration": 21,
    "start_time": "2022-05-09T20:38:34.424Z"
   },
   {
    "duration": 14,
    "start_time": "2022-05-09T20:38:34.447Z"
   },
   {
    "duration": 7,
    "start_time": "2022-05-09T20:38:34.463Z"
   },
   {
    "duration": 7,
    "start_time": "2022-05-09T20:38:34.472Z"
   },
   {
    "duration": 14,
    "start_time": "2022-05-09T20:38:34.480Z"
   },
   {
    "duration": 25,
    "start_time": "2022-05-09T20:38:34.496Z"
   },
   {
    "duration": 39,
    "start_time": "2022-05-09T20:38:34.523Z"
   },
   {
    "duration": 32,
    "start_time": "2022-05-09T20:38:34.564Z"
   },
   {
    "duration": 50,
    "start_time": "2022-05-09T20:38:34.598Z"
   },
   {
    "duration": 59,
    "start_time": "2022-05-09T20:38:34.649Z"
   },
   {
    "duration": 18,
    "start_time": "2022-05-09T20:38:34.711Z"
   },
   {
    "duration": 27,
    "start_time": "2022-05-09T20:38:34.731Z"
   },
   {
    "duration": 48,
    "start_time": "2022-05-09T20:38:34.760Z"
   },
   {
    "duration": 36,
    "start_time": "2022-05-09T20:38:34.810Z"
   },
   {
    "duration": 22,
    "start_time": "2022-05-09T20:38:34.848Z"
   },
   {
    "duration": 46,
    "start_time": "2022-05-09T20:38:34.871Z"
   },
   {
    "duration": 40,
    "start_time": "2022-05-09T20:38:34.919Z"
   },
   {
    "duration": 40,
    "start_time": "2022-05-09T20:38:34.961Z"
   },
   {
    "duration": 38,
    "start_time": "2022-05-09T20:38:35.003Z"
   },
   {
    "duration": 34,
    "start_time": "2022-05-09T20:38:35.043Z"
   },
   {
    "duration": 23,
    "start_time": "2022-05-09T20:38:35.079Z"
   },
   {
    "duration": 28,
    "start_time": "2022-05-09T20:38:35.105Z"
   },
   {
    "duration": 33,
    "start_time": "2022-05-09T20:38:35.137Z"
   },
   {
    "duration": 59,
    "start_time": "2022-05-09T20:38:35.172Z"
   },
   {
    "duration": 53,
    "start_time": "2022-05-09T20:38:35.232Z"
   },
   {
    "duration": 26,
    "start_time": "2022-05-09T20:38:35.286Z"
   },
   {
    "duration": 51,
    "start_time": "2022-05-09T20:38:35.314Z"
   },
   {
    "duration": 20,
    "start_time": "2022-05-09T20:38:35.367Z"
   },
   {
    "duration": 24,
    "start_time": "2022-05-09T20:38:35.389Z"
   },
   {
    "duration": 31,
    "start_time": "2022-05-09T20:38:35.416Z"
   },
   {
    "duration": 19,
    "start_time": "2022-05-09T20:38:35.449Z"
   },
   {
    "duration": 45,
    "start_time": "2022-05-09T20:38:35.470Z"
   },
   {
    "duration": 16,
    "start_time": "2022-05-09T20:38:35.517Z"
   },
   {
    "duration": 30,
    "start_time": "2022-05-09T20:38:35.534Z"
   },
   {
    "duration": 41,
    "start_time": "2022-05-09T20:38:35.565Z"
   },
   {
    "duration": 39,
    "start_time": "2022-05-09T20:38:35.608Z"
   },
   {
    "duration": 40,
    "start_time": "2022-05-09T20:38:35.648Z"
   },
   {
    "duration": 48,
    "start_time": "2022-05-09T20:38:35.689Z"
   },
   {
    "duration": 41,
    "start_time": "2022-05-09T20:38:35.738Z"
   },
   {
    "duration": 63,
    "start_time": "2022-05-09T20:38:35.780Z"
   },
   {
    "duration": 31,
    "start_time": "2022-05-09T20:38:35.845Z"
   },
   {
    "duration": 42,
    "start_time": "2022-05-09T20:38:35.878Z"
   },
   {
    "duration": 38,
    "start_time": "2022-05-09T20:38:35.922Z"
   },
   {
    "duration": 14,
    "start_time": "2022-05-09T20:38:35.962Z"
   },
   {
    "duration": 172,
    "start_time": "2022-05-09T20:38:35.978Z"
   },
   {
    "duration": 3,
    "start_time": "2022-05-09T20:38:36.151Z"
   },
   {
    "duration": 46,
    "start_time": "2022-05-09T20:38:36.156Z"
   },
   {
    "duration": 35,
    "start_time": "2022-05-09T20:38:36.204Z"
   },
   {
    "duration": 43,
    "start_time": "2022-05-09T20:38:36.240Z"
   },
   {
    "duration": 50,
    "start_time": "2022-05-09T20:38:36.285Z"
   },
   {
    "duration": 44,
    "start_time": "2022-05-09T20:38:36.337Z"
   },
   {
    "duration": 6,
    "start_time": "2022-05-09T20:38:42.072Z"
   },
   {
    "duration": 0,
    "start_time": "2022-05-09T20:40:21.664Z"
   },
   {
    "duration": 97,
    "start_time": "2022-05-09T20:42:05.420Z"
   },
   {
    "duration": 15,
    "start_time": "2022-05-09T20:43:09.299Z"
   },
   {
    "duration": 90,
    "start_time": "2022-05-09T20:43:13.356Z"
   },
   {
    "duration": 191,
    "start_time": "2022-05-09T20:44:35.397Z"
   },
   {
    "duration": 206,
    "start_time": "2022-05-09T20:44:51.822Z"
   },
   {
    "duration": 56,
    "start_time": "2022-05-09T20:45:00.362Z"
   },
   {
    "duration": 4,
    "start_time": "2022-05-09T20:45:00.421Z"
   },
   {
    "duration": 16,
    "start_time": "2022-05-09T20:45:00.427Z"
   },
   {
    "duration": 18,
    "start_time": "2022-05-09T20:45:00.446Z"
   },
   {
    "duration": 26,
    "start_time": "2022-05-09T20:45:00.466Z"
   },
   {
    "duration": 15,
    "start_time": "2022-05-09T20:45:00.494Z"
   },
   {
    "duration": 35,
    "start_time": "2022-05-09T20:45:00.511Z"
   },
   {
    "duration": 20,
    "start_time": "2022-05-09T20:45:00.548Z"
   },
   {
    "duration": 17,
    "start_time": "2022-05-09T20:45:00.570Z"
   },
   {
    "duration": 47,
    "start_time": "2022-05-09T20:45:00.589Z"
   },
   {
    "duration": 136,
    "start_time": "2022-05-09T20:45:00.637Z"
   },
   {
    "duration": 55,
    "start_time": "2022-05-09T20:45:00.774Z"
   },
   {
    "duration": 118,
    "start_time": "2022-05-09T20:45:00.831Z"
   },
   {
    "duration": 5,
    "start_time": "2022-05-09T20:45:00.950Z"
   },
   {
    "duration": 20,
    "start_time": "2022-05-09T20:45:00.957Z"
   },
   {
    "duration": 13,
    "start_time": "2022-05-09T20:45:00.978Z"
   },
   {
    "duration": 35,
    "start_time": "2022-05-09T20:45:00.992Z"
   },
   {
    "duration": 8,
    "start_time": "2022-05-09T20:45:01.029Z"
   },
   {
    "duration": 9,
    "start_time": "2022-05-09T20:45:01.038Z"
   },
   {
    "duration": 16,
    "start_time": "2022-05-09T20:45:01.049Z"
   },
   {
    "duration": 13,
    "start_time": "2022-05-09T20:45:01.067Z"
   },
   {
    "duration": 26,
    "start_time": "2022-05-09T20:45:01.082Z"
   },
   {
    "duration": 28,
    "start_time": "2022-05-09T20:45:01.110Z"
   },
   {
    "duration": 34,
    "start_time": "2022-05-09T20:45:01.140Z"
   },
   {
    "duration": 3,
    "start_time": "2022-05-09T20:45:01.176Z"
   },
   {
    "duration": 7,
    "start_time": "2022-05-09T20:45:01.181Z"
   },
   {
    "duration": 16,
    "start_time": "2022-05-09T20:45:01.189Z"
   },
   {
    "duration": 10,
    "start_time": "2022-05-09T20:45:01.212Z"
   },
   {
    "duration": 8,
    "start_time": "2022-05-09T20:45:01.224Z"
   },
   {
    "duration": 7,
    "start_time": "2022-05-09T20:45:01.234Z"
   },
   {
    "duration": 12,
    "start_time": "2022-05-09T20:45:01.243Z"
   },
   {
    "duration": 20,
    "start_time": "2022-05-09T20:45:01.257Z"
   },
   {
    "duration": 24,
    "start_time": "2022-05-09T20:45:01.279Z"
   },
   {
    "duration": 21,
    "start_time": "2022-05-09T20:45:01.305Z"
   },
   {
    "duration": 21,
    "start_time": "2022-05-09T20:45:01.328Z"
   },
   {
    "duration": 13,
    "start_time": "2022-05-09T20:45:01.350Z"
   },
   {
    "duration": 12,
    "start_time": "2022-05-09T20:45:01.365Z"
   },
   {
    "duration": 34,
    "start_time": "2022-05-09T20:45:01.379Z"
   },
   {
    "duration": 52,
    "start_time": "2022-05-09T20:45:01.415Z"
   },
   {
    "duration": 14,
    "start_time": "2022-05-09T20:45:01.469Z"
   },
   {
    "duration": 36,
    "start_time": "2022-05-09T20:45:01.505Z"
   },
   {
    "duration": 13,
    "start_time": "2022-05-09T20:45:01.543Z"
   },
   {
    "duration": 2,
    "start_time": "2022-05-09T20:45:01.558Z"
   },
   {
    "duration": 10,
    "start_time": "2022-05-09T20:45:01.562Z"
   },
   {
    "duration": 8,
    "start_time": "2022-05-09T20:45:01.574Z"
   },
   {
    "duration": 43,
    "start_time": "2022-05-09T20:45:01.584Z"
   },
   {
    "duration": 10,
    "start_time": "2022-05-09T20:45:01.629Z"
   },
   {
    "duration": 11,
    "start_time": "2022-05-09T20:45:01.641Z"
   },
   {
    "duration": 11,
    "start_time": "2022-05-09T20:45:01.653Z"
   },
   {
    "duration": 51,
    "start_time": "2022-05-09T20:45:01.665Z"
   },
   {
    "duration": 21,
    "start_time": "2022-05-09T20:45:01.719Z"
   },
   {
    "duration": 17,
    "start_time": "2022-05-09T20:45:01.742Z"
   },
   {
    "duration": 15,
    "start_time": "2022-05-09T20:45:01.761Z"
   },
   {
    "duration": 37,
    "start_time": "2022-05-09T20:45:01.778Z"
   },
   {
    "duration": 15,
    "start_time": "2022-05-09T20:45:01.821Z"
   },
   {
    "duration": 11,
    "start_time": "2022-05-09T20:45:01.839Z"
   },
   {
    "duration": 14,
    "start_time": "2022-05-09T20:45:01.853Z"
   },
   {
    "duration": 6,
    "start_time": "2022-05-09T20:45:01.869Z"
   },
   {
    "duration": 149,
    "start_time": "2022-05-09T20:45:01.909Z"
   },
   {
    "duration": 3,
    "start_time": "2022-05-09T20:45:02.060Z"
   },
   {
    "duration": 30,
    "start_time": "2022-05-09T20:45:02.064Z"
   },
   {
    "duration": 26,
    "start_time": "2022-05-09T20:45:02.095Z"
   },
   {
    "duration": 25,
    "start_time": "2022-05-09T20:45:02.123Z"
   },
   {
    "duration": 14,
    "start_time": "2022-05-09T20:45:02.150Z"
   },
   {
    "duration": 17,
    "start_time": "2022-05-09T20:45:02.166Z"
   },
   {
    "duration": 207,
    "start_time": "2022-05-09T20:45:05.414Z"
   },
   {
    "duration": 3248,
    "start_time": "2022-05-09T20:45:14.974Z"
   },
   {
    "duration": 10,
    "start_time": "2022-05-09T20:45:45.712Z"
   },
   {
    "duration": 11,
    "start_time": "2022-05-09T20:46:41.759Z"
   },
   {
    "duration": 13,
    "start_time": "2022-05-09T20:46:53.131Z"
   },
   {
    "duration": 13,
    "start_time": "2022-05-09T20:47:14.216Z"
   },
   {
    "duration": 18,
    "start_time": "2022-05-09T20:47:55.724Z"
   },
   {
    "duration": 3187,
    "start_time": "2022-05-09T20:49:16.576Z"
   },
   {
    "duration": 13,
    "start_time": "2022-05-09T20:49:19.921Z"
   },
   {
    "duration": 46,
    "start_time": "2022-05-09T20:49:34.258Z"
   },
   {
    "duration": 5,
    "start_time": "2022-05-09T20:49:34.307Z"
   },
   {
    "duration": 14,
    "start_time": "2022-05-09T20:49:34.314Z"
   },
   {
    "duration": 14,
    "start_time": "2022-05-09T20:49:34.330Z"
   },
   {
    "duration": 18,
    "start_time": "2022-05-09T20:49:34.346Z"
   },
   {
    "duration": 7,
    "start_time": "2022-05-09T20:49:34.365Z"
   },
   {
    "duration": 54,
    "start_time": "2022-05-09T20:49:34.374Z"
   },
   {
    "duration": 11,
    "start_time": "2022-05-09T20:49:34.430Z"
   },
   {
    "duration": 10,
    "start_time": "2022-05-09T20:49:34.442Z"
   },
   {
    "duration": 61,
    "start_time": "2022-05-09T20:49:34.455Z"
   },
   {
    "duration": 125,
    "start_time": "2022-05-09T20:49:34.521Z"
   },
   {
    "duration": 65,
    "start_time": "2022-05-09T20:49:34.648Z"
   },
   {
    "duration": 126,
    "start_time": "2022-05-09T20:49:34.715Z"
   },
   {
    "duration": 5,
    "start_time": "2022-05-09T20:49:34.843Z"
   },
   {
    "duration": 14,
    "start_time": "2022-05-09T20:49:34.850Z"
   },
   {
    "duration": 6,
    "start_time": "2022-05-09T20:49:34.867Z"
   },
   {
    "duration": 34,
    "start_time": "2022-05-09T20:49:34.875Z"
   },
   {
    "duration": 5,
    "start_time": "2022-05-09T20:49:34.912Z"
   },
   {
    "duration": 6,
    "start_time": "2022-05-09T20:49:34.918Z"
   },
   {
    "duration": 6,
    "start_time": "2022-05-09T20:49:34.925Z"
   },
   {
    "duration": 7,
    "start_time": "2022-05-09T20:49:34.934Z"
   },
   {
    "duration": 8,
    "start_time": "2022-05-09T20:49:34.943Z"
   },
   {
    "duration": 13,
    "start_time": "2022-05-09T20:49:34.952Z"
   },
   {
    "duration": 61,
    "start_time": "2022-05-09T20:49:34.966Z"
   },
   {
    "duration": 3,
    "start_time": "2022-05-09T20:49:35.029Z"
   },
   {
    "duration": 7,
    "start_time": "2022-05-09T20:49:35.033Z"
   },
   {
    "duration": 7,
    "start_time": "2022-05-09T20:49:35.041Z"
   },
   {
    "duration": 9,
    "start_time": "2022-05-09T20:49:35.050Z"
   },
   {
    "duration": 4,
    "start_time": "2022-05-09T20:49:35.060Z"
   },
   {
    "duration": 7,
    "start_time": "2022-05-09T20:49:35.065Z"
   },
   {
    "duration": 47,
    "start_time": "2022-05-09T20:49:35.074Z"
   },
   {
    "duration": 12,
    "start_time": "2022-05-09T20:49:35.123Z"
   },
   {
    "duration": 7,
    "start_time": "2022-05-09T20:49:35.136Z"
   },
   {
    "duration": 7,
    "start_time": "2022-05-09T20:49:35.145Z"
   },
   {
    "duration": 5,
    "start_time": "2022-05-09T20:49:35.154Z"
   },
   {
    "duration": 10,
    "start_time": "2022-05-09T20:49:35.160Z"
   },
   {
    "duration": 44,
    "start_time": "2022-05-09T20:49:35.171Z"
   },
   {
    "duration": 30,
    "start_time": "2022-05-09T20:49:35.217Z"
   },
   {
    "duration": 69,
    "start_time": "2022-05-09T20:49:35.248Z"
   },
   {
    "duration": 15,
    "start_time": "2022-05-09T20:49:35.319Z"
   },
   {
    "duration": 27,
    "start_time": "2022-05-09T20:49:35.336Z"
   },
   {
    "duration": 38,
    "start_time": "2022-05-09T20:49:35.364Z"
   },
   {
    "duration": 3,
    "start_time": "2022-05-09T20:49:35.407Z"
   },
   {
    "duration": 17,
    "start_time": "2022-05-09T20:49:35.412Z"
   },
   {
    "duration": 5,
    "start_time": "2022-05-09T20:49:35.431Z"
   },
   {
    "duration": 22,
    "start_time": "2022-05-09T20:49:35.437Z"
   },
   {
    "duration": 10,
    "start_time": "2022-05-09T20:49:35.461Z"
   },
   {
    "duration": 11,
    "start_time": "2022-05-09T20:49:35.473Z"
   },
   {
    "duration": 29,
    "start_time": "2022-05-09T20:49:35.486Z"
   },
   {
    "duration": 18,
    "start_time": "2022-05-09T20:49:35.518Z"
   },
   {
    "duration": 17,
    "start_time": "2022-05-09T20:49:35.538Z"
   },
   {
    "duration": 10,
    "start_time": "2022-05-09T20:49:35.556Z"
   },
   {
    "duration": 35,
    "start_time": "2022-05-09T20:49:35.570Z"
   },
   {
    "duration": 15,
    "start_time": "2022-05-09T20:49:35.607Z"
   },
   {
    "duration": 13,
    "start_time": "2022-05-09T20:49:35.625Z"
   },
   {
    "duration": 10,
    "start_time": "2022-05-09T20:49:35.640Z"
   },
   {
    "duration": 10,
    "start_time": "2022-05-09T20:49:35.652Z"
   },
   {
    "duration": 44,
    "start_time": "2022-05-09T20:49:35.664Z"
   },
   {
    "duration": 141,
    "start_time": "2022-05-09T20:49:35.711Z"
   },
   {
    "duration": 3,
    "start_time": "2022-05-09T20:49:35.854Z"
   },
   {
    "duration": 16,
    "start_time": "2022-05-09T20:49:35.858Z"
   },
   {
    "duration": 7,
    "start_time": "2022-05-09T20:49:35.876Z"
   },
   {
    "duration": 39,
    "start_time": "2022-05-09T20:49:35.884Z"
   },
   {
    "duration": 17,
    "start_time": "2022-05-09T20:49:40.902Z"
   },
   {
    "duration": 12,
    "start_time": "2022-05-09T20:50:41.535Z"
   },
   {
    "duration": 10,
    "start_time": "2022-05-09T20:50:50.862Z"
   },
   {
    "duration": 14,
    "start_time": "2022-05-09T20:50:54.875Z"
   },
   {
    "duration": 20,
    "start_time": "2022-05-09T20:52:58.701Z"
   },
   {
    "duration": 8,
    "start_time": "2022-05-09T21:03:38.180Z"
   },
   {
    "duration": 45,
    "start_time": "2022-05-09T21:03:44.725Z"
   },
   {
    "duration": 4,
    "start_time": "2022-05-09T21:03:44.772Z"
   },
   {
    "duration": 15,
    "start_time": "2022-05-09T21:03:44.778Z"
   },
   {
    "duration": 22,
    "start_time": "2022-05-09T21:03:44.796Z"
   },
   {
    "duration": 18,
    "start_time": "2022-05-09T21:03:47.077Z"
   },
   {
    "duration": 14,
    "start_time": "2022-05-09T21:03:54.559Z"
   },
   {
    "duration": 68,
    "start_time": "2022-05-09T21:07:57.051Z"
   },
   {
    "duration": 4,
    "start_time": "2022-05-09T21:07:57.121Z"
   },
   {
    "duration": 19,
    "start_time": "2022-05-09T21:07:57.127Z"
   },
   {
    "duration": 17,
    "start_time": "2022-05-09T21:07:57.148Z"
   },
   {
    "duration": 9,
    "start_time": "2022-05-09T21:07:57.166Z"
   },
   {
    "duration": 27,
    "start_time": "2022-05-09T21:07:57.176Z"
   },
   {
    "duration": 28,
    "start_time": "2022-05-09T21:07:57.205Z"
   },
   {
    "duration": 12,
    "start_time": "2022-05-09T21:07:57.235Z"
   },
   {
    "duration": 10,
    "start_time": "2022-05-09T21:07:57.249Z"
   },
   {
    "duration": 74,
    "start_time": "2022-05-09T21:07:57.262Z"
   },
   {
    "duration": 128,
    "start_time": "2022-05-09T21:07:57.338Z"
   },
   {
    "duration": 45,
    "start_time": "2022-05-09T21:07:57.467Z"
   },
   {
    "duration": 97,
    "start_time": "2022-05-09T21:07:57.515Z"
   },
   {
    "duration": 5,
    "start_time": "2022-05-09T21:07:57.614Z"
   },
   {
    "duration": 14,
    "start_time": "2022-05-09T21:07:57.621Z"
   },
   {
    "duration": 8,
    "start_time": "2022-05-09T21:07:57.636Z"
   },
   {
    "duration": 14,
    "start_time": "2022-05-09T21:07:57.646Z"
   },
   {
    "duration": 4,
    "start_time": "2022-05-09T21:07:57.661Z"
   },
   {
    "duration": 5,
    "start_time": "2022-05-09T21:07:57.667Z"
   },
   {
    "duration": 29,
    "start_time": "2022-05-09T21:07:57.674Z"
   },
   {
    "duration": 25,
    "start_time": "2022-05-09T21:07:57.705Z"
   },
   {
    "duration": 13,
    "start_time": "2022-05-09T21:07:57.732Z"
   },
   {
    "duration": 22,
    "start_time": "2022-05-09T21:07:57.747Z"
   },
   {
    "duration": 47,
    "start_time": "2022-05-09T21:07:57.771Z"
   },
   {
    "duration": 3,
    "start_time": "2022-05-09T21:07:57.820Z"
   },
   {
    "duration": 9,
    "start_time": "2022-05-09T21:07:57.824Z"
   },
   {
    "duration": 5,
    "start_time": "2022-05-09T21:07:57.836Z"
   },
   {
    "duration": 13,
    "start_time": "2022-05-09T21:07:57.842Z"
   },
   {
    "duration": 5,
    "start_time": "2022-05-09T21:07:57.857Z"
   },
   {
    "duration": 10,
    "start_time": "2022-05-09T21:07:57.863Z"
   },
   {
    "duration": 39,
    "start_time": "2022-05-09T21:07:57.874Z"
   },
   {
    "duration": 16,
    "start_time": "2022-05-09T21:07:57.916Z"
   },
   {
    "duration": 7,
    "start_time": "2022-05-09T21:07:57.934Z"
   },
   {
    "duration": 8,
    "start_time": "2022-05-09T21:07:57.943Z"
   },
   {
    "duration": 5,
    "start_time": "2022-05-09T21:07:57.952Z"
   },
   {
    "duration": 9,
    "start_time": "2022-05-09T21:07:57.959Z"
   },
   {
    "duration": 48,
    "start_time": "2022-05-09T21:07:57.970Z"
   },
   {
    "duration": 31,
    "start_time": "2022-05-09T21:07:58.020Z"
   },
   {
    "duration": 66,
    "start_time": "2022-05-09T21:07:58.053Z"
   },
   {
    "duration": 19,
    "start_time": "2022-05-09T21:07:58.121Z"
   },
   {
    "duration": 31,
    "start_time": "2022-05-09T21:07:58.142Z"
   },
   {
    "duration": 15,
    "start_time": "2022-05-09T21:08:00.748Z"
   },
   {
    "duration": 11,
    "start_time": "2022-05-09T21:09:04.449Z"
   },
   {
    "duration": 10,
    "start_time": "2022-05-09T21:09:10.949Z"
   },
   {
    "duration": 20,
    "start_time": "2022-05-09T21:10:47.994Z"
   },
   {
    "duration": 13,
    "start_time": "2022-05-09T21:10:53.234Z"
   },
   {
    "duration": 18,
    "start_time": "2022-05-09T21:11:05.308Z"
   },
   {
    "duration": 22,
    "start_time": "2022-05-09T21:11:32.212Z"
   },
   {
    "duration": 25,
    "start_time": "2022-05-09T21:11:41.690Z"
   },
   {
    "duration": 44,
    "start_time": "2022-05-09T22:43:05.881Z"
   },
   {
    "duration": 55,
    "start_time": "2022-05-09T22:44:08.478Z"
   },
   {
    "duration": 38,
    "start_time": "2022-05-09T22:44:26.002Z"
   },
   {
    "duration": 197,
    "start_time": "2022-05-09T22:44:53.475Z"
   },
   {
    "duration": 29,
    "start_time": "2022-05-09T22:44:58.678Z"
   },
   {
    "duration": 30,
    "start_time": "2022-05-09T22:45:07.313Z"
   },
   {
    "duration": 34,
    "start_time": "2022-05-09T22:45:19.223Z"
   },
   {
    "duration": 42,
    "start_time": "2022-05-09T22:45:25.116Z"
   },
   {
    "duration": 8,
    "start_time": "2022-05-09T22:48:47.774Z"
   },
   {
    "duration": 15,
    "start_time": "2022-05-09T22:48:51.713Z"
   },
   {
    "duration": 57,
    "start_time": "2022-05-09T22:50:08.923Z"
   },
   {
    "duration": 65,
    "start_time": "2022-05-09T22:50:26.705Z"
   },
   {
    "duration": 17,
    "start_time": "2022-05-09T22:50:38.887Z"
   },
   {
    "duration": 17,
    "start_time": "2022-05-09T22:50:59.352Z"
   },
   {
    "duration": 51,
    "start_time": "2022-05-09T22:51:24.408Z"
   },
   {
    "duration": 17,
    "start_time": "2022-05-09T22:52:16.149Z"
   },
   {
    "duration": 16,
    "start_time": "2022-05-09T22:52:23.661Z"
   },
   {
    "duration": 23,
    "start_time": "2022-05-09T22:53:07.162Z"
   },
   {
    "duration": 26,
    "start_time": "2022-05-09T22:53:11.994Z"
   },
   {
    "duration": 13,
    "start_time": "2022-05-09T22:59:37.316Z"
   },
   {
    "duration": 13,
    "start_time": "2022-05-09T22:59:41.175Z"
   },
   {
    "duration": 14,
    "start_time": "2022-05-09T22:59:49.354Z"
   },
   {
    "duration": 17,
    "start_time": "2022-05-09T23:00:04.410Z"
   },
   {
    "duration": 10,
    "start_time": "2022-05-09T23:01:39.666Z"
   },
   {
    "duration": 14,
    "start_time": "2022-05-09T23:01:46.021Z"
   },
   {
    "duration": 190,
    "start_time": "2022-05-09T23:02:07.162Z"
   },
   {
    "duration": 15,
    "start_time": "2022-05-09T23:02:09.944Z"
   },
   {
    "duration": 6,
    "start_time": "2022-05-09T23:02:28.055Z"
   },
   {
    "duration": 33,
    "start_time": "2022-05-09T23:08:14.591Z"
   },
   {
    "duration": 15,
    "start_time": "2022-05-09T23:08:22.572Z"
   },
   {
    "duration": 19,
    "start_time": "2022-05-09T23:09:00.100Z"
   },
   {
    "duration": 3371,
    "start_time": "2022-05-09T23:11:03.721Z"
   },
   {
    "duration": 0,
    "start_time": "2022-05-09T23:11:07.094Z"
   },
   {
    "duration": 44,
    "start_time": "2022-05-09T23:11:18.321Z"
   },
   {
    "duration": 4,
    "start_time": "2022-05-09T23:11:18.366Z"
   },
   {
    "duration": 14,
    "start_time": "2022-05-09T23:11:18.371Z"
   },
   {
    "duration": 16,
    "start_time": "2022-05-09T23:11:18.387Z"
   },
   {
    "duration": 8,
    "start_time": "2022-05-09T23:11:18.405Z"
   },
   {
    "duration": 21,
    "start_time": "2022-05-09T23:11:18.415Z"
   },
   {
    "duration": 17,
    "start_time": "2022-05-09T23:11:18.437Z"
   },
   {
    "duration": 15,
    "start_time": "2022-05-09T23:11:18.456Z"
   },
   {
    "duration": 36,
    "start_time": "2022-05-09T23:11:18.473Z"
   },
   {
    "duration": 46,
    "start_time": "2022-05-09T23:11:18.513Z"
   },
   {
    "duration": 147,
    "start_time": "2022-05-09T23:11:18.561Z"
   },
   {
    "duration": 26,
    "start_time": "2022-05-09T23:11:18.712Z"
   },
   {
    "duration": 117,
    "start_time": "2022-05-09T23:11:18.739Z"
   },
   {
    "duration": 5,
    "start_time": "2022-05-09T23:11:18.858Z"
   },
   {
    "duration": 11,
    "start_time": "2022-05-09T23:11:18.865Z"
   },
   {
    "duration": 5,
    "start_time": "2022-05-09T23:11:18.878Z"
   },
   {
    "duration": 8,
    "start_time": "2022-05-09T23:11:18.908Z"
   },
   {
    "duration": 11,
    "start_time": "2022-05-09T23:11:18.918Z"
   },
   {
    "duration": 10,
    "start_time": "2022-05-09T23:11:18.930Z"
   },
   {
    "duration": 6,
    "start_time": "2022-05-09T23:11:18.943Z"
   },
   {
    "duration": 11,
    "start_time": "2022-05-09T23:11:18.951Z"
   },
   {
    "duration": 9,
    "start_time": "2022-05-09T23:11:18.964Z"
   },
   {
    "duration": 38,
    "start_time": "2022-05-09T23:11:18.974Z"
   },
   {
    "duration": 24,
    "start_time": "2022-05-09T23:11:19.015Z"
   },
   {
    "duration": 3,
    "start_time": "2022-05-09T23:11:19.040Z"
   },
   {
    "duration": 5,
    "start_time": "2022-05-09T23:11:19.045Z"
   },
   {
    "duration": 9,
    "start_time": "2022-05-09T23:11:19.052Z"
   },
   {
    "duration": 9,
    "start_time": "2022-05-09T23:11:19.062Z"
   },
   {
    "duration": 28,
    "start_time": "2022-05-09T23:11:19.072Z"
   },
   {
    "duration": 9,
    "start_time": "2022-05-09T23:11:19.102Z"
   },
   {
    "duration": 24,
    "start_time": "2022-05-09T23:11:19.113Z"
   },
   {
    "duration": 16,
    "start_time": "2022-05-09T23:11:19.139Z"
   },
   {
    "duration": 14,
    "start_time": "2022-05-09T23:11:19.157Z"
   },
   {
    "duration": 20,
    "start_time": "2022-05-09T23:11:19.173Z"
   },
   {
    "duration": 24,
    "start_time": "2022-05-09T23:11:19.195Z"
   },
   {
    "duration": 21,
    "start_time": "2022-05-09T23:11:19.221Z"
   },
   {
    "duration": 17,
    "start_time": "2022-05-09T23:11:19.244Z"
   },
   {
    "duration": 50,
    "start_time": "2022-05-09T23:11:19.263Z"
   },
   {
    "duration": 53,
    "start_time": "2022-05-09T23:11:19.315Z"
   },
   {
    "duration": 13,
    "start_time": "2022-05-09T23:11:19.370Z"
   },
   {
    "duration": 40,
    "start_time": "2022-05-09T23:11:19.400Z"
   },
   {
    "duration": 13,
    "start_time": "2022-05-09T23:11:19.441Z"
   },
   {
    "duration": 20,
    "start_time": "2022-05-09T23:11:19.456Z"
   },
   {
    "duration": 36,
    "start_time": "2022-05-09T23:11:19.477Z"
   },
   {
    "duration": 22,
    "start_time": "2022-05-09T23:11:19.516Z"
   },
   {
    "duration": 3,
    "start_time": "2022-05-09T23:11:19.539Z"
   },
   {
    "duration": 23,
    "start_time": "2022-05-09T23:11:19.543Z"
   },
   {
    "duration": 17,
    "start_time": "2022-05-09T23:11:19.567Z"
   },
   {
    "duration": 17,
    "start_time": "2022-05-09T23:11:19.604Z"
   },
   {
    "duration": 20,
    "start_time": "2022-05-09T23:11:19.622Z"
   },
   {
    "duration": 33,
    "start_time": "2022-05-09T23:11:19.643Z"
   },
   {
    "duration": 48,
    "start_time": "2022-05-09T23:11:19.678Z"
   },
   {
    "duration": 22,
    "start_time": "2022-05-09T23:11:19.729Z"
   },
   {
    "duration": 25,
    "start_time": "2022-05-09T23:11:19.753Z"
   },
   {
    "duration": 10,
    "start_time": "2022-05-09T23:11:19.780Z"
   },
   {
    "duration": 37,
    "start_time": "2022-05-09T23:11:19.791Z"
   },
   {
    "duration": 10,
    "start_time": "2022-05-09T23:11:19.829Z"
   },
   {
    "duration": 11,
    "start_time": "2022-05-09T23:11:19.840Z"
   },
   {
    "duration": 29,
    "start_time": "2022-05-09T23:11:19.853Z"
   },
   {
    "duration": 13,
    "start_time": "2022-05-09T23:11:19.884Z"
   },
   {
    "duration": 7,
    "start_time": "2022-05-09T23:11:19.898Z"
   },
   {
    "duration": 32,
    "start_time": "2022-05-09T23:11:19.906Z"
   },
   {
    "duration": 8,
    "start_time": "2022-05-09T23:11:19.941Z"
   },
   {
    "duration": 14,
    "start_time": "2022-05-09T23:11:19.951Z"
   },
   {
    "duration": 40,
    "start_time": "2022-05-09T23:11:19.967Z"
   },
   {
    "duration": 27,
    "start_time": "2022-05-09T23:11:20.009Z"
   },
   {
    "duration": 17,
    "start_time": "2022-05-09T23:11:22.316Z"
   },
   {
    "duration": 15,
    "start_time": "2022-05-09T23:11:25.720Z"
   },
   {
    "duration": 16,
    "start_time": "2022-05-09T23:11:42.245Z"
   },
   {
    "duration": 15,
    "start_time": "2022-05-09T23:12:02.478Z"
   },
   {
    "duration": 3191,
    "start_time": "2022-05-09T23:12:15.634Z"
   },
   {
    "duration": 0,
    "start_time": "2022-05-09T23:12:18.826Z"
   },
   {
    "duration": 3234,
    "start_time": "2022-05-09T23:12:52.050Z"
   },
   {
    "duration": 0,
    "start_time": "2022-05-09T23:12:55.285Z"
   },
   {
    "duration": 67,
    "start_time": "2022-05-09T23:13:00.655Z"
   },
   {
    "duration": 3,
    "start_time": "2022-05-09T23:13:00.724Z"
   },
   {
    "duration": 18,
    "start_time": "2022-05-09T23:13:00.728Z"
   },
   {
    "duration": 20,
    "start_time": "2022-05-09T23:13:00.748Z"
   },
   {
    "duration": 10,
    "start_time": "2022-05-09T23:13:00.769Z"
   },
   {
    "duration": 19,
    "start_time": "2022-05-09T23:13:00.780Z"
   },
   {
    "duration": 41,
    "start_time": "2022-05-09T23:13:00.803Z"
   },
   {
    "duration": 14,
    "start_time": "2022-05-09T23:13:00.846Z"
   },
   {
    "duration": 13,
    "start_time": "2022-05-09T23:13:00.862Z"
   },
   {
    "duration": 57,
    "start_time": "2022-05-09T23:13:00.878Z"
   },
   {
    "duration": 196,
    "start_time": "2022-05-09T23:13:00.937Z"
   },
   {
    "duration": 25,
    "start_time": "2022-05-09T23:13:01.135Z"
   },
   {
    "duration": 120,
    "start_time": "2022-05-09T23:13:01.161Z"
   },
   {
    "duration": 18,
    "start_time": "2022-05-09T23:13:01.283Z"
   },
   {
    "duration": 15,
    "start_time": "2022-05-09T23:13:01.304Z"
   },
   {
    "duration": 12,
    "start_time": "2022-05-09T23:13:01.320Z"
   },
   {
    "duration": 9,
    "start_time": "2022-05-09T23:13:01.334Z"
   },
   {
    "duration": 14,
    "start_time": "2022-05-09T23:13:01.345Z"
   },
   {
    "duration": 11,
    "start_time": "2022-05-09T23:13:01.361Z"
   },
   {
    "duration": 8,
    "start_time": "2022-05-09T23:13:01.374Z"
   },
   {
    "duration": 25,
    "start_time": "2022-05-09T23:13:01.384Z"
   },
   {
    "duration": 16,
    "start_time": "2022-05-09T23:13:01.411Z"
   },
   {
    "duration": 15,
    "start_time": "2022-05-09T23:13:01.430Z"
   },
   {
    "duration": 28,
    "start_time": "2022-05-09T23:13:01.447Z"
   },
   {
    "duration": 27,
    "start_time": "2022-05-09T23:13:01.477Z"
   },
   {
    "duration": 12,
    "start_time": "2022-05-09T23:13:01.507Z"
   },
   {
    "duration": 20,
    "start_time": "2022-05-09T23:13:01.521Z"
   },
   {
    "duration": 17,
    "start_time": "2022-05-09T23:13:01.545Z"
   },
   {
    "duration": 6,
    "start_time": "2022-05-09T23:13:01.563Z"
   },
   {
    "duration": 15,
    "start_time": "2022-05-09T23:13:01.570Z"
   },
   {
    "duration": 13,
    "start_time": "2022-05-09T23:13:01.586Z"
   },
   {
    "duration": 18,
    "start_time": "2022-05-09T23:13:01.601Z"
   },
   {
    "duration": 28,
    "start_time": "2022-05-09T23:13:01.621Z"
   },
   {
    "duration": 24,
    "start_time": "2022-05-09T23:13:01.651Z"
   },
   {
    "duration": 12,
    "start_time": "2022-05-09T23:13:01.678Z"
   },
   {
    "duration": 22,
    "start_time": "2022-05-09T23:13:01.692Z"
   },
   {
    "duration": 17,
    "start_time": "2022-05-09T23:13:01.717Z"
   },
   {
    "duration": 42,
    "start_time": "2022-05-09T23:13:01.736Z"
   },
   {
    "duration": 57,
    "start_time": "2022-05-09T23:13:01.780Z"
   },
   {
    "duration": 13,
    "start_time": "2022-05-09T23:13:01.839Z"
   },
   {
    "duration": 34,
    "start_time": "2022-05-09T23:13:01.853Z"
   },
   {
    "duration": 24,
    "start_time": "2022-05-09T23:13:01.888Z"
   },
   {
    "duration": 41,
    "start_time": "2022-05-09T23:13:01.914Z"
   },
   {
    "duration": 16,
    "start_time": "2022-05-09T23:13:01.956Z"
   },
   {
    "duration": 21,
    "start_time": "2022-05-09T23:13:01.973Z"
   },
   {
    "duration": 2,
    "start_time": "2022-05-09T23:13:01.995Z"
   },
   {
    "duration": 48,
    "start_time": "2022-05-09T23:13:02.000Z"
   },
   {
    "duration": 16,
    "start_time": "2022-05-09T23:13:02.049Z"
   },
   {
    "duration": 15,
    "start_time": "2022-05-09T23:13:02.067Z"
   },
   {
    "duration": 29,
    "start_time": "2022-05-09T23:13:02.083Z"
   },
   {
    "duration": 23,
    "start_time": "2022-05-09T23:13:02.114Z"
   },
   {
    "duration": 16,
    "start_time": "2022-05-09T23:13:02.139Z"
   },
   {
    "duration": 22,
    "start_time": "2022-05-09T23:13:02.157Z"
   },
   {
    "duration": 22,
    "start_time": "2022-05-09T23:13:02.181Z"
   },
   {
    "duration": 20,
    "start_time": "2022-05-09T23:13:02.205Z"
   },
   {
    "duration": 19,
    "start_time": "2022-05-09T23:13:02.226Z"
   },
   {
    "duration": 13,
    "start_time": "2022-05-09T23:13:02.247Z"
   },
   {
    "duration": 21,
    "start_time": "2022-05-09T23:13:02.261Z"
   },
   {
    "duration": 25,
    "start_time": "2022-05-09T23:13:02.284Z"
   },
   {
    "duration": 18,
    "start_time": "2022-05-09T23:13:02.311Z"
   },
   {
    "duration": 10,
    "start_time": "2022-05-09T23:13:02.331Z"
   },
   {
    "duration": 26,
    "start_time": "2022-05-09T23:13:02.342Z"
   },
   {
    "duration": 13,
    "start_time": "2022-05-09T23:13:02.370Z"
   },
   {
    "duration": 8,
    "start_time": "2022-05-09T23:13:04.994Z"
   },
   {
    "duration": 16,
    "start_time": "2022-05-09T23:13:07.751Z"
   },
   {
    "duration": 18,
    "start_time": "2022-05-09T23:13:11.721Z"
   },
   {
    "duration": 21,
    "start_time": "2022-05-09T23:13:15.225Z"
   },
   {
    "duration": 21,
    "start_time": "2022-05-09T23:13:19.096Z"
   },
   {
    "duration": 18,
    "start_time": "2022-05-09T23:13:27.918Z"
   },
   {
    "duration": 13,
    "start_time": "2022-05-09T23:13:32.351Z"
   },
   {
    "duration": 4,
    "start_time": "2022-05-09T23:18:59.656Z"
   },
   {
    "duration": 7019,
    "start_time": "2022-05-09T23:20:01.716Z"
   },
   {
    "duration": 43,
    "start_time": "2022-05-09T23:22:34.030Z"
   },
   {
    "duration": 4,
    "start_time": "2022-05-09T23:22:34.074Z"
   },
   {
    "duration": 13,
    "start_time": "2022-05-09T23:22:34.079Z"
   },
   {
    "duration": 24,
    "start_time": "2022-05-09T23:22:34.094Z"
   },
   {
    "duration": 14,
    "start_time": "2022-05-09T23:22:34.119Z"
   },
   {
    "duration": 8,
    "start_time": "2022-05-09T23:22:34.135Z"
   },
   {
    "duration": 17,
    "start_time": "2022-05-09T23:22:34.145Z"
   },
   {
    "duration": 11,
    "start_time": "2022-05-09T23:22:34.163Z"
   },
   {
    "duration": 34,
    "start_time": "2022-05-09T23:22:34.175Z"
   },
   {
    "duration": 30,
    "start_time": "2022-05-09T23:22:34.213Z"
   },
   {
    "duration": 130,
    "start_time": "2022-05-09T23:22:34.244Z"
   },
   {
    "duration": 43,
    "start_time": "2022-05-09T23:22:34.375Z"
   },
   {
    "duration": 94,
    "start_time": "2022-05-09T23:22:34.420Z"
   },
   {
    "duration": 5,
    "start_time": "2022-05-09T23:22:34.516Z"
   },
   {
    "duration": 14,
    "start_time": "2022-05-09T23:22:34.523Z"
   },
   {
    "duration": 4,
    "start_time": "2022-05-09T23:22:34.538Z"
   },
   {
    "duration": 7,
    "start_time": "2022-05-09T23:22:34.544Z"
   },
   {
    "duration": 5,
    "start_time": "2022-05-09T23:22:34.552Z"
   },
   {
    "duration": 4,
    "start_time": "2022-05-09T23:22:34.559Z"
   },
   {
    "duration": 6,
    "start_time": "2022-05-09T23:22:34.564Z"
   },
   {
    "duration": 13,
    "start_time": "2022-05-09T23:22:34.606Z"
   },
   {
    "duration": 10,
    "start_time": "2022-05-09T23:22:34.621Z"
   },
   {
    "duration": 19,
    "start_time": "2022-05-09T23:22:34.632Z"
   },
   {
    "duration": 20,
    "start_time": "2022-05-09T23:22:34.652Z"
   },
   {
    "duration": 3,
    "start_time": "2022-05-09T23:22:34.673Z"
   },
   {
    "duration": 4,
    "start_time": "2022-05-09T23:22:34.705Z"
   },
   {
    "duration": 13,
    "start_time": "2022-05-09T23:22:34.713Z"
   },
   {
    "duration": 13,
    "start_time": "2022-05-09T23:22:34.727Z"
   },
   {
    "duration": 3,
    "start_time": "2022-05-09T23:22:34.742Z"
   },
   {
    "duration": 6,
    "start_time": "2022-05-09T23:22:34.747Z"
   },
   {
    "duration": 17,
    "start_time": "2022-05-09T23:22:34.755Z"
   },
   {
    "duration": 11,
    "start_time": "2022-05-09T23:22:34.773Z"
   },
   {
    "duration": 28,
    "start_time": "2022-05-09T23:22:34.785Z"
   },
   {
    "duration": 12,
    "start_time": "2022-05-09T23:22:34.815Z"
   },
   {
    "duration": 5,
    "start_time": "2022-05-09T23:22:34.828Z"
   },
   {
    "duration": 10,
    "start_time": "2022-05-09T23:22:34.835Z"
   },
   {
    "duration": 12,
    "start_time": "2022-05-09T23:22:34.846Z"
   },
   {
    "duration": 51,
    "start_time": "2022-05-09T23:22:34.860Z"
   },
   {
    "duration": 51,
    "start_time": "2022-05-09T23:22:34.916Z"
   },
   {
    "duration": 13,
    "start_time": "2022-05-09T23:22:34.969Z"
   },
   {
    "duration": 30,
    "start_time": "2022-05-09T23:22:35.011Z"
   },
   {
    "duration": 12,
    "start_time": "2022-05-09T23:22:35.043Z"
   },
   {
    "duration": 15,
    "start_time": "2022-05-09T23:22:35.057Z"
   },
   {
    "duration": 33,
    "start_time": "2022-05-09T23:22:35.074Z"
   },
   {
    "duration": 20,
    "start_time": "2022-05-09T23:22:35.113Z"
   },
   {
    "duration": 2,
    "start_time": "2022-05-09T23:22:35.135Z"
   },
   {
    "duration": 18,
    "start_time": "2022-05-09T23:22:35.138Z"
   },
   {
    "duration": 9,
    "start_time": "2022-05-09T23:22:35.157Z"
   },
   {
    "duration": 50,
    "start_time": "2022-05-09T23:22:35.168Z"
   },
   {
    "duration": 23,
    "start_time": "2022-05-09T23:22:35.220Z"
   },
   {
    "duration": 15,
    "start_time": "2022-05-09T23:22:35.245Z"
   },
   {
    "duration": 13,
    "start_time": "2022-05-09T23:22:35.261Z"
   },
   {
    "duration": 11,
    "start_time": "2022-05-09T23:22:35.275Z"
   },
   {
    "duration": 32,
    "start_time": "2022-05-09T23:22:35.288Z"
   },
   {
    "duration": 11,
    "start_time": "2022-05-09T23:22:35.322Z"
   },
   {
    "duration": 12,
    "start_time": "2022-05-09T23:22:35.335Z"
   },
   {
    "duration": 10,
    "start_time": "2022-05-09T23:22:35.348Z"
   },
   {
    "duration": 9,
    "start_time": "2022-05-09T23:22:35.359Z"
   },
   {
    "duration": 39,
    "start_time": "2022-05-09T23:22:35.370Z"
   },
   {
    "duration": 3,
    "start_time": "2022-05-09T23:22:35.412Z"
   },
   {
    "duration": 13,
    "start_time": "2022-05-09T23:22:37.646Z"
   },
   {
    "duration": 6,
    "start_time": "2022-05-09T23:23:17.630Z"
   },
   {
    "duration": 11,
    "start_time": "2022-05-09T23:25:34.424Z"
   },
   {
    "duration": 12,
    "start_time": "2022-05-09T23:25:52.431Z"
   },
   {
    "duration": 44,
    "start_time": "2022-05-09T23:25:57.640Z"
   },
   {
    "duration": 4,
    "start_time": "2022-05-09T23:25:57.686Z"
   },
   {
    "duration": 26,
    "start_time": "2022-05-09T23:25:57.691Z"
   },
   {
    "duration": 13,
    "start_time": "2022-05-09T23:25:57.720Z"
   },
   {
    "duration": 9,
    "start_time": "2022-05-09T23:25:57.734Z"
   },
   {
    "duration": 7,
    "start_time": "2022-05-09T23:25:57.745Z"
   },
   {
    "duration": 16,
    "start_time": "2022-05-09T23:25:57.753Z"
   },
   {
    "duration": 11,
    "start_time": "2022-05-09T23:25:57.770Z"
   },
   {
    "duration": 35,
    "start_time": "2022-05-09T23:25:57.782Z"
   },
   {
    "duration": 29,
    "start_time": "2022-05-09T23:25:57.822Z"
   },
   {
    "duration": 137,
    "start_time": "2022-05-09T23:25:57.853Z"
   },
   {
    "duration": 35,
    "start_time": "2022-05-09T23:25:57.991Z"
   },
   {
    "duration": 96,
    "start_time": "2022-05-09T23:25:58.028Z"
   },
   {
    "duration": 5,
    "start_time": "2022-05-09T23:25:58.125Z"
   },
   {
    "duration": 10,
    "start_time": "2022-05-09T23:25:58.132Z"
   },
   {
    "duration": 4,
    "start_time": "2022-05-09T23:25:58.144Z"
   },
   {
    "duration": 5,
    "start_time": "2022-05-09T23:25:58.152Z"
   },
   {
    "duration": 6,
    "start_time": "2022-05-09T23:25:58.158Z"
   },
   {
    "duration": 36,
    "start_time": "2022-05-09T23:25:58.165Z"
   },
   {
    "duration": 5,
    "start_time": "2022-05-09T23:25:58.203Z"
   },
   {
    "duration": 21,
    "start_time": "2022-05-09T23:25:58.210Z"
   },
   {
    "duration": 9,
    "start_time": "2022-05-09T23:25:58.233Z"
   },
   {
    "duration": 17,
    "start_time": "2022-05-09T23:25:58.243Z"
   },
   {
    "duration": 50,
    "start_time": "2022-05-09T23:25:58.262Z"
   },
   {
    "duration": 11,
    "start_time": "2022-05-09T23:25:58.315Z"
   },
   {
    "duration": 7,
    "start_time": "2022-05-09T23:25:58.328Z"
   },
   {
    "duration": 6,
    "start_time": "2022-05-09T23:25:58.337Z"
   },
   {
    "duration": 12,
    "start_time": "2022-05-09T23:25:58.344Z"
   },
   {
    "duration": 5,
    "start_time": "2022-05-09T23:25:58.358Z"
   },
   {
    "duration": 7,
    "start_time": "2022-05-09T23:25:58.365Z"
   },
   {
    "duration": 40,
    "start_time": "2022-05-09T23:25:58.373Z"
   },
   {
    "duration": 11,
    "start_time": "2022-05-09T23:25:58.415Z"
   },
   {
    "duration": 7,
    "start_time": "2022-05-09T23:25:58.427Z"
   },
   {
    "duration": 8,
    "start_time": "2022-05-09T23:25:58.435Z"
   },
   {
    "duration": 5,
    "start_time": "2022-05-09T23:25:58.444Z"
   },
   {
    "duration": 8,
    "start_time": "2022-05-09T23:25:58.450Z"
   },
   {
    "duration": 9,
    "start_time": "2022-05-09T23:25:58.461Z"
   },
   {
    "duration": 70,
    "start_time": "2022-05-09T23:25:58.471Z"
   },
   {
    "duration": 75,
    "start_time": "2022-05-09T23:25:58.543Z"
   },
   {
    "duration": 13,
    "start_time": "2022-05-09T23:25:58.621Z"
   },
   {
    "duration": 29,
    "start_time": "2022-05-09T23:25:58.635Z"
   },
   {
    "duration": 43,
    "start_time": "2022-05-09T23:25:58.666Z"
   },
   {
    "duration": 18,
    "start_time": "2022-05-09T23:25:58.711Z"
   },
   {
    "duration": 21,
    "start_time": "2022-05-09T23:25:58.730Z"
   },
   {
    "duration": 25,
    "start_time": "2022-05-09T23:25:58.753Z"
   },
   {
    "duration": 3,
    "start_time": "2022-05-09T23:25:58.803Z"
   },
   {
    "duration": 35,
    "start_time": "2022-05-09T23:25:58.808Z"
   },
   {
    "duration": 14,
    "start_time": "2022-05-09T23:25:58.845Z"
   },
   {
    "duration": 15,
    "start_time": "2022-05-09T23:25:58.861Z"
   },
   {
    "duration": 40,
    "start_time": "2022-05-09T23:25:58.877Z"
   },
   {
    "duration": 21,
    "start_time": "2022-05-09T23:25:58.919Z"
   },
   {
    "duration": 13,
    "start_time": "2022-05-09T23:25:58.943Z"
   },
   {
    "duration": 11,
    "start_time": "2022-05-09T23:25:58.957Z"
   },
   {
    "duration": 37,
    "start_time": "2022-05-09T23:25:58.970Z"
   },
   {
    "duration": 14,
    "start_time": "2022-05-09T23:25:59.009Z"
   },
   {
    "duration": 21,
    "start_time": "2022-05-09T23:25:59.024Z"
   },
   {
    "duration": 8,
    "start_time": "2022-05-09T23:25:59.047Z"
   },
   {
    "duration": 9,
    "start_time": "2022-05-09T23:25:59.056Z"
   },
   {
    "duration": 39,
    "start_time": "2022-05-09T23:25:59.066Z"
   },
   {
    "duration": 4,
    "start_time": "2022-05-09T23:25:59.108Z"
   },
   {
    "duration": 30,
    "start_time": "2022-05-09T23:25:59.114Z"
   },
   {
    "duration": 5,
    "start_time": "2022-05-09T23:25:59.145Z"
   },
   {
    "duration": 10,
    "start_time": "2022-05-09T23:25:59.151Z"
   },
   {
    "duration": 16,
    "start_time": "2022-05-09T23:25:59.162Z"
   },
   {
    "duration": 25,
    "start_time": "2022-05-09T23:25:59.180Z"
   },
   {
    "duration": 24,
    "start_time": "2022-05-09T23:25:59.208Z"
   },
   {
    "duration": 13,
    "start_time": "2022-05-09T23:25:59.233Z"
   },
   {
    "duration": 25,
    "start_time": "2022-05-09T23:26:01.518Z"
   },
   {
    "duration": 3311,
    "start_time": "2022-05-09T23:27:42.519Z"
   },
   {
    "duration": 0,
    "start_time": "2022-05-09T23:27:45.831Z"
   },
   {
    "duration": 53,
    "start_time": "2022-05-09T23:27:57.601Z"
   },
   {
    "duration": 4,
    "start_time": "2022-05-09T23:27:57.656Z"
   },
   {
    "duration": 18,
    "start_time": "2022-05-09T23:27:57.662Z"
   },
   {
    "duration": 15,
    "start_time": "2022-05-09T23:27:57.682Z"
   },
   {
    "duration": 10,
    "start_time": "2022-05-09T23:27:57.710Z"
   },
   {
    "duration": 10,
    "start_time": "2022-05-09T23:27:57.721Z"
   },
   {
    "duration": 17,
    "start_time": "2022-05-09T23:27:57.732Z"
   },
   {
    "duration": 12,
    "start_time": "2022-05-09T23:27:57.750Z"
   },
   {
    "duration": 9,
    "start_time": "2022-05-09T23:27:57.763Z"
   },
   {
    "duration": 63,
    "start_time": "2022-05-09T23:27:57.774Z"
   },
   {
    "duration": 149,
    "start_time": "2022-05-09T23:27:57.839Z"
   },
   {
    "duration": 41,
    "start_time": "2022-05-09T23:27:57.989Z"
   },
   {
    "duration": 101,
    "start_time": "2022-05-09T23:27:58.032Z"
   },
   {
    "duration": 4,
    "start_time": "2022-05-09T23:27:58.134Z"
   },
   {
    "duration": 12,
    "start_time": "2022-05-09T23:27:58.140Z"
   },
   {
    "duration": 11,
    "start_time": "2022-05-09T23:27:58.154Z"
   },
   {
    "duration": 6,
    "start_time": "2022-05-09T23:27:58.167Z"
   },
   {
    "duration": 5,
    "start_time": "2022-05-09T23:27:58.176Z"
   },
   {
    "duration": 28,
    "start_time": "2022-05-09T23:27:58.182Z"
   },
   {
    "duration": 7,
    "start_time": "2022-05-09T23:27:58.212Z"
   },
   {
    "duration": 22,
    "start_time": "2022-05-09T23:27:58.221Z"
   },
   {
    "duration": 12,
    "start_time": "2022-05-09T23:27:58.245Z"
   },
   {
    "duration": 21,
    "start_time": "2022-05-09T23:27:58.259Z"
   },
   {
    "duration": 43,
    "start_time": "2022-05-09T23:27:58.282Z"
   },
   {
    "duration": 3,
    "start_time": "2022-05-09T23:27:58.327Z"
   },
   {
    "duration": 7,
    "start_time": "2022-05-09T23:27:58.331Z"
   },
   {
    "duration": 6,
    "start_time": "2022-05-09T23:27:58.339Z"
   },
   {
    "duration": 9,
    "start_time": "2022-05-09T23:27:58.347Z"
   },
   {
    "duration": 3,
    "start_time": "2022-05-09T23:27:58.358Z"
   },
   {
    "duration": 6,
    "start_time": "2022-05-09T23:27:58.362Z"
   },
   {
    "duration": 44,
    "start_time": "2022-05-09T23:27:58.369Z"
   },
   {
    "duration": 13,
    "start_time": "2022-05-09T23:27:58.414Z"
   },
   {
    "duration": 9,
    "start_time": "2022-05-09T23:27:58.429Z"
   },
   {
    "duration": 11,
    "start_time": "2022-05-09T23:27:58.439Z"
   },
   {
    "duration": 6,
    "start_time": "2022-05-09T23:27:58.452Z"
   },
   {
    "duration": 8,
    "start_time": "2022-05-09T23:27:58.459Z"
   },
   {
    "duration": 9,
    "start_time": "2022-05-09T23:27:58.469Z"
   },
   {
    "duration": 35,
    "start_time": "2022-05-09T23:27:58.500Z"
   },
   {
    "duration": 69,
    "start_time": "2022-05-09T23:27:58.536Z"
   },
   {
    "duration": 16,
    "start_time": "2022-05-09T23:27:58.608Z"
   },
   {
    "duration": 28,
    "start_time": "2022-05-09T23:27:58.628Z"
   },
   {
    "duration": 12,
    "start_time": "2022-05-09T23:27:58.658Z"
   },
   {
    "duration": 23,
    "start_time": "2022-05-09T23:27:58.700Z"
   },
   {
    "duration": 21,
    "start_time": "2022-05-09T23:27:58.725Z"
   },
   {
    "duration": 27,
    "start_time": "2022-05-09T23:27:58.747Z"
   },
   {
    "duration": 31,
    "start_time": "2022-05-09T23:27:58.776Z"
   },
   {
    "duration": 27,
    "start_time": "2022-05-09T23:27:58.810Z"
   },
   {
    "duration": 10,
    "start_time": "2022-05-09T23:27:58.839Z"
   },
   {
    "duration": 12,
    "start_time": "2022-05-09T23:27:58.850Z"
   },
   {
    "duration": 9,
    "start_time": "2022-05-09T23:27:58.863Z"
   },
   {
    "duration": 42,
    "start_time": "2022-05-09T23:27:58.874Z"
   },
   {
    "duration": 15,
    "start_time": "2022-05-09T23:27:58.918Z"
   },
   {
    "duration": 10,
    "start_time": "2022-05-09T23:27:58.934Z"
   },
   {
    "duration": 10,
    "start_time": "2022-05-09T23:27:58.945Z"
   },
   {
    "duration": 11,
    "start_time": "2022-05-09T23:27:58.956Z"
   },
   {
    "duration": 20,
    "start_time": "2022-05-09T23:27:59.001Z"
   },
   {
    "duration": 9,
    "start_time": "2022-05-09T23:27:59.022Z"
   },
   {
    "duration": 9,
    "start_time": "2022-05-09T23:27:59.032Z"
   },
   {
    "duration": 6,
    "start_time": "2022-05-09T23:27:59.043Z"
   },
   {
    "duration": 4,
    "start_time": "2022-05-09T23:27:59.050Z"
   },
   {
    "duration": 49,
    "start_time": "2022-05-09T23:27:59.055Z"
   },
   {
    "duration": 10,
    "start_time": "2022-05-09T23:27:59.106Z"
   },
   {
    "duration": 27,
    "start_time": "2022-05-09T23:27:59.124Z"
   },
   {
    "duration": 16,
    "start_time": "2022-05-09T23:27:59.153Z"
   },
   {
    "duration": 16,
    "start_time": "2022-05-09T23:27:59.170Z"
   },
   {
    "duration": 29,
    "start_time": "2022-05-09T23:28:01.582Z"
   },
   {
    "duration": 17,
    "start_time": "2022-05-09T23:28:07.229Z"
   },
   {
    "duration": 0,
    "start_time": "2022-05-09T23:30:12.822Z"
   },
   {
    "duration": 3111,
    "start_time": "2022-05-09T23:30:24.311Z"
   },
   {
    "duration": 53,
    "start_time": "2022-05-09T23:30:38.167Z"
   },
   {
    "duration": 4,
    "start_time": "2022-05-09T23:30:38.223Z"
   },
   {
    "duration": 23,
    "start_time": "2022-05-09T23:30:38.228Z"
   },
   {
    "duration": 15,
    "start_time": "2022-05-09T23:30:38.253Z"
   },
   {
    "duration": 10,
    "start_time": "2022-05-09T23:30:38.270Z"
   },
   {
    "duration": 25,
    "start_time": "2022-05-09T23:30:38.281Z"
   },
   {
    "duration": 20,
    "start_time": "2022-05-09T23:30:38.309Z"
   },
   {
    "duration": 11,
    "start_time": "2022-05-09T23:30:38.331Z"
   },
   {
    "duration": 9,
    "start_time": "2022-05-09T23:30:38.343Z"
   },
   {
    "duration": 67,
    "start_time": "2022-05-09T23:30:38.354Z"
   },
   {
    "duration": 122,
    "start_time": "2022-05-09T23:30:38.422Z"
   },
   {
    "duration": 23,
    "start_time": "2022-05-09T23:30:38.545Z"
   },
   {
    "duration": 105,
    "start_time": "2022-05-09T23:30:38.570Z"
   },
   {
    "duration": 5,
    "start_time": "2022-05-09T23:30:38.677Z"
   },
   {
    "duration": 37,
    "start_time": "2022-05-09T23:30:38.683Z"
   },
   {
    "duration": 9,
    "start_time": "2022-05-09T23:30:38.721Z"
   },
   {
    "duration": 7,
    "start_time": "2022-05-09T23:30:38.731Z"
   },
   {
    "duration": 5,
    "start_time": "2022-05-09T23:30:38.740Z"
   },
   {
    "duration": 6,
    "start_time": "2022-05-09T23:30:38.746Z"
   },
   {
    "duration": 6,
    "start_time": "2022-05-09T23:30:38.753Z"
   },
   {
    "duration": 7,
    "start_time": "2022-05-09T23:30:38.762Z"
   },
   {
    "duration": 38,
    "start_time": "2022-05-09T23:30:38.771Z"
   },
   {
    "duration": 15,
    "start_time": "2022-05-09T23:30:38.811Z"
   },
   {
    "duration": 23,
    "start_time": "2022-05-09T23:30:38.828Z"
   },
   {
    "duration": 2,
    "start_time": "2022-05-09T23:30:38.852Z"
   },
   {
    "duration": 6,
    "start_time": "2022-05-09T23:30:38.856Z"
   },
   {
    "duration": 7,
    "start_time": "2022-05-09T23:30:38.863Z"
   },
   {
    "duration": 34,
    "start_time": "2022-05-09T23:30:38.871Z"
   },
   {
    "duration": 8,
    "start_time": "2022-05-09T23:30:38.907Z"
   },
   {
    "duration": 8,
    "start_time": "2022-05-09T23:30:38.918Z"
   },
   {
    "duration": 14,
    "start_time": "2022-05-09T23:30:38.928Z"
   },
   {
    "duration": 9,
    "start_time": "2022-05-09T23:30:38.943Z"
   },
   {
    "duration": 5,
    "start_time": "2022-05-09T23:30:38.954Z"
   },
   {
    "duration": 7,
    "start_time": "2022-05-09T23:30:38.960Z"
   },
   {
    "duration": 5,
    "start_time": "2022-05-09T23:30:38.968Z"
   },
   {
    "duration": 36,
    "start_time": "2022-05-09T23:30:38.974Z"
   },
   {
    "duration": 13,
    "start_time": "2022-05-09T23:30:39.012Z"
   },
   {
    "duration": 25,
    "start_time": "2022-05-09T23:30:39.026Z"
   },
   {
    "duration": 76,
    "start_time": "2022-05-09T23:30:39.053Z"
   },
   {
    "duration": 12,
    "start_time": "2022-05-09T23:30:39.130Z"
   },
   {
    "duration": 29,
    "start_time": "2022-05-09T23:30:39.143Z"
   },
   {
    "duration": 40,
    "start_time": "2022-05-09T23:30:39.173Z"
   },
   {
    "duration": 18,
    "start_time": "2022-05-09T23:30:39.214Z"
   },
   {
    "duration": 13,
    "start_time": "2022-05-09T23:30:39.234Z"
   },
   {
    "duration": 17,
    "start_time": "2022-05-09T23:30:39.249Z"
   },
   {
    "duration": 2,
    "start_time": "2022-05-09T23:30:39.267Z"
   },
   {
    "duration": 47,
    "start_time": "2022-05-09T23:30:39.271Z"
   },
   {
    "duration": 15,
    "start_time": "2022-05-09T23:30:39.320Z"
   },
   {
    "duration": 11,
    "start_time": "2022-05-09T23:30:39.336Z"
   },
   {
    "duration": 11,
    "start_time": "2022-05-09T23:30:39.349Z"
   },
   {
    "duration": 48,
    "start_time": "2022-05-09T23:30:39.361Z"
   },
   {
    "duration": 17,
    "start_time": "2022-05-09T23:30:39.411Z"
   },
   {
    "duration": 10,
    "start_time": "2022-05-09T23:30:39.432Z"
   },
   {
    "duration": 11,
    "start_time": "2022-05-09T23:30:39.443Z"
   },
   {
    "duration": 10,
    "start_time": "2022-05-09T23:30:39.456Z"
   },
   {
    "duration": 47,
    "start_time": "2022-05-09T23:30:39.467Z"
   },
   {
    "duration": 10,
    "start_time": "2022-05-09T23:30:39.516Z"
   },
   {
    "duration": 10,
    "start_time": "2022-05-09T23:30:39.528Z"
   },
   {
    "duration": 6,
    "start_time": "2022-05-09T23:30:39.540Z"
   },
   {
    "duration": 10,
    "start_time": "2022-05-09T23:30:39.547Z"
   },
   {
    "duration": 14,
    "start_time": "2022-05-09T23:30:41.946Z"
   },
   {
    "duration": 13,
    "start_time": "2022-05-09T23:30:51.609Z"
   },
   {
    "duration": 6,
    "start_time": "2022-05-09T23:30:53.839Z"
   },
   {
    "duration": 13,
    "start_time": "2022-05-09T23:31:46.861Z"
   },
   {
    "duration": 28,
    "start_time": "2022-05-09T23:32:31.197Z"
   },
   {
    "duration": 13,
    "start_time": "2022-05-09T23:32:42.564Z"
   },
   {
    "duration": 7,
    "start_time": "2022-05-09T23:33:04.748Z"
   },
   {
    "duration": 61,
    "start_time": "2022-05-09T23:33:13.576Z"
   },
   {
    "duration": 4,
    "start_time": "2022-05-09T23:33:13.640Z"
   },
   {
    "duration": 20,
    "start_time": "2022-05-09T23:33:13.646Z"
   },
   {
    "duration": 21,
    "start_time": "2022-05-09T23:33:13.669Z"
   },
   {
    "duration": 23,
    "start_time": "2022-05-09T23:33:13.693Z"
   },
   {
    "duration": 17,
    "start_time": "2022-05-09T23:33:13.720Z"
   },
   {
    "duration": 17,
    "start_time": "2022-05-09T23:33:13.738Z"
   },
   {
    "duration": 11,
    "start_time": "2022-05-09T23:33:13.757Z"
   },
   {
    "duration": 43,
    "start_time": "2022-05-09T23:33:13.770Z"
   },
   {
    "duration": 28,
    "start_time": "2022-05-09T23:33:13.816Z"
   },
   {
    "duration": 176,
    "start_time": "2022-05-09T23:33:13.845Z"
   },
   {
    "duration": 23,
    "start_time": "2022-05-09T23:33:14.023Z"
   },
   {
    "duration": 107,
    "start_time": "2022-05-09T23:33:14.048Z"
   },
   {
    "duration": 4,
    "start_time": "2022-05-09T23:33:14.157Z"
   },
   {
    "duration": 14,
    "start_time": "2022-05-09T23:33:14.162Z"
   },
   {
    "duration": 36,
    "start_time": "2022-05-09T23:33:14.178Z"
   },
   {
    "duration": 6,
    "start_time": "2022-05-09T23:33:14.216Z"
   },
   {
    "duration": 6,
    "start_time": "2022-05-09T23:33:14.223Z"
   },
   {
    "duration": 7,
    "start_time": "2022-05-09T23:33:14.231Z"
   },
   {
    "duration": 10,
    "start_time": "2022-05-09T23:33:14.239Z"
   },
   {
    "duration": 9,
    "start_time": "2022-05-09T23:33:14.250Z"
   },
   {
    "duration": 9,
    "start_time": "2022-05-09T23:33:14.261Z"
   },
   {
    "duration": 40,
    "start_time": "2022-05-09T23:33:14.272Z"
   },
   {
    "duration": 22,
    "start_time": "2022-05-09T23:33:14.314Z"
   },
   {
    "duration": 3,
    "start_time": "2022-05-09T23:33:14.338Z"
   },
   {
    "duration": 13,
    "start_time": "2022-05-09T23:33:14.343Z"
   },
   {
    "duration": 8,
    "start_time": "2022-05-09T23:33:14.358Z"
   },
   {
    "duration": 15,
    "start_time": "2022-05-09T23:33:14.370Z"
   },
   {
    "duration": 22,
    "start_time": "2022-05-09T23:33:14.387Z"
   },
   {
    "duration": 26,
    "start_time": "2022-05-09T23:33:14.412Z"
   },
   {
    "duration": 13,
    "start_time": "2022-05-09T23:33:14.440Z"
   },
   {
    "duration": 20,
    "start_time": "2022-05-09T23:33:14.454Z"
   },
   {
    "duration": 8,
    "start_time": "2022-05-09T23:33:14.476Z"
   },
   {
    "duration": 10,
    "start_time": "2022-05-09T23:33:14.486Z"
   },
   {
    "duration": 20,
    "start_time": "2022-05-09T23:33:14.498Z"
   },
   {
    "duration": 10,
    "start_time": "2022-05-09T23:33:14.520Z"
   },
   {
    "duration": 14,
    "start_time": "2022-05-09T23:33:14.531Z"
   },
   {
    "duration": 29,
    "start_time": "2022-05-09T23:33:14.546Z"
   },
   {
    "duration": 63,
    "start_time": "2022-05-09T23:33:14.577Z"
   },
   {
    "duration": 11,
    "start_time": "2022-05-09T23:33:14.642Z"
   },
   {
    "duration": 29,
    "start_time": "2022-05-09T23:33:14.654Z"
   },
   {
    "duration": 37,
    "start_time": "2022-05-09T23:33:14.684Z"
   },
   {
    "duration": 15,
    "start_time": "2022-05-09T23:33:14.723Z"
   },
   {
    "duration": 15,
    "start_time": "2022-05-09T23:33:14.739Z"
   },
   {
    "duration": 19,
    "start_time": "2022-05-09T23:33:14.755Z"
   },
   {
    "duration": 10,
    "start_time": "2022-05-09T23:33:14.803Z"
   },
   {
    "duration": 22,
    "start_time": "2022-05-09T23:33:14.815Z"
   },
   {
    "duration": 11,
    "start_time": "2022-05-09T23:33:14.838Z"
   },
   {
    "duration": 14,
    "start_time": "2022-05-09T23:33:14.850Z"
   },
   {
    "duration": 10,
    "start_time": "2022-05-09T23:33:14.865Z"
   },
   {
    "duration": 38,
    "start_time": "2022-05-09T23:33:14.876Z"
   },
   {
    "duration": 14,
    "start_time": "2022-05-09T23:33:14.916Z"
   },
   {
    "duration": 10,
    "start_time": "2022-05-09T23:33:14.931Z"
   },
   {
    "duration": 10,
    "start_time": "2022-05-09T23:33:14.942Z"
   },
   {
    "duration": 11,
    "start_time": "2022-05-09T23:33:14.953Z"
   },
   {
    "duration": 41,
    "start_time": "2022-05-09T23:33:14.966Z"
   },
   {
    "duration": 14,
    "start_time": "2022-05-09T23:33:15.010Z"
   },
   {
    "duration": 10,
    "start_time": "2022-05-09T23:33:15.025Z"
   },
   {
    "duration": 5,
    "start_time": "2022-05-09T23:33:15.036Z"
   },
   {
    "duration": 5,
    "start_time": "2022-05-09T23:33:15.042Z"
   },
   {
    "duration": 20,
    "start_time": "2022-05-09T23:33:15.048Z"
   },
   {
    "duration": 43,
    "start_time": "2022-05-09T23:33:15.070Z"
   },
   {
    "duration": 18,
    "start_time": "2022-05-09T23:33:15.116Z"
   },
   {
    "duration": 17,
    "start_time": "2022-05-09T23:33:15.135Z"
   },
   {
    "duration": 21,
    "start_time": "2022-05-09T23:33:15.153Z"
   },
   {
    "duration": 10,
    "start_time": "2022-05-09T23:33:16.929Z"
   },
   {
    "duration": 11,
    "start_time": "2022-05-09T23:33:34.432Z"
   },
   {
    "duration": 3186,
    "start_time": "2022-05-09T23:34:32.181Z"
   },
   {
    "duration": 0,
    "start_time": "2022-05-09T23:34:35.368Z"
   },
   {
    "duration": 52,
    "start_time": "2022-05-09T23:34:41.968Z"
   },
   {
    "duration": 3,
    "start_time": "2022-05-09T23:34:42.022Z"
   },
   {
    "duration": 16,
    "start_time": "2022-05-09T23:34:42.027Z"
   },
   {
    "duration": 14,
    "start_time": "2022-05-09T23:34:42.045Z"
   },
   {
    "duration": 10,
    "start_time": "2022-05-09T23:34:42.061Z"
   },
   {
    "duration": 34,
    "start_time": "2022-05-09T23:34:42.072Z"
   },
   {
    "duration": 21,
    "start_time": "2022-05-09T23:34:42.108Z"
   },
   {
    "duration": 11,
    "start_time": "2022-05-09T23:34:42.131Z"
   },
   {
    "duration": 9,
    "start_time": "2022-05-09T23:34:42.143Z"
   },
   {
    "duration": 63,
    "start_time": "2022-05-09T23:34:42.153Z"
   },
   {
    "duration": 123,
    "start_time": "2022-05-09T23:34:42.217Z"
   },
   {
    "duration": 24,
    "start_time": "2022-05-09T23:34:42.341Z"
   },
   {
    "duration": 154,
    "start_time": "2022-05-09T23:34:42.367Z"
   },
   {
    "duration": 5,
    "start_time": "2022-05-09T23:34:42.524Z"
   },
   {
    "duration": 12,
    "start_time": "2022-05-09T23:34:42.530Z"
   },
   {
    "duration": 8,
    "start_time": "2022-05-09T23:34:42.543Z"
   },
   {
    "duration": 5,
    "start_time": "2022-05-09T23:34:42.553Z"
   },
   {
    "duration": 6,
    "start_time": "2022-05-09T23:34:42.560Z"
   },
   {
    "duration": 6,
    "start_time": "2022-05-09T23:34:42.568Z"
   },
   {
    "duration": 37,
    "start_time": "2022-05-09T23:34:42.576Z"
   },
   {
    "duration": 14,
    "start_time": "2022-05-09T23:34:42.615Z"
   },
   {
    "duration": 11,
    "start_time": "2022-05-09T23:34:42.631Z"
   },
   {
    "duration": 13,
    "start_time": "2022-05-09T23:34:42.643Z"
   },
   {
    "duration": 26,
    "start_time": "2022-05-09T23:34:42.657Z"
   },
   {
    "duration": 2,
    "start_time": "2022-05-09T23:34:42.685Z"
   },
   {
    "duration": 21,
    "start_time": "2022-05-09T23:34:42.699Z"
   },
   {
    "duration": 8,
    "start_time": "2022-05-09T23:34:42.721Z"
   },
   {
    "duration": 10,
    "start_time": "2022-05-09T23:34:42.731Z"
   },
   {
    "duration": 7,
    "start_time": "2022-05-09T23:34:42.743Z"
   },
   {
    "duration": 6,
    "start_time": "2022-05-09T23:34:42.751Z"
   },
   {
    "duration": 13,
    "start_time": "2022-05-09T23:34:42.758Z"
   },
   {
    "duration": 8,
    "start_time": "2022-05-09T23:34:42.772Z"
   },
   {
    "duration": 23,
    "start_time": "2022-05-09T23:34:42.782Z"
   },
   {
    "duration": 10,
    "start_time": "2022-05-09T23:34:42.811Z"
   },
   {
    "duration": 8,
    "start_time": "2022-05-09T23:34:42.822Z"
   },
   {
    "duration": 10,
    "start_time": "2022-05-09T23:34:42.832Z"
   },
   {
    "duration": 11,
    "start_time": "2022-05-09T23:34:42.843Z"
   },
   {
    "duration": 29,
    "start_time": "2022-05-09T23:34:42.856Z"
   },
   {
    "duration": 61,
    "start_time": "2022-05-09T23:34:42.900Z"
   },
   {
    "duration": 13,
    "start_time": "2022-05-09T23:34:42.963Z"
   },
   {
    "duration": 34,
    "start_time": "2022-05-09T23:34:43.002Z"
   },
   {
    "duration": 13,
    "start_time": "2022-05-09T23:34:43.038Z"
   },
   {
    "duration": 15,
    "start_time": "2022-05-09T23:34:43.053Z"
   },
   {
    "duration": 47,
    "start_time": "2022-05-09T23:34:43.069Z"
   },
   {
    "duration": 21,
    "start_time": "2022-05-09T23:34:43.118Z"
   },
   {
    "duration": 3,
    "start_time": "2022-05-09T23:34:43.141Z"
   },
   {
    "duration": 22,
    "start_time": "2022-05-09T23:34:43.146Z"
   },
   {
    "duration": 46,
    "start_time": "2022-05-09T23:34:43.171Z"
   },
   {
    "duration": 15,
    "start_time": "2022-05-09T23:34:43.219Z"
   },
   {
    "duration": 15,
    "start_time": "2022-05-09T23:34:43.236Z"
   },
   {
    "duration": 23,
    "start_time": "2022-05-09T23:34:43.253Z"
   },
   {
    "duration": 32,
    "start_time": "2022-05-09T23:34:43.277Z"
   },
   {
    "duration": 12,
    "start_time": "2022-05-09T23:34:43.311Z"
   },
   {
    "duration": 10,
    "start_time": "2022-05-09T23:34:43.324Z"
   },
   {
    "duration": 16,
    "start_time": "2022-05-09T23:34:43.336Z"
   },
   {
    "duration": 17,
    "start_time": "2022-05-09T23:34:43.353Z"
   },
   {
    "duration": 32,
    "start_time": "2022-05-09T23:34:43.371Z"
   },
   {
    "duration": 13,
    "start_time": "2022-05-09T23:34:43.411Z"
   },
   {
    "duration": 11,
    "start_time": "2022-05-09T23:34:43.426Z"
   },
   {
    "duration": 5,
    "start_time": "2022-05-09T23:34:43.438Z"
   },
   {
    "duration": 19,
    "start_time": "2022-05-09T23:34:43.445Z"
   },
   {
    "duration": 9,
    "start_time": "2022-05-09T23:34:43.465Z"
   },
   {
    "duration": 46,
    "start_time": "2022-05-09T23:34:43.476Z"
   },
   {
    "duration": 18,
    "start_time": "2022-05-09T23:34:43.524Z"
   },
   {
    "duration": 26,
    "start_time": "2022-05-09T23:34:46.592Z"
   },
   {
    "duration": 14,
    "start_time": "2022-05-09T23:34:49.537Z"
   },
   {
    "duration": 5005,
    "start_time": "2022-05-09T23:35:00.090Z"
   },
   {
    "duration": 0,
    "start_time": "2022-05-09T23:35:05.097Z"
   },
   {
    "duration": 51,
    "start_time": "2022-05-09T23:35:08.794Z"
   },
   {
    "duration": 3,
    "start_time": "2022-05-09T23:35:08.847Z"
   },
   {
    "duration": 14,
    "start_time": "2022-05-09T23:35:08.852Z"
   },
   {
    "duration": 14,
    "start_time": "2022-05-09T23:35:08.868Z"
   },
   {
    "duration": 20,
    "start_time": "2022-05-09T23:35:08.883Z"
   },
   {
    "duration": 12,
    "start_time": "2022-05-09T23:35:08.905Z"
   },
   {
    "duration": 20,
    "start_time": "2022-05-09T23:35:08.919Z"
   },
   {
    "duration": 10,
    "start_time": "2022-05-09T23:35:08.941Z"
   },
   {
    "duration": 10,
    "start_time": "2022-05-09T23:35:08.953Z"
   },
   {
    "duration": 68,
    "start_time": "2022-05-09T23:35:08.965Z"
   },
   {
    "duration": 135,
    "start_time": "2022-05-09T23:35:09.035Z"
   },
   {
    "duration": 51,
    "start_time": "2022-05-09T23:35:09.171Z"
   },
   {
    "duration": 109,
    "start_time": "2022-05-09T23:35:09.223Z"
   },
   {
    "duration": 4,
    "start_time": "2022-05-09T23:35:09.334Z"
   },
   {
    "duration": 12,
    "start_time": "2022-05-09T23:35:09.339Z"
   },
   {
    "duration": 15,
    "start_time": "2022-05-09T23:35:09.353Z"
   },
   {
    "duration": 10,
    "start_time": "2022-05-09T23:35:09.369Z"
   },
   {
    "duration": 12,
    "start_time": "2022-05-09T23:35:09.381Z"
   },
   {
    "duration": 17,
    "start_time": "2022-05-09T23:35:09.394Z"
   },
   {
    "duration": 9,
    "start_time": "2022-05-09T23:35:09.413Z"
   },
   {
    "duration": 8,
    "start_time": "2022-05-09T23:35:09.424Z"
   },
   {
    "duration": 9,
    "start_time": "2022-05-09T23:35:09.434Z"
   },
   {
    "duration": 17,
    "start_time": "2022-05-09T23:35:09.445Z"
   },
   {
    "duration": 51,
    "start_time": "2022-05-09T23:35:09.464Z"
   },
   {
    "duration": 3,
    "start_time": "2022-05-09T23:35:09.517Z"
   },
   {
    "duration": 6,
    "start_time": "2022-05-09T23:35:09.521Z"
   },
   {
    "duration": 9,
    "start_time": "2022-05-09T23:35:09.528Z"
   },
   {
    "duration": 9,
    "start_time": "2022-05-09T23:35:09.539Z"
   },
   {
    "duration": 4,
    "start_time": "2022-05-09T23:35:09.549Z"
   },
   {
    "duration": 5,
    "start_time": "2022-05-09T23:35:09.554Z"
   },
   {
    "duration": 11,
    "start_time": "2022-05-09T23:35:09.561Z"
   },
   {
    "duration": 43,
    "start_time": "2022-05-09T23:35:09.573Z"
   },
   {
    "duration": 8,
    "start_time": "2022-05-09T23:35:09.617Z"
   },
   {
    "duration": 7,
    "start_time": "2022-05-09T23:35:09.626Z"
   },
   {
    "duration": 6,
    "start_time": "2022-05-09T23:35:09.634Z"
   },
   {
    "duration": 9,
    "start_time": "2022-05-09T23:35:09.642Z"
   },
   {
    "duration": 9,
    "start_time": "2022-05-09T23:35:09.653Z"
   },
   {
    "duration": 55,
    "start_time": "2022-05-09T23:35:09.664Z"
   },
   {
    "duration": 49,
    "start_time": "2022-05-09T23:35:09.721Z"
   },
   {
    "duration": 12,
    "start_time": "2022-05-09T23:35:09.772Z"
   },
   {
    "duration": 34,
    "start_time": "2022-05-09T23:35:09.807Z"
   },
   {
    "duration": 13,
    "start_time": "2022-05-09T23:35:09.842Z"
   },
   {
    "duration": 16,
    "start_time": "2022-05-09T23:35:09.856Z"
   },
   {
    "duration": 41,
    "start_time": "2022-05-09T23:35:09.873Z"
   },
   {
    "duration": 19,
    "start_time": "2022-05-09T23:35:09.916Z"
   },
   {
    "duration": 2,
    "start_time": "2022-05-09T23:35:09.937Z"
   },
   {
    "duration": 20,
    "start_time": "2022-05-09T23:35:09.940Z"
   },
   {
    "duration": 41,
    "start_time": "2022-05-09T23:35:09.962Z"
   },
   {
    "duration": 18,
    "start_time": "2022-05-09T23:35:10.005Z"
   },
   {
    "duration": 13,
    "start_time": "2022-05-09T23:35:10.025Z"
   },
   {
    "duration": 15,
    "start_time": "2022-05-09T23:35:10.039Z"
   },
   {
    "duration": 13,
    "start_time": "2022-05-09T23:35:10.056Z"
   },
   {
    "duration": 45,
    "start_time": "2022-05-09T23:35:10.071Z"
   },
   {
    "duration": 14,
    "start_time": "2022-05-09T23:35:10.118Z"
   },
   {
    "duration": 12,
    "start_time": "2022-05-09T23:35:10.134Z"
   },
   {
    "duration": 14,
    "start_time": "2022-05-09T23:35:10.148Z"
   },
   {
    "duration": 51,
    "start_time": "2022-05-09T23:35:10.164Z"
   },
   {
    "duration": 11,
    "start_time": "2022-05-09T23:35:10.216Z"
   },
   {
    "duration": 6,
    "start_time": "2022-05-09T23:35:10.228Z"
   },
   {
    "duration": 8,
    "start_time": "2022-05-09T23:35:10.235Z"
   },
   {
    "duration": 20,
    "start_time": "2022-05-09T23:35:10.244Z"
   },
   {
    "duration": 6,
    "start_time": "2022-05-09T23:35:10.265Z"
   },
   {
    "duration": 39,
    "start_time": "2022-05-09T23:35:10.272Z"
   },
   {
    "duration": 18,
    "start_time": "2022-05-09T23:35:10.313Z"
   },
   {
    "duration": 8,
    "start_time": "2022-05-09T23:35:13.213Z"
   },
   {
    "duration": 17,
    "start_time": "2022-05-09T23:35:15.688Z"
   },
   {
    "duration": 5051,
    "start_time": "2022-05-09T23:35:44.171Z"
   },
   {
    "duration": 0,
    "start_time": "2022-05-09T23:35:49.223Z"
   },
   {
    "duration": 50,
    "start_time": "2022-05-09T23:35:53.671Z"
   },
   {
    "duration": 4,
    "start_time": "2022-05-09T23:35:53.723Z"
   },
   {
    "duration": 15,
    "start_time": "2022-05-09T23:35:53.728Z"
   },
   {
    "duration": 13,
    "start_time": "2022-05-09T23:35:53.745Z"
   },
   {
    "duration": 9,
    "start_time": "2022-05-09T23:35:53.760Z"
   },
   {
    "duration": 36,
    "start_time": "2022-05-09T23:35:53.770Z"
   },
   {
    "duration": 21,
    "start_time": "2022-05-09T23:35:53.809Z"
   },
   {
    "duration": 12,
    "start_time": "2022-05-09T23:35:53.832Z"
   },
   {
    "duration": 10,
    "start_time": "2022-05-09T23:35:53.845Z"
   },
   {
    "duration": 70,
    "start_time": "2022-05-09T23:35:53.857Z"
   },
   {
    "duration": 126,
    "start_time": "2022-05-09T23:35:53.928Z"
   },
   {
    "duration": 21,
    "start_time": "2022-05-09T23:35:54.056Z"
   },
   {
    "duration": 99,
    "start_time": "2022-05-09T23:35:54.079Z"
   },
   {
    "duration": 5,
    "start_time": "2022-05-09T23:35:54.180Z"
   },
   {
    "duration": 12,
    "start_time": "2022-05-09T23:35:54.202Z"
   },
   {
    "duration": 18,
    "start_time": "2022-05-09T23:35:54.215Z"
   },
   {
    "duration": 7,
    "start_time": "2022-05-09T23:35:54.235Z"
   },
   {
    "duration": 7,
    "start_time": "2022-05-09T23:35:54.243Z"
   },
   {
    "duration": 4,
    "start_time": "2022-05-09T23:35:54.252Z"
   },
   {
    "duration": 6,
    "start_time": "2022-05-09T23:35:54.258Z"
   },
   {
    "duration": 7,
    "start_time": "2022-05-09T23:35:54.266Z"
   },
   {
    "duration": 12,
    "start_time": "2022-05-09T23:35:54.305Z"
   },
   {
    "duration": 16,
    "start_time": "2022-05-09T23:35:54.319Z"
   },
   {
    "duration": 24,
    "start_time": "2022-05-09T23:35:54.337Z"
   },
   {
    "duration": 3,
    "start_time": "2022-05-09T23:35:54.362Z"
   },
   {
    "duration": 5,
    "start_time": "2022-05-09T23:35:54.366Z"
   },
   {
    "duration": 7,
    "start_time": "2022-05-09T23:35:54.372Z"
   },
   {
    "duration": 12,
    "start_time": "2022-05-09T23:35:54.402Z"
   },
   {
    "duration": 5,
    "start_time": "2022-05-09T23:35:54.416Z"
   },
   {
    "duration": 7,
    "start_time": "2022-05-09T23:35:54.422Z"
   },
   {
    "duration": 9,
    "start_time": "2022-05-09T23:35:54.431Z"
   },
   {
    "duration": 15,
    "start_time": "2022-05-09T23:35:54.442Z"
   },
   {
    "duration": 6,
    "start_time": "2022-05-09T23:35:54.458Z"
   },
   {
    "duration": 15,
    "start_time": "2022-05-09T23:35:54.465Z"
   },
   {
    "duration": 30,
    "start_time": "2022-05-09T23:35:54.481Z"
   },
   {
    "duration": 12,
    "start_time": "2022-05-09T23:35:54.513Z"
   },
   {
    "duration": 9,
    "start_time": "2022-05-09T23:35:54.527Z"
   },
   {
    "duration": 26,
    "start_time": "2022-05-09T23:35:54.537Z"
   },
   {
    "duration": 60,
    "start_time": "2022-05-09T23:35:54.564Z"
   },
   {
    "duration": 13,
    "start_time": "2022-05-09T23:35:54.626Z"
   },
   {
    "duration": 28,
    "start_time": "2022-05-09T23:35:54.641Z"
   },
   {
    "duration": 41,
    "start_time": "2022-05-09T23:35:54.670Z"
   },
   {
    "duration": 16,
    "start_time": "2022-05-09T23:35:54.713Z"
   },
   {
    "duration": 15,
    "start_time": "2022-05-09T23:35:54.730Z"
   },
   {
    "duration": 19,
    "start_time": "2022-05-09T23:35:54.746Z"
   },
   {
    "duration": 2,
    "start_time": "2022-05-09T23:35:54.767Z"
   },
   {
    "duration": 51,
    "start_time": "2022-05-09T23:35:54.770Z"
   },
   {
    "duration": 14,
    "start_time": "2022-05-09T23:35:54.823Z"
   },
   {
    "duration": 10,
    "start_time": "2022-05-09T23:35:54.839Z"
   },
   {
    "duration": 9,
    "start_time": "2022-05-09T23:35:54.851Z"
   },
   {
    "duration": 46,
    "start_time": "2022-05-09T23:35:54.861Z"
   },
   {
    "duration": 15,
    "start_time": "2022-05-09T23:35:54.909Z"
   },
   {
    "duration": 10,
    "start_time": "2022-05-09T23:35:54.926Z"
   },
   {
    "duration": 9,
    "start_time": "2022-05-09T23:35:54.937Z"
   },
   {
    "duration": 9,
    "start_time": "2022-05-09T23:35:54.948Z"
   },
   {
    "duration": 11,
    "start_time": "2022-05-09T23:35:54.958Z"
   },
   {
    "duration": 15,
    "start_time": "2022-05-09T23:35:55.003Z"
   },
   {
    "duration": 10,
    "start_time": "2022-05-09T23:35:55.020Z"
   },
   {
    "duration": 5,
    "start_time": "2022-05-09T23:35:55.032Z"
   },
   {
    "duration": 3,
    "start_time": "2022-05-09T23:35:55.039Z"
   },
   {
    "duration": 16,
    "start_time": "2022-05-09T23:35:55.044Z"
   },
   {
    "duration": 6,
    "start_time": "2022-05-09T23:35:55.061Z"
   },
   {
    "duration": 56,
    "start_time": "2022-05-09T23:35:55.069Z"
   },
   {
    "duration": 18,
    "start_time": "2022-05-09T23:35:55.126Z"
   },
   {
    "duration": 21,
    "start_time": "2022-05-09T23:35:58.330Z"
   },
   {
    "duration": 17,
    "start_time": "2022-05-09T23:36:00.704Z"
   },
   {
    "duration": 3707,
    "start_time": "2022-05-09T23:36:46.215Z"
   },
   {
    "duration": 52,
    "start_time": "2022-05-09T23:36:51.291Z"
   },
   {
    "duration": 4,
    "start_time": "2022-05-09T23:36:51.345Z"
   },
   {
    "duration": 16,
    "start_time": "2022-05-09T23:36:51.350Z"
   },
   {
    "duration": 17,
    "start_time": "2022-05-09T23:36:51.368Z"
   },
   {
    "duration": 30,
    "start_time": "2022-05-09T23:36:51.387Z"
   },
   {
    "duration": 14,
    "start_time": "2022-05-09T23:36:51.419Z"
   },
   {
    "duration": 18,
    "start_time": "2022-05-09T23:36:51.435Z"
   },
   {
    "duration": 13,
    "start_time": "2022-05-09T23:36:51.455Z"
   },
   {
    "duration": 40,
    "start_time": "2022-05-09T23:36:51.470Z"
   },
   {
    "duration": 31,
    "start_time": "2022-05-09T23:36:51.516Z"
   },
   {
    "duration": 137,
    "start_time": "2022-05-09T23:36:51.549Z"
   },
   {
    "duration": 44,
    "start_time": "2022-05-09T23:36:51.688Z"
   },
   {
    "duration": 109,
    "start_time": "2022-05-09T23:36:51.734Z"
   },
   {
    "duration": 5,
    "start_time": "2022-05-09T23:36:51.844Z"
   },
   {
    "duration": 37,
    "start_time": "2022-05-09T23:36:51.851Z"
   },
   {
    "duration": 43,
    "start_time": "2022-05-09T23:36:51.890Z"
   },
   {
    "duration": 15,
    "start_time": "2022-05-09T23:36:51.935Z"
   },
   {
    "duration": 15,
    "start_time": "2022-05-09T23:36:51.952Z"
   },
   {
    "duration": 26,
    "start_time": "2022-05-09T23:36:51.969Z"
   },
   {
    "duration": 26,
    "start_time": "2022-05-09T23:36:51.997Z"
   },
   {
    "duration": 12,
    "start_time": "2022-05-09T23:36:52.025Z"
   },
   {
    "duration": 9,
    "start_time": "2022-05-09T23:36:52.039Z"
   },
   {
    "duration": 24,
    "start_time": "2022-05-09T23:36:52.049Z"
   },
   {
    "duration": 28,
    "start_time": "2022-05-09T23:36:52.075Z"
   },
   {
    "duration": 3,
    "start_time": "2022-05-09T23:36:52.105Z"
   },
   {
    "duration": 11,
    "start_time": "2022-05-09T23:36:52.110Z"
   },
   {
    "duration": 19,
    "start_time": "2022-05-09T23:36:52.122Z"
   },
   {
    "duration": 10,
    "start_time": "2022-05-09T23:36:52.145Z"
   },
   {
    "duration": 7,
    "start_time": "2022-05-09T23:36:52.156Z"
   },
   {
    "duration": 11,
    "start_time": "2022-05-09T23:36:52.164Z"
   },
   {
    "duration": 12,
    "start_time": "2022-05-09T23:36:52.177Z"
   },
   {
    "duration": 32,
    "start_time": "2022-05-09T23:36:52.191Z"
   },
   {
    "duration": 15,
    "start_time": "2022-05-09T23:36:52.225Z"
   },
   {
    "duration": 7,
    "start_time": "2022-05-09T23:36:52.242Z"
   },
   {
    "duration": 7,
    "start_time": "2022-05-09T23:36:52.251Z"
   },
   {
    "duration": 9,
    "start_time": "2022-05-09T23:36:52.259Z"
   },
   {
    "duration": 11,
    "start_time": "2022-05-09T23:36:52.269Z"
   },
   {
    "duration": 38,
    "start_time": "2022-05-09T23:36:52.282Z"
   },
   {
    "duration": 48,
    "start_time": "2022-05-09T23:36:52.322Z"
   },
   {
    "duration": 12,
    "start_time": "2022-05-09T23:36:52.372Z"
   },
   {
    "duration": 30,
    "start_time": "2022-05-09T23:36:52.405Z"
   },
   {
    "duration": 14,
    "start_time": "2022-05-09T23:36:52.436Z"
   },
   {
    "duration": 14,
    "start_time": "2022-05-09T23:36:52.452Z"
   },
   {
    "duration": 35,
    "start_time": "2022-05-09T23:36:52.467Z"
   },
   {
    "duration": 26,
    "start_time": "2022-05-09T23:36:52.503Z"
   },
   {
    "duration": 1,
    "start_time": "2022-05-09T23:36:52.531Z"
   },
   {
    "duration": 31,
    "start_time": "2022-05-09T23:36:52.534Z"
   },
   {
    "duration": 10,
    "start_time": "2022-05-09T23:36:52.566Z"
   },
   {
    "duration": 36,
    "start_time": "2022-05-09T23:36:52.577Z"
   },
   {
    "duration": 11,
    "start_time": "2022-05-09T23:36:52.614Z"
   },
   {
    "duration": 15,
    "start_time": "2022-05-09T23:36:52.626Z"
   },
   {
    "duration": 22,
    "start_time": "2022-05-09T23:36:52.642Z"
   },
   {
    "duration": 14,
    "start_time": "2022-05-09T23:36:52.665Z"
   },
   {
    "duration": 26,
    "start_time": "2022-05-09T23:36:52.681Z"
   },
   {
    "duration": 13,
    "start_time": "2022-05-09T23:36:52.708Z"
   },
   {
    "duration": 16,
    "start_time": "2022-05-09T23:36:52.723Z"
   },
   {
    "duration": 10,
    "start_time": "2022-05-09T23:36:52.740Z"
   },
   {
    "duration": 9,
    "start_time": "2022-05-09T23:36:52.752Z"
   },
   {
    "duration": 6,
    "start_time": "2022-05-09T23:36:52.763Z"
   },
   {
    "duration": 33,
    "start_time": "2022-05-09T23:36:52.771Z"
   },
   {
    "duration": 20,
    "start_time": "2022-05-09T23:36:52.807Z"
   },
   {
    "duration": 8,
    "start_time": "2022-05-09T23:36:52.828Z"
   },
   {
    "duration": 16,
    "start_time": "2022-05-09T23:36:52.838Z"
   },
   {
    "duration": 19,
    "start_time": "2022-05-09T23:36:52.856Z"
   },
   {
    "duration": 17,
    "start_time": "2022-05-09T23:36:58.434Z"
   },
   {
    "duration": 9,
    "start_time": "2022-05-09T23:37:00.265Z"
   },
   {
    "duration": 22,
    "start_time": "2022-05-09T23:37:02.900Z"
   },
   {
    "duration": 19,
    "start_time": "2022-05-09T23:37:12.555Z"
   },
   {
    "duration": 24,
    "start_time": "2022-05-09T23:37:37.091Z"
   },
   {
    "duration": 5,
    "start_time": "2022-05-10T01:23:23.832Z"
   },
   {
    "duration": 16,
    "start_time": "2022-05-10T01:24:53.902Z"
   },
   {
    "duration": 11,
    "start_time": "2022-05-10T01:25:48.066Z"
   },
   {
    "duration": 11,
    "start_time": "2022-05-10T01:26:09.542Z"
   },
   {
    "duration": 13,
    "start_time": "2022-05-10T01:26:21.971Z"
   },
   {
    "duration": 13,
    "start_time": "2022-05-10T01:26:37.826Z"
   },
   {
    "duration": 12,
    "start_time": "2022-05-10T01:27:48.351Z"
   },
   {
    "duration": 17,
    "start_time": "2022-05-10T01:28:10.560Z"
   },
   {
    "duration": 18,
    "start_time": "2022-05-10T01:29:41.061Z"
   },
   {
    "duration": 16,
    "start_time": "2022-05-10T01:30:11.197Z"
   },
   {
    "duration": 13,
    "start_time": "2022-05-10T01:30:20.989Z"
   },
   {
    "duration": 15,
    "start_time": "2022-05-10T01:30:25.601Z"
   },
   {
    "duration": 26,
    "start_time": "2022-05-10T01:30:55.408Z"
   },
   {
    "duration": 27,
    "start_time": "2022-05-10T01:31:01.310Z"
   },
   {
    "duration": 16,
    "start_time": "2022-05-10T01:31:45.634Z"
   },
   {
    "duration": 17,
    "start_time": "2022-05-10T01:31:50.307Z"
   },
   {
    "duration": 17,
    "start_time": "2022-05-10T01:32:05.043Z"
   },
   {
    "duration": 17,
    "start_time": "2022-05-10T01:32:26.496Z"
   },
   {
    "duration": 15,
    "start_time": "2022-05-10T01:36:27.033Z"
   },
   {
    "duration": 18,
    "start_time": "2022-05-10T01:37:09.051Z"
   },
   {
    "duration": 19,
    "start_time": "2022-05-10T01:38:26.180Z"
   },
   {
    "duration": 13,
    "start_time": "2022-05-10T01:38:55.241Z"
   },
   {
    "duration": 15,
    "start_time": "2022-05-10T01:39:47.573Z"
   },
   {
    "duration": 9,
    "start_time": "2022-05-10T01:47:46.663Z"
   },
   {
    "duration": 21,
    "start_time": "2022-05-10T01:48:01.396Z"
   },
   {
    "duration": 22,
    "start_time": "2022-05-10T01:50:14.057Z"
   },
   {
    "duration": 23,
    "start_time": "2022-05-10T01:50:38.618Z"
   },
   {
    "duration": 23,
    "start_time": "2022-05-10T01:50:50.317Z"
   },
   {
    "duration": 21,
    "start_time": "2022-05-10T01:52:49.591Z"
   },
   {
    "duration": 29,
    "start_time": "2022-05-10T01:54:39.257Z"
   },
   {
    "duration": 21,
    "start_time": "2022-05-10T01:54:48.426Z"
   },
   {
    "duration": 18,
    "start_time": "2022-05-10T01:55:30.106Z"
   },
   {
    "duration": 20,
    "start_time": "2022-05-10T01:56:23.430Z"
   },
   {
    "duration": 20,
    "start_time": "2022-05-10T01:57:15.423Z"
   },
   {
    "duration": 21,
    "start_time": "2022-05-10T01:57:23.100Z"
   },
   {
    "duration": 19,
    "start_time": "2022-05-10T01:57:30.148Z"
   },
   {
    "duration": 28,
    "start_time": "2022-05-10T02:01:54.696Z"
   },
   {
    "duration": 18,
    "start_time": "2022-05-10T02:02:30.236Z"
   },
   {
    "duration": 20,
    "start_time": "2022-05-10T02:02:34.880Z"
   },
   {
    "duration": 28,
    "start_time": "2022-05-10T02:05:20.422Z"
   },
   {
    "duration": 16,
    "start_time": "2022-05-10T02:07:52.720Z"
   },
   {
    "duration": 18,
    "start_time": "2022-05-10T02:08:21.172Z"
   },
   {
    "duration": 26,
    "start_time": "2022-05-10T02:12:54.729Z"
   },
   {
    "duration": 19,
    "start_time": "2022-05-10T02:13:32.000Z"
   },
   {
    "duration": 10,
    "start_time": "2022-05-10T02:14:43.017Z"
   },
   {
    "duration": 607,
    "start_time": "2022-05-10T16:47:01.818Z"
   },
   {
    "duration": 13,
    "start_time": "2022-05-10T16:47:02.428Z"
   },
   {
    "duration": 41,
    "start_time": "2022-05-10T16:47:02.443Z"
   },
   {
    "duration": 30,
    "start_time": "2022-05-10T16:47:02.487Z"
   },
   {
    "duration": 16,
    "start_time": "2022-05-10T16:47:02.522Z"
   },
   {
    "duration": 53,
    "start_time": "2022-05-10T16:47:02.541Z"
   },
   {
    "duration": 32,
    "start_time": "2022-05-10T16:47:02.598Z"
   },
   {
    "duration": 58,
    "start_time": "2022-05-10T16:47:02.633Z"
   },
   {
    "duration": 22,
    "start_time": "2022-05-10T16:47:02.694Z"
   },
   {
    "duration": 94,
    "start_time": "2022-05-10T16:47:02.718Z"
   },
   {
    "duration": 224,
    "start_time": "2022-05-10T16:47:02.815Z"
   },
   {
    "duration": 64,
    "start_time": "2022-05-10T16:47:03.041Z"
   },
   {
    "duration": 174,
    "start_time": "2022-05-10T16:47:03.108Z"
   },
   {
    "duration": 11,
    "start_time": "2022-05-10T16:47:03.289Z"
   },
   {
    "duration": 27,
    "start_time": "2022-05-10T16:47:03.303Z"
   },
   {
    "duration": 13,
    "start_time": "2022-05-10T16:47:03.332Z"
   },
   {
    "duration": 34,
    "start_time": "2022-05-10T16:47:03.347Z"
   },
   {
    "duration": 8,
    "start_time": "2022-05-10T16:47:03.385Z"
   },
   {
    "duration": 18,
    "start_time": "2022-05-10T16:47:03.396Z"
   },
   {
    "duration": 10,
    "start_time": "2022-05-10T16:47:03.416Z"
   },
   {
    "duration": 28,
    "start_time": "2022-05-10T16:47:03.428Z"
   },
   {
    "duration": 42,
    "start_time": "2022-05-10T16:47:03.459Z"
   },
   {
    "duration": 43,
    "start_time": "2022-05-10T16:47:03.503Z"
   },
   {
    "duration": 57,
    "start_time": "2022-05-10T16:47:03.549Z"
   },
   {
    "duration": 6,
    "start_time": "2022-05-10T16:47:03.608Z"
   },
   {
    "duration": 9,
    "start_time": "2022-05-10T16:47:03.617Z"
   },
   {
    "duration": 10,
    "start_time": "2022-05-10T16:47:03.628Z"
   },
   {
    "duration": 59,
    "start_time": "2022-05-10T16:47:03.640Z"
   },
   {
    "duration": 7,
    "start_time": "2022-05-10T16:47:03.703Z"
   },
   {
    "duration": 16,
    "start_time": "2022-05-10T16:47:03.713Z"
   },
   {
    "duration": 18,
    "start_time": "2022-05-10T16:47:03.732Z"
   },
   {
    "duration": 52,
    "start_time": "2022-05-10T16:47:03.752Z"
   },
   {
    "duration": 11,
    "start_time": "2022-05-10T16:47:03.806Z"
   },
   {
    "duration": 19,
    "start_time": "2022-05-10T16:47:03.819Z"
   },
   {
    "duration": 9,
    "start_time": "2022-05-10T16:47:03.841Z"
   },
   {
    "duration": 32,
    "start_time": "2022-05-10T16:47:03.852Z"
   },
   {
    "duration": 26,
    "start_time": "2022-05-10T16:47:03.887Z"
   },
   {
    "duration": 81,
    "start_time": "2022-05-10T16:47:03.916Z"
   },
   {
    "duration": 92,
    "start_time": "2022-05-10T16:47:04.000Z"
   },
   {
    "duration": 28,
    "start_time": "2022-05-10T16:47:04.095Z"
   },
   {
    "duration": 89,
    "start_time": "2022-05-10T16:47:04.132Z"
   },
   {
    "duration": 22,
    "start_time": "2022-05-10T16:47:04.224Z"
   },
   {
    "duration": 55,
    "start_time": "2022-05-10T16:47:04.249Z"
   },
   {
    "duration": 25,
    "start_time": "2022-05-10T16:47:04.308Z"
   },
   {
    "duration": 62,
    "start_time": "2022-05-10T16:47:04.335Z"
   },
   {
    "duration": 33,
    "start_time": "2022-05-10T16:47:04.401Z"
   },
   {
    "duration": 23,
    "start_time": "2022-05-10T16:47:04.437Z"
   },
   {
    "duration": 47,
    "start_time": "2022-05-10T16:47:04.462Z"
   },
   {
    "duration": 18,
    "start_time": "2022-05-10T16:47:04.512Z"
   },
   {
    "duration": 60,
    "start_time": "2022-05-10T16:47:04.532Z"
   },
   {
    "duration": 25,
    "start_time": "2022-05-10T16:47:04.595Z"
   },
   {
    "duration": 17,
    "start_time": "2022-05-10T16:47:04.623Z"
   },
   {
    "duration": 51,
    "start_time": "2022-05-10T16:47:04.643Z"
   },
   {
    "duration": 22,
    "start_time": "2022-05-10T16:47:04.697Z"
   },
   {
    "duration": 20,
    "start_time": "2022-05-10T16:47:04.722Z"
   },
   {
    "duration": 54,
    "start_time": "2022-05-10T16:47:04.744Z"
   },
   {
    "duration": 19,
    "start_time": "2022-05-10T16:47:04.801Z"
   },
   {
    "duration": 8,
    "start_time": "2022-05-10T16:47:04.823Z"
   },
   {
    "duration": 50,
    "start_time": "2022-05-10T16:47:04.833Z"
   },
   {
    "duration": 35,
    "start_time": "2022-05-10T16:47:04.887Z"
   },
   {
    "duration": 12,
    "start_time": "2022-05-10T16:47:04.925Z"
   },
   {
    "duration": 46,
    "start_time": "2022-05-10T16:47:04.939Z"
   },
   {
    "duration": 34,
    "start_time": "2022-05-10T16:47:04.988Z"
   },
   {
    "duration": 12,
    "start_time": "2022-05-10T16:47:05.024Z"
   },
   {
    "duration": 65,
    "start_time": "2022-05-10T16:47:05.039Z"
   },
   {
    "duration": 31,
    "start_time": "2022-05-10T16:47:05.107Z"
   },
   {
    "duration": 61,
    "start_time": "2022-05-10T16:47:05.140Z"
   },
   {
    "duration": 683,
    "start_time": "2022-05-10T16:47:05.205Z"
   },
   {
    "duration": 40,
    "start_time": "2022-05-10T16:47:05.890Z"
   },
   {
    "duration": 63,
    "start_time": "2022-05-10T16:47:05.932Z"
   },
   {
    "duration": 35,
    "start_time": "2022-05-10T16:47:05.998Z"
   },
   {
    "duration": 65,
    "start_time": "2022-05-10T16:47:06.035Z"
   },
   {
    "duration": 36,
    "start_time": "2022-05-10T16:47:06.102Z"
   },
   {
    "duration": 45,
    "start_time": "2022-05-10T16:47:06.140Z"
   },
   {
    "duration": 45,
    "start_time": "2022-05-10T16:47:06.189Z"
   },
   {
    "duration": 3174,
    "start_time": "2022-05-10T16:50:01.140Z"
   },
   {
    "duration": 55,
    "start_time": "2022-05-10T16:50:08.513Z"
   },
   {
    "duration": 6,
    "start_time": "2022-05-10T16:50:08.571Z"
   },
   {
    "duration": 59,
    "start_time": "2022-05-10T16:50:08.581Z"
   },
   {
    "duration": 35,
    "start_time": "2022-05-10T16:50:08.643Z"
   },
   {
    "duration": 23,
    "start_time": "2022-05-10T16:50:08.683Z"
   },
   {
    "duration": 24,
    "start_time": "2022-05-10T16:50:08.709Z"
   },
   {
    "duration": 82,
    "start_time": "2022-05-10T16:50:08.736Z"
   },
   {
    "duration": 25,
    "start_time": "2022-05-10T16:50:08.906Z"
   },
   {
    "duration": 23,
    "start_time": "2022-05-10T16:50:08.935Z"
   },
   {
    "duration": 75,
    "start_time": "2022-05-10T16:50:08.961Z"
   },
   {
    "duration": 210,
    "start_time": "2022-05-10T16:50:09.038Z"
   },
   {
    "duration": 59,
    "start_time": "2022-05-10T16:50:09.251Z"
   },
   {
    "duration": 253,
    "start_time": "2022-05-10T16:50:09.313Z"
   },
   {
    "duration": 17,
    "start_time": "2022-05-10T16:50:09.570Z"
   },
   {
    "duration": 32,
    "start_time": "2022-05-10T16:50:09.591Z"
   },
   {
    "duration": 8,
    "start_time": "2022-05-10T16:50:09.626Z"
   },
   {
    "duration": 45,
    "start_time": "2022-05-10T16:50:09.637Z"
   },
   {
    "duration": 14,
    "start_time": "2022-05-10T16:50:09.687Z"
   },
   {
    "duration": 18,
    "start_time": "2022-05-10T16:50:09.705Z"
   },
   {
    "duration": 10,
    "start_time": "2022-05-10T16:50:09.726Z"
   },
   {
    "duration": 61,
    "start_time": "2022-05-10T16:50:09.739Z"
   },
   {
    "duration": 20,
    "start_time": "2022-05-10T16:50:09.803Z"
   },
   {
    "duration": 38,
    "start_time": "2022-05-10T16:50:09.826Z"
   },
   {
    "duration": 56,
    "start_time": "2022-05-10T16:50:10.102Z"
   },
   {
    "duration": 5,
    "start_time": "2022-05-10T16:50:10.162Z"
   },
   {
    "duration": 26,
    "start_time": "2022-05-10T16:50:10.169Z"
   },
   {
    "duration": 30,
    "start_time": "2022-05-10T16:50:10.199Z"
   },
   {
    "duration": 22,
    "start_time": "2022-05-10T16:50:10.234Z"
   },
   {
    "duration": 14,
    "start_time": "2022-05-10T16:50:10.258Z"
   },
   {
    "duration": 32,
    "start_time": "2022-05-10T16:50:10.284Z"
   },
   {
    "duration": 17,
    "start_time": "2022-05-10T16:50:10.319Z"
   },
   {
    "duration": 16,
    "start_time": "2022-05-10T16:50:10.339Z"
   },
   {
    "duration": 31,
    "start_time": "2022-05-10T16:50:10.359Z"
   },
   {
    "duration": 34,
    "start_time": "2022-05-10T16:50:10.393Z"
   },
   {
    "duration": 14,
    "start_time": "2022-05-10T16:50:10.430Z"
   },
   {
    "duration": 15,
    "start_time": "2022-05-10T16:50:10.448Z"
   },
   {
    "duration": 13,
    "start_time": "2022-05-10T16:50:10.807Z"
   },
   {
    "duration": 79,
    "start_time": "2022-05-10T16:50:10.823Z"
   },
   {
    "duration": 132,
    "start_time": "2022-05-10T16:50:10.905Z"
   },
   {
    "duration": 46,
    "start_time": "2022-05-10T16:50:11.040Z"
   },
   {
    "duration": 91,
    "start_time": "2022-05-10T16:50:11.091Z"
   },
   {
    "duration": 31,
    "start_time": "2022-05-10T16:50:11.185Z"
   },
   {
    "duration": 62,
    "start_time": "2022-05-10T16:50:11.220Z"
   },
   {
    "duration": 34,
    "start_time": "2022-05-10T16:50:11.285Z"
   },
   {
    "duration": 71,
    "start_time": "2022-05-10T16:50:11.322Z"
   },
   {
    "duration": 50,
    "start_time": "2022-05-10T16:50:11.396Z"
   },
   {
    "duration": 46,
    "start_time": "2022-05-10T16:50:11.449Z"
   },
   {
    "duration": 53,
    "start_time": "2022-05-10T16:50:11.498Z"
   },
   {
    "duration": 49,
    "start_time": "2022-05-10T16:50:11.556Z"
   },
   {
    "duration": 53,
    "start_time": "2022-05-10T16:50:14.086Z"
   },
   {
    "duration": 71,
    "start_time": "2022-05-10T16:50:38.673Z"
   },
   {
    "duration": 49,
    "start_time": "2022-05-10T16:50:51.082Z"
   },
   {
    "duration": 1840,
    "start_time": "2022-05-10T17:21:47.998Z"
   },
   {
    "duration": 75,
    "start_time": "2022-05-10T17:21:52.174Z"
   },
   {
    "duration": 7,
    "start_time": "2022-05-10T17:21:52.253Z"
   },
   {
    "duration": 34,
    "start_time": "2022-05-10T17:21:52.263Z"
   },
   {
    "duration": 30,
    "start_time": "2022-05-10T17:21:52.301Z"
   },
   {
    "duration": 17,
    "start_time": "2022-05-10T17:21:52.572Z"
   },
   {
    "duration": 15,
    "start_time": "2022-05-10T17:21:52.593Z"
   },
   {
    "duration": 72,
    "start_time": "2022-05-10T17:21:52.611Z"
   },
   {
    "duration": 25,
    "start_time": "2022-05-10T17:21:52.791Z"
   },
   {
    "duration": 23,
    "start_time": "2022-05-10T17:21:52.819Z"
   },
   {
    "duration": 73,
    "start_time": "2022-05-10T17:21:52.844Z"
   },
   {
    "duration": 321,
    "start_time": "2022-05-10T17:21:52.919Z"
   },
   {
    "duration": 73,
    "start_time": "2022-05-10T17:21:53.243Z"
   },
   {
    "duration": 237,
    "start_time": "2022-05-10T17:21:53.319Z"
   },
   {
    "duration": 9,
    "start_time": "2022-05-10T17:21:53.559Z"
   },
   {
    "duration": 17,
    "start_time": "2022-05-10T17:21:53.583Z"
   },
   {
    "duration": 10,
    "start_time": "2022-05-10T17:21:53.603Z"
   },
   {
    "duration": 15,
    "start_time": "2022-05-10T17:21:53.616Z"
   },
   {
    "duration": 49,
    "start_time": "2022-05-10T17:21:53.634Z"
   },
   {
    "duration": 8,
    "start_time": "2022-05-10T17:21:53.686Z"
   },
   {
    "duration": 15,
    "start_time": "2022-05-10T17:21:53.697Z"
   },
   {
    "duration": 15,
    "start_time": "2022-05-10T17:21:53.719Z"
   },
   {
    "duration": 54,
    "start_time": "2022-05-10T17:21:53.737Z"
   },
   {
    "duration": 37,
    "start_time": "2022-05-10T17:21:53.794Z"
   },
   {
    "duration": 70,
    "start_time": "2022-05-10T17:21:53.833Z"
   },
   {
    "duration": 8,
    "start_time": "2022-05-10T17:21:53.906Z"
   },
   {
    "duration": 7,
    "start_time": "2022-05-10T17:21:53.917Z"
   },
   {
    "duration": 10,
    "start_time": "2022-05-10T17:21:53.927Z"
   },
   {
    "duration": 51,
    "start_time": "2022-05-10T17:21:53.939Z"
   },
   {
    "duration": 11,
    "start_time": "2022-05-10T17:21:53.993Z"
   },
   {
    "duration": 9,
    "start_time": "2022-05-10T17:21:54.007Z"
   },
   {
    "duration": 21,
    "start_time": "2022-05-10T17:21:54.021Z"
   },
   {
    "duration": 53,
    "start_time": "2022-05-10T17:21:54.045Z"
   },
   {
    "duration": 15,
    "start_time": "2022-05-10T17:21:54.101Z"
   },
   {
    "duration": 11,
    "start_time": "2022-05-10T17:21:54.119Z"
   },
   {
    "duration": 50,
    "start_time": "2022-05-10T17:21:54.132Z"
   },
   {
    "duration": 10,
    "start_time": "2022-05-10T17:21:54.185Z"
   },
   {
    "duration": 16,
    "start_time": "2022-05-10T17:21:54.198Z"
   },
   {
    "duration": 83,
    "start_time": "2022-05-10T17:21:54.216Z"
   },
   {
    "duration": 98,
    "start_time": "2022-05-10T17:21:54.302Z"
   },
   {
    "duration": 30,
    "start_time": "2022-05-10T17:21:54.402Z"
   },
   {
    "duration": 104,
    "start_time": "2022-05-10T17:21:54.435Z"
   },
   {
    "duration": 41,
    "start_time": "2022-05-10T17:21:54.541Z"
   },
   {
    "duration": 26,
    "start_time": "2022-05-10T17:21:54.585Z"
   },
   {
    "duration": 33,
    "start_time": "2022-05-10T17:21:54.614Z"
   },
   {
    "duration": 69,
    "start_time": "2022-05-10T17:21:54.650Z"
   },
   {
    "duration": 68,
    "start_time": "2022-05-10T17:21:54.725Z"
   },
   {
    "duration": 23,
    "start_time": "2022-05-10T17:21:54.796Z"
   },
   {
    "duration": 53,
    "start_time": "2022-05-10T17:21:54.829Z"
   },
   {
    "duration": 23,
    "start_time": "2022-05-10T17:21:54.885Z"
   },
   {
    "duration": 36,
    "start_time": "2022-05-10T17:21:54.910Z"
   },
   {
    "duration": 31,
    "start_time": "2022-05-10T17:21:54.981Z"
   },
   {
    "duration": 23,
    "start_time": "2022-05-10T17:21:55.015Z"
   },
   {
    "duration": 53,
    "start_time": "2022-05-10T17:21:55.041Z"
   },
   {
    "duration": 26,
    "start_time": "2022-05-10T17:21:55.097Z"
   },
   {
    "duration": 63,
    "start_time": "2022-05-10T17:21:55.126Z"
   },
   {
    "duration": 22,
    "start_time": "2022-05-10T17:21:55.192Z"
   },
   {
    "duration": 22,
    "start_time": "2022-05-10T17:21:55.217Z"
   },
   {
    "duration": 42,
    "start_time": "2022-05-10T17:21:55.242Z"
   },
   {
    "duration": 7,
    "start_time": "2022-05-10T17:21:55.287Z"
   },
   {
    "duration": 40,
    "start_time": "2022-05-10T17:21:55.296Z"
   },
   {
    "duration": 43,
    "start_time": "2022-05-10T17:21:55.339Z"
   },
   {
    "duration": 42,
    "start_time": "2022-05-10T17:21:55.384Z"
   },
   {
    "duration": 54,
    "start_time": "2022-05-10T17:21:55.429Z"
   },
   {
    "duration": 13,
    "start_time": "2022-05-10T17:21:55.486Z"
   },
   {
    "duration": 33,
    "start_time": "2022-05-10T17:21:55.501Z"
   },
   {
    "duration": 81,
    "start_time": "2022-05-10T17:21:55.537Z"
   },
   {
    "duration": 28,
    "start_time": "2022-05-10T17:21:55.620Z"
   },
   {
    "duration": 57,
    "start_time": "2022-05-10T17:21:55.650Z"
   },
   {
    "duration": 72,
    "start_time": "2022-05-10T17:21:55.710Z"
   },
   {
    "duration": 40,
    "start_time": "2022-05-10T17:21:55.785Z"
   },
   {
    "duration": 75,
    "start_time": "2022-05-10T17:21:55.827Z"
   },
   {
    "duration": 37,
    "start_time": "2022-05-10T17:21:55.905Z"
   },
   {
    "duration": 77,
    "start_time": "2022-05-10T17:21:55.945Z"
   },
   {
    "duration": 42,
    "start_time": "2022-05-10T17:21:58.528Z"
   },
   {
    "duration": 49,
    "start_time": "2022-05-10T17:24:47.778Z"
   },
   {
    "duration": 152,
    "start_time": "2022-05-14T15:31:32.325Z"
   },
   {
    "duration": 149,
    "start_time": "2022-05-14T15:32:24.417Z"
   },
   {
    "duration": 488,
    "start_time": "2022-05-14T20:04:22.785Z"
   },
   {
    "duration": 72,
    "start_time": "2022-05-14T20:04:25.054Z"
   },
   {
    "duration": 4,
    "start_time": "2022-05-14T20:04:37.624Z"
   },
   {
    "duration": 54,
    "start_time": "2022-05-14T20:04:37.634Z"
   },
   {
    "duration": 12,
    "start_time": "2022-05-14T20:04:37.690Z"
   },
   {
    "duration": 22,
    "start_time": "2022-05-14T20:04:37.704Z"
   },
   {
    "duration": 20,
    "start_time": "2022-05-14T20:04:37.729Z"
   },
   {
    "duration": 13,
    "start_time": "2022-05-14T20:04:37.751Z"
   },
   {
    "duration": 35,
    "start_time": "2022-05-14T20:04:37.766Z"
   },
   {
    "duration": 255,
    "start_time": "2022-05-14T20:05:02.100Z"
   },
   {
    "duration": 26,
    "start_time": "2022-05-14T20:05:35.349Z"
   },
   {
    "duration": 27,
    "start_time": "2022-05-14T20:06:06.847Z"
   },
   {
    "duration": 2,
    "start_time": "2022-05-17T23:57:16.609Z"
   },
   {
    "duration": 74,
    "start_time": "2022-05-17T23:57:16.616Z"
   },
   {
    "duration": 3,
    "start_time": "2022-05-17T23:57:16.692Z"
   },
   {
    "duration": 22,
    "start_time": "2022-05-17T23:57:16.697Z"
   },
   {
    "duration": 41,
    "start_time": "2022-05-17T23:57:16.724Z"
   },
   {
    "duration": 9,
    "start_time": "2022-05-17T23:57:16.767Z"
   },
   {
    "duration": 11,
    "start_time": "2022-05-17T23:57:16.778Z"
   },
   {
    "duration": 37,
    "start_time": "2022-05-17T23:57:16.790Z"
   },
   {
    "duration": 16,
    "start_time": "2022-05-17T23:57:16.829Z"
   },
   {
    "duration": 13,
    "start_time": "2022-05-17T23:57:16.847Z"
   },
   {
    "duration": 67,
    "start_time": "2022-05-17T23:57:16.864Z"
   },
   {
    "duration": 187,
    "start_time": "2022-05-17T23:57:16.933Z"
   },
   {
    "duration": 24,
    "start_time": "2022-05-17T23:57:17.127Z"
   },
   {
    "duration": 110,
    "start_time": "2022-05-17T23:57:17.152Z"
   },
   {
    "duration": 6,
    "start_time": "2022-05-17T23:57:17.264Z"
   },
   {
    "duration": 29,
    "start_time": "2022-05-17T23:57:17.272Z"
   },
   {
    "duration": 15,
    "start_time": "2022-05-17T23:57:17.303Z"
   },
   {
    "duration": 17,
    "start_time": "2022-05-17T23:57:17.319Z"
   },
   {
    "duration": 5,
    "start_time": "2022-05-17T23:57:17.338Z"
   },
   {
    "duration": 6,
    "start_time": "2022-05-17T23:57:17.344Z"
   },
   {
    "duration": 6,
    "start_time": "2022-05-17T23:57:17.352Z"
   },
   {
    "duration": 8,
    "start_time": "2022-05-17T23:57:17.359Z"
   },
   {
    "duration": 8,
    "start_time": "2022-05-17T23:57:17.369Z"
   },
   {
    "duration": 13,
    "start_time": "2022-05-17T23:57:17.378Z"
   },
   {
    "duration": 33,
    "start_time": "2022-05-17T23:57:17.413Z"
   },
   {
    "duration": 4,
    "start_time": "2022-05-17T23:57:17.448Z"
   },
   {
    "duration": 7,
    "start_time": "2022-05-17T23:57:17.453Z"
   },
   {
    "duration": 10,
    "start_time": "2022-05-17T23:57:17.469Z"
   },
   {
    "duration": 18,
    "start_time": "2022-05-17T23:57:17.482Z"
   },
   {
    "duration": 3,
    "start_time": "2022-05-17T23:57:17.502Z"
   },
   {
    "duration": 23,
    "start_time": "2022-05-17T23:57:17.506Z"
   },
   {
    "duration": 11,
    "start_time": "2022-05-17T23:57:17.530Z"
   },
   {
    "duration": 9,
    "start_time": "2022-05-17T23:57:17.542Z"
   },
   {
    "duration": 6,
    "start_time": "2022-05-17T23:57:17.552Z"
   },
   {
    "duration": 9,
    "start_time": "2022-05-17T23:57:17.559Z"
   },
   {
    "duration": 5,
    "start_time": "2022-05-17T23:57:17.569Z"
   },
   {
    "duration": 8,
    "start_time": "2022-05-17T23:57:17.575Z"
   },
   {
    "duration": 9,
    "start_time": "2022-05-17T23:57:17.584Z"
   },
   {
    "duration": 44,
    "start_time": "2022-05-17T23:57:17.620Z"
   },
   {
    "duration": 65,
    "start_time": "2022-05-17T23:57:17.665Z"
   },
   {
    "duration": 14,
    "start_time": "2022-05-17T23:57:17.732Z"
   },
   {
    "duration": 31,
    "start_time": "2022-05-17T23:57:17.748Z"
   },
   {
    "duration": 32,
    "start_time": "2022-05-17T23:57:17.781Z"
   },
   {
    "duration": 24,
    "start_time": "2022-05-17T23:57:17.815Z"
   },
   {
    "duration": 15,
    "start_time": "2022-05-17T23:57:17.841Z"
   },
   {
    "duration": 17,
    "start_time": "2022-05-17T23:57:17.857Z"
   },
   {
    "duration": 51,
    "start_time": "2022-05-17T23:57:17.876Z"
   },
   {
    "duration": 12,
    "start_time": "2022-05-17T23:57:17.928Z"
   },
   {
    "duration": 11,
    "start_time": "2022-05-17T23:57:17.942Z"
   },
   {
    "duration": 12,
    "start_time": "2022-05-17T23:57:17.955Z"
   },
   {
    "duration": 16,
    "start_time": "2022-05-17T23:57:17.968Z"
   },
   {
    "duration": 39,
    "start_time": "2022-05-17T23:57:17.985Z"
   },
   {
    "duration": 10,
    "start_time": "2022-05-17T23:57:18.027Z"
   },
   {
    "duration": 10,
    "start_time": "2022-05-17T23:57:18.038Z"
   },
   {
    "duration": 11,
    "start_time": "2022-05-17T23:57:18.049Z"
   },
   {
    "duration": 13,
    "start_time": "2022-05-17T23:57:18.061Z"
   },
   {
    "duration": 9,
    "start_time": "2022-05-17T23:57:18.075Z"
   },
   {
    "duration": 45,
    "start_time": "2022-05-17T23:57:18.085Z"
   },
   {
    "duration": 3,
    "start_time": "2022-05-17T23:57:18.131Z"
   },
   {
    "duration": 8,
    "start_time": "2022-05-17T23:57:18.135Z"
   },
   {
    "duration": 3,
    "start_time": "2022-05-17T23:57:18.144Z"
   },
   {
    "duration": 15,
    "start_time": "2022-05-17T23:57:18.149Z"
   },
   {
    "duration": 7,
    "start_time": "2022-05-17T23:57:18.165Z"
   },
   {
    "duration": 15,
    "start_time": "2022-05-17T23:57:18.174Z"
   },
   {
    "duration": 49,
    "start_time": "2022-05-17T23:57:18.191Z"
   },
   {
    "duration": 7,
    "start_time": "2022-05-17T23:57:18.241Z"
   },
   {
    "duration": 13,
    "start_time": "2022-05-17T23:57:18.249Z"
   },
   {
    "duration": 16,
    "start_time": "2022-05-17T23:57:18.264Z"
   },
   {
    "duration": 44,
    "start_time": "2022-05-17T23:57:18.282Z"
   },
   {
    "duration": 14,
    "start_time": "2022-05-17T23:57:18.328Z"
   },
   {
    "duration": 20,
    "start_time": "2022-05-17T23:57:18.344Z"
   },
   {
    "duration": 436,
    "start_time": "2022-05-17T23:57:18.365Z"
   },
   {
    "duration": 25,
    "start_time": "2022-05-17T23:57:18.802Z"
   },
   {
    "duration": 17,
    "start_time": "2022-05-17T23:57:18.828Z"
   },
   {
    "duration": 19,
    "start_time": "2022-05-17T23:57:18.846Z"
   },
   {
    "duration": 20,
    "start_time": "2022-05-17T23:57:18.867Z"
   },
   {
    "duration": 23,
    "start_time": "2022-05-17T23:57:18.912Z"
   },
   {
    "duration": 19,
    "start_time": "2022-05-17T23:58:16.606Z"
   },
   {
    "duration": 13,
    "start_time": "2022-05-17T23:59:02.223Z"
   },
   {
    "duration": 15,
    "start_time": "2022-05-17T23:59:13.650Z"
   },
   {
    "duration": 2,
    "start_time": "2022-05-18T00:07:05.382Z"
   },
   {
    "duration": 3,
    "start_time": "2022-05-18T00:15:19.517Z"
   },
   {
    "duration": 3,
    "start_time": "2022-05-18T00:15:33.973Z"
   },
   {
    "duration": 74,
    "start_time": "2022-05-18T00:15:33.981Z"
   },
   {
    "duration": 4,
    "start_time": "2022-05-18T00:15:34.057Z"
   },
   {
    "duration": 38,
    "start_time": "2022-05-18T00:15:34.062Z"
   },
   {
    "duration": 40,
    "start_time": "2022-05-18T00:15:34.102Z"
   },
   {
    "duration": 15,
    "start_time": "2022-05-18T00:15:34.144Z"
   },
   {
    "duration": 32,
    "start_time": "2022-05-18T00:15:34.161Z"
   },
   {
    "duration": 38,
    "start_time": "2022-05-18T00:15:34.195Z"
   },
   {
    "duration": 16,
    "start_time": "2022-05-18T00:15:34.234Z"
   },
   {
    "duration": 10,
    "start_time": "2022-05-18T00:15:34.252Z"
   },
   {
    "duration": 51,
    "start_time": "2022-05-18T00:15:34.265Z"
   },
   {
    "duration": 125,
    "start_time": "2022-05-18T00:15:34.318Z"
   },
   {
    "duration": 22,
    "start_time": "2022-05-18T00:15:34.445Z"
   },
   {
    "duration": 105,
    "start_time": "2022-05-18T00:15:34.469Z"
   },
   {
    "duration": 5,
    "start_time": "2022-05-18T00:15:34.576Z"
   },
   {
    "duration": 10,
    "start_time": "2022-05-18T00:15:34.582Z"
   },
   {
    "duration": 20,
    "start_time": "2022-05-18T00:15:34.594Z"
   },
   {
    "duration": 9,
    "start_time": "2022-05-18T00:15:34.615Z"
   },
   {
    "duration": 5,
    "start_time": "2022-05-18T00:15:34.625Z"
   },
   {
    "duration": 5,
    "start_time": "2022-05-18T00:15:34.631Z"
   },
   {
    "duration": 7,
    "start_time": "2022-05-18T00:15:34.637Z"
   },
   {
    "duration": 8,
    "start_time": "2022-05-18T00:15:34.645Z"
   },
   {
    "duration": 8,
    "start_time": "2022-05-18T00:15:34.655Z"
   },
   {
    "duration": 57,
    "start_time": "2022-05-18T00:15:34.664Z"
   },
   {
    "duration": 24,
    "start_time": "2022-05-18T00:15:34.723Z"
   },
   {
    "duration": 8,
    "start_time": "2022-05-18T00:15:34.749Z"
   },
   {
    "duration": 7,
    "start_time": "2022-05-18T00:15:34.758Z"
   },
   {
    "duration": 7,
    "start_time": "2022-05-18T00:15:34.766Z"
   },
   {
    "duration": 35,
    "start_time": "2022-05-18T00:15:34.777Z"
   },
   {
    "duration": 5,
    "start_time": "2022-05-18T00:15:34.814Z"
   },
   {
    "duration": 7,
    "start_time": "2022-05-18T00:15:34.820Z"
   },
   {
    "duration": 10,
    "start_time": "2022-05-18T00:15:34.828Z"
   },
   {
    "duration": 10,
    "start_time": "2022-05-18T00:15:34.839Z"
   },
   {
    "duration": 7,
    "start_time": "2022-05-18T00:15:34.850Z"
   },
   {
    "duration": 8,
    "start_time": "2022-05-18T00:15:34.858Z"
   },
   {
    "duration": 5,
    "start_time": "2022-05-18T00:15:34.867Z"
   },
   {
    "duration": 44,
    "start_time": "2022-05-18T00:15:34.873Z"
   },
   {
    "duration": 20,
    "start_time": "2022-05-18T00:15:34.919Z"
   },
   {
    "duration": 37,
    "start_time": "2022-05-18T00:15:34.940Z"
   },
   {
    "duration": 54,
    "start_time": "2022-05-18T00:15:34.978Z"
   },
   {
    "duration": 14,
    "start_time": "2022-05-18T00:15:35.033Z"
   },
   {
    "duration": 29,
    "start_time": "2022-05-18T00:15:35.048Z"
   },
   {
    "duration": 40,
    "start_time": "2022-05-18T00:15:35.079Z"
   },
   {
    "duration": 15,
    "start_time": "2022-05-18T00:15:35.121Z"
   },
   {
    "duration": 15,
    "start_time": "2022-05-18T00:15:35.138Z"
   },
   {
    "duration": 18,
    "start_time": "2022-05-18T00:15:35.155Z"
   },
   {
    "duration": 51,
    "start_time": "2022-05-18T00:15:35.175Z"
   },
   {
    "duration": 12,
    "start_time": "2022-05-18T00:15:35.227Z"
   },
   {
    "duration": 13,
    "start_time": "2022-05-18T00:15:35.240Z"
   },
   {
    "duration": 10,
    "start_time": "2022-05-18T00:15:35.255Z"
   },
   {
    "duration": 51,
    "start_time": "2022-05-18T00:15:35.267Z"
   },
   {
    "duration": 14,
    "start_time": "2022-05-18T00:15:35.320Z"
   },
   {
    "duration": 11,
    "start_time": "2022-05-18T00:15:35.335Z"
   },
   {
    "duration": 11,
    "start_time": "2022-05-18T00:15:35.347Z"
   },
   {
    "duration": 11,
    "start_time": "2022-05-18T00:15:35.359Z"
   },
   {
    "duration": 48,
    "start_time": "2022-05-18T00:15:35.372Z"
   },
   {
    "duration": 10,
    "start_time": "2022-05-18T00:15:35.422Z"
   },
   {
    "duration": 11,
    "start_time": "2022-05-18T00:15:35.433Z"
   },
   {
    "duration": 4,
    "start_time": "2022-05-18T00:15:35.446Z"
   },
   {
    "duration": 7,
    "start_time": "2022-05-18T00:15:35.452Z"
   },
   {
    "duration": 5,
    "start_time": "2022-05-18T00:15:35.460Z"
   },
   {
    "duration": 49,
    "start_time": "2022-05-18T00:15:35.466Z"
   },
   {
    "duration": 7,
    "start_time": "2022-05-18T00:15:35.517Z"
   },
   {
    "duration": 17,
    "start_time": "2022-05-18T00:15:35.526Z"
   },
   {
    "duration": 19,
    "start_time": "2022-05-18T00:15:35.544Z"
   },
   {
    "duration": 8,
    "start_time": "2022-05-18T00:15:35.564Z"
   },
   {
    "duration": 47,
    "start_time": "2022-05-18T00:15:35.574Z"
   },
   {
    "duration": 19,
    "start_time": "2022-05-18T00:15:35.622Z"
   },
   {
    "duration": 18,
    "start_time": "2022-05-18T00:15:35.642Z"
   },
   {
    "duration": 24,
    "start_time": "2022-05-18T00:15:35.661Z"
   },
   {
    "duration": 47,
    "start_time": "2022-05-18T00:15:35.686Z"
   },
   {
    "duration": 15,
    "start_time": "2022-05-18T00:15:35.734Z"
   },
   {
    "duration": 21,
    "start_time": "2022-05-18T00:15:35.751Z"
   },
   {
    "duration": 49,
    "start_time": "2022-05-18T00:15:35.774Z"
   },
   {
    "duration": 23,
    "start_time": "2022-05-18T00:15:35.825Z"
   },
   {
    "duration": 17,
    "start_time": "2022-05-18T00:15:35.849Z"
   },
   {
    "duration": 49,
    "start_time": "2022-05-18T00:15:35.868Z"
   }
  ],
  "kernelspec": {
   "display_name": "Python 3 (ipykernel)",
   "language": "python",
   "name": "python3"
  },
  "language_info": {
   "codemirror_mode": {
    "name": "ipython",
    "version": 3
   },
   "file_extension": ".py",
   "mimetype": "text/x-python",
   "name": "python",
   "nbconvert_exporter": "python",
   "pygments_lexer": "ipython3",
   "version": "3.9.7"
  },
  "toc": {
   "base_numbering": 1,
   "nav_menu": {},
   "number_sections": true,
   "sideBar": true,
   "skip_h1_title": true,
   "title_cell": "Table of Contents",
   "title_sidebar": "Contents",
   "toc_cell": false,
   "toc_position": {},
   "toc_section_display": true,
   "toc_window_display": false
  }
 },
 "nbformat": 4,
 "nbformat_minor": 2
}
